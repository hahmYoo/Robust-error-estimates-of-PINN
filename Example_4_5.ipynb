{
  "cells": [
    {
      "cell_type": "code",
      "execution_count": null,
      "metadata": {
        "id": "g8a-F7SDJdni"
      },
      "outputs": [],
      "source": [
        "import matplotlib.pyplot as plt\n",
        "import matplotlib_inline.backend_inline\n",
        "import numpy as np\n",
        "import torch\n",
        "import torch.nn as nn\n",
        "import torch.nn.functional as F\n",
        "import scipy.integrate as integrate\n",
        "from tqdm.auto import tqdm\n",
        "\n",
        "matplotlib_inline.backend_inline.set_matplotlib_formats(\"png2x\")\n",
        "plt.style.use(\"default\")\n",
        "plt.rcParams.update(\n",
        "    {\n",
        "        \"figure.constrained_layout.use\": True,\n",
        "        \"figure.facecolor\": \"white\",\n",
        "    }\n",
        ")\n",
        "\n",
        "n_dense_points = 201"
      ]
    },
    {
      "cell_type": "code",
      "execution_count": null,
      "metadata": {
        "id": "QZTsFB93J7ek"
      },
      "outputs": [],
      "source": [
        "class MLP(nn.Module):\n",
        "    def __init__(self, *features, activation=nn.Tanh):\n",
        "        super().__init__()\n",
        "\n",
        "        layers = []\n",
        "        for in_features, out_features in zip(features, features[1:]):\n",
        "            layers.append(nn.Linear(in_features, out_features))\n",
        "            layers.append(activation())\n",
        "        self.network = nn.Sequential(*layers[:-1])\n",
        "\n",
        "    def forward(self, x):\n",
        "        return self.network(x)"
      ]
    },
    {
      "cell_type": "code",
      "execution_count": null,
      "metadata": {
        "id": "bPQNgeQLJ9eT"
      },
      "outputs": [],
      "source": [
        "def grad(outputs, inputs):\n",
        "    return torch.autograd.grad(outputs.sum(), inputs, create_graph=True)[0]"
      ]
    },
    {
      "cell_type": "code",
      "execution_count": null,
      "metadata": {
        "id": "v9IEss3_KsTn"
      },
      "outputs": [],
      "source": [
        "domain=(0,1)"
      ]
    },
    {
      "cell_type": "markdown",
      "metadata": {
        "id": "1fTjjSqtJpVD"
      },
      "source": [
        "$$\n",
        "-\\epsilon y''+2y'+cy=0\\\\\n",
        "y(0)=0,\\quad y(1)=1\n",
        "$$"
      ]
    },
    {
      "cell_type": "code",
      "execution_count": null,
      "metadata": {
        "id": "yNjarmSuJuP8"
      },
      "outputs": [],
      "source": [
        "\n",
        "C=np.arange(1,600,5)"
      ]
    },
    {
      "cell_type": "markdown",
      "metadata": {
        "id": "zNdpaZ0MJ0Gf"
      },
      "source": [
        "ϵ=1"
      ]
    },
    {
      "cell_type": "code",
      "execution_count": null,
      "metadata": {
        "id": "WvQ-1t1EJvlG"
      },
      "outputs": [],
      "source": [
        "eps=1"
      ]
    },
    {
      "cell_type": "code",
      "execution_count": null,
      "metadata": {
        "colab": {
          "background_save": true,
          "base_uri": "https://localhost:8080/",
          "height": 1000,
          "referenced_widgets": [
            "23786fc642424b14b3b35cc6366a5da3",
            "e1461911941e437c84396c7060fd3ebf",
            "88240f7bfe41400d9c325d6a11baf154",
            "ee7749211d0f4316b4bc0b157a7c1eda",
            "297583c3f48e4c088bbcda5598e8a9b2",
            "ebfc3d8e03ee46798934960b8fd4004a",
            "fed6b9f70bcb49ac9c17276ee1426817",
            "bf79997dc0384a29ba3a5f12bc6de675",
            "969f85ac25bb44ab97e49f99b30797b3",
            "2a83ea930e7e4419ab31321ed9afef91",
            "e65e484567f5498d9af67b87f71360cb",
            "b458b5cd19aa4fc3a9816941522a82e7",
            "a521d2ce91e74a89b5817497f1efd46d",
            "582dda9d5d6748878c2a7cbe779e6f13",
            "f31980ca83954d66bf8c6ad6da514270",
            "b09734d5b8f54e8ea89188e3d28a706f",
            "c993454a5b374907813f7d5270a06e9c",
            "2e21e6b1f8ef44eb8d8f98d8a736ec4f",
            "c45ebb9b91eb4984aeb65966e20d1fe5",
            "048feb4323914d53b903a2aa730dcacc",
            "78d2bae96cc54dacb612ce1b7af5a668",
            "9458729d9f314f9e8bf7c61f72543d81",
            "103a2c0da879468dbaf5373aed111dd2",
            "fad59a7cb23143b8b81b1e5509e98c53",
            "f30c1c1d3c8841a3b0db57f66ae9b276",
            "8d7dcffedd784cb4a1f70d666ffa2bae",
            "f75bf0add14049a2b0cdb45182340374",
            "72593baa46974e11a04b9945b22cdd69",
            "31a7ef128cc34ce29920755b41dc3f9d",
            "809f76023edb4458bc715ef14d9a639d",
            "afcfc31b3639436485af7867a496d25d",
            "18b21195d92f47828b03420478fa1f34",
            "9ecd1bbaeacc401face632ec30d3d878",
            "373b2e83fb8846759569d16904ca1618",
            "832fb2a30d234ba09d5627d921571e59",
            "7a9ea3726d0242c68626a07691655476",
            "3f922c8839d64a30b28952985bb1283a",
            "945c75d200b4494790e6f33935668af6",
            "44c640f8286842daa946574fefe01929",
            "41aaa7fb185b4589b52b9cb9e006a5e5",
            "c911fcb98c5542f3ad3d95a8a145cf7d",
            "70e21a5af92e4fdbb465a7a051987b01",
            "4c5864e58ee844d489c4c5fe5d11a0d2",
            "6a0ef8fb6d114b4d944bc40bdaeaa3aa",
            "3ebcfe6ff15d4e5ca0118acae05d8bba",
            "7bf44236c3034fefa4870a162db8a784",
            "8ee8ba9c60694c54a73e67ed431b0bd7",
            "3c181dfcd4994e4792659e875cb79516",
            "f31529591934435da37b3f540919c5b9",
            "a24a7e849a1d435097312f1279af53bc",
            "43df40fc34b8418cb58c6b037559707d",
            "f372d1243dfb43eabc75efbe9b48a98e",
            "df4214cebd9f451bb2d805e3c2055890",
            "9b5148674a6449898ecef2f91078ecb9",
            "a9bda5d0f9dd4e48834c191916692c24",
            "ec20d75575094940a5fcff3df6a332bb",
            "8e0356d8b64d42848f12aa3a5ed8d97a",
            "ef34002246644943853bedf65cf0ea46",
            "e5ee360f95084dcc9b7737e5505f1db2",
            "102c2a82326240308f384d2d6a22d332",
            "a061b572c68b4b03b65a43454a0f161d",
            "3910319c552c4fea8823df050e255144",
            "707112b392ff4f9eb1c629e39a8bbb9d",
            "f5c02c8aa88e4c2a9961904a21f4e74d",
            "878e82c3ae194b70ac31c7350a2798b3",
            "ce47bd60493d48968d20ea854c778f55",
            "7941af637b494e4fbc163cfe2e4bfeb5",
            "6e543031c67048e28ce4947e76902702",
            "0c6b8c1208de42d799dfe43e870c65b7",
            "3fa7eedb3a254429bbcf3989e2914e12",
            "c6a1f1b8aad84585aaaaea0ceb1fa80c",
            "84000a3c2cdd4d70b8458c2ac830142a",
            "52282497d9be4a54ab374573dfcb3e8b",
            "14a713ca74f84d0799b7cfeb1cfc786c",
            "c8f64a1e88494455a8b3a6551a0a7694",
            "17fbd154122e44e19b113266d2fc4f59",
            "e45961da1c0d463a845f6e5cc33e149a",
            "601ac720865042d38fc45931e0da3674",
            "b79a83f10ec8451d9c694aea6f17ff4d",
            "37bbf9c48312460f94301ed331009d3e",
            "73a308e384234dfe84c9dca773f2ffd5",
            "844d321456d84c748ac9d1b439fddee6",
            "0eb364c59d1f4d23aa024029c8d80073",
            "693179365c7d49dfaa51708270502e93",
            "73b6eac30ea64002a74eda72aa41b612",
            "e62fa0f4ad7f49b28c122c1da7d9a6f1",
            "e99d0863abd541e2be072c2bc0761578",
            "03da44a8fcac4108b755b0a9d122d93a",
            "b045d6631f17459aa432a3890478aa20",
            "49c0800bf01a46bb96957551d9f830cd",
            "85e597b6a9714733a66ee3dee27df8b2",
            "93937a5a564546c4a65a0b64e587d386",
            "6ae7a814e2454f76af4fa09ecbbb8d03",
            "29c0986976ac4ec0bc51a5bcc64ab12a",
            "dc30c0d7379e4b7b8108377cf5f1fbe6",
            "2edca9f84e2f48a882c953d44483ad98",
            "caa26dfeb9fb4dfa9798d8fe17de5f1f",
            "52116fe331264b6ca26abf13a0817cab",
            "f04f2805f27846a5ba42fbfaa15b8cf0",
            "a252e8b2f988459999c83eca9d223e56",
            "1b78893dd11b47e1b0352c8cb87b2afd",
            "0f44aefab9934724b543b11dc975d1ef",
            "3197ee109e7c42c383a25370b51d69c0",
            "5281fc4adc8a46b5b80a1d7ca7fd1247",
            "f8e36eee8f714cda811e74d7fa010746",
            "f3b7a6b0b8a34f139cb4ed95ed1d9213",
            "d2bbd429e789418a87fec95aadb9d8aa",
            "b2164f17d6d24148865c3f8fd550bf16",
            "b76197323c8f45779372f658574480ae",
            "1a124dee219d4eae8f2a91f9b090877c",
            "e317060039064ddb9136d5cd44127cbe",
            "0c23d11f75af4c9a99a928c8679550f0",
            "347b001b8d3b4b70bda6d4e3216d4350",
            "ab594e90575941799f3788e36a38058e",
            "a68622e1f8dc4242a506e1a2b5ff12de",
            "b6058049917d470f8eaccc7807d0da3a",
            "788da846bb4b425b8139e286a04caa17",
            "eb0e3c9957884987930d5a2f466fef0e",
            "390ec759f32e4f72a962ce6c5546243e",
            "ce1545700dae44958770c08229feac99",
            "8f553d1c94204716af9c49e6f48a302b",
            "37ec7edb9cb3483eaf8eaa9331ef8eed",
            "206065f6877a4abbb4fefbd77e8fc1f7",
            "d979478346d5455bad711c0319caa68d",
            "7f9cc0f8b9214f1e960ae4fa10c274fb",
            "53f819792b6b4167a0e885aa2b9e1dbc",
            "d0a297790a6b4fa0a1d70db2e8c51bf0",
            "d0a9d18e006243b3b3c93ddcd964d8de",
            "aba956d5f7174e919af3cd373a07d894",
            "4edc4993f3ed484bb8e44a841d377ef3",
            "5996550c0ccd4e14ad9db7d57cca3c99",
            "1c27c76979d4459991f633559cd67a23",
            "95d2d23080cb4332849683bdb70238bb",
            "a24f0c7c29024a259d8e0fa8eb174589",
            "00db01defc8b42659ee6049337752b85",
            "74b3eadf05ed41feb648f25e5819b47e",
            "9a89281525994efdb1e6b0f25886f1b9",
            "001a3cb2e8954589a45c36a9ffef5352",
            "6cabefa96ab24138bcff84a184e5ff84",
            "253d5915f18942baa2ae0760e307c5dd",
            "47914d51e0d945929f29c42c9b1d656c",
            "224ed0eac8bd417191a78b63ad33f66d",
            "f01bc89858334538b81ace7a45c7ee3b",
            "a42f6683d3464250b8662a9fa8958da3",
            "941f175d1e9b4da2a8a342a14f544284",
            "c2f125accc7b4078a7b57acd7f82f2f7",
            "1ebd940a88a949b29f641f2af30f986c",
            "f7299aace6ea4a868214ff83ebcaeeae",
            "a5815a9d2daf494b8c8ea8dae31372ca",
            "cc45d0f3c96a459ab2c039e5e3a65ef9",
            "f0aca2ee491f4b6792d5db7d008379f1",
            "d3804d8fb8ad4f0fabbe1c20a4a62c41",
            "b8d53601482e47eb8cd434290b8d939b",
            "d09cd843e4cf4d6aba5a5c24df3e8234",
            "ba1f130ab50547b0b8c1412ab1927c9d",
            "8360c4d4124f4f678f435ab0d8464a8f",
            "6fb5560f73334a598bf00dc38b10a463",
            "6923eef2082f42938314982467bffad5",
            "8ebf77d1d40d4d5c8b44d56303347d2c",
            "0da1a04cd86a4470832c76611e0ef416",
            "3fcbfa7fb0834a6897180b948ddd737a",
            "3057f17f88234d64aaa69ba79455cdb0",
            "3b5b2294bed44311be1ef67e73a53ac2",
            "001825fda990430db89c78f3c9517e57",
            "6205e7482e344581b55a1cf336b49119",
            "c2d7d93004894881819273803b19462d",
            "d937e96e9a9e416ebbb534d93d1a8437",
            "b3971b6b4fba4899ab24e38df5296eb3",
            "888871f100994dc69ca4b4f408dc060f",
            "893f500279e74a6db5372677882faa24",
            "b1372b146ba04eee9a96c3a6afce9ad2",
            "fe78b9656fa94356a975cb540f0ceb74",
            "886a0e7d082643b59d557c03b90b30f4",
            "2f1bfd7a29e3418ab15c1aeab85e0076",
            "b9ff99229e34426aa10703f58eb9c59c",
            "d38f3f24a7ba4b09962c24d1aa7d796d",
            "f1d4f2b355ff4651b8b6b1c4b12d75a7",
            "dbf3d2791d9e4921935c94a1a761cfd1",
            "c1f3d3eb5baa4f158ab6eece806bf2e0",
            "27400c97fbb34d56b8c68b7c547661d2",
            "ba694702be5041ca93aacea4349c7b41",
            "1a90a1c257464eeda6fe7ae15b831eb6",
            "4beb0d5c4e4d4c63b86f6897dec7b0af",
            "51bfde42dd5a4eee90313ad097ea7084",
            "0d4c996ec5614322821e39c95032d535",
            "bce573f8c33440b593159072f430d943",
            "88870327125d4ce289b5af5fb69a7d07",
            "d665694db27f4495a5cb74647fd0e20e",
            "088f79af409940aa906f33d139132db3",
            "54afab6abe7449f2b2a0ffa10e681e98",
            "cd03c03cbcfe409cbb946861228efafd",
            "d831913758b54c7da60a595c36476dbf",
            "0484dfd97ffa458e99c9d197960e9072",
            "c4a9c660781b48f492b6b394e90915fa",
            "c4026daa0c1a4ba0b06d4473a6280e47",
            "5edcd2d29de6455b87dc69e216616da2",
            "3914279487224898ae8fafee5ae7e61a",
            "c37ae456dc7b43a099e9419d6fad209f",
            "58799290c3ba45dcbecc6e433b0d7fad",
            "66582c8dc8e3476da7c5d6bd35409c8d",
            "3fc55c55dc8d4879a7a9e73564efcbfb",
            "2b06557fa17844d08c835cf428216693",
            "a1110f89d3b243fc9ef7f03ed249eb5f",
            "b9f61c8032324352bd566c0f314f8ca7",
            "c7c236c849e243bab1cacdfb60c90aa2",
            "33d08f032a81418faa26bfa75d23cba3",
            "ce72bd84ffb043b8a79e6bbb2cb3c753",
            "61f0d7c86b874eafb5b7a7af4350735f",
            "8939605036d34d4ea5d36a7ecdb619d7",
            "2f145ed25da14a26a4c3fd9b51faf1e5",
            "688703a05ef74926b7f7593fc03346f1",
            "b9ae503e6500416d94f0bbdf33cae752",
            "9056daf22bfe4fbcb0263a0638269045",
            "c6f965ed880f4b58ac29420d8002877a",
            "9f997b2b6ff74d0cafa073bd8aacb33b",
            "a68f2637f88140db904b63c768175d74",
            "bfb5dc536ce54edc8694cce9d5888602",
            "60b079ab058c405a98a9146cfd98cb6a",
            "ba79bbbce0e74845923499f5f881329b",
            "ad4286a638c14260bd263d0398567ae8",
            "343302e3f1c5425b8a1cb1e692411511",
            "1bf3d5e6a9f94d0aa610c7c63d950a6f",
            "c8c7766c56134c18b1b62dca70368f2f",
            "ca51babb196a4f47958839b3a3f79d28",
            "a0f22d082c1c41efa02cea43fb71f0cb",
            "d6b9ffc5428941ef9e7b300b8a0ec168",
            "315816eaac5d411281ba5bdfe9cad9d0",
            "c432c0c0797b4a458e84e7a4a5f10342",
            "70050121b6f54936977623da86394bbc",
            "af5b45d687fa4348a0b45bb6be0153ef",
            "8c101ae01946419ea7a92c81af451457",
            "7b92fd40c7804f25958db7768fc64917",
            "7ce087543a5a4fc393be922bbfa5c602",
            "2ea5298dbac1439a88155bf3f74bd815",
            "4c4e1bd29b654010afd6ae0fd7c415d4",
            "12560d62d0b44dbb917a7506c6787f35",
            "bdb5720183464cc8add5dff31754b228",
            "4ec85143fc8641b39a5a87523fded3cd",
            "3c0e6475da054efdb63aef198dff4014",
            "589d5c8d0eba46d7a5988480fc3d5723",
            "e5a4572a55fe4d9380b6a3d0511d22a9",
            "d46eb786818f4a7583cd1b43ea5eee8b",
            "e53a4a1ba38f43e8abd17730e934f440",
            "e43dcaea31be4275a6efd5a9c7668817",
            "d2a780caf9034db8a600d3eee4d1255d",
            "400c65eb8ac14ee789fcebc1796f8a85",
            "cbadfaa238694d04a130d0503500cae1",
            "c2cda9059d3a409e80f40542ed8e1c2e",
            "b4fbcc744fc046a9b3eb90177c8d0985",
            "8f558e262c4b4f1daa2462a13cc0193e",
            "1d4d92c4d70b4ad492d753a326b66861",
            "b1f4dd0b54eb401d871d02fce971b47c",
            "49adbea996674da59b28297b1ef93835",
            "f40acec191b2464d9f125f7744d0dc10",
            "2a26cb870a424d84a9e633459cbac89a",
            "bf98536d4e064558ae02af32a1d2a0bb",
            "504ebbc2e4604ee2a3bed070175b8832",
            "c1ec19a26a7f49dc9b40775f460890fd",
            "a36f66be6ffb4022a754b630f119d8f1",
            "e8852bd650074f6faeab321eb96ebeaf",
            "546b6a52acb94e388179826146c74450",
            "9c9e579ff7504b2ab351ea135e735b7a",
            "0436cff3f2484773bb516daa72a6d9ec",
            "c8bf17609c6f41ef86b5ce0c7a8e0e55",
            "2cf03c30220845f29555cdb23ebe17be",
            "70684e3eb7424726ac0ca1271891ed56",
            "5b769bef53794722bc3e843f4a691a6b",
            "0788b836c2ed43d0a68c8e170d680d93",
            "f3ef680f272c4a68a61626d9e778ab7c",
            "4894cc93df4c4609b8c8436ca5aff108",
            "85f4d70843f04083ab12412786c3cecb",
            "7357ba0cb795425083a8cf19c512381b",
            "0a240c3111fd49ff8b17fed8c3011ad3",
            "483acbc4007d418db5480fb2a3f66cd7",
            "94db357f53004a61a6bb14634cb3ee81",
            "8f519b9372d14678817b45f013c03754",
            "cd394c38a5b64a57851a9d87bc138969",
            "db60273391d448ab8edd492f43881312",
            "affe2d90cf9040f3b382a8d1e1f56021",
            "a075df49394349dc9b8fc09c96a71dd5",
            "0a6d2ee48af04f76a7377c11d362bc90",
            "26413ab389b8414fb411316949eb1165",
            "60d08914221242ed91dcabe324411bb6",
            "b0e3eb90cb7a4a8490130f2075f43671",
            "d8b029e8e599414ab00ff3b40ebc1ca3",
            "f50da377944a40ff860c156e3f7bcf97",
            "a237ef2d19834b858b5099fab571745e",
            "56df40ee5aa94fe49cd8239eea8cd39b",
            "8922a4e31ac04e339bb2167e6ee64135",
            "c59c2047d836473abe9386ba71145a26",
            "0890ceee9c1c4e78be54c78706c3ae26",
            "d05fc44ae59b4fb3bacf8d12070d227a",
            "d4ac9353d3f046a7a39cece7c33c0ee9",
            "c76434a6f4a542c188adf51b9a854316",
            "883bb338a21042c2be647e6632079954",
            "639b7f4f8a9e4e1c99fc381595d98c13",
            "ed95390cbe9c40f087740111b6dea539",
            "168daf1693c34596a9933bd6ebef6719",
            "29fc90b3784b448f956b08865ca1c512",
            "4bd5139979aa4c2dac9641f87e2242d8",
            "1b9cb06d0d004f32a08f1b60de035876",
            "ef7ccb6f8e914fb8bbe49fbd4b6a2706",
            "f3e0ec5bb036408dbc6ec3d38e8b701f",
            "2d4dc3e4d451469593e7d841f1196cfc",
            "db20f735f77f4f9d9854b6d4d91d3322",
            "69ed967f008e41779bfab2a28b7ae91b",
            "dd72312f88024686bdd8f20205a217ce",
            "f96a2e2c8e7348579491b1fc09b3d021",
            "da5a447aaf33400d81365d1e98aecfaf",
            "fd3db91dbaef4b2da537b29c9d02c088",
            "405c3b958a104a40b6836c2377a4c916",
            "18266ae08fb64ce7a0d327509e883e1a",
            "8e5db9b168f84a70941d1b966b983cbe",
            "3d29a09c35cf41999f5a7196ee0a9c24",
            "29c2992a95a748039624b5c69ec48d02",
            "8056d2ee92a346be8000127e23e3d6af",
            "9449adbbf4db40e6ab74c838188f0aec",
            "c29ed4cb85004d22bf78fd3a3c008566",
            "f6e4e08874ac499b82d798cfb369c8bb",
            "03d76176f8ce4678b3988dee36cb05d9",
            "1b9f1eb2d83a475eba8bf19ec95a72b7",
            "ba6c72beb8ff4090a3fa3d90813fd5dc",
            "1bfc61de5c4145d6b02ff4072722c618",
            "cc6c20f26bc54d78a5a1fb8e9ac2618f",
            "2345e55790224fc295919921086ba909",
            "21a77800bed64d00aa95ed6f8a4f5a68",
            "197f5c07aa4d43618abb0ab4d77b5426",
            "e1aed470e2c941ffa89028ec5203dddb",
            "e7bdf2c91b3b4d99b18e0102520a17fb",
            "f7fdbf31b7bb4a3692d20df202df578b",
            "6d4db6eb9909421086b1fb4a1e1a614d",
            "c1cd80bc27494c529a45294f936f61c0",
            "9c48860f059d4803ae35479771971e26",
            "b6bd42d201814820a78581aa552d30c7",
            "e11b1721332543969025d89775d92581",
            "d722adf8282c4661bb89e50cedb59aca",
            "eadf3b6d33ec4652b092d0e77073fd89",
            "33a706d046094e5b879a7d505bb15a6e",
            "e54598d046864090adf37f711748cecd",
            "bcdd779d96704b149551d95c85e73050",
            "1c62db84a1354bb3ba2a156a4780e041",
            "d48c9c02490e436ba2241b78e9ae60e7",
            "491dc9f671fd4eae912ec52d6eb2f388",
            "0b6c6bf8077d43de985c5e4005d9dafd",
            "c6cbd92e41d04368a7ca2833892e795e",
            "8a75effa5aef4e5abeb0772515f0c02f",
            "1c197ab87db94c7d9d436385b561cc3d",
            "9d94c393ea2b4dfaab291a6cc2b6b3ed",
            "89ab7f2b6ab2478f9e347be18e5eeb3d",
            "0ca43b16d28141839201a796bcf81400",
            "8c301dd5da9c4b97a722d7345b5c7636",
            "69d116895f4e4c25a8e3643a265fd1bb",
            "70848592dba3497dab7e9c3d145cf69b",
            "6b3b97218f2b4b3ea751af6a453adfc4",
            "870d5732f016494191c7bc03d240e633",
            "f5ce7c3d64f846c5b805fe0aa23f83b5",
            "55b23e9187a1459095534931caada52e",
            "937d63a498da4607a4288009b82fa348",
            "da72c9a1473841e5b7d12c7360c2209d",
            "5ef2f6614f784f69934ed796bc7a0f23",
            "5605b09752674475ad65356db7a3721c",
            "d1a9a484d6f04a5aa606ba62d557efba",
            "5e5230832eb74946a01b69cef3683eaf",
            "090f6a56c304491595f4b53077d9b2f0",
            "20ee0d60e0fb4cbca640468f15caaf3f",
            "0c04fa9f35d14431b6b710178213438a",
            "35114b796102479ba4cabafa10c2bd60",
            "5ed5f488f7064ab389f9e71cae4cb04e",
            "83737f24f4b440e1ae693d1fbf6ee8e9",
            "15f0ff49901a4a379f9829d6da8c60f7",
            "9c29204710884cfe8e739bd4a92283ac",
            "1dbc30ecf6b243a2b4581441c4bc8310",
            "ac9c737896084b1b8225469b7ca96cd7",
            "94e2ec4250834d2393f6be21b866f6e0",
            "19a5a48113ac4f188bdc4fcf892e54c6",
            "56f315870ef04534bd43376c3732166d",
            "9e5bdc00f2cd4f90828311a973488892",
            "aceef2b59a204035b2e9059fd5c0bf26",
            "527e176c8a9748acb3c8648217ff5307",
            "dfd8d9c44d604ed09c7a1f70904020e0",
            "4c5b63953a914f4f9b24e607d1513f9e",
            "32fcb8c78abf43e299b327470595d4c1",
            "71f7eb5fdf764df3918655c5458b86da",
            "c125d272da9a4665afd7318878759589",
            "2ccb8fd1b18246bb8786e099c66c36ca",
            "ffa57de3f0f34ea5a78d63d5890512da",
            "b72a189b142d458c9ebc450474ca05e7",
            "e61fa800c570443a82ebabecf96efebd",
            "37c3b694203d49fc8d45e99218651d50",
            "0afdbbb75ab04e74bfbdb1adf4d4e3fb",
            "29ed716be41f470f8dd45ecd37e21cf2",
            "f8af24d96e054d23899f502882ee19ed",
            "545fabbfc9c54ca28acb489c68bc6b9c",
            "3c939275ab3d4210a9f462c0f23c1123",
            "1731bd07c7f046dd8cbaeb7a0d074552",
            "858f7ee8afcf43b6ab5ac649e3372055",
            "ec890530bbb34d28bd6e9e3a86ec0e03",
            "18a4c157b7884f3ba8474797df393263",
            "ae7c45f660c14fb79987d7e2b2cac2f8",
            "a7c8d01485fe49cdafb04065ae0da2e1",
            "6c79c36248fa4789af2aa8a5a1930dd3",
            "e8f5c0e21bbc4bdbafb84abad674899f",
            "02017d39c7d54a149f5cd88901ce492b",
            "0cf41b51beb7453199ba2e4b276b3fff",
            "eb820fe2047a4ff3bfdba62dde871568",
            "b7336a57eacf4d2d9cfce830806b45cf",
            "5c9b7e6da4a146659c08b9a3a0a0b67c",
            "590a3b12bb7a4856824693af780aa4cf",
            "602fe7b5e0f84fd2b9bf63ac59d0564d",
            "5ddf765e610a4029964ba8e3c19e96de",
            "755e64fea5504a6c9b5e6f2c0704315b",
            "5c1db43efdf14a6ca23e7aadb26cbfa0",
            "02aa06d51573428c8f062d96d38935c4",
            "690092dfa3674f218e25d74bfbdcd8a6",
            "60f88eb8797c4b49824188b4b3118491",
            "87070d4d94d54f2ba439d5b941c7e015",
            "72ff170f09b24a9aa2d91b957bab085d",
            "c90611348f6e4a80ab6b705616c3eb6b",
            "663c353419014b4cb11a43759ea75139",
            "bafe3ae5fdce4c4587617d951c877b4c",
            "77909346e8594a5087d962e5076ab533",
            "32a9a00df1684027b9a4e3e2ad20bccc",
            "59528d1c843f40598ed8b630429caeda",
            "c973b283660e441b99778913540634c6",
            "67dceeb837a54b8dab27395184b821a8",
            "32446977db7842e280899698ec183743",
            "63686ff77e284cafa5ba78043c8b0446",
            "9b725eeceb524aa89bbbe897cc0e6d52",
            "8f0fa2fd2d82473c88b10cad92b4a90b",
            "27735467240f4cf99030f321abda7e10",
            "39ccea1f4b3a4e61941b8d9d5adaadf3",
            "05269c37722342108ecde51e680d154c",
            "5af3428da7e646a386dcfe4b79e13880",
            "ef45fc402d42481ca8bb953f554f047f",
            "ae6649becc2741d1b60c377232a3f934",
            "5ce444edb21c4d449e17f270c6910565",
            "dfb25b7c520a4826a7b4c4dc803be810",
            "660af14c52914ef08eb3aaeea1c25ab5",
            "e44bc755219f46828bb284a8fcb95bd8",
            "9bdf73ca5ff742f190236ee2163e2ccd",
            "a0c31538bbd5400face9065a77612d38",
            "f0c2658e7d6f4d2a9d5ba2b918f51736",
            "6b0ebad2977a431aa3f3a984270742bb",
            "72bf3a630bb94d2abe4de695bbe064f4",
            "3e832ad2b83a4285b9c68147fcda733c",
            "03f2da49de1448039a3175a11d1414d5",
            "afcd542540e74c84ac234249a2d10f40",
            "cb706b110c98443ea1a17503558e6e91",
            "522a229ee6174ad6885c74aeca4829ac",
            "ac7ab2f4f12a4e3b8864422d5974430e",
            "4d225ef65bd545bf93baeec857e77286",
            "7ee3a274ab5e4383843b3ad351fe4cc6",
            "2a391865271f44c2b22b12fefe047de5",
            "8474c619e4b4459c9a39ddde143e590d",
            "6931ae2ee06a446499706bd2fa00f868",
            "ba33fbe7c453418e83c824c0bb87e010",
            "ed10e69fbaa245d5a35de0eb38c7830b",
            "6a7411300a8a4a64ae68fbe1e636aa04",
            "08c6cc92a0874bf8a5f7f9acdaba3039",
            "2089c32b78b4423a90822024d7eda5be",
            "28e82135268b4b1b80404da69c1fb8a8",
            "df6163b038dc44d98f48937904c0305f",
            "a085b225e83041ed955e37475b324004",
            "d943e64fecf94a04b5baef343c14e410",
            "99b943a33e2f461ab66262fbca54c9aa",
            "5337158710d24902a592aeaa1c28c32a",
            "1cb1b1eecc83464a8a52d3eb1654185c",
            "80376993835c426c99593402eb06b34f",
            "e010079cfcd445678586eb2b7dfc18f1",
            "87ba06637a2a4c1d87d4219a8c23b6b8",
            "ee196475e7644526b985aa246ef1e215",
            "d173e19c694c452994f27d7c6520ceb2",
            "f760bb087c6345b59526775ce11bbe98",
            "c1279a2193c14de697d4c2b2c0bd6a99",
            "d2fea17276bd4675901310aa5eb59d2f",
            "72c02e996d5e40c2a28c429646d392fc",
            "455b6da2160f44e0a23c9e3313cd71e0",
            "75315c14c82341d692d32042b6dd19d7",
            "a1a7c0eee5fa4f76941a7e91aa6141e0",
            "5f416a4286f94204bb032645666eeab8",
            "7bbf03e4be804019a41b14480be80625",
            "45b0c940b3bd4c06901496bbb962dff5",
            "523e73bba74f46799572c7599b16575b",
            "a36fd6f80dc74c98b9e38ae3dd7105f7",
            "3519c57a37104ca8ae61492c4c6d79ab",
            "cf439fef1ea9446180256a040c19d69a",
            "00edeed0fd0c4f9daeb1e855880545b9",
            "af28b4938e2c4ee5a02c3ac428a9c38f",
            "a2002f63daf8481aa55a1a8027b8aa27",
            "91d5d0b8e53140a5a252f7aad852c123",
            "7eb1a4aff462480eadb1570f62c07332",
            "c914e471a28143dc98771cc514ed3d73",
            "97bdabf24f9845d0bc62f7293a5339b4",
            "93dd84378f1a426ab346e3740b05cf0a",
            "3638fe6a7f0a4b358eb7b5c523069d80",
            "730e7e2cf5414b438a90689b5c5d42da",
            "5c5141f882c44f44bd19e3621804f135",
            "5289af99939542f9899ba3fde8210567",
            "72f4a3ded351436fb85cd4657a6865ed",
            "221d73834afe41599458963743447205",
            "73e0c196e3f84b7fbbac8915125374b7",
            "6c9ba50597b14f0c826e179cf070aaad",
            "b53950d743864c6486519568dd6d110b",
            "599a1ceaee6543909e0579f723d7b854",
            "91e65692e6824ee4b52f423be0223672",
            "e9a993ed252346b38393f730a633a5bd",
            "dd23439a55c34280bc6dadde661e88ab",
            "7ac840e0015f484e8e3ba37428251e2c",
            "c5fe368197074d14a9ee48d10aa78bab",
            "1ae68208ca7c45108dccb91e058632b7",
            "3e0b8427eb0e48e2b176d4a502e53ea2",
            "d3bc91a918da4905b95fc25a0ca29fe6",
            "d770ff3356a342ad8b76eddb81422658",
            "9f1a941837374ba385e615a31607e5a0",
            "c539f19e502d45b5a703b8e07b088f08",
            "957cf0af716648449b39dbefa35eb63a",
            "88e3a6f5b98a464ca96a7203cce8315c",
            "966d471035ba46e7938f7afdb0dd4ea7",
            "4a6c34557c374c80aafbc22f1111763d",
            "e3f2266852e040719bdc234a344c1379",
            "4e545ec6ff9440afa5530bc042be97ed",
            "09fd007f6e694f83983ffa93522e5f98",
            "ffc9aa0cca604ba9b4f100dc72859884",
            "998561e3e53242e6a16b72ed25d24d42",
            "ca828e47c5204910b6cb35de156a2ecf",
            "42eedb353cf84641805b97a0198e3771",
            "087b6a1ba30a4cb286be3fb72d95a024",
            "cb2eb196758543ebb632c48611dc00f5"
          ]
        },
        "id": "ntPfWxciJ2WC",
        "outputId": "ae9652c9-0226-4967-c480-bc149f7ce41a"
      },
      "outputs": [
        {
          "name": "stderr",
          "output_type": "stream",
          "text": [
            "/usr/local/lib/python3.10/dist-packages/torch/optim/lr_scheduler.py:28: UserWarning: The verbose parameter is deprecated. Please use get_last_lr() to access the learning rate.\n",
            "  warnings.warn(\"The verbose parameter is deprecated. Please use get_last_lr() \"\n"
          ]
        },
        {
          "data": {
            "application/vnd.jupyter.widget-view+json": {
              "model_id": "23786fc642424b14b3b35cc6366a5da3",
              "version_major": 2,
              "version_minor": 0
            },
            "text/plain": [
              "  0%|          | 0/500 [00:00<?, ?it/s]"
            ]
          },
          "metadata": {},
          "output_type": "display_data"
        },
        {
          "name": "stdout",
          "output_type": "stream",
          "text": [
            "epoch = 0, loss_de = 6.4616\n",
            "epoch = 50, loss_de = 0.0291\n",
            "epoch = 100, loss_de = 0.0003\n",
            "epoch = 150, loss_de = 0.0002\n",
            "epoch = 200, loss_de = 0.0002\n",
            "epoch = 250, loss_de = 0.0002\n",
            "epoch = 300, loss_de = 0.0002\n",
            "epoch = 350, loss_de = 0.0002\n",
            "epoch = 400, loss_de = 0.0002\n",
            "epoch = 450, loss_de = 0.0002\n",
            "1.5394505670229819e-09\n"
          ]
        },
        {
          "data": {
            "application/vnd.jupyter.widget-view+json": {
              "model_id": "e1461911941e437c84396c7060fd3ebf",
              "version_major": 2,
              "version_minor": 0
            },
            "text/plain": [
              "  0%|          | 0/500 [00:00<?, ?it/s]"
            ]
          },
          "metadata": {},
          "output_type": "display_data"
        },
        {
          "name": "stdout",
          "output_type": "stream",
          "text": [
            "epoch = 0, loss_de = 28.5806\n",
            "epoch = 50, loss_de = 0.0756\n",
            "epoch = 100, loss_de = 0.0024\n",
            "epoch = 150, loss_de = 0.0016\n",
            "epoch = 200, loss_de = 0.0015\n",
            "epoch = 250, loss_de = 0.0014\n",
            "epoch = 300, loss_de = 0.0014\n",
            "epoch = 350, loss_de = 0.0014\n",
            "epoch = 400, loss_de = 0.0014\n",
            "epoch = 450, loss_de = 0.0014\n",
            "1.563692730854882e-09\n"
          ]
        },
        {
          "data": {
            "application/vnd.jupyter.widget-view+json": {
              "model_id": "88240f7bfe41400d9c325d6a11baf154",
              "version_major": 2,
              "version_minor": 0
            },
            "text/plain": [
              "  0%|          | 0/500 [00:00<?, ?it/s]"
            ]
          },
          "metadata": {},
          "output_type": "display_data"
        },
        {
          "name": "stdout",
          "output_type": "stream",
          "text": [
            "epoch = 0, loss_de = 67.7024\n",
            "epoch = 50, loss_de = 0.1357\n",
            "epoch = 100, loss_de = 0.0097\n",
            "epoch = 150, loss_de = 0.0061\n",
            "epoch = 200, loss_de = 0.0049\n",
            "epoch = 250, loss_de = 0.0044\n",
            "epoch = 300, loss_de = 0.0044\n",
            "epoch = 350, loss_de = 0.0043\n",
            "epoch = 400, loss_de = 0.0043\n",
            "epoch = 450, loss_de = 0.0044\n",
            "2.9473760321252485e-08\n"
          ]
        },
        {
          "data": {
            "application/vnd.jupyter.widget-view+json": {
              "model_id": "ee7749211d0f4316b4bc0b157a7c1eda",
              "version_major": 2,
              "version_minor": 0
            },
            "text/plain": [
              "  0%|          | 0/500 [00:00<?, ?it/s]"
            ]
          },
          "metadata": {},
          "output_type": "display_data"
        },
        {
          "name": "stdout",
          "output_type": "stream",
          "text": [
            "epoch = 0, loss_de = 123.8271\n",
            "epoch = 50, loss_de = 0.2805\n",
            "epoch = 100, loss_de = 0.0139\n",
            "epoch = 150, loss_de = 0.0109\n",
            "epoch = 200, loss_de = 0.0103\n",
            "epoch = 250, loss_de = 0.0088\n",
            "epoch = 300, loss_de = 0.0096\n",
            "epoch = 350, loss_de = 0.0092\n",
            "epoch = 400, loss_de = 0.0093\n",
            "epoch = 450, loss_de = 0.0096\n",
            "3.7569659383507314e-08\n"
          ]
        },
        {
          "data": {
            "application/vnd.jupyter.widget-view+json": {
              "model_id": "297583c3f48e4c088bbcda5598e8a9b2",
              "version_major": 2,
              "version_minor": 0
            },
            "text/plain": [
              "  0%|          | 0/500 [00:00<?, ?it/s]"
            ]
          },
          "metadata": {},
          "output_type": "display_data"
        },
        {
          "name": "stdout",
          "output_type": "stream",
          "text": [
            "epoch = 0, loss_de = 196.9547\n",
            "epoch = 50, loss_de = 0.3870\n",
            "epoch = 100, loss_de = 0.0722\n",
            "epoch = 150, loss_de = 0.0625\n",
            "epoch = 200, loss_de = 0.0578\n",
            "epoch = 250, loss_de = 0.0528\n",
            "epoch = 300, loss_de = 0.0564\n",
            "epoch = 350, loss_de = 0.0541\n",
            "epoch = 400, loss_de = 0.0543\n",
            "epoch = 450, loss_de = 0.0554\n",
            "3.515783362217917e-07\n"
          ]
        },
        {
          "data": {
            "application/vnd.jupyter.widget-view+json": {
              "model_id": "ebfc3d8e03ee46798934960b8fd4004a",
              "version_major": 2,
              "version_minor": 0
            },
            "text/plain": [
              "  0%|          | 0/500 [00:00<?, ?it/s]"
            ]
          },
          "metadata": {},
          "output_type": "display_data"
        },
        {
          "name": "stdout",
          "output_type": "stream",
          "text": [
            "epoch = 0, loss_de = 287.0852\n",
            "epoch = 50, loss_de = 0.6994\n",
            "epoch = 100, loss_de = 0.0599\n",
            "epoch = 150, loss_de = 0.0543\n",
            "epoch = 200, loss_de = 0.0520\n",
            "epoch = 250, loss_de = 0.0481\n",
            "epoch = 300, loss_de = 0.0507\n",
            "epoch = 350, loss_de = 0.0490\n",
            "epoch = 400, loss_de = 0.0492\n",
            "epoch = 450, loss_de = 0.0506\n",
            "2.2272038791015802e-07\n"
          ]
        },
        {
          "data": {
            "application/vnd.jupyter.widget-view+json": {
              "model_id": "fed6b9f70bcb49ac9c17276ee1426817",
              "version_major": 2,
              "version_minor": 0
            },
            "text/plain": [
              "  0%|          | 0/500 [00:00<?, ?it/s]"
            ]
          },
          "metadata": {},
          "output_type": "display_data"
        },
        {
          "name": "stdout",
          "output_type": "stream",
          "text": [
            "epoch = 0, loss_de = 394.2185\n",
            "epoch = 50, loss_de = 0.9790\n",
            "epoch = 100, loss_de = 0.0812\n",
            "epoch = 150, loss_de = 0.0619\n",
            "epoch = 200, loss_de = 0.0557\n",
            "epoch = 250, loss_de = 0.0450\n",
            "epoch = 300, loss_de = 0.0530\n",
            "epoch = 350, loss_de = 0.0475\n",
            "epoch = 400, loss_de = 0.0498\n",
            "epoch = 450, loss_de = 0.0509\n",
            "1.1289583312645846e-07\n"
          ]
        },
        {
          "data": {
            "application/vnd.jupyter.widget-view+json": {
              "model_id": "bf79997dc0384a29ba3a5f12bc6de675",
              "version_major": 2,
              "version_minor": 0
            },
            "text/plain": [
              "  0%|          | 0/500 [00:00<?, ?it/s]"
            ]
          },
          "metadata": {},
          "output_type": "display_data"
        },
        {
          "name": "stdout",
          "output_type": "stream",
          "text": [
            "epoch = 0, loss_de = 518.3547\n",
            "epoch = 50, loss_de = 2.1339\n",
            "epoch = 100, loss_de = 0.1562\n",
            "epoch = 150, loss_de = 0.1321\n",
            "epoch = 200, loss_de = 0.1225\n",
            "epoch = 250, loss_de = 0.1036\n",
            "epoch = 300, loss_de = 0.1162\n",
            "epoch = 350, loss_de = 0.1087\n",
            "epoch = 400, loss_de = 0.1104\n",
            "epoch = 450, loss_de = 0.1130\n",
            "3.0572172704523837e-07\n"
          ]
        },
        {
          "data": {
            "application/vnd.jupyter.widget-view+json": {
              "model_id": "969f85ac25bb44ab97e49f99b30797b3",
              "version_major": 2,
              "version_minor": 0
            },
            "text/plain": [
              "  0%|          | 0/500 [00:00<?, ?it/s]"
            ]
          },
          "metadata": {},
          "output_type": "display_data"
        },
        {
          "name": "stdout",
          "output_type": "stream",
          "text": [
            "epoch = 0, loss_de = 659.4938\n",
            "epoch = 50, loss_de = 2.4807\n",
            "epoch = 100, loss_de = 0.1407\n",
            "epoch = 150, loss_de = 0.1241\n",
            "epoch = 200, loss_de = 0.1185\n",
            "epoch = 250, loss_de = 0.0996\n",
            "epoch = 300, loss_de = 0.1160\n",
            "epoch = 350, loss_de = 0.1080\n",
            "epoch = 400, loss_de = 0.1097\n",
            "epoch = 450, loss_de = 0.1114\n",
            "2.477675309364713e-07\n"
          ]
        },
        {
          "data": {
            "application/vnd.jupyter.widget-view+json": {
              "model_id": "2a83ea930e7e4419ab31321ed9afef91",
              "version_major": 2,
              "version_minor": 0
            },
            "text/plain": [
              "  0%|          | 0/500 [00:00<?, ?it/s]"
            ]
          },
          "metadata": {},
          "output_type": "display_data"
        },
        {
          "name": "stdout",
          "output_type": "stream",
          "text": [
            "epoch = 0, loss_de = 817.6357\n",
            "epoch = 50, loss_de = 4.5915\n",
            "epoch = 100, loss_de = 0.2417\n",
            "epoch = 150, loss_de = 0.2090\n",
            "epoch = 200, loss_de = 0.1966\n",
            "epoch = 250, loss_de = 0.1643\n",
            "epoch = 300, loss_de = 0.1927\n",
            "epoch = 350, loss_de = 0.1775\n",
            "epoch = 400, loss_de = 0.1827\n",
            "epoch = 450, loss_de = 0.1839\n",
            "4.5777858304063557e-07\n"
          ]
        },
        {
          "data": {
            "application/vnd.jupyter.widget-view+json": {
              "model_id": "e65e484567f5498d9af67b87f71360cb",
              "version_major": 2,
              "version_minor": 0
            },
            "text/plain": [
              "  0%|          | 0/500 [00:00<?, ?it/s]"
            ]
          },
          "metadata": {},
          "output_type": "display_data"
        },
        {
          "name": "stdout",
          "output_type": "stream",
          "text": [
            "epoch = 0, loss_de = 992.7806\n",
            "epoch = 50, loss_de = 29.3407\n",
            "epoch = 100, loss_de = 5.3563\n",
            "epoch = 150, loss_de = 4.0170\n",
            "epoch = 200, loss_de = 3.6974\n",
            "epoch = 250, loss_de = 3.2495\n",
            "epoch = 300, loss_de = 3.5193\n",
            "epoch = 350, loss_de = 3.2754\n",
            "epoch = 400, loss_de = 3.3088\n",
            "epoch = 450, loss_de = 3.3854\n",
            "5.019561649532989e-05\n"
          ]
        },
        {
          "data": {
            "application/vnd.jupyter.widget-view+json": {
              "model_id": "b458b5cd19aa4fc3a9816941522a82e7",
              "version_major": 2,
              "version_minor": 0
            },
            "text/plain": [
              "  0%|          | 0/500 [00:00<?, ?it/s]"
            ]
          },
          "metadata": {},
          "output_type": "display_data"
        },
        {
          "name": "stdout",
          "output_type": "stream",
          "text": [
            "epoch = 0, loss_de = 1184.9283\n",
            "epoch = 50, loss_de = 29.5383\n",
            "epoch = 100, loss_de = 6.2567\n",
            "epoch = 150, loss_de = 4.7243\n",
            "epoch = 200, loss_de = 4.3950\n",
            "epoch = 250, loss_de = 3.8324\n",
            "epoch = 300, loss_de = 4.1632\n",
            "epoch = 350, loss_de = 3.8810\n",
            "epoch = 400, loss_de = 3.9274\n",
            "epoch = 450, loss_de = 4.0034\n",
            "5.6756216508802027e-05\n"
          ]
        },
        {
          "data": {
            "application/vnd.jupyter.widget-view+json": {
              "model_id": "a521d2ce91e74a89b5817497f1efd46d",
              "version_major": 2,
              "version_minor": 0
            },
            "text/plain": [
              "  0%|          | 0/500 [00:00<?, ?it/s]"
            ]
          },
          "metadata": {},
          "output_type": "display_data"
        },
        {
          "name": "stdout",
          "output_type": "stream",
          "text": [
            "epoch = 0, loss_de = 1394.0789\n",
            "epoch = 50, loss_de = 42.2643\n",
            "epoch = 100, loss_de = 8.8092\n",
            "epoch = 150, loss_de = 6.5536\n",
            "epoch = 200, loss_de = 6.0754\n",
            "epoch = 250, loss_de = 5.2585\n",
            "epoch = 300, loss_de = 5.7286\n",
            "epoch = 350, loss_de = 5.3124\n",
            "epoch = 400, loss_de = 5.4007\n",
            "epoch = 450, loss_de = 5.5017\n",
            "7.719673158135265e-05\n"
          ]
        },
        {
          "data": {
            "application/vnd.jupyter.widget-view+json": {
              "model_id": "582dda9d5d6748878c2a7cbe779e6f13",
              "version_major": 2,
              "version_minor": 0
            },
            "text/plain": [
              "  0%|          | 0/500 [00:00<?, ?it/s]"
            ]
          },
          "metadata": {},
          "output_type": "display_data"
        },
        {
          "name": "stdout",
          "output_type": "stream",
          "text": [
            "epoch = 0, loss_de = 1620.2322\n",
            "epoch = 50, loss_de = 61.3789\n",
            "epoch = 100, loss_de = 11.8160\n",
            "epoch = 150, loss_de = 8.6414\n",
            "epoch = 200, loss_de = 7.9874\n",
            "epoch = 250, loss_de = 6.8491\n",
            "epoch = 300, loss_de = 7.5042\n",
            "epoch = 350, loss_de = 6.9072\n",
            "epoch = 400, loss_de = 7.0657\n",
            "epoch = 450, loss_de = 7.1892\n",
            "9.725021664053202e-05\n"
          ]
        },
        {
          "data": {
            "application/vnd.jupyter.widget-view+json": {
              "model_id": "f31980ca83954d66bf8c6ad6da514270",
              "version_major": 2,
              "version_minor": 0
            },
            "text/plain": [
              "  0%|          | 0/500 [00:00<?, ?it/s]"
            ]
          },
          "metadata": {},
          "output_type": "display_data"
        },
        {
          "name": "stdout",
          "output_type": "stream",
          "text": [
            "epoch = 0, loss_de = 1863.3888\n",
            "epoch = 50, loss_de = 103.0471\n",
            "epoch = 100, loss_de = 21.0744\n",
            "epoch = 150, loss_de = 14.4227\n",
            "epoch = 200, loss_de = 13.0792\n",
            "epoch = 250, loss_de = 11.0868\n",
            "epoch = 300, loss_de = 12.2366\n",
            "epoch = 350, loss_de = 11.0362\n",
            "epoch = 400, loss_de = 11.4102\n",
            "epoch = 450, loss_de = 11.6795\n",
            "0.00016076114843599498\n"
          ]
        },
        {
          "data": {
            "application/vnd.jupyter.widget-view+json": {
              "model_id": "b09734d5b8f54e8ea89188e3d28a706f",
              "version_major": 2,
              "version_minor": 0
            },
            "text/plain": [
              "  0%|          | 0/500 [00:00<?, ?it/s]"
            ]
          },
          "metadata": {},
          "output_type": "display_data"
        },
        {
          "name": "stdout",
          "output_type": "stream",
          "text": [
            "epoch = 0, loss_de = 2123.5476\n",
            "epoch = 50, loss_de = 130.6607\n",
            "epoch = 100, loss_de = 26.7819\n",
            "epoch = 150, loss_de = 18.1344\n",
            "epoch = 200, loss_de = 16.4653\n",
            "epoch = 250, loss_de = 13.8397\n",
            "epoch = 300, loss_de = 15.3492\n",
            "epoch = 350, loss_de = 13.7643\n",
            "epoch = 400, loss_de = 14.2986\n",
            "epoch = 450, loss_de = 14.5595\n",
            "0.0001876077731139958\n"
          ]
        },
        {
          "data": {
            "application/vnd.jupyter.widget-view+json": {
              "model_id": "c993454a5b374907813f7d5270a06e9c",
              "version_major": 2,
              "version_minor": 0
            },
            "text/plain": [
              "  0%|          | 0/500 [00:00<?, ?it/s]"
            ]
          },
          "metadata": {},
          "output_type": "display_data"
        },
        {
          "name": "stdout",
          "output_type": "stream",
          "text": [
            "epoch = 0, loss_de = 2400.7097\n",
            "epoch = 50, loss_de = 142.0203\n",
            "epoch = 100, loss_de = 31.3136\n",
            "epoch = 150, loss_de = 21.3314\n",
            "epoch = 200, loss_de = 19.3099\n",
            "epoch = 250, loss_de = 16.1192\n",
            "epoch = 300, loss_de = 17.9216\n",
            "epoch = 350, loss_de = 15.8470\n",
            "epoch = 400, loss_de = 16.5086\n",
            "epoch = 450, loss_de = 16.8693\n",
            "0.00019316739053465426\n"
          ]
        },
        {
          "data": {
            "application/vnd.jupyter.widget-view+json": {
              "model_id": "2e21e6b1f8ef44eb8d8f98d8a736ec4f",
              "version_major": 2,
              "version_minor": 0
            },
            "text/plain": [
              "  0%|          | 0/500 [00:00<?, ?it/s]"
            ]
          },
          "metadata": {},
          "output_type": "display_data"
        },
        {
          "name": "stdout",
          "output_type": "stream",
          "text": [
            "epoch = 0, loss_de = 2694.8745\n",
            "epoch = 50, loss_de = 179.8603\n",
            "epoch = 100, loss_de = 32.2602\n",
            "epoch = 150, loss_de = 16.7618\n",
            "epoch = 200, loss_de = 14.2363\n",
            "epoch = 250, loss_de = 11.2250\n",
            "epoch = 300, loss_de = 12.8411\n",
            "epoch = 350, loss_de = 11.1706\n",
            "epoch = 400, loss_de = 11.8124\n",
            "epoch = 450, loss_de = 11.9109\n",
            "9.77954114205204e-05\n"
          ]
        },
        {
          "data": {
            "application/vnd.jupyter.widget-view+json": {
              "model_id": "c45ebb9b91eb4984aeb65966e20d1fe5",
              "version_major": 2,
              "version_minor": 0
            },
            "text/plain": [
              "  0%|          | 0/500 [00:00<?, ?it/s]"
            ]
          },
          "metadata": {},
          "output_type": "display_data"
        },
        {
          "name": "stdout",
          "output_type": "stream",
          "text": [
            "epoch = 0, loss_de = 3006.0425\n",
            "epoch = 50, loss_de = 221.8331\n",
            "epoch = 100, loss_de = 44.5322\n",
            "epoch = 150, loss_de = 22.6124\n",
            "epoch = 200, loss_de = 19.1403\n",
            "epoch = 250, loss_de = 15.0307\n",
            "epoch = 300, loss_de = 17.2345\n",
            "epoch = 350, loss_de = 14.8882\n",
            "epoch = 400, loss_de = 15.8227\n",
            "epoch = 450, loss_de = 15.8737\n",
            "0.0001297997951041907\n"
          ]
        },
        {
          "data": {
            "application/vnd.jupyter.widget-view+json": {
              "model_id": "048feb4323914d53b903a2aa730dcacc",
              "version_major": 2,
              "version_minor": 0
            },
            "text/plain": [
              "  0%|          | 0/500 [00:00<?, ?it/s]"
            ]
          },
          "metadata": {},
          "output_type": "display_data"
        },
        {
          "name": "stdout",
          "output_type": "stream",
          "text": [
            "epoch = 0, loss_de = 3334.2134\n",
            "epoch = 50, loss_de = 283.5734\n",
            "epoch = 100, loss_de = 76.1372\n",
            "epoch = 150, loss_de = 40.4374\n",
            "epoch = 200, loss_de = 31.6101\n",
            "epoch = 250, loss_de = 24.5381\n",
            "epoch = 300, loss_de = 27.9413\n",
            "epoch = 350, loss_de = 23.6899\n",
            "epoch = 400, loss_de = 25.3879\n",
            "epoch = 450, loss_de = 25.6803\n",
            "0.0001959393557626754\n"
          ]
        },
        {
          "data": {
            "application/vnd.jupyter.widget-view+json": {
              "model_id": "78d2bae96cc54dacb612ce1b7af5a668",
              "version_major": 2,
              "version_minor": 0
            },
            "text/plain": [
              "  0%|          | 0/500 [00:00<?, ?it/s]"
            ]
          },
          "metadata": {},
          "output_type": "display_data"
        },
        {
          "name": "stdout",
          "output_type": "stream",
          "text": [
            "epoch = 0, loss_de = 3679.3872\n",
            "epoch = 50, loss_de = 344.9263\n",
            "epoch = 100, loss_de = 98.5723\n",
            "epoch = 150, loss_de = 65.0456\n",
            "epoch = 200, loss_de = 45.0966\n",
            "epoch = 250, loss_de = 34.8854\n",
            "epoch = 300, loss_de = 39.3563\n",
            "epoch = 350, loss_de = 33.1473\n",
            "epoch = 400, loss_de = 35.5459\n",
            "epoch = 450, loss_de = 36.0827\n",
            "0.0002693622373044491\n"
          ]
        },
        {
          "data": {
            "application/vnd.jupyter.widget-view+json": {
              "model_id": "9458729d9f314f9e8bf7c61f72543d81",
              "version_major": 2,
              "version_minor": 0
            },
            "text/plain": [
              "  0%|          | 0/500 [00:00<?, ?it/s]"
            ]
          },
          "metadata": {},
          "output_type": "display_data"
        },
        {
          "name": "stdout",
          "output_type": "stream",
          "text": [
            "epoch = 0, loss_de = 4041.5632\n",
            "epoch = 50, loss_de = 419.3661\n",
            "epoch = 100, loss_de = 118.9902\n",
            "epoch = 150, loss_de = 61.9568\n",
            "epoch = 200, loss_de = 50.3218\n",
            "epoch = 250, loss_de = 39.4855\n",
            "epoch = 300, loss_de = 45.0218\n",
            "epoch = 350, loss_de = 37.8556\n",
            "epoch = 400, loss_de = 40.7152\n",
            "epoch = 450, loss_de = 41.2318\n",
            "0.00027867863536812365\n"
          ]
        },
        {
          "data": {
            "application/vnd.jupyter.widget-view+json": {
              "model_id": "103a2c0da879468dbaf5373aed111dd2",
              "version_major": 2,
              "version_minor": 0
            },
            "text/plain": [
              "  0%|          | 0/500 [00:00<?, ?it/s]"
            ]
          },
          "metadata": {},
          "output_type": "display_data"
        },
        {
          "name": "stdout",
          "output_type": "stream",
          "text": [
            "epoch = 0, loss_de = 4420.7422\n",
            "epoch = 50, loss_de = 454.4722\n",
            "epoch = 100, loss_de = 140.7415\n",
            "epoch = 150, loss_de = 78.6961\n",
            "epoch = 200, loss_de = 63.3877\n",
            "epoch = 250, loss_de = 49.5083\n",
            "epoch = 300, loss_de = 56.3097\n",
            "epoch = 350, loss_de = 47.1599\n",
            "epoch = 400, loss_de = 50.7937\n",
            "epoch = 450, loss_de = 51.4452\n",
            "0.0003268772561568767\n"
          ]
        },
        {
          "data": {
            "application/vnd.jupyter.widget-view+json": {
              "model_id": "fad59a7cb23143b8b81b1e5509e98c53",
              "version_major": 2,
              "version_minor": 0
            },
            "text/plain": [
              "  0%|          | 0/500 [00:00<?, ?it/s]"
            ]
          },
          "metadata": {},
          "output_type": "display_data"
        },
        {
          "name": "stdout",
          "output_type": "stream",
          "text": [
            "epoch = 0, loss_de = 4816.9243\n",
            "epoch = 50, loss_de = 503.3410\n",
            "epoch = 100, loss_de = 151.3729\n",
            "epoch = 150, loss_de = 100.5306\n",
            "epoch = 200, loss_de = 91.8064\n",
            "epoch = 250, loss_de = 76.1235\n",
            "epoch = 300, loss_de = 85.6628\n",
            "epoch = 350, loss_de = 73.9079\n",
            "epoch = 400, loss_de = 79.2272\n",
            "epoch = 450, loss_de = 79.0220\n",
            "0.0006322316476143897\n"
          ]
        },
        {
          "data": {
            "application/vnd.jupyter.widget-view+json": {
              "model_id": "f30c1c1d3c8841a3b0db57f66ae9b276",
              "version_major": 2,
              "version_minor": 0
            },
            "text/plain": [
              "  0%|          | 0/500 [00:00<?, ?it/s]"
            ]
          },
          "metadata": {},
          "output_type": "display_data"
        },
        {
          "name": "stdout",
          "output_type": "stream",
          "text": [
            "epoch = 0, loss_de = 5230.1099\n",
            "epoch = 50, loss_de = 591.3087\n",
            "epoch = 100, loss_de = 197.6026\n",
            "epoch = 150, loss_de = 130.7966\n",
            "epoch = 200, loss_de = 96.9402\n",
            "epoch = 250, loss_de = 75.9650\n",
            "epoch = 300, loss_de = 85.6938\n",
            "epoch = 350, loss_de = 71.7754\n",
            "epoch = 400, loss_de = 77.3988\n",
            "epoch = 450, loss_de = 77.6766\n",
            "0.0004665844899136573\n"
          ]
        },
        {
          "data": {
            "application/vnd.jupyter.widget-view+json": {
              "model_id": "8d7dcffedd784cb4a1f70d666ffa2bae",
              "version_major": 2,
              "version_minor": 0
            },
            "text/plain": [
              "  0%|          | 0/500 [00:00<?, ?it/s]"
            ]
          },
          "metadata": {},
          "output_type": "display_data"
        },
        {
          "name": "stdout",
          "output_type": "stream",
          "text": [
            "epoch = 0, loss_de = 5660.2974\n",
            "epoch = 50, loss_de = 740.6788\n",
            "epoch = 100, loss_de = 264.1118\n",
            "epoch = 150, loss_de = 180.4649\n",
            "epoch = 200, loss_de = 163.5076\n",
            "epoch = 250, loss_de = 138.0100\n",
            "epoch = 300, loss_de = 154.7173\n",
            "epoch = 350, loss_de = 132.5250\n",
            "epoch = 400, loss_de = 140.8983\n",
            "epoch = 450, loss_de = 143.8751\n",
            "0.0009417390683665872\n"
          ]
        },
        {
          "data": {
            "application/vnd.jupyter.widget-view+json": {
              "model_id": "f75bf0add14049a2b0cdb45182340374",
              "version_major": 2,
              "version_minor": 0
            },
            "text/plain": [
              "  0%|          | 0/500 [00:00<?, ?it/s]"
            ]
          },
          "metadata": {},
          "output_type": "display_data"
        },
        {
          "name": "stdout",
          "output_type": "stream",
          "text": [
            "epoch = 0, loss_de = 6107.4888\n",
            "epoch = 50, loss_de = 860.3839\n",
            "epoch = 100, loss_de = 307.0568\n",
            "epoch = 150, loss_de = 212.0644\n",
            "epoch = 200, loss_de = 192.8587\n",
            "epoch = 250, loss_de = 163.2737\n",
            "epoch = 300, loss_de = 182.8896\n",
            "epoch = 350, loss_de = 156.5857\n",
            "epoch = 400, loss_de = 166.5232\n",
            "epoch = 450, loss_de = 169.8776\n",
            "0.0010370747186243534\n"
          ]
        },
        {
          "data": {
            "application/vnd.jupyter.widget-view+json": {
              "model_id": "72593baa46974e11a04b9945b22cdd69",
              "version_major": 2,
              "version_minor": 0
            },
            "text/plain": [
              "  0%|          | 0/500 [00:00<?, ?it/s]"
            ]
          },
          "metadata": {},
          "output_type": "display_data"
        },
        {
          "name": "stdout",
          "output_type": "stream",
          "text": [
            "epoch = 0, loss_de = 6571.6821\n",
            "epoch = 50, loss_de = 879.2833\n",
            "epoch = 100, loss_de = 330.9275\n",
            "epoch = 150, loss_de = 231.3381\n",
            "epoch = 200, loss_de = 210.7659\n",
            "epoch = 250, loss_de = 178.5643\n",
            "epoch = 300, loss_de = 200.2086\n",
            "epoch = 350, loss_de = 171.2152\n",
            "epoch = 400, loss_de = 182.5292\n",
            "epoch = 450, loss_de = 185.8237\n",
            "0.0010531790321692824\n"
          ]
        },
        {
          "data": {
            "application/vnd.jupyter.widget-view+json": {
              "model_id": "31a7ef128cc34ce29920755b41dc3f9d",
              "version_major": 2,
              "version_minor": 0
            },
            "text/plain": [
              "  0%|          | 0/500 [00:00<?, ?it/s]"
            ]
          },
          "metadata": {},
          "output_type": "display_data"
        },
        {
          "name": "stdout",
          "output_type": "stream",
          "text": [
            "epoch = 0, loss_de = 7052.8784\n",
            "epoch = 50, loss_de = 849.9252\n",
            "epoch = 100, loss_de = 329.7499\n",
            "epoch = 150, loss_de = 231.6018\n",
            "epoch = 200, loss_de = 213.2026\n",
            "epoch = 250, loss_de = 179.9820\n",
            "epoch = 300, loss_de = 202.3511\n",
            "epoch = 350, loss_de = 172.9090\n",
            "epoch = 400, loss_de = 184.8859\n",
            "epoch = 450, loss_de = 187.0352\n",
            "0.0010069618001580238\n"
          ]
        },
        {
          "data": {
            "application/vnd.jupyter.widget-view+json": {
              "model_id": "809f76023edb4458bc715ef14d9a639d",
              "version_major": 2,
              "version_minor": 0
            },
            "text/plain": [
              "  0%|          | 0/500 [00:00<?, ?it/s]"
            ]
          },
          "metadata": {},
          "output_type": "display_data"
        },
        {
          "name": "stdout",
          "output_type": "stream",
          "text": [
            "epoch = 0, loss_de = 7551.0776\n",
            "epoch = 50, loss_de = 871.3533\n",
            "epoch = 100, loss_de = 351.2327\n",
            "epoch = 150, loss_de = 248.3639\n",
            "epoch = 200, loss_de = 228.6792\n",
            "epoch = 250, loss_de = 189.7402\n",
            "epoch = 300, loss_de = 199.8235\n",
            "epoch = 350, loss_de = 164.7649\n",
            "epoch = 400, loss_de = 176.2902\n",
            "epoch = 450, loss_de = 178.6751\n",
            "0.0006865406758151948\n"
          ]
        },
        {
          "data": {
            "application/vnd.jupyter.widget-view+json": {
              "model_id": "afcfc31b3639436485af7867a496d25d",
              "version_major": 2,
              "version_minor": 0
            },
            "text/plain": [
              "  0%|          | 0/500 [00:00<?, ?it/s]"
            ]
          },
          "metadata": {},
          "output_type": "display_data"
        },
        {
          "name": "stdout",
          "output_type": "stream",
          "text": [
            "epoch = 0, loss_de = 8066.2798\n",
            "epoch = 50, loss_de = 870.3082\n",
            "epoch = 100, loss_de = 362.9820\n",
            "epoch = 150, loss_de = 228.1958\n",
            "epoch = 200, loss_de = 195.2549\n",
            "epoch = 250, loss_de = 157.2978\n",
            "epoch = 300, loss_de = 179.2671\n",
            "epoch = 350, loss_de = 149.1748\n",
            "epoch = 400, loss_de = 161.8377\n",
            "epoch = 450, loss_de = 162.4298\n",
            "0.0006274852785281837\n"
          ]
        },
        {
          "data": {
            "application/vnd.jupyter.widget-view+json": {
              "model_id": "18b21195d92f47828b03420478fa1f34",
              "version_major": 2,
              "version_minor": 0
            },
            "text/plain": [
              "  0%|          | 0/500 [00:00<?, ?it/s]"
            ]
          },
          "metadata": {},
          "output_type": "display_data"
        },
        {
          "name": "stdout",
          "output_type": "stream",
          "text": [
            "epoch = 0, loss_de = 8598.4854\n",
            "epoch = 50, loss_de = 943.9069\n",
            "epoch = 100, loss_de = 402.8322\n",
            "epoch = 150, loss_de = 241.5957\n",
            "epoch = 200, loss_de = 211.3306\n",
            "epoch = 250, loss_de = 170.9518\n",
            "epoch = 300, loss_de = 195.4231\n",
            "epoch = 350, loss_de = 162.4883\n",
            "epoch = 400, loss_de = 176.6084\n",
            "epoch = 450, loss_de = 176.8730\n",
            "0.0006496685673482716\n"
          ]
        },
        {
          "data": {
            "application/vnd.jupyter.widget-view+json": {
              "model_id": "9ecd1bbaeacc401face632ec30d3d878",
              "version_major": 2,
              "version_minor": 0
            },
            "text/plain": [
              "  0%|          | 0/500 [00:00<?, ?it/s]"
            ]
          },
          "metadata": {},
          "output_type": "display_data"
        },
        {
          "name": "stdout",
          "output_type": "stream",
          "text": [
            "epoch = 0, loss_de = 9147.6934\n",
            "epoch = 50, loss_de = 1019.7447\n",
            "epoch = 100, loss_de = 449.1552\n",
            "epoch = 150, loss_de = 327.7582\n",
            "epoch = 200, loss_de = 264.4958\n",
            "epoch = 250, loss_de = 214.4449\n",
            "epoch = 300, loss_de = 242.6212\n",
            "epoch = 350, loss_de = 202.1907\n",
            "epoch = 400, loss_de = 218.6268\n",
            "epoch = 450, loss_de = 220.1239\n",
            "0.0007673165528103709\n"
          ]
        },
        {
          "data": {
            "application/vnd.jupyter.widget-view+json": {
              "model_id": "373b2e83fb8846759569d16904ca1618",
              "version_major": 2,
              "version_minor": 0
            },
            "text/plain": [
              "  0%|          | 0/500 [00:00<?, ?it/s]"
            ]
          },
          "metadata": {},
          "output_type": "display_data"
        },
        {
          "name": "stdout",
          "output_type": "stream",
          "text": [
            "epoch = 0, loss_de = 9713.9043\n",
            "epoch = 50, loss_de = 1097.2726\n",
            "epoch = 100, loss_de = 497.1533\n",
            "epoch = 150, loss_de = 365.6793\n",
            "epoch = 200, loss_de = 342.2511\n",
            "epoch = 250, loss_de = 291.3612\n",
            "epoch = 300, loss_de = 328.4116\n",
            "epoch = 350, loss_de = 279.5682\n",
            "epoch = 400, loss_de = 299.5544\n",
            "epoch = 450, loss_de = 303.1027\n",
            "0.0011747919488698244\n"
          ]
        },
        {
          "data": {
            "application/vnd.jupyter.widget-view+json": {
              "model_id": "832fb2a30d234ba09d5627d921571e59",
              "version_major": 2,
              "version_minor": 0
            },
            "text/plain": [
              "  0%|          | 0/500 [00:00<?, ?it/s]"
            ]
          },
          "metadata": {},
          "output_type": "display_data"
        },
        {
          "name": "stdout",
          "output_type": "stream",
          "text": [
            "epoch = 0, loss_de = 10297.1182\n",
            "epoch = 50, loss_de = 1211.5020\n",
            "epoch = 100, loss_de = 565.7070\n",
            "epoch = 150, loss_de = 421.6547\n",
            "epoch = 200, loss_de = 393.6678\n",
            "epoch = 250, loss_de = 336.6313\n",
            "epoch = 300, loss_de = 378.9650\n",
            "epoch = 350, loss_de = 322.4424\n",
            "epoch = 400, loss_de = 345.0211\n",
            "epoch = 450, loss_de = 350.1580\n",
            "0.0012269594008103013\n"
          ]
        },
        {
          "data": {
            "application/vnd.jupyter.widget-view+json": {
              "model_id": "7a9ea3726d0242c68626a07691655476",
              "version_major": 2,
              "version_minor": 0
            },
            "text/plain": [
              "  0%|          | 0/500 [00:00<?, ?it/s]"
            ]
          },
          "metadata": {},
          "output_type": "display_data"
        },
        {
          "name": "stdout",
          "output_type": "stream",
          "text": [
            "epoch = 0, loss_de = 10897.3340\n",
            "epoch = 50, loss_de = 1327.1051\n",
            "epoch = 100, loss_de = 616.5812\n",
            "epoch = 150, loss_de = 460.3753\n",
            "epoch = 200, loss_de = 385.5524\n",
            "epoch = 250, loss_de = 316.9152\n",
            "epoch = 300, loss_de = 357.0855\n",
            "epoch = 350, loss_de = 298.4183\n",
            "epoch = 400, loss_de = 321.4862\n",
            "epoch = 450, loss_de = 324.9889\n",
            "0.0009525013738311827\n"
          ]
        },
        {
          "data": {
            "application/vnd.jupyter.widget-view+json": {
              "model_id": "3f922c8839d64a30b28952985bb1283a",
              "version_major": 2,
              "version_minor": 0
            },
            "text/plain": [
              "  0%|          | 0/500 [00:00<?, ?it/s]"
            ]
          },
          "metadata": {},
          "output_type": "display_data"
        },
        {
          "name": "stdout",
          "output_type": "stream",
          "text": [
            "epoch = 0, loss_de = 11514.5557\n",
            "epoch = 50, loss_de = 1410.9918\n",
            "epoch = 100, loss_de = 658.0402\n",
            "epoch = 150, loss_de = 493.6220\n",
            "epoch = 200, loss_de = 415.2089\n",
            "epoch = 250, loss_de = 342.2531\n",
            "epoch = 300, loss_de = 385.8984\n",
            "epoch = 350, loss_de = 322.5519\n",
            "epoch = 400, loss_de = 347.4644\n",
            "epoch = 450, loss_de = 351.4166\n",
            "0.0009777292143553495\n"
          ]
        },
        {
          "data": {
            "application/vnd.jupyter.widget-view+json": {
              "model_id": "945c75d200b4494790e6f33935668af6",
              "version_major": 2,
              "version_minor": 0
            },
            "text/plain": [
              "  0%|          | 0/500 [00:00<?, ?it/s]"
            ]
          },
          "metadata": {},
          "output_type": "display_data"
        },
        {
          "name": "stdout",
          "output_type": "stream",
          "text": [
            "epoch = 0, loss_de = 12148.7764\n",
            "epoch = 50, loss_de = 1532.6605\n",
            "epoch = 100, loss_de = 754.5959\n",
            "epoch = 150, loss_de = 573.2231\n",
            "epoch = 200, loss_de = 538.8367\n",
            "epoch = 250, loss_de = 464.5356\n",
            "epoch = 300, loss_de = 522.1451\n",
            "epoch = 350, loss_de = 444.6191\n",
            "epoch = 400, loss_de = 474.6841\n",
            "epoch = 450, loss_de = 482.9908\n",
            "0.0013818996958434582\n"
          ]
        },
        {
          "data": {
            "application/vnd.jupyter.widget-view+json": {
              "model_id": "44c640f8286842daa946574fefe01929",
              "version_major": 2,
              "version_minor": 0
            },
            "text/plain": [
              "  0%|          | 0/500 [00:00<?, ?it/s]"
            ]
          },
          "metadata": {},
          "output_type": "display_data"
        },
        {
          "name": "stdout",
          "output_type": "stream",
          "text": [
            "epoch = 0, loss_de = 12800.0020\n",
            "epoch = 50, loss_de = 1635.8289\n",
            "epoch = 100, loss_de = 811.6689\n",
            "epoch = 150, loss_de = 621.4642\n",
            "epoch = 200, loss_de = 585.4839\n",
            "epoch = 250, loss_de = 505.8304\n",
            "epoch = 300, loss_de = 568.1096\n",
            "epoch = 350, loss_de = 484.2008\n",
            "epoch = 400, loss_de = 516.7787\n",
            "epoch = 450, loss_de = 525.4683\n",
            "0.0014500260585919023\n"
          ]
        },
        {
          "data": {
            "application/vnd.jupyter.widget-view+json": {
              "model_id": "41aaa7fb185b4589b52b9cb9e006a5e5",
              "version_major": 2,
              "version_minor": 0
            },
            "text/plain": [
              "  0%|          | 0/500 [00:00<?, ?it/s]"
            ]
          },
          "metadata": {},
          "output_type": "display_data"
        },
        {
          "name": "stdout",
          "output_type": "stream",
          "text": [
            "epoch = 0, loss_de = 13468.2305\n",
            "epoch = 50, loss_de = 1713.2632\n",
            "epoch = 100, loss_de = 873.0238\n",
            "epoch = 150, loss_de = 673.3630\n",
            "epoch = 200, loss_de = 635.8755\n",
            "epoch = 250, loss_de = 550.5134\n",
            "epoch = 300, loss_de = 617.9961\n",
            "epoch = 350, loss_de = 527.0563\n",
            "epoch = 400, loss_de = 562.2421\n",
            "epoch = 450, loss_de = 571.7589\n",
            "0.0015063617611303926\n"
          ]
        },
        {
          "data": {
            "application/vnd.jupyter.widget-view+json": {
              "model_id": "c911fcb98c5542f3ad3d95a8a145cf7d",
              "version_major": 2,
              "version_minor": 0
            },
            "text/plain": [
              "  0%|          | 0/500 [00:00<?, ?it/s]"
            ]
          },
          "metadata": {},
          "output_type": "display_data"
        },
        {
          "name": "stdout",
          "output_type": "stream",
          "text": [
            "epoch = 0, loss_de = 14153.4609\n",
            "epoch = 50, loss_de = 1850.6610\n",
            "epoch = 100, loss_de = 943.1680\n",
            "epoch = 150, loss_de = 731.4834\n",
            "epoch = 200, loss_de = 692.2803\n",
            "epoch = 250, loss_de = 600.6716\n",
            "epoch = 300, loss_de = 673.8044\n",
            "epoch = 350, loss_de = 575.1127\n",
            "epoch = 400, loss_de = 613.1225\n",
            "epoch = 450, loss_de = 623.5833\n",
            "0.001568940351717174\n"
          ]
        },
        {
          "data": {
            "application/vnd.jupyter.widget-view+json": {
              "model_id": "70e21a5af92e4fdbb465a7a051987b01",
              "version_major": 2,
              "version_minor": 0
            },
            "text/plain": [
              "  0%|          | 0/500 [00:00<?, ?it/s]"
            ]
          },
          "metadata": {},
          "output_type": "display_data"
        },
        {
          "name": "stdout",
          "output_type": "stream",
          "text": [
            "epoch = 0, loss_de = 14855.6963\n",
            "epoch = 50, loss_de = 1979.1906\n",
            "epoch = 100, loss_de = 1021.6635\n",
            "epoch = 150, loss_de = 796.0010\n",
            "epoch = 200, loss_de = 754.6645\n",
            "epoch = 250, loss_de = 656.3256\n",
            "epoch = 300, loss_de = 735.5747\n",
            "epoch = 350, loss_de = 628.3959\n",
            "epoch = 400, loss_de = 669.4520\n",
            "epoch = 450, loss_de = 680.9647\n",
            "0.0016350385267287493\n"
          ]
        },
        {
          "data": {
            "application/vnd.jupyter.widget-view+json": {
              "model_id": "4c5864e58ee844d489c4c5fe5d11a0d2",
              "version_major": 2,
              "version_minor": 0
            },
            "text/plain": [
              "  0%|          | 0/500 [00:00<?, ?it/s]"
            ]
          },
          "metadata": {},
          "output_type": "display_data"
        },
        {
          "name": "stdout",
          "output_type": "stream",
          "text": [
            "epoch = 0, loss_de = 15574.9316\n",
            "epoch = 50, loss_de = 2088.4939\n",
            "epoch = 100, loss_de = 1092.1993\n",
            "epoch = 150, loss_de = 855.4364\n",
            "epoch = 200, loss_de = 812.8012\n",
            "epoch = 250, loss_de = 708.1450\n",
            "epoch = 300, loss_de = 793.2696\n",
            "epoch = 350, loss_de = 678.1296\n",
            "epoch = 400, loss_de = 722.1190\n",
            "epoch = 450, loss_de = 734.5322\n",
            "0.001693201600573957\n"
          ]
        },
        {
          "data": {
            "application/vnd.jupyter.widget-view+json": {
              "model_id": "6a0ef8fb6d114b4d944bc40bdaeaa3aa",
              "version_major": 2,
              "version_minor": 0
            },
            "text/plain": [
              "  0%|          | 0/500 [00:00<?, ?it/s]"
            ]
          },
          "metadata": {},
          "output_type": "display_data"
        },
        {
          "name": "stdout",
          "output_type": "stream",
          "text": [
            "epoch = 0, loss_de = 16311.1709\n",
            "epoch = 50, loss_de = 2195.2092\n",
            "epoch = 100, loss_de = 1157.8492\n",
            "epoch = 150, loss_de = 911.3034\n",
            "epoch = 200, loss_de = 868.0894\n",
            "epoch = 250, loss_de = 757.3391\n",
            "epoch = 300, loss_de = 848.2044\n",
            "epoch = 350, loss_de = 725.4043\n",
            "epoch = 400, loss_de = 772.2991\n",
            "epoch = 450, loss_de = 785.4747\n",
            "0.001742393709719181\n"
          ]
        },
        {
          "data": {
            "application/vnd.jupyter.widget-view+json": {
              "model_id": "3ebcfe6ff15d4e5ca0118acae05d8bba",
              "version_major": 2,
              "version_minor": 0
            },
            "text/plain": [
              "  0%|          | 0/500 [00:00<?, ?it/s]"
            ]
          },
          "metadata": {},
          "output_type": "display_data"
        },
        {
          "name": "stdout",
          "output_type": "stream",
          "text": [
            "epoch = 0, loss_de = 17064.4141\n",
            "epoch = 50, loss_de = 2302.5691\n",
            "epoch = 100, loss_de = 1225.1383\n",
            "epoch = 150, loss_de = 967.4841\n",
            "epoch = 200, loss_de = 923.3459\n",
            "epoch = 250, loss_de = 801.3289\n",
            "epoch = 300, loss_de = 866.1575\n",
            "epoch = 350, loss_de = 724.5387\n",
            "epoch = 400, loss_de = 770.3551\n",
            "epoch = 450, loss_de = 782.1894\n",
            "0.0013790496159344912\n"
          ]
        },
        {
          "data": {
            "application/vnd.jupyter.widget-view+json": {
              "model_id": "7bf44236c3034fefa4870a162db8a784",
              "version_major": 2,
              "version_minor": 0
            },
            "text/plain": [
              "  0%|          | 0/500 [00:00<?, ?it/s]"
            ]
          },
          "metadata": {},
          "output_type": "display_data"
        },
        {
          "name": "stdout",
          "output_type": "stream",
          "text": [
            "epoch = 0, loss_de = 17834.6602\n",
            "epoch = 50, loss_de = 2391.1602\n",
            "epoch = 100, loss_de = 1287.9729\n",
            "epoch = 150, loss_de = 943.8856\n",
            "epoch = 200, loss_de = 862.2677\n",
            "epoch = 250, loss_de = 732.6745\n",
            "epoch = 300, loss_de = 824.6744\n",
            "epoch = 350, loss_de = 694.8534\n",
            "epoch = 400, loss_de = 744.7232\n",
            "epoch = 450, loss_de = 754.9775\n",
            "0.0013586216373369098\n"
          ]
        },
        {
          "data": {
            "application/vnd.jupyter.widget-view+json": {
              "model_id": "8ee8ba9c60694c54a73e67ed431b0bd7",
              "version_major": 2,
              "version_minor": 0
            },
            "text/plain": [
              "  0%|          | 0/500 [00:00<?, ?it/s]"
            ]
          },
          "metadata": {},
          "output_type": "display_data"
        },
        {
          "name": "stdout",
          "output_type": "stream",
          "text": [
            "epoch = 0, loss_de = 18621.9062\n",
            "epoch = 50, loss_de = 2501.6331\n",
            "epoch = 100, loss_de = 1279.4069\n",
            "epoch = 150, loss_de = 932.1134\n",
            "epoch = 200, loss_de = 864.7994\n",
            "epoch = 250, loss_de = 735.2581\n",
            "epoch = 300, loss_de = 831.2772\n",
            "epoch = 350, loss_de = 698.3754\n",
            "epoch = 400, loss_de = 751.3351\n",
            "epoch = 450, loss_de = 759.5861\n",
            "0.0013072778237983584\n"
          ]
        },
        {
          "data": {
            "application/vnd.jupyter.widget-view+json": {
              "model_id": "3c181dfcd4994e4792659e875cb79516",
              "version_major": 2,
              "version_minor": 0
            },
            "text/plain": [
              "  0%|          | 0/500 [00:00<?, ?it/s]"
            ]
          },
          "metadata": {},
          "output_type": "display_data"
        },
        {
          "name": "stdout",
          "output_type": "stream",
          "text": [
            "epoch = 0, loss_de = 19426.1582\n",
            "epoch = 50, loss_de = 2730.1816\n",
            "epoch = 100, loss_de = 1495.1835\n",
            "epoch = 150, loss_de = 1195.0868\n",
            "epoch = 200, loss_de = 1143.6593\n",
            "epoch = 250, loss_de = 940.4286\n",
            "epoch = 300, loss_de = 1044.1696\n",
            "epoch = 350, loss_de = 886.6869\n",
            "epoch = 400, loss_de = 945.0309\n",
            "epoch = 450, loss_de = 959.6374\n",
            "0.0016430129762738943\n"
          ]
        },
        {
          "data": {
            "application/vnd.jupyter.widget-view+json": {
              "model_id": "f31529591934435da37b3f540919c5b9",
              "version_major": 2,
              "version_minor": 0
            },
            "text/plain": [
              "  0%|          | 0/500 [00:00<?, ?it/s]"
            ]
          },
          "metadata": {},
          "output_type": "display_data"
        },
        {
          "name": "stdout",
          "output_type": "stream",
          "text": [
            "epoch = 0, loss_de = 20247.4121\n",
            "epoch = 50, loss_de = 2890.8103\n",
            "epoch = 100, loss_de = 1587.2178\n",
            "epoch = 150, loss_de = 1275.2148\n",
            "epoch = 200, loss_de = 1225.1754\n",
            "epoch = 250, loss_de = 1078.0542\n",
            "epoch = 300, loss_de = 1203.5037\n",
            "epoch = 350, loss_de = 1032.7289\n",
            "epoch = 400, loss_de = 1097.1801\n",
            "epoch = 450, loss_de = 1115.5417\n",
            "0.0020091107580810785\n"
          ]
        },
        {
          "data": {
            "application/vnd.jupyter.widget-view+json": {
              "model_id": "a24a7e849a1d435097312f1279af53bc",
              "version_major": 2,
              "version_minor": 0
            },
            "text/plain": [
              "  0%|          | 0/500 [00:00<?, ?it/s]"
            ]
          },
          "metadata": {},
          "output_type": "display_data"
        },
        {
          "name": "stdout",
          "output_type": "stream",
          "text": [
            "epoch = 0, loss_de = 21085.6699\n",
            "epoch = 50, loss_de = 3059.9419\n",
            "epoch = 100, loss_de = 1711.4636\n",
            "epoch = 150, loss_de = 1253.6758\n",
            "epoch = 200, loss_de = 1163.6063\n",
            "epoch = 250, loss_de = 1002.9092\n",
            "epoch = 300, loss_de = 1124.2889\n",
            "epoch = 350, loss_de = 953.0840\n",
            "epoch = 400, loss_de = 1017.9861\n",
            "epoch = 450, loss_de = 1033.0295\n",
            "0.00154292827937752\n"
          ]
        },
        {
          "data": {
            "application/vnd.jupyter.widget-view+json": {
              "model_id": "43df40fc34b8418cb58c6b037559707d",
              "version_major": 2,
              "version_minor": 0
            },
            "text/plain": [
              "  0%|          | 0/500 [00:00<?, ?it/s]"
            ]
          },
          "metadata": {},
          "output_type": "display_data"
        },
        {
          "name": "stdout",
          "output_type": "stream",
          "text": [
            "epoch = 0, loss_de = 21940.9297\n",
            "epoch = 50, loss_de = 3286.0569\n",
            "epoch = 100, loss_de = 1820.3728\n",
            "epoch = 150, loss_de = 1367.6791\n",
            "epoch = 200, loss_de = 1268.2332\n",
            "epoch = 250, loss_de = 1095.4012\n",
            "epoch = 300, loss_de = 1224.6790\n",
            "epoch = 350, loss_de = 1040.2351\n",
            "epoch = 400, loss_de = 1109.6093\n",
            "epoch = 450, loss_de = 1125.8777\n",
            "0.0016163417603820562\n"
          ]
        },
        {
          "data": {
            "application/vnd.jupyter.widget-view+json": {
              "model_id": "f372d1243dfb43eabc75efbe9b48a98e",
              "version_major": 2,
              "version_minor": 0
            },
            "text/plain": [
              "  0%|          | 0/500 [00:00<?, ?it/s]"
            ]
          },
          "metadata": {},
          "output_type": "display_data"
        },
        {
          "name": "stdout",
          "output_type": "stream",
          "text": [
            "epoch = 0, loss_de = 22813.1895\n",
            "epoch = 50, loss_de = 3482.5681\n",
            "epoch = 100, loss_de = 1938.0148\n",
            "epoch = 150, loss_de = 1568.3070\n",
            "epoch = 200, loss_de = 1512.4208\n",
            "epoch = 250, loss_de = 1338.4452\n",
            "epoch = 300, loss_de = 1488.5269\n",
            "epoch = 350, loss_de = 1280.8594\n",
            "epoch = 400, loss_de = 1358.9637\n",
            "epoch = 450, loss_de = 1379.6088\n",
            "0.0021783255506306887\n"
          ]
        },
        {
          "data": {
            "application/vnd.jupyter.widget-view+json": {
              "model_id": "df4214cebd9f451bb2d805e3c2055890",
              "version_major": 2,
              "version_minor": 0
            },
            "text/plain": [
              "  0%|          | 0/500 [00:00<?, ?it/s]"
            ]
          },
          "metadata": {},
          "output_type": "display_data"
        },
        {
          "name": "stdout",
          "output_type": "stream",
          "text": [
            "epoch = 0, loss_de = 23702.4590\n",
            "epoch = 50, loss_de = 3620.3904\n",
            "epoch = 100, loss_de = 2036.6030\n",
            "epoch = 150, loss_de = 1653.7241\n",
            "epoch = 200, loss_de = 1597.4539\n",
            "epoch = 250, loss_de = 1415.3883\n",
            "epoch = 300, loss_de = 1573.4077\n",
            "epoch = 350, loss_de = 1354.6926\n",
            "epoch = 400, loss_de = 1436.8635\n",
            "epoch = 450, loss_de = 1458.5648\n",
            "0.0022330544888973236\n"
          ]
        },
        {
          "data": {
            "application/vnd.jupyter.widget-view+json": {
              "model_id": "9b5148674a6449898ecef2f91078ecb9",
              "version_major": 2,
              "version_minor": 0
            },
            "text/plain": [
              "  0%|          | 0/500 [00:00<?, ?it/s]"
            ]
          },
          "metadata": {},
          "output_type": "display_data"
        },
        {
          "name": "stdout",
          "output_type": "stream",
          "text": [
            "epoch = 0, loss_de = 24608.7266\n",
            "epoch = 50, loss_de = 3782.3904\n",
            "epoch = 100, loss_de = 2136.0793\n",
            "epoch = 150, loss_de = 1739.6754\n",
            "epoch = 200, loss_de = 1682.6000\n",
            "epoch = 250, loss_de = 1492.5243\n",
            "epoch = 300, loss_de = 1658.5332\n",
            "epoch = 350, loss_de = 1428.6379\n",
            "epoch = 400, loss_de = 1515.0093\n",
            "epoch = 450, loss_de = 1537.5948\n",
            "0.0022781442385166883\n"
          ]
        },
        {
          "data": {
            "application/vnd.jupyter.widget-view+json": {
              "model_id": "a9bda5d0f9dd4e48834c191916692c24",
              "version_major": 2,
              "version_minor": 0
            },
            "text/plain": [
              "  0%|          | 0/500 [00:00<?, ?it/s]"
            ]
          },
          "metadata": {},
          "output_type": "display_data"
        },
        {
          "name": "stdout",
          "output_type": "stream",
          "text": [
            "epoch = 0, loss_de = 25531.9961\n",
            "epoch = 50, loss_de = 3834.1189\n",
            "epoch = 100, loss_de = 2204.1560\n",
            "epoch = 150, loss_de = 1699.0140\n",
            "epoch = 200, loss_de = 1587.7527\n",
            "epoch = 250, loss_de = 1380.1465\n",
            "epoch = 300, loss_de = 1539.3571\n",
            "epoch = 350, loss_de = 1311.6823\n",
            "epoch = 400, loss_de = 1397.0024\n",
            "epoch = 450, loss_de = 1416.8844\n",
            "0.001792690483853221\n"
          ]
        },
        {
          "data": {
            "application/vnd.jupyter.widget-view+json": {
              "model_id": "ec20d75575094940a5fcff3df6a332bb",
              "version_major": 2,
              "version_minor": 0
            },
            "text/plain": [
              "  0%|          | 0/500 [00:00<?, ?it/s]"
            ]
          },
          "metadata": {},
          "output_type": "display_data"
        },
        {
          "name": "stdout",
          "output_type": "stream",
          "text": [
            "epoch = 0, loss_de = 26472.2695\n",
            "epoch = 50, loss_de = 3889.3057\n",
            "epoch = 100, loss_de = 2262.4224\n",
            "epoch = 150, loss_de = 1856.8582\n",
            "epoch = 200, loss_de = 1800.8790\n",
            "epoch = 250, loss_de = 1596.8215\n",
            "epoch = 300, loss_de = 1768.7102\n",
            "epoch = 350, loss_de = 1509.3445\n",
            "epoch = 400, loss_de = 1595.9500\n",
            "epoch = 450, loss_de = 1617.5814\n",
            "0.002092658542096615\n"
          ]
        },
        {
          "data": {
            "application/vnd.jupyter.widget-view+json": {
              "model_id": "8e0356d8b64d42848f12aa3a5ed8d97a",
              "version_major": 2,
              "version_minor": 0
            },
            "text/plain": [
              "  0%|          | 0/500 [00:00<?, ?it/s]"
            ]
          },
          "metadata": {},
          "output_type": "display_data"
        },
        {
          "name": "stdout",
          "output_type": "stream",
          "text": [
            "epoch = 0, loss_de = 27429.5488\n",
            "epoch = 50, loss_de = 3943.1765\n",
            "epoch = 100, loss_de = 2212.4021\n",
            "epoch = 150, loss_de = 1685.4924\n",
            "epoch = 200, loss_de = 1591.7687\n",
            "epoch = 250, loss_de = 1380.3301\n",
            "epoch = 300, loss_de = 1550.4688\n",
            "epoch = 350, loss_de = 1315.1155\n",
            "epoch = 400, loss_de = 1405.3844\n",
            "epoch = 450, loss_de = 1424.5599\n",
            "0.0017321878112852573\n"
          ]
        },
        {
          "data": {
            "application/vnd.jupyter.widget-view+json": {
              "model_id": "ef34002246644943853bedf65cf0ea46",
              "version_major": 2,
              "version_minor": 0
            },
            "text/plain": [
              "  0%|          | 0/500 [00:00<?, ?it/s]"
            ]
          },
          "metadata": {},
          "output_type": "display_data"
        },
        {
          "name": "stdout",
          "output_type": "stream",
          "text": [
            "epoch = 0, loss_de = 28403.8301\n",
            "epoch = 50, loss_de = 4048.9329\n",
            "epoch = 100, loss_de = 2389.0361\n",
            "epoch = 150, loss_de = 1980.8456\n",
            "epoch = 200, loss_de = 1918.6116\n",
            "epoch = 250, loss_de = 1605.5964\n",
            "epoch = 300, loss_de = 1784.2528\n",
            "epoch = 350, loss_de = 1523.9316\n",
            "epoch = 400, loss_de = 1620.0496\n",
            "epoch = 450, loss_de = 1644.9188\n",
            "0.0019988256972283125\n"
          ]
        },
        {
          "data": {
            "application/vnd.jupyter.widget-view+json": {
              "model_id": "e5ee360f95084dcc9b7737e5505f1db2",
              "version_major": 2,
              "version_minor": 0
            },
            "text/plain": [
              "  0%|          | 0/500 [00:00<?, ?it/s]"
            ]
          },
          "metadata": {},
          "output_type": "display_data"
        },
        {
          "name": "stdout",
          "output_type": "stream",
          "text": [
            "epoch = 0, loss_de = 29395.1113\n",
            "epoch = 50, loss_de = 4106.4946\n",
            "epoch = 100, loss_de = 2468.3438\n",
            "epoch = 150, loss_de = 2052.6602\n",
            "epoch = 200, loss_de = 1997.5840\n",
            "epoch = 250, loss_de = 1760.8322\n",
            "epoch = 300, loss_de = 1903.6316\n",
            "epoch = 350, loss_de = 1614.8949\n",
            "epoch = 400, loss_de = 1712.5568\n",
            "epoch = 450, loss_de = 1738.8132\n",
            "0.0019306415924802423\n"
          ]
        },
        {
          "data": {
            "application/vnd.jupyter.widget-view+json": {
              "model_id": "102c2a82326240308f384d2d6a22d332",
              "version_major": 2,
              "version_minor": 0
            },
            "text/plain": [
              "  0%|          | 0/500 [00:00<?, ?it/s]"
            ]
          },
          "metadata": {},
          "output_type": "display_data"
        },
        {
          "name": "stdout",
          "output_type": "stream",
          "text": [
            "epoch = 0, loss_de = 30403.3945\n",
            "epoch = 50, loss_de = 4272.6118\n",
            "epoch = 100, loss_de = 2566.7661\n",
            "epoch = 150, loss_de = 2142.2971\n",
            "epoch = 200, loss_de = 2086.4841\n",
            "epoch = 250, loss_de = 1855.5562\n",
            "epoch = 300, loss_de = 2067.6362\n",
            "epoch = 350, loss_de = 1780.3431\n",
            "epoch = 400, loss_de = 1888.3684\n",
            "epoch = 450, loss_de = 1918.6354\n",
            "0.0023793699219822884\n"
          ]
        },
        {
          "data": {
            "application/vnd.jupyter.widget-view+json": {
              "model_id": "a061b572c68b4b03b65a43454a0f161d",
              "version_major": 2,
              "version_minor": 0
            },
            "text/plain": [
              "  0%|          | 0/500 [00:00<?, ?it/s]"
            ]
          },
          "metadata": {},
          "output_type": "display_data"
        },
        {
          "name": "stdout",
          "output_type": "stream",
          "text": [
            "epoch = 0, loss_de = 31428.6855\n",
            "epoch = 50, loss_de = 4452.2437\n",
            "epoch = 100, loss_de = 2708.0996\n",
            "epoch = 150, loss_de = 2265.0083\n",
            "epoch = 200, loss_de = 2209.6284\n",
            "epoch = 250, loss_de = 1968.5529\n",
            "epoch = 300, loss_de = 2191.0005\n",
            "epoch = 350, loss_de = 1888.1545\n",
            "epoch = 400, loss_de = 2002.3232\n",
            "epoch = 450, loss_de = 2032.9600\n",
            "0.002426320221275091\n"
          ]
        },
        {
          "data": {
            "application/vnd.jupyter.widget-view+json": {
              "model_id": "3910319c552c4fea8823df050e255144",
              "version_major": 2,
              "version_minor": 0
            },
            "text/plain": [
              "  0%|          | 0/500 [00:00<?, ?it/s]"
            ]
          },
          "metadata": {},
          "output_type": "display_data"
        },
        {
          "name": "stdout",
          "output_type": "stream",
          "text": [
            "epoch = 0, loss_de = 32470.9766\n",
            "epoch = 50, loss_de = 4591.4482\n",
            "epoch = 100, loss_de = 2810.4067\n",
            "epoch = 150, loss_de = 2356.5842\n",
            "epoch = 200, loss_de = 2301.1042\n",
            "epoch = 250, loss_de = 2051.3850\n",
            "epoch = 300, loss_de = 2283.0320\n",
            "epoch = 350, loss_de = 1967.8772\n",
            "epoch = 400, loss_de = 2086.5676\n",
            "epoch = 450, loss_de = 2118.6230\n",
            "0.0024636071175336838\n"
          ]
        },
        {
          "data": {
            "application/vnd.jupyter.widget-view+json": {
              "model_id": "707112b392ff4f9eb1c629e39a8bbb9d",
              "version_major": 2,
              "version_minor": 0
            },
            "text/plain": [
              "  0%|          | 0/500 [00:00<?, ?it/s]"
            ]
          },
          "metadata": {},
          "output_type": "display_data"
        },
        {
          "name": "stdout",
          "output_type": "stream",
          "text": [
            "epoch = 0, loss_de = 33530.2695\n",
            "epoch = 50, loss_de = 4774.4956\n",
            "epoch = 100, loss_de = 2923.3281\n",
            "epoch = 150, loss_de = 2457.1768\n",
            "epoch = 200, loss_de = 2402.3892\n",
            "epoch = 250, loss_de = 2143.6868\n",
            "epoch = 300, loss_de = 2384.8328\n",
            "epoch = 350, loss_de = 2056.3342\n",
            "epoch = 400, loss_de = 2180.2925\n",
            "epoch = 450, loss_de = 2212.9709\n",
            "0.002490696031600237\n"
          ]
        },
        {
          "data": {
            "application/vnd.jupyter.widget-view+json": {
              "model_id": "f5c02c8aa88e4c2a9961904a21f4e74d",
              "version_major": 2,
              "version_minor": 0
            },
            "text/plain": [
              "  0%|          | 0/500 [00:00<?, ?it/s]"
            ]
          },
          "metadata": {},
          "output_type": "display_data"
        },
        {
          "name": "stdout",
          "output_type": "stream",
          "text": [
            "epoch = 0, loss_de = 34606.5664\n",
            "epoch = 50, loss_de = 5007.4575\n",
            "epoch = 100, loss_de = 3046.6975\n",
            "epoch = 150, loss_de = 2562.9895\n",
            "epoch = 200, loss_de = 2509.4336\n",
            "epoch = 250, loss_de = 2241.2307\n",
            "epoch = 300, loss_de = 2492.2751\n",
            "epoch = 350, loss_de = 2149.7793\n",
            "epoch = 400, loss_de = 2279.1130\n",
            "epoch = 450, loss_de = 2312.6177\n",
            "0.0025294101797044277\n"
          ]
        },
        {
          "data": {
            "application/vnd.jupyter.widget-view+json": {
              "model_id": "878e82c3ae194b70ac31c7350a2798b3",
              "version_major": 2,
              "version_minor": 0
            },
            "text/plain": [
              "  0%|          | 0/500 [00:00<?, ?it/s]"
            ]
          },
          "metadata": {},
          "output_type": "display_data"
        },
        {
          "name": "stdout",
          "output_type": "stream",
          "text": [
            "epoch = 0, loss_de = 35699.8672\n",
            "epoch = 50, loss_de = 5171.5225\n",
            "epoch = 100, loss_de = 3184.4182\n",
            "epoch = 150, loss_de = 2682.1267\n",
            "epoch = 200, loss_de = 2626.3953\n",
            "epoch = 250, loss_de = 2347.8110\n",
            "epoch = 300, loss_de = 2609.1653\n",
            "epoch = 350, loss_de = 2251.7026\n",
            "epoch = 400, loss_de = 2386.5859\n",
            "epoch = 450, loss_de = 2421.1006\n",
            "0.0025875025894492865\n"
          ]
        },
        {
          "data": {
            "application/vnd.jupyter.widget-view+json": {
              "model_id": "ce47bd60493d48968d20ea854c778f55",
              "version_major": 2,
              "version_minor": 0
            },
            "text/plain": [
              "  0%|          | 0/500 [00:00<?, ?it/s]"
            ]
          },
          "metadata": {},
          "output_type": "display_data"
        },
        {
          "name": "stdout",
          "output_type": "stream",
          "text": [
            "epoch = 0, loss_de = 36810.1719\n",
            "epoch = 50, loss_de = 5458.2866\n",
            "epoch = 100, loss_de = 3361.3513\n",
            "epoch = 150, loss_de = 2832.0388\n",
            "epoch = 200, loss_de = 2776.8293\n",
            "epoch = 250, loss_de = 2486.0115\n",
            "epoch = 300, loss_de = 2758.8367\n",
            "epoch = 350, loss_de = 2382.9541\n",
            "epoch = 400, loss_de = 2525.5984\n",
            "epoch = 450, loss_de = 2558.6870\n",
            "0.0026490541640669107\n"
          ]
        },
        {
          "data": {
            "application/vnd.jupyter.widget-view+json": {
              "model_id": "7941af637b494e4fbc163cfe2e4bfeb5",
              "version_major": 2,
              "version_minor": 0
            },
            "text/plain": [
              "  0%|          | 0/500 [00:00<?, ?it/s]"
            ]
          },
          "metadata": {},
          "output_type": "display_data"
        },
        {
          "name": "stdout",
          "output_type": "stream",
          "text": [
            "epoch = 0, loss_de = 37937.4766\n",
            "epoch = 50, loss_de = 5572.5610\n",
            "epoch = 100, loss_de = 3451.8320\n",
            "epoch = 150, loss_de = 2914.5237\n",
            "epoch = 200, loss_de = 2860.0408\n",
            "epoch = 250, loss_de = 2560.9563\n",
            "epoch = 300, loss_de = 2843.0452\n",
            "epoch = 350, loss_de = 2455.4253\n",
            "epoch = 400, loss_de = 2602.4358\n",
            "epoch = 450, loss_de = 2637.2163\n",
            "0.0026638787239789963\n"
          ]
        },
        {
          "data": {
            "application/vnd.jupyter.widget-view+json": {
              "model_id": "6e543031c67048e28ce4947e76902702",
              "version_major": 2,
              "version_minor": 0
            },
            "text/plain": [
              "  0%|          | 0/500 [00:00<?, ?it/s]"
            ]
          },
          "metadata": {},
          "output_type": "display_data"
        },
        {
          "name": "stdout",
          "output_type": "stream",
          "text": [
            "epoch = 0, loss_de = 39081.7773\n",
            "epoch = 50, loss_de = 5772.4849\n",
            "epoch = 100, loss_de = 3573.9907\n",
            "epoch = 150, loss_de = 3023.9167\n",
            "epoch = 200, loss_de = 2969.8069\n",
            "epoch = 250, loss_de = 2660.9412\n",
            "epoch = 300, loss_de = 2953.3433\n",
            "epoch = 350, loss_de = 2551.3445\n",
            "epoch = 400, loss_de = 2703.9949\n",
            "epoch = 450, loss_de = 2739.5088\n",
            "0.002699753502383828\n"
          ]
        },
        {
          "data": {
            "application/vnd.jupyter.widget-view+json": {
              "model_id": "0c6b8c1208de42d799dfe43e870c65b7",
              "version_major": 2,
              "version_minor": 0
            },
            "text/plain": [
              "  0%|          | 0/500 [00:00<?, ?it/s]"
            ]
          },
          "metadata": {},
          "output_type": "display_data"
        },
        {
          "name": "stdout",
          "output_type": "stream",
          "text": [
            "epoch = 0, loss_de = 40243.0938\n",
            "epoch = 50, loss_de = 5968.9502\n",
            "epoch = 100, loss_de = 3704.2600\n",
            "epoch = 150, loss_de = 3139.7029\n",
            "epoch = 200, loss_de = 3086.0510\n",
            "epoch = 250, loss_de = 2767.0195\n",
            "epoch = 300, loss_de = 3069.9761\n",
            "epoch = 350, loss_de = 2652.9387\n",
            "epoch = 400, loss_de = 2811.5901\n",
            "epoch = 450, loss_de = 2847.4861\n",
            "0.0027371461037546396\n"
          ]
        },
        {
          "data": {
            "application/vnd.jupyter.widget-view+json": {
              "model_id": "3fa7eedb3a254429bbcf3989e2914e12",
              "version_major": 2,
              "version_minor": 0
            },
            "text/plain": [
              "  0%|          | 0/500 [00:00<?, ?it/s]"
            ]
          },
          "metadata": {},
          "output_type": "display_data"
        },
        {
          "name": "stdout",
          "output_type": "stream",
          "text": [
            "epoch = 0, loss_de = 41421.4102\n",
            "epoch = 50, loss_de = 6146.0918\n",
            "epoch = 100, loss_de = 3831.0601\n",
            "epoch = 150, loss_de = 3252.2200\n",
            "epoch = 200, loss_de = 3199.1440\n",
            "epoch = 250, loss_de = 2870.0762\n",
            "epoch = 300, loss_de = 3183.5664\n",
            "epoch = 350, loss_de = 2751.7417\n",
            "epoch = 400, loss_de = 2916.2544\n",
            "epoch = 450, loss_de = 2952.7090\n",
            "0.0027697912883013487\n"
          ]
        },
        {
          "data": {
            "application/vnd.jupyter.widget-view+json": {
              "model_id": "c6a1f1b8aad84585aaaaea0ceb1fa80c",
              "version_major": 2,
              "version_minor": 0
            },
            "text/plain": [
              "  0%|          | 0/500 [00:00<?, ?it/s]"
            ]
          },
          "metadata": {},
          "output_type": "display_data"
        },
        {
          "name": "stdout",
          "output_type": "stream",
          "text": [
            "epoch = 0, loss_de = 42616.7266\n",
            "epoch = 50, loss_de = 6315.7500\n",
            "epoch = 100, loss_de = 3960.4956\n",
            "epoch = 150, loss_de = 3365.1233\n",
            "epoch = 200, loss_de = 3312.6602\n",
            "epoch = 250, loss_de = 2973.4922\n",
            "epoch = 300, loss_de = 3297.6150\n",
            "epoch = 350, loss_de = 2850.9153\n",
            "epoch = 400, loss_de = 3021.3181\n",
            "epoch = 450, loss_de = 3058.3660\n",
            "0.002800906077027321\n"
          ]
        },
        {
          "data": {
            "application/vnd.jupyter.widget-view+json": {
              "model_id": "84000a3c2cdd4d70b8458c2ac830142a",
              "version_major": 2,
              "version_minor": 0
            },
            "text/plain": [
              "  0%|          | 0/500 [00:00<?, ?it/s]"
            ]
          },
          "metadata": {},
          "output_type": "display_data"
        },
        {
          "name": "stdout",
          "output_type": "stream",
          "text": [
            "epoch = 0, loss_de = 43829.0469\n",
            "epoch = 50, loss_de = 6498.6187\n",
            "epoch = 100, loss_de = 4094.6260\n",
            "epoch = 150, loss_de = 3483.5369\n",
            "epoch = 200, loss_de = 3431.8796\n",
            "epoch = 250, loss_de = 3082.3059\n",
            "epoch = 300, loss_de = 3417.3191\n",
            "epoch = 350, loss_de = 2955.1633\n",
            "epoch = 400, loss_de = 3131.7561\n",
            "epoch = 450, loss_de = 3169.1489\n",
            "0.0028343487065285444\n"
          ]
        },
        {
          "data": {
            "application/vnd.jupyter.widget-view+json": {
              "model_id": "52282497d9be4a54ab374573dfcb3e8b",
              "version_major": 2,
              "version_minor": 0
            },
            "text/plain": [
              "  0%|          | 0/500 [00:00<?, ?it/s]"
            ]
          },
          "metadata": {},
          "output_type": "display_data"
        },
        {
          "name": "stdout",
          "output_type": "stream",
          "text": [
            "epoch = 0, loss_de = 45058.3672\n",
            "epoch = 50, loss_de = 6693.9878\n",
            "epoch = 100, loss_de = 4238.5190\n",
            "epoch = 150, loss_de = 3614.4851\n",
            "epoch = 200, loss_de = 3563.9849\n",
            "epoch = 250, loss_de = 3203.4294\n",
            "epoch = 300, loss_de = 3549.7864\n",
            "epoch = 350, loss_de = 3070.9209\n",
            "epoch = 400, loss_de = 3254.4097\n",
            "epoch = 450, loss_de = 3291.4194\n",
            "0.0028743192087858915\n"
          ]
        },
        {
          "data": {
            "application/vnd.jupyter.widget-view+json": {
              "model_id": "14a713ca74f84d0799b7cfeb1cfc786c",
              "version_major": 2,
              "version_minor": 0
            },
            "text/plain": [
              "  0%|          | 0/500 [00:00<?, ?it/s]"
            ]
          },
          "metadata": {},
          "output_type": "display_data"
        },
        {
          "name": "stdout",
          "output_type": "stream",
          "text": [
            "epoch = 0, loss_de = 46304.6914\n",
            "epoch = 50, loss_de = 7009.6362\n",
            "epoch = 100, loss_de = 4411.0166\n",
            "epoch = 150, loss_de = 3765.7373\n",
            "epoch = 200, loss_de = 3715.6453\n",
            "epoch = 250, loss_de = 3342.8950\n",
            "epoch = 300, loss_de = 3701.2739\n",
            "epoch = 350, loss_de = 3203.7983\n",
            "epoch = 400, loss_de = 3395.1201\n",
            "epoch = 450, loss_de = 3430.9121\n",
            "0.0029310043901205063\n"
          ]
        },
        {
          "data": {
            "application/vnd.jupyter.widget-view+json": {
              "model_id": "c8f64a1e88494455a8b3a6551a0a7694",
              "version_major": 2,
              "version_minor": 0
            },
            "text/plain": [
              "  0%|          | 0/500 [00:00<?, ?it/s]"
            ]
          },
          "metadata": {},
          "output_type": "display_data"
        },
        {
          "name": "stdout",
          "output_type": "stream",
          "text": [
            "epoch = 0, loss_de = 47568.0273\n",
            "epoch = 50, loss_de = 7207.8975\n",
            "epoch = 100, loss_de = 4545.4863\n",
            "epoch = 150, loss_de = 3886.1753\n",
            "epoch = 200, loss_de = 3837.2593\n",
            "epoch = 250, loss_de = 3453.8877\n",
            "epoch = 300, loss_de = 3823.5647\n",
            "epoch = 350, loss_de = 3310.2419\n",
            "epoch = 400, loss_de = 3507.9004\n",
            "epoch = 450, loss_de = 3544.1228\n",
            "0.002961274702101946\n"
          ]
        },
        {
          "data": {
            "application/vnd.jupyter.widget-view+json": {
              "model_id": "17fbd154122e44e19b113266d2fc4f59",
              "version_major": 2,
              "version_minor": 0
            },
            "text/plain": [
              "  0%|          | 0/500 [00:00<?, ?it/s]"
            ]
          },
          "metadata": {},
          "output_type": "display_data"
        },
        {
          "name": "stdout",
          "output_type": "stream",
          "text": [
            "epoch = 0, loss_de = 48848.3516\n",
            "epoch = 50, loss_de = 7349.7510\n",
            "epoch = 100, loss_de = 4650.4292\n",
            "epoch = 150, loss_de = 3983.8433\n",
            "epoch = 200, loss_de = 3935.8403\n",
            "epoch = 250, loss_de = 3542.8228\n",
            "epoch = 300, loss_de = 3923.4048\n",
            "epoch = 350, loss_de = 3396.3716\n",
            "epoch = 400, loss_de = 3599.0376\n",
            "epoch = 450, loss_de = 3637.6191\n",
            "0.00297951209358871\n"
          ]
        },
        {
          "data": {
            "application/vnd.jupyter.widget-view+json": {
              "model_id": "e45961da1c0d463a845f6e5cc33e149a",
              "version_major": 2,
              "version_minor": 0
            },
            "text/plain": [
              "  0%|          | 0/500 [00:00<?, ?it/s]"
            ]
          },
          "metadata": {},
          "output_type": "display_data"
        },
        {
          "name": "stdout",
          "output_type": "stream",
          "text": [
            "epoch = 0, loss_de = 50145.6914\n",
            "epoch = 50, loss_de = 7517.4287\n",
            "epoch = 100, loss_de = 4774.4829\n",
            "epoch = 150, loss_de = 4097.4258\n",
            "epoch = 200, loss_de = 4050.8391\n",
            "epoch = 250, loss_de = 3647.7732\n",
            "epoch = 300, loss_de = 4039.6567\n",
            "epoch = 350, loss_de = 3497.3921\n",
            "epoch = 400, loss_de = 3706.0752\n",
            "epoch = 450, loss_de = 3745.5945\n",
            "0.0030028512701392174\n"
          ]
        },
        {
          "data": {
            "application/vnd.jupyter.widget-view+json": {
              "model_id": "601ac720865042d38fc45931e0da3674",
              "version_major": 2,
              "version_minor": 0
            },
            "text/plain": [
              "  0%|          | 0/500 [00:00<?, ?it/s]"
            ]
          },
          "metadata": {},
          "output_type": "display_data"
        },
        {
          "name": "stdout",
          "output_type": "stream",
          "text": [
            "epoch = 0, loss_de = 51460.0273\n",
            "epoch = 50, loss_de = 7696.3794\n",
            "epoch = 100, loss_de = 4912.5015\n",
            "epoch = 150, loss_de = 4221.7319\n",
            "epoch = 200, loss_de = 4176.4414\n",
            "epoch = 250, loss_de = 3762.6455\n",
            "epoch = 300, loss_de = 4166.1860\n",
            "epoch = 350, loss_de = 3607.5977\n",
            "epoch = 400, loss_de = 3822.9055\n",
            "epoch = 450, loss_de = 3862.7151\n",
            "0.003030861495062709\n"
          ]
        },
        {
          "data": {
            "application/vnd.jupyter.widget-view+json": {
              "model_id": "b79a83f10ec8451d9c694aea6f17ff4d",
              "version_major": 2,
              "version_minor": 0
            },
            "text/plain": [
              "  0%|          | 0/500 [00:00<?, ?it/s]"
            ]
          },
          "metadata": {},
          "output_type": "display_data"
        },
        {
          "name": "stdout",
          "output_type": "stream",
          "text": [
            "epoch = 0, loss_de = 52791.3672\n",
            "epoch = 50, loss_de = 7845.6401\n",
            "epoch = 100, loss_de = 5047.5566\n",
            "epoch = 150, loss_de = 4343.7686\n",
            "epoch = 200, loss_de = 4299.7202\n",
            "epoch = 250, loss_de = 3875.2637\n",
            "epoch = 300, loss_de = 4290.5557\n",
            "epoch = 350, loss_de = 3715.8313\n",
            "epoch = 400, loss_de = 3937.5476\n",
            "epoch = 450, loss_de = 3978.1147\n",
            "0.0030583699699491262\n"
          ]
        },
        {
          "data": {
            "application/vnd.jupyter.widget-view+json": {
              "model_id": "37bbf9c48312460f94301ed331009d3e",
              "version_major": 2,
              "version_minor": 0
            },
            "text/plain": [
              "  0%|          | 0/500 [00:00<?, ?it/s]"
            ]
          },
          "metadata": {},
          "output_type": "display_data"
        },
        {
          "name": "stdout",
          "output_type": "stream",
          "text": [
            "epoch = 0, loss_de = 54139.7070\n",
            "epoch = 50, loss_de = 8009.8359\n",
            "epoch = 100, loss_de = 5181.5674\n",
            "epoch = 150, loss_de = 4468.7310\n",
            "epoch = 200, loss_de = 4425.7905\n",
            "epoch = 250, loss_de = 3990.5259\n",
            "epoch = 300, loss_de = 4417.7852\n",
            "epoch = 350, loss_de = 3826.6101\n",
            "epoch = 400, loss_de = 4054.8577\n",
            "epoch = 450, loss_de = 4096.1899\n",
            "0.003086894052103162\n"
          ]
        },
        {
          "data": {
            "application/vnd.jupyter.widget-view+json": {
              "model_id": "73a308e384234dfe84c9dca773f2ffd5",
              "version_major": 2,
              "version_minor": 0
            },
            "text/plain": [
              "  0%|          | 0/500 [00:00<?, ?it/s]"
            ]
          },
          "metadata": {},
          "output_type": "display_data"
        },
        {
          "name": "stdout",
          "output_type": "stream",
          "text": [
            "epoch = 0, loss_de = 55505.0547\n",
            "epoch = 50, loss_de = 8205.4756\n",
            "epoch = 100, loss_de = 5342.0938\n",
            "epoch = 150, loss_de = 4610.2974\n",
            "epoch = 200, loss_de = 4569.9370\n",
            "epoch = 250, loss_de = 4122.7700\n",
            "epoch = 300, loss_de = 4562.5498\n",
            "epoch = 350, loss_de = 3953.1140\n",
            "epoch = 400, loss_de = 4188.9551\n",
            "epoch = 450, loss_de = 4229.8359\n",
            "0.0031242240220308304\n"
          ]
        },
        {
          "data": {
            "application/vnd.jupyter.widget-view+json": {
              "model_id": "844d321456d84c748ac9d1b439fddee6",
              "version_major": 2,
              "version_minor": 0
            },
            "text/plain": [
              "  0%|          | 0/500 [00:00<?, ?it/s]"
            ]
          },
          "metadata": {},
          "output_type": "display_data"
        },
        {
          "name": "stdout",
          "output_type": "stream",
          "text": [
            "epoch = 0, loss_de = 56887.4062\n",
            "epoch = 50, loss_de = 8469.4893\n",
            "epoch = 100, loss_de = 5498.9824\n",
            "epoch = 150, loss_de = 4751.3540\n",
            "epoch = 200, loss_de = 4710.9038\n",
            "epoch = 250, loss_de = 4251.7598\n",
            "epoch = 300, loss_de = 4704.1226\n",
            "epoch = 350, loss_de = 4076.5945\n",
            "epoch = 400, loss_de = 4319.7358\n",
            "epoch = 450, loss_de = 4360.8203\n",
            "0.00316195422783494\n"
          ]
        },
        {
          "data": {
            "application/vnd.jupyter.widget-view+json": {
              "model_id": "0eb364c59d1f4d23aa024029c8d80073",
              "version_major": 2,
              "version_minor": 0
            },
            "text/plain": [
              "  0%|          | 0/500 [00:00<?, ?it/s]"
            ]
          },
          "metadata": {},
          "output_type": "display_data"
        },
        {
          "name": "stdout",
          "output_type": "stream",
          "text": [
            "epoch = 0, loss_de = 58286.7578\n",
            "epoch = 50, loss_de = 8695.6055\n",
            "epoch = 100, loss_de = 5657.9824\n",
            "epoch = 150, loss_de = 4891.9087\n",
            "epoch = 200, loss_de = 4852.4307\n",
            "epoch = 250, loss_de = 4381.0898\n",
            "epoch = 300, loss_de = 4846.1606\n",
            "epoch = 350, loss_de = 4200.3545\n",
            "epoch = 400, loss_de = 4450.9673\n",
            "epoch = 450, loss_de = 4492.0776\n",
            "0.003195337485522032\n"
          ]
        },
        {
          "data": {
            "application/vnd.jupyter.widget-view+json": {
              "model_id": "693179365c7d49dfaa51708270502e93",
              "version_major": 2,
              "version_minor": 0
            },
            "text/plain": [
              "  0%|          | 0/500 [00:00<?, ?it/s]"
            ]
          },
          "metadata": {},
          "output_type": "display_data"
        },
        {
          "name": "stdout",
          "output_type": "stream",
          "text": [
            "epoch = 0, loss_de = 59703.1094\n",
            "epoch = 50, loss_de = 8868.2305\n",
            "epoch = 100, loss_de = 5833.6245\n",
            "epoch = 150, loss_de = 5046.1450\n",
            "epoch = 200, loss_de = 5007.4526\n",
            "epoch = 250, loss_de = 4522.9585\n",
            "epoch = 300, loss_de = 5001.0986\n",
            "epoch = 350, loss_de = 4335.7114\n",
            "epoch = 400, loss_de = 4594.5361\n",
            "epoch = 450, loss_de = 4634.8257\n",
            "0.0032363776117563248\n"
          ]
        },
        {
          "data": {
            "application/vnd.jupyter.widget-view+json": {
              "model_id": "73b6eac30ea64002a74eda72aa41b612",
              "version_major": 2,
              "version_minor": 0
            },
            "text/plain": [
              "  0%|          | 0/500 [00:00<?, ?it/s]"
            ]
          },
          "metadata": {},
          "output_type": "display_data"
        },
        {
          "name": "stdout",
          "output_type": "stream",
          "text": [
            "epoch = 0, loss_de = 61136.4688\n",
            "epoch = 50, loss_de = 9219.8301\n",
            "epoch = 100, loss_de = 6028.1870\n",
            "epoch = 150, loss_de = 5214.4131\n",
            "epoch = 200, loss_de = 5178.3818\n",
            "epoch = 250, loss_de = 4679.8091\n",
            "epoch = 300, loss_de = 5171.6382\n",
            "epoch = 350, loss_de = 4485.0635\n",
            "epoch = 400, loss_de = 4753.0400\n",
            "epoch = 450, loss_de = 4791.4854\n",
            "0.0032863959204405546\n"
          ]
        },
        {
          "data": {
            "application/vnd.jupyter.widget-view+json": {
              "model_id": "e62fa0f4ad7f49b28c122c1da7d9a6f1",
              "version_major": 2,
              "version_minor": 0
            },
            "text/plain": [
              "  0%|          | 0/500 [00:00<?, ?it/s]"
            ]
          },
          "metadata": {},
          "output_type": "display_data"
        },
        {
          "name": "stdout",
          "output_type": "stream",
          "text": [
            "epoch = 0, loss_de = 62586.8281\n",
            "epoch = 50, loss_de = 9487.6836\n",
            "epoch = 100, loss_de = 6207.3901\n",
            "epoch = 150, loss_de = 5378.1821\n",
            "epoch = 200, loss_de = 5344.6714\n",
            "epoch = 250, loss_de = 4833.0605\n",
            "epoch = 300, loss_de = 5338.3989\n",
            "epoch = 350, loss_de = 4631.0942\n",
            "epoch = 400, loss_de = 4908.2969\n",
            "epoch = 450, loss_de = 4944.2817\n",
            "0.003325800644233823\n"
          ]
        },
        {
          "data": {
            "application/vnd.jupyter.widget-view+json": {
              "model_id": "e99d0863abd541e2be072c2bc0761578",
              "version_major": 2,
              "version_minor": 0
            },
            "text/plain": [
              "  0%|          | 0/500 [00:00<?, ?it/s]"
            ]
          },
          "metadata": {},
          "output_type": "display_data"
        },
        {
          "name": "stdout",
          "output_type": "stream",
          "text": [
            "epoch = 0, loss_de = 64054.1953\n",
            "epoch = 50, loss_de = 9639.6445\n",
            "epoch = 100, loss_de = 6352.0889\n",
            "epoch = 150, loss_de = 5510.9751\n",
            "epoch = 200, loss_de = 5478.9453\n",
            "epoch = 250, loss_de = 4955.4150\n",
            "epoch = 300, loss_de = 5473.6504\n",
            "epoch = 350, loss_de = 4748.2842\n",
            "epoch = 400, loss_de = 5033.2197\n",
            "epoch = 450, loss_de = 5068.7886\n",
            "0.0033395171631127596\n"
          ]
        },
        {
          "data": {
            "application/vnd.jupyter.widget-view+json": {
              "model_id": "03da44a8fcac4108b755b0a9d122d93a",
              "version_major": 2,
              "version_minor": 0
            },
            "text/plain": [
              "  0%|          | 0/500 [00:00<?, ?it/s]"
            ]
          },
          "metadata": {},
          "output_type": "display_data"
        },
        {
          "name": "stdout",
          "output_type": "stream",
          "text": [
            "epoch = 0, loss_de = 65538.5625\n",
            "epoch = 50, loss_de = 9901.0400\n",
            "epoch = 100, loss_de = 6551.3521\n",
            "epoch = 150, loss_de = 5684.3887\n",
            "epoch = 200, loss_de = 5655.2676\n",
            "epoch = 250, loss_de = 5117.1313\n",
            "epoch = 300, loss_de = 5649.5850\n",
            "epoch = 350, loss_de = 4902.3145\n",
            "epoch = 400, loss_de = 5196.9756\n",
            "epoch = 450, loss_de = 5230.2944\n",
            "0.0033893215004354715\n"
          ]
        },
        {
          "data": {
            "application/vnd.jupyter.widget-view+json": {
              "model_id": "b045d6631f17459aa432a3890478aa20",
              "version_major": 2,
              "version_minor": 0
            },
            "text/plain": [
              "  0%|          | 0/500 [00:00<?, ?it/s]"
            ]
          },
          "metadata": {},
          "output_type": "display_data"
        },
        {
          "name": "stdout",
          "output_type": "stream",
          "text": [
            "epoch = 0, loss_de = 67039.9297\n",
            "epoch = 50, loss_de = 10191.9336\n",
            "epoch = 100, loss_de = 6795.3184\n",
            "epoch = 150, loss_de = 5898.1499\n",
            "epoch = 200, loss_de = 5871.9526\n",
            "epoch = 250, loss_de = 5317.4707\n",
            "epoch = 300, loss_de = 5864.7954\n",
            "epoch = 350, loss_de = 5092.1626\n",
            "epoch = 400, loss_de = 5398.8257\n",
            "epoch = 450, loss_de = 5426.2778\n",
            "0.003461948363110423\n"
          ]
        },
        {
          "data": {
            "application/vnd.jupyter.widget-view+json": {
              "model_id": "49c0800bf01a46bb96957551d9f830cd",
              "version_major": 2,
              "version_minor": 0
            },
            "text/plain": [
              "  0%|          | 0/500 [00:00<?, ?it/s]"
            ]
          },
          "metadata": {},
          "output_type": "display_data"
        },
        {
          "name": "stdout",
          "output_type": "stream",
          "text": [
            "epoch = 0, loss_de = 68558.2969\n",
            "epoch = 50, loss_de = 10495.3506\n",
            "epoch = 100, loss_de = 7025.9497\n",
            "epoch = 150, loss_de = 6092.9717\n",
            "epoch = 200, loss_de = 6065.9399\n",
            "epoch = 250, loss_de = 5495.3906\n",
            "epoch = 300, loss_de = 6057.2822\n",
            "epoch = 350, loss_de = 5261.3394\n",
            "epoch = 400, loss_de = 5578.1294\n",
            "epoch = 450, loss_de = 5603.3003\n",
            "0.0035328518133610487\n"
          ]
        },
        {
          "data": {
            "application/vnd.jupyter.widget-view+json": {
              "model_id": "85e597b6a9714733a66ee3dee27df8b2",
              "version_major": 2,
              "version_minor": 0
            },
            "text/plain": [
              "  0%|          | 0/500 [00:00<?, ?it/s]"
            ]
          },
          "metadata": {},
          "output_type": "display_data"
        },
        {
          "name": "stdout",
          "output_type": "stream",
          "text": [
            "epoch = 0, loss_de = 70093.6719\n",
            "epoch = 50, loss_de = 11229.9443\n",
            "epoch = 100, loss_de = 7203.8286\n",
            "epoch = 150, loss_de = 6248.6396\n",
            "epoch = 200, loss_de = 6222.3872\n",
            "epoch = 250, loss_de = 5641.6074\n",
            "epoch = 300, loss_de = 6215.1592\n",
            "epoch = 350, loss_de = 5401.7212\n",
            "epoch = 400, loss_de = 5723.1338\n",
            "epoch = 450, loss_de = 5749.3159\n",
            "0.0035563281271606684\n"
          ]
        },
        {
          "data": {
            "application/vnd.jupyter.widget-view+json": {
              "model_id": "93937a5a564546c4a65a0b64e587d386",
              "version_major": 2,
              "version_minor": 0
            },
            "text/plain": [
              "  0%|          | 0/500 [00:00<?, ?it/s]"
            ]
          },
          "metadata": {},
          "output_type": "display_data"
        },
        {
          "name": "stdout",
          "output_type": "stream",
          "text": [
            "epoch = 0, loss_de = 71646.0469\n",
            "epoch = 50, loss_de = 11004.6738\n",
            "epoch = 100, loss_de = 7325.6543\n",
            "epoch = 150, loss_de = 6373.3970\n",
            "epoch = 200, loss_de = 6348.2695\n",
            "epoch = 250, loss_de = 5756.4688\n",
            "epoch = 300, loss_de = 6345.0391\n",
            "epoch = 350, loss_de = 5514.2593\n",
            "epoch = 400, loss_de = 5841.1221\n",
            "epoch = 450, loss_de = 5873.3535\n",
            "0.0035890548024326563\n"
          ]
        },
        {
          "data": {
            "application/vnd.jupyter.widget-view+json": {
              "model_id": "6ae7a814e2454f76af4fa09ecbbb8d03",
              "version_major": 2,
              "version_minor": 0
            },
            "text/plain": [
              "  0%|          | 0/500 [00:00<?, ?it/s]"
            ]
          },
          "metadata": {},
          "output_type": "display_data"
        },
        {
          "name": "stdout",
          "output_type": "stream",
          "text": [
            "epoch = 0, loss_de = 73215.4375\n",
            "epoch = 50, loss_de = 11186.7500\n",
            "epoch = 100, loss_de = 7534.5552\n",
            "epoch = 150, loss_de = 6560.0654\n",
            "epoch = 200, loss_de = 6542.7866\n",
            "epoch = 250, loss_de = 5933.3042\n",
            "epoch = 300, loss_de = 6537.5381\n",
            "epoch = 350, loss_de = 5680.6704\n",
            "epoch = 400, loss_de = 6023.5254\n",
            "epoch = 450, loss_de = 6045.7139\n",
            "0.0036238753236830235\n"
          ]
        },
        {
          "data": {
            "application/vnd.jupyter.widget-view+json": {
              "model_id": "29c0986976ac4ec0bc51a5bcc64ab12a",
              "version_major": 2,
              "version_minor": 0
            },
            "text/plain": [
              "  0%|          | 0/500 [00:00<?, ?it/s]"
            ]
          },
          "metadata": {},
          "output_type": "display_data"
        },
        {
          "name": "stdout",
          "output_type": "stream",
          "text": [
            "epoch = 0, loss_de = 74801.8125\n",
            "epoch = 50, loss_de = 11602.1016\n",
            "epoch = 100, loss_de = 7766.6914\n",
            "epoch = 150, loss_de = 6758.2432\n",
            "epoch = 200, loss_de = 6741.0474\n",
            "epoch = 250, loss_de = 6115.2402\n",
            "epoch = 300, loss_de = 6734.7959\n",
            "epoch = 350, loss_de = 5854.0669\n",
            "epoch = 400, loss_de = 6207.5522\n",
            "epoch = 450, loss_de = 6227.4678\n",
            "0.0036887675523757935\n"
          ]
        },
        {
          "data": {
            "application/vnd.jupyter.widget-view+json": {
              "model_id": "dc30c0d7379e4b7b8108377cf5f1fbe6",
              "version_major": 2,
              "version_minor": 0
            },
            "text/plain": [
              "  0%|          | 0/500 [00:00<?, ?it/s]"
            ]
          },
          "metadata": {},
          "output_type": "display_data"
        },
        {
          "name": "stdout",
          "output_type": "stream",
          "text": [
            "epoch = 0, loss_de = 76405.2031\n",
            "epoch = 50, loss_de = 11569.2207\n",
            "epoch = 100, loss_de = 7884.8110\n",
            "epoch = 150, loss_de = 6882.0513\n",
            "epoch = 200, loss_de = 6872.1895\n",
            "epoch = 250, loss_de = 6235.9106\n",
            "epoch = 300, loss_de = 6869.0337\n",
            "epoch = 350, loss_de = 5970.2554\n",
            "epoch = 400, loss_de = 6331.1626\n",
            "epoch = 450, loss_de = 6350.6992\n",
            "0.0036820792593061924\n"
          ]
        },
        {
          "data": {
            "application/vnd.jupyter.widget-view+json": {
              "model_id": "2edca9f84e2f48a882c953d44483ad98",
              "version_major": 2,
              "version_minor": 0
            },
            "text/plain": [
              "  0%|          | 0/500 [00:00<?, ?it/s]"
            ]
          },
          "metadata": {},
          "output_type": "display_data"
        },
        {
          "name": "stdout",
          "output_type": "stream",
          "text": [
            "epoch = 0, loss_de = 78025.5938\n",
            "epoch = 50, loss_de = 11981.4541\n",
            "epoch = 100, loss_de = 8096.7617\n",
            "epoch = 150, loss_de = 7069.0527\n",
            "epoch = 200, loss_de = 7061.5786\n",
            "epoch = 250, loss_de = 6410.6704\n",
            "epoch = 300, loss_de = 7058.5015\n",
            "epoch = 350, loss_de = 6136.8584\n",
            "epoch = 400, loss_de = 6507.6362\n",
            "epoch = 450, loss_de = 6524.4297\n",
            "0.003730302443727851\n"
          ]
        },
        {
          "data": {
            "application/vnd.jupyter.widget-view+json": {
              "model_id": "caa26dfeb9fb4dfa9798d8fe17de5f1f",
              "version_major": 2,
              "version_minor": 0
            },
            "text/plain": [
              "  0%|          | 0/500 [00:00<?, ?it/s]"
            ]
          },
          "metadata": {},
          "output_type": "display_data"
        },
        {
          "name": "stdout",
          "output_type": "stream",
          "text": [
            "epoch = 0, loss_de = 79662.9922\n",
            "epoch = 50, loss_de = 12464.6602\n",
            "epoch = 100, loss_de = 8295.3330\n",
            "epoch = 150, loss_de = 7246.8120\n",
            "epoch = 200, loss_de = 7241.4575\n",
            "epoch = 250, loss_de = 6575.6787\n",
            "epoch = 300, loss_de = 7238.5498\n",
            "epoch = 350, loss_de = 6294.4390\n",
            "epoch = 400, loss_de = 6675.0024\n",
            "epoch = 450, loss_de = 6690.0547\n",
            "0.003770123701542616\n"
          ]
        },
        {
          "data": {
            "application/vnd.jupyter.widget-view+json": {
              "model_id": "52116fe331264b6ca26abf13a0817cab",
              "version_major": 2,
              "version_minor": 0
            },
            "text/plain": [
              "  0%|          | 0/500 [00:00<?, ?it/s]"
            ]
          },
          "metadata": {},
          "output_type": "display_data"
        },
        {
          "name": "stdout",
          "output_type": "stream",
          "text": [
            "epoch = 0, loss_de = 81317.3750\n",
            "epoch = 50, loss_de = 13584.5840\n",
            "epoch = 100, loss_de = 8635.9824\n",
            "epoch = 150, loss_de = 7522.0166\n",
            "epoch = 200, loss_de = 7511.7183\n",
            "epoch = 250, loss_de = 6824.1191\n",
            "epoch = 300, loss_de = 7503.9590\n",
            "epoch = 350, loss_de = 6529.7998\n",
            "epoch = 400, loss_de = 6924.0806\n",
            "epoch = 450, loss_de = 6934.0840\n",
            "0.003896624781191349\n"
          ]
        },
        {
          "data": {
            "application/vnd.jupyter.widget-view+json": {
              "model_id": "f04f2805f27846a5ba42fbfaa15b8cf0",
              "version_major": 2,
              "version_minor": 0
            },
            "text/plain": [
              "  0%|          | 0/500 [00:00<?, ?it/s]"
            ]
          },
          "metadata": {},
          "output_type": "display_data"
        },
        {
          "name": "stdout",
          "output_type": "stream",
          "text": [
            "epoch = 0, loss_de = 82988.7656\n",
            "epoch = 50, loss_de = 12831.5420\n",
            "epoch = 100, loss_de = 8746.9492\n",
            "epoch = 150, loss_de = 7637.9878\n",
            "epoch = 200, loss_de = 7634.3545\n",
            "epoch = 250, loss_de = 6936.4800\n",
            "epoch = 300, loss_de = 7630.4326\n",
            "epoch = 350, loss_de = 6638.5542\n",
            "epoch = 400, loss_de = 7039.8169\n",
            "epoch = 450, loss_de = 7050.9058\n",
            "0.0038791641127318144\n"
          ]
        },
        {
          "data": {
            "application/vnd.jupyter.widget-view+json": {
              "model_id": "a252e8b2f988459999c83eca9d223e56",
              "version_major": 2,
              "version_minor": 0
            },
            "text/plain": [
              "  0%|          | 0/500 [00:00<?, ?it/s]"
            ]
          },
          "metadata": {},
          "output_type": "display_data"
        },
        {
          "name": "stdout",
          "output_type": "stream",
          "text": [
            "epoch = 0, loss_de = 84677.1719\n",
            "epoch = 50, loss_de = 13225.3867\n",
            "epoch = 100, loss_de = 8915.4717\n",
            "epoch = 150, loss_de = 7789.8081\n",
            "epoch = 200, loss_de = 7787.1729\n",
            "epoch = 250, loss_de = 7075.0825\n",
            "epoch = 300, loss_de = 7784.3794\n",
            "epoch = 350, loss_de = 6771.9810\n",
            "epoch = 400, loss_de = 7181.3906\n",
            "epoch = 450, loss_de = 7194.5591\n",
            "0.0039014576468616724\n"
          ]
        },
        {
          "data": {
            "application/vnd.jupyter.widget-view+json": {
              "model_id": "1b78893dd11b47e1b0352c8cb87b2afd",
              "version_major": 2,
              "version_minor": 0
            },
            "text/plain": [
              "  0%|          | 0/500 [00:00<?, ?it/s]"
            ]
          },
          "metadata": {},
          "output_type": "display_data"
        },
        {
          "name": "stdout",
          "output_type": "stream",
          "text": [
            "epoch = 0, loss_de = 86382.5703\n",
            "epoch = 50, loss_de = 14017.5088\n",
            "epoch = 100, loss_de = 9121.2334\n",
            "epoch = 150, loss_de = 7973.6416\n",
            "epoch = 200, loss_de = 7973.9624\n",
            "epoch = 250, loss_de = 7246.7432\n",
            "epoch = 300, loss_de = 7971.6519\n",
            "epoch = 350, loss_de = 6936.0015\n",
            "epoch = 400, loss_de = 7355.4385\n",
            "epoch = 450, loss_de = 7366.8535\n",
            "0.003940636292099953\n"
          ]
        },
        {
          "data": {
            "application/vnd.jupyter.widget-view+json": {
              "model_id": "0f44aefab9934724b543b11dc975d1ef",
              "version_major": 2,
              "version_minor": 0
            },
            "text/plain": [
              "  0%|          | 0/500 [00:00<?, ?it/s]"
            ]
          },
          "metadata": {},
          "output_type": "display_data"
        },
        {
          "name": "stdout",
          "output_type": "stream",
          "text": [
            "epoch = 0, loss_de = 88104.9844\n",
            "epoch = 50, loss_de = 14391.6963\n",
            "epoch = 100, loss_de = 9330.3467\n",
            "epoch = 150, loss_de = 8158.1104\n",
            "epoch = 200, loss_de = 8158.2290\n",
            "epoch = 250, loss_de = 7415.4263\n",
            "epoch = 300, loss_de = 8156.2646\n",
            "epoch = 350, loss_de = 7097.5850\n",
            "epoch = 400, loss_de = 7526.6777\n",
            "epoch = 450, loss_de = 7537.7710\n",
            "0.003982009366154671\n"
          ]
        },
        {
          "data": {
            "application/vnd.jupyter.widget-view+json": {
              "model_id": "3197ee109e7c42c383a25370b51d69c0",
              "version_major": 2,
              "version_minor": 0
            },
            "text/plain": [
              "  0%|          | 0/500 [00:00<?, ?it/s]"
            ]
          },
          "metadata": {},
          "output_type": "display_data"
        },
        {
          "name": "stdout",
          "output_type": "stream",
          "text": [
            "epoch = 0, loss_de = 89844.3906\n",
            "epoch = 50, loss_de = 13990.4717\n",
            "epoch = 100, loss_de = 9486.6064\n",
            "epoch = 150, loss_de = 8306.0557\n",
            "epoch = 200, loss_de = 8311.7812\n",
            "epoch = 250, loss_de = 7556.3521\n",
            "epoch = 300, loss_de = 8312.2939\n",
            "epoch = 350, loss_de = 7232.9985\n",
            "epoch = 400, loss_de = 7670.5366\n",
            "epoch = 450, loss_de = 7681.5674\n",
            "0.0039882962591946125\n"
          ]
        },
        {
          "data": {
            "application/vnd.jupyter.widget-view+json": {
              "model_id": "5281fc4adc8a46b5b80a1d7ca7fd1247",
              "version_major": 2,
              "version_minor": 0
            },
            "text/plain": [
              "  0%|          | 0/500 [00:00<?, ?it/s]"
            ]
          },
          "metadata": {},
          "output_type": "display_data"
        },
        {
          "name": "stdout",
          "output_type": "stream",
          "text": [
            "epoch = 0, loss_de = 91600.7969\n",
            "epoch = 50, loss_de = 14352.4717\n",
            "epoch = 100, loss_de = 9728.5361\n",
            "epoch = 150, loss_de = 8517.7744\n",
            "epoch = 200, loss_de = 8525.6689\n",
            "epoch = 250, loss_de = 7753.9072\n",
            "epoch = 300, loss_de = 8525.8408\n",
            "epoch = 350, loss_de = 7420.9736\n",
            "epoch = 400, loss_de = 7869.8657\n",
            "epoch = 450, loss_de = 7876.7402\n",
            "0.004040122497826815\n"
          ]
        },
        {
          "data": {
            "application/vnd.jupyter.widget-view+json": {
              "model_id": "f8e36eee8f714cda811e74d7fa010746",
              "version_major": 2,
              "version_minor": 0
            },
            "text/plain": [
              "  0%|          | 0/500 [00:00<?, ?it/s]"
            ]
          },
          "metadata": {},
          "output_type": "display_data"
        },
        {
          "name": "stdout",
          "output_type": "stream",
          "text": [
            "epoch = 0, loss_de = 93374.2109\n",
            "epoch = 50, loss_de = 14992.5244\n",
            "epoch = 100, loss_de = 9967.8467\n",
            "epoch = 150, loss_de = 8726.5156\n",
            "epoch = 200, loss_de = 8736.0723\n",
            "epoch = 250, loss_de = 7947.5938\n",
            "epoch = 300, loss_de = 8735.7803\n",
            "epoch = 350, loss_de = 7605.5176\n",
            "epoch = 400, loss_de = 8065.4214\n",
            "epoch = 450, loss_de = 8069.3657\n",
            "0.0040916805155575275\n"
          ]
        },
        {
          "data": {
            "application/vnd.jupyter.widget-view+json": {
              "model_id": "f3b7a6b0b8a34f139cb4ed95ed1d9213",
              "version_major": 2,
              "version_minor": 0
            },
            "text/plain": [
              "  0%|          | 0/500 [00:00<?, ?it/s]"
            ]
          },
          "metadata": {},
          "output_type": "display_data"
        },
        {
          "name": "stdout",
          "output_type": "stream",
          "text": [
            "epoch = 0, loss_de = 95164.6406\n",
            "epoch = 50, loss_de = 15389.9502\n",
            "epoch = 100, loss_de = 10184.5234\n",
            "epoch = 150, loss_de = 8924.9463\n",
            "epoch = 200, loss_de = 8939.9268\n",
            "epoch = 250, loss_de = 8136.0576\n",
            "epoch = 300, loss_de = 8940.3477\n",
            "epoch = 350, loss_de = 7785.2183\n",
            "epoch = 400, loss_de = 8255.9287\n",
            "epoch = 450, loss_de = 8256.2305\n",
            "0.004130799788981676\n"
          ]
        },
        {
          "data": {
            "application/vnd.jupyter.widget-view+json": {
              "model_id": "d2bbd429e789418a87fec95aadb9d8aa",
              "version_major": 2,
              "version_minor": 0
            },
            "text/plain": [
              "  0%|          | 0/500 [00:00<?, ?it/s]"
            ]
          },
          "metadata": {},
          "output_type": "display_data"
        },
        {
          "name": "stdout",
          "output_type": "stream",
          "text": [
            "epoch = 0, loss_de = 96972.0547\n",
            "epoch = 50, loss_de = 15539.8418\n",
            "epoch = 100, loss_de = 10398.3389\n",
            "epoch = 150, loss_de = 9117.6094\n",
            "epoch = 200, loss_de = 9136.1367\n",
            "epoch = 250, loss_de = 8316.9531\n",
            "epoch = 300, loss_de = 9137.5254\n",
            "epoch = 350, loss_de = 7958.0488\n",
            "epoch = 400, loss_de = 8439.1611\n",
            "epoch = 450, loss_de = 8437.0996\n",
            "0.004165789112448692\n"
          ]
        },
        {
          "data": {
            "application/vnd.jupyter.widget-view+json": {
              "model_id": "b2164f17d6d24148865c3f8fd550bf16",
              "version_major": 2,
              "version_minor": 0
            },
            "text/plain": [
              "  0%|          | 0/500 [00:00<?, ?it/s]"
            ]
          },
          "metadata": {},
          "output_type": "display_data"
        },
        {
          "name": "stdout",
          "output_type": "stream",
          "text": [
            "epoch = 0, loss_de = 98796.4766\n",
            "epoch = 50, loss_de = 15644.3027\n",
            "epoch = 100, loss_de = 10607.2881\n",
            "epoch = 150, loss_de = 9305.6523\n",
            "epoch = 200, loss_de = 9327.5791\n",
            "epoch = 250, loss_de = 8493.0664\n",
            "epoch = 300, loss_de = 9330.0957\n",
            "epoch = 350, loss_de = 8126.5498\n",
            "epoch = 400, loss_de = 8617.8340\n",
            "epoch = 450, loss_de = 8614.2627\n",
            "0.004197320900857449\n"
          ]
        },
        {
          "data": {
            "application/vnd.jupyter.widget-view+json": {
              "model_id": "b76197323c8f45779372f658574480ae",
              "version_major": 2,
              "version_minor": 0
            },
            "text/plain": [
              "  0%|          | 0/500 [00:00<?, ?it/s]"
            ]
          },
          "metadata": {},
          "output_type": "display_data"
        },
        {
          "name": "stdout",
          "output_type": "stream",
          "text": [
            "epoch = 0, loss_de = 100637.9062\n",
            "epoch = 50, loss_de = 15896.2207\n",
            "epoch = 100, loss_de = 10794.1709\n",
            "epoch = 150, loss_de = 9479.2305\n",
            "epoch = 200, loss_de = 9504.3301\n",
            "epoch = 250, loss_de = 8654.8467\n",
            "epoch = 300, loss_de = 9508.3779\n",
            "epoch = 350, loss_de = 8281.7803\n",
            "epoch = 400, loss_de = 8782.6221\n",
            "epoch = 450, loss_de = 8779.0469\n",
            "0.004217884503304958\n"
          ]
        },
        {
          "data": {
            "application/vnd.jupyter.widget-view+json": {
              "model_id": "1a124dee219d4eae8f2a91f9b090877c",
              "version_major": 2,
              "version_minor": 0
            },
            "text/plain": [
              "  0%|          | 0/500 [00:00<?, ?it/s]"
            ]
          },
          "metadata": {},
          "output_type": "display_data"
        },
        {
          "name": "stdout",
          "output_type": "stream",
          "text": [
            "epoch = 0, loss_de = 102496.3359\n",
            "epoch = 50, loss_de = 16258.4561\n",
            "epoch = 100, loss_de = 10998.3906\n",
            "epoch = 150, loss_de = 9664.3477\n",
            "epoch = 200, loss_de = 9692.7012\n",
            "epoch = 250, loss_de = 8827.8418\n",
            "epoch = 300, loss_de = 9698.1045\n",
            "epoch = 350, loss_de = 8447.5391\n",
            "epoch = 400, loss_de = 8958.4316\n",
            "epoch = 450, loss_de = 8953.9893\n",
            "0.004245288670063019\n"
          ]
        },
        {
          "data": {
            "application/vnd.jupyter.widget-view+json": {
              "model_id": "e317060039064ddb9136d5cd44127cbe",
              "version_major": 2,
              "version_minor": 0
            },
            "text/plain": [
              "  0%|          | 0/500 [00:00<?, ?it/s]"
            ]
          },
          "metadata": {},
          "output_type": "display_data"
        },
        {
          "name": "stdout",
          "output_type": "stream",
          "text": [
            "epoch = 0, loss_de = 104371.7734\n",
            "epoch = 50, loss_de = 16454.9688\n",
            "epoch = 100, loss_de = 11199.3711\n",
            "epoch = 150, loss_de = 9845.2158\n",
            "epoch = 200, loss_de = 9876.9248\n",
            "epoch = 250, loss_de = 8996.5352\n",
            "epoch = 300, loss_de = 9883.7041\n",
            "epoch = 350, loss_de = 8609.2900\n",
            "epoch = 400, loss_de = 9130.1396\n",
            "epoch = 450, loss_de = 9125.4854\n",
            "0.0042688013054430485\n"
          ]
        },
        {
          "data": {
            "application/vnd.jupyter.widget-view+json": {
              "model_id": "0c23d11f75af4c9a99a928c8679550f0",
              "version_major": 2,
              "version_minor": 0
            },
            "text/plain": [
              "  0%|          | 0/500 [00:00<?, ?it/s]"
            ]
          },
          "metadata": {},
          "output_type": "display_data"
        },
        {
          "name": "stdout",
          "output_type": "stream",
          "text": [
            "epoch = 0, loss_de = 106264.2031\n",
            "epoch = 50, loss_de = 16576.3965\n",
            "epoch = 100, loss_de = 11402.9258\n",
            "epoch = 150, loss_de = 10024.8809\n",
            "epoch = 200, loss_de = 10057.4766\n",
            "epoch = 250, loss_de = 9160.9580\n",
            "epoch = 300, loss_de = 10065.3027\n",
            "epoch = 350, loss_de = 8767.0869\n",
            "epoch = 400, loss_de = 9297.7715\n",
            "epoch = 450, loss_de = 9294.1250\n",
            "0.004291169811040163\n"
          ]
        },
        {
          "data": {
            "application/vnd.jupyter.widget-view+json": {
              "model_id": "347b001b8d3b4b70bda6d4e3216d4350",
              "version_major": 2,
              "version_minor": 0
            },
            "text/plain": [
              "  0%|          | 0/500 [00:00<?, ?it/s]"
            ]
          },
          "metadata": {},
          "output_type": "display_data"
        },
        {
          "name": "stdout",
          "output_type": "stream",
          "text": [
            "epoch = 0, loss_de = 108173.6484\n",
            "epoch = 50, loss_de = 17276.7031\n",
            "epoch = 100, loss_de = 11641.1611\n",
            "epoch = 150, loss_de = 10232.9424\n",
            "epoch = 200, loss_de = 10267.2451\n",
            "epoch = 250, loss_de = 9353.1553\n",
            "epoch = 300, loss_de = 10275.0156\n",
            "epoch = 350, loss_de = 8950.7852\n",
            "epoch = 400, loss_de = 9492.5322\n",
            "epoch = 450, loss_de = 9487.5684\n",
            "0.004332004580646753\n"
          ]
        },
        {
          "data": {
            "application/vnd.jupyter.widget-view+json": {
              "model_id": "ab594e90575941799f3788e36a38058e",
              "version_major": 2,
              "version_minor": 0
            },
            "text/plain": [
              "  0%|          | 0/500 [00:00<?, ?it/s]"
            ]
          },
          "metadata": {},
          "output_type": "display_data"
        },
        {
          "name": "stdout",
          "output_type": "stream",
          "text": [
            "epoch = 0, loss_de = 110100.0938\n",
            "epoch = 50, loss_de = 18218.1895\n",
            "epoch = 100, loss_de = 11889.2051\n",
            "epoch = 150, loss_de = 10458.2988\n",
            "epoch = 200, loss_de = 10496.3027\n",
            "epoch = 250, loss_de = 9564.9004\n",
            "epoch = 300, loss_de = 10504.2188\n",
            "epoch = 350, loss_de = 9152.4561\n",
            "epoch = 400, loss_de = 9706.2266\n",
            "epoch = 450, loss_de = 9697.0400\n",
            "0.004380137659609318\n"
          ]
        },
        {
          "data": {
            "application/vnd.jupyter.widget-view+json": {
              "model_id": "a68622e1f8dc4242a506e1a2b5ff12de",
              "version_major": 2,
              "version_minor": 0
            },
            "text/plain": [
              "  0%|          | 0/500 [00:00<?, ?it/s]"
            ]
          },
          "metadata": {},
          "output_type": "display_data"
        },
        {
          "name": "stdout",
          "output_type": "stream",
          "text": [
            "epoch = 0, loss_de = 112043.5312\n",
            "epoch = 50, loss_de = 18643.9570\n",
            "epoch = 100, loss_de = 12149.5557\n",
            "epoch = 150, loss_de = 10687.1270\n",
            "epoch = 200, loss_de = 10727.7900\n",
            "epoch = 250, loss_de = 9778.3682\n",
            "epoch = 300, loss_de = 10735.4443\n",
            "epoch = 350, loss_de = 9355.8965\n",
            "epoch = 400, loss_de = 9921.6807\n",
            "epoch = 450, loss_de = 9908.9619\n",
            "0.004430749453604221\n"
          ]
        },
        {
          "data": {
            "application/vnd.jupyter.widget-view+json": {
              "model_id": "b6058049917d470f8eaccc7807d0da3a",
              "version_major": 2,
              "version_minor": 0
            },
            "text/plain": [
              "  0%|          | 0/500 [00:00<?, ?it/s]"
            ]
          },
          "metadata": {},
          "output_type": "display_data"
        },
        {
          "name": "stdout",
          "output_type": "stream",
          "text": [
            "epoch = 0, loss_de = 114003.9688\n",
            "epoch = 50, loss_de = 19002.8867\n",
            "epoch = 100, loss_de = 12376.7783\n",
            "epoch = 150, loss_de = 10891.5488\n",
            "epoch = 200, loss_de = 10934.8691\n",
            "epoch = 250, loss_de = 9968.5469\n",
            "epoch = 300, loss_de = 10943.3369\n",
            "epoch = 350, loss_de = 9537.7920\n",
            "epoch = 400, loss_de = 10114.5234\n",
            "epoch = 450, loss_de = 10100.4648\n",
            "0.004463431425392628\n"
          ]
        },
        {
          "data": {
            "application/vnd.jupyter.widget-view+json": {
              "model_id": "788da846bb4b425b8139e286a04caa17",
              "version_major": 2,
              "version_minor": 0
            },
            "text/plain": [
              "  0%|          | 0/500 [00:00<?, ?it/s]"
            ]
          },
          "metadata": {},
          "output_type": "display_data"
        },
        {
          "name": "stdout",
          "output_type": "stream",
          "text": [
            "epoch = 0, loss_de = 115981.4297\n",
            "epoch = 50, loss_de = 19388.3379\n",
            "epoch = 100, loss_de = 12629.4580\n",
            "epoch = 150, loss_de = 11113.3975\n",
            "epoch = 200, loss_de = 11159.3184\n",
            "epoch = 250, loss_de = 10175.1299\n",
            "epoch = 300, loss_de = 11167.9053\n",
            "epoch = 350, loss_de = 9734.9355\n",
            "epoch = 400, loss_de = 10323.3828\n",
            "epoch = 450, loss_de = 10306.7334\n",
            "0.004506704863160849\n"
          ]
        },
        {
          "data": {
            "application/vnd.jupyter.widget-view+json": {
              "model_id": "eb0e3c9957884987930d5a2f466fef0e",
              "version_major": 2,
              "version_minor": 0
            },
            "text/plain": [
              "  0%|          | 0/500 [00:00<?, ?it/s]"
            ]
          },
          "metadata": {},
          "output_type": "display_data"
        },
        {
          "name": "stdout",
          "output_type": "stream",
          "text": [
            "epoch = 0, loss_de = 117975.8594\n",
            "epoch = 50, loss_de = 19716.9766\n",
            "epoch = 100, loss_de = 12885.2686\n",
            "epoch = 150, loss_de = 11340.1504\n",
            "epoch = 200, loss_de = 11389.5234\n",
            "epoch = 250, loss_de = 10387.3027\n",
            "epoch = 300, loss_de = 11398.2549\n",
            "epoch = 350, loss_de = 9937.2959\n",
            "epoch = 400, loss_de = 10537.7764\n",
            "epoch = 450, loss_de = 10517.9697\n",
            "0.004551601130515337\n"
          ]
        },
        {
          "data": {
            "application/vnd.jupyter.widget-view+json": {
              "model_id": "390ec759f32e4f72a962ce6c5546243e",
              "version_major": 2,
              "version_minor": 0
            },
            "text/plain": [
              "  0%|          | 0/500 [00:00<?, ?it/s]"
            ]
          },
          "metadata": {},
          "output_type": "display_data"
        },
        {
          "name": "stdout",
          "output_type": "stream",
          "text": [
            "epoch = 0, loss_de = 119987.3281\n",
            "epoch = 50, loss_de = 20073.0410\n",
            "epoch = 100, loss_de = 13128.7490\n",
            "epoch = 150, loss_de = 11558.0186\n",
            "epoch = 200, loss_de = 11610.5586\n",
            "epoch = 250, loss_de = 10590.6836\n",
            "epoch = 300, loss_de = 11619.9307\n",
            "epoch = 350, loss_de = 10131.6348\n",
            "epoch = 400, loss_de = 10743.7422\n",
            "epoch = 450, loss_de = 10721.8008\n",
            "0.004589490592479706\n"
          ]
        },
        {
          "data": {
            "application/vnd.jupyter.widget-view+json": {
              "model_id": "ce1545700dae44958770c08229feac99",
              "version_major": 2,
              "version_minor": 0
            },
            "text/plain": [
              "  0%|          | 0/500 [00:00<?, ?it/s]"
            ]
          },
          "metadata": {},
          "output_type": "display_data"
        },
        {
          "name": "stdout",
          "output_type": "stream",
          "text": [
            "epoch = 0, loss_de = 122015.7969\n",
            "epoch = 50, loss_de = 20426.5508\n",
            "epoch = 100, loss_de = 13363.7949\n",
            "epoch = 150, loss_de = 11769.4287\n",
            "epoch = 200, loss_de = 11825.2363\n",
            "epoch = 250, loss_de = 10787.9580\n",
            "epoch = 300, loss_de = 11835.6133\n",
            "epoch = 350, loss_de = 10320.3711\n",
            "epoch = 400, loss_de = 10943.8701\n",
            "epoch = 450, loss_de = 10920.4336\n",
            "0.0046216524206101894\n"
          ]
        }
      ],
      "source": [
        "DATA11=[]\n",
        "DATA12=[]\n",
        "RATIO1=[]\n",
        "\n",
        "for c in C:\n",
        "    torch.manual_seed(78)\n",
        "    model = MLP(1, 50, 50, 1)\n",
        "    batch_size = 10000\n",
        "    n_epochs = 500\n",
        "    print_interval = n_epochs // 10\n",
        "    learning_rate = 0.1\n",
        "    optimizer = torch.optim.Adam(model.parameters(), lr=learning_rate)\n",
        "    scheduler = torch.optim.lr_scheduler.LambdaLR(optimizer=optimizer,\n",
        "                                            lr_lambda=lambda epoch: 0.98 ** epoch,\n",
        "                                            last_epoch=-1,\n",
        "                                            verbose=False)\n",
        "\n",
        "    for epoch in tqdm(range(n_epochs)):\n",
        "        optimizer.zero_grad()\n",
        "\n",
        "        # 무작위 t 생성 후 y 계산\n",
        "        t = torch.empty(batch_size, 1).uniform_(*domain).requires_grad_()\n",
        "        y = t*(1-t)*model(t)+t\n",
        "        a = np.array([[1,1],[np.exp(1+(1+c)**0.5),np.exp(1-(1+c)**0.5)]])\n",
        "        b = np.array([0,1])\n",
        "        x = np.linalg.solve(a, b)\n",
        "        C_1 = x[0]\n",
        "        C_2 = x[1]\n",
        "        y_e = C_1*torch.exp((1+(1+c)**0.5)*t)+C_2*torch.exp((1-(1+c)**0.5)*t)\n",
        "        y_t = grad(y, t)\n",
        "        y_tt = grad(y_t,t)\n",
        "\n",
        "        # Loss\n",
        "        loss_de = F.mse_loss(eps*y_tt-2*y_t-c*y, torch.zeros_like(y_t))\n",
        "        loss = loss_de\n",
        "        realloss=F.mse_loss(y-y_e, torch.zeros_like(y))\n",
        "        # Backprop\n",
        "        loss.backward()\n",
        "        optimizer.step()\n",
        "        scheduler.step()\n",
        "        if epoch % print_interval == 0:\n",
        "            print(f\"{epoch = }, loss_de = {loss_de.item():.4f}\")\n",
        "        if epoch==n_epochs-1:\n",
        "            print(realloss.item())\n",
        "            DATA11.append(realloss.item())\n",
        "            DATA12.append(loss.item())\n",
        "            RATIO1.append(realloss.item()/loss.item())\n"
      ]
    },
    {
      "cell_type": "markdown",
      "metadata": {
        "id": "M4JgLqv1LSeb"
      },
      "source": [
        "$$\n",
        "\\epsilon=0.5\n",
        "$$\n"
      ]
    },
    {
      "cell_type": "code",
      "execution_count": null,
      "metadata": {
        "colab": {
          "background_save": true
        },
        "id": "Piqz1TjHJ-xE"
      },
      "outputs": [],
      "source": [
        "eps=0.5"
      ]
    },
    {
      "cell_type": "code",
      "execution_count": null,
      "metadata": {
        "colab": {
          "background_save": true,
          "referenced_widgets": [
            "4ae88653882b43ffaf95b5af60c4ae09",
            "f2fd65cc15474024942762d7f4ffcc49",
            "73a1c683f88c40d1ba08a54eb1f8ec08",
            "5815813496844c73a6d218175a6a2c98",
            "d644ec1b3bca4072b57d3dff6e01fc8c",
            "b7da35d622eb48e5a70b6f70b895ace2",
            "a7625101eb20453188c4e599c8d1b58a",
            "4f9f4d9af98e4e58b3776c9b9be9407e",
            "c10593f4b05d4da490fe61014f60d8e0",
            "6fd16c94e5494456bcbd254fcccb32a1",
            "c1c5b27d21024775b72de3e5512e7228",
            "367a1fdd95424bd2b4dfed48a205e27d",
            "5f4879aa591a469f99828fab5d8d3023",
            "2f6a4a919dd141d3ae90f2bd6a68aa42",
            "f15c39900362429a8cb2e79cc41bd15c",
            "00f7a2a174044234b91c747333fff8e3",
            "b2c7fc0cc2164a388f856a0fd45a89ff",
            "886442c05a8041139c520fd833ca8a2c",
            "18f1dde2c41446e6b6dddeb3473946c4",
            "9cebc2c7325e45ac97d21006748700e4",
            "b9ee2a992eb740759a90cb34b585b6b5",
            "ba601fb5f733404db9684413357f2ce0",
            "ece6fd768a28423da592a6e5efa941ad",
            "f1ddbb532a3f480e9e4e3ad6e0624241",
            "9471048872b64feb94201066f4b3765f",
            "9d5d4fb582674ccdb8f97861d5f89112",
            "05934f478e594cbc82bc15b80899ac80",
            "b3a137f245184698b3dbb4c122b3a551",
            "e000e04c2b2d4805a3e520e22605b33e",
            "c31e80fff156430bb09d031ff4d160df",
            "09111c9f591343a6a3a69409917e0d23",
            "7e0f5a5440364633b144dfc5468a8308",
            "c8dcaeb9919f4600bf69e396d9205b57",
            "61eee238d95e40698d2b4bedbbd79dcc",
            "8317168d52ab46e9ba44f362df572441",
            "4bbf00851768481a8102c8a9ec054d0e",
            "c31c3acee94c4af19e4cc9857f3cf7c1",
            "c937f442cd134e67ac2dcd420343995f",
            "6e6b95c044964e11aa25ca9f498e7118",
            "a027969740e648c1bd32976f61717666",
            "63b8ca9fbc3c417c816999f8da64f703",
            "1149892be9e349fc85b643cdd25a5e8c",
            "54c7796fecef487d93449f746e1b3fe2",
            "2b81572539e54df3b26e6daacb5b08f3",
            "01fb2be1eaf64541af2c2cd7e9ed9f10",
            "d44759f8e8c243a380d0de252bb2d022",
            "643d03e951264046a6a5f63f5b93a184",
            "ac8321438aea424380d41eb68e005f77",
            "a67ff4b28cbb41509c2d91898517b20c",
            "8c9a9dfe3d164283acedea7d29d1f03f",
            "fe2d2aa446a6453e82217ee5c715e912",
            "d0bb7924d822410ebf1fac2380b50f37",
            "514ad12b798243ab8b43fae645eae131",
            "95a8f7c2a54d489eb83cdba8cff4d826",
            "c111f38520f14dd09555217e3c5fbd2f",
            "d49989901aa5467183781f370c917eaa",
            "c02164790acd482da20f240e55885f54",
            "1b49e309f28d4f0f9e408a40053dbfe6",
            "87b5a75ea83e47c68b14964ba24b0ac0",
            "bf32b6ebe4bf466f92e2a58a8af82882",
            "fdd12521ba5847b381be4fb920edff22",
            "b5ea9a8497ab482ab83f849683a3336f",
            "3ee6d6c678934eceae8d5158e3753dd3",
            "630bcd225bdf4b74b080f58c0d361dc9",
            "7d50617a70f0406c88ec43cea82b410f",
            "52bd0c8e8a8f4841ab9c78218f4bdd48",
            "f99481f29d2142159f0b204faebd9480",
            "9dd8cb878b52443cafea2470493f3b86",
            "711289b458c443a1aab51b35b3f755f0",
            "7c290e431423442c8b1fa548a676c775",
            "1848bf57dc1c4b67a3aa1a7b27335de4",
            "cceb445af626425d9a1012de39f19cca",
            "04d6b8a429e74bf08cf0f216c05bfb49",
            "156f5c8e5bed457a9ac0c58ef1f9ee3a",
            "a105274bbe4b45c296b763d8117ee4d4",
            "463c97778c1e44c095435e5564809648",
            "e2b8585db8cf4ef8864e35c251ee05c4",
            "6df4af150b7545bfb4760aec54f0357c",
            "f8e96d9cad4e403cb47b51589da1e6de",
            "8b528520a15f4877bf4ec590366adce8",
            "3a6dc0cff0d2489dafbfda27798ebb3a",
            "8f8853af0d7442a0ba2349369eeb23d4",
            "2bae3b6dd117482c886bbee52389c46f",
            "44958ec77a2f4bdbb40ff45d9c7c62f9",
            "1e0f964088cf48118160e138f594b25b",
            "a507466a6e82417e8e5b073792784764",
            "8f08ad6dc6274afbbaf8b85c2f47cf9b",
            "5f63610f5013403fb76ac61ae69c1975",
            "20c678ed71ee48a3ba96a128ea6632fe",
            "946a3617a0b245478b73d5e69c0d8b0b",
            "d221d2af4990415fb902936b9a9c26da",
            "858b0444ae56421f98f5c705448cfa58",
            "7fea473ad5554d55b1cfdb68efbfd6ee",
            "618596e28eb644d3a5549f8615687730",
            "3e2266f1e104492f9c094d83cd113b51",
            "13c24bf332cc4a99913283ff5dd7af24",
            "5a6e584c890d48c39d55a997c0b1bae1",
            "1febad1b9f8e482983a2f1353d296acc",
            "79ea43d4d58f442b930aac924347e8ae",
            "0a877c1c32354fada6a39c57c0269500",
            "70c89d3cd7ed49a68207bab0ce23824b",
            "548eb1cf7b3b4ab5994e9fa2e8f97c08",
            "9fe38c2aad774d8d823975fa7b0e9616",
            "8914839be63f4747b7364d0bd9fca740",
            "407957f8ce1a47e7aa22b516222f078a",
            "3c066a9023bb4b7ab65fac44815acbca",
            "74224d6d296e4af496c677f922865e9f",
            "97da69a0f07a4ee28eef345dfd8666a2",
            "645ab4f6c06d4429ba2d63092ac7bbe9",
            "b11520d843074285ac7d8695316e93e9",
            "786a2001e5ce41639d6a8c29f230d931",
            "e0af93703b9c4d6c9a9244ecc32642c8",
            "29ad52959eff454ab3b101936b63ce5e",
            "98afa4b927414467901fc2400cdcd721",
            "2a6fee4d298349bf9410e226e86d68e7",
            "d25daea39cbe4f2ab685fe82a402febf",
            "2f85f410b35c4d64804ec2d532b17694",
            "b5e135306de24746a80dc65583a7e2d7",
            "63266983e536489bbdd946d29bd57bc5",
            "bd62f921e9a74b1795c544d738fe3616"
          ]
        },
        "id": "4LqysF_YLWuw",
        "outputId": "eb5da417-1fc5-48b0-cc69-4418dba331f2"
      },
      "outputs": [
        {
          "data": {
            "application/vnd.jupyter.widget-view+json": {
              "model_id": "4ae88653882b43ffaf95b5af60c4ae09",
              "version_major": 2,
              "version_minor": 0
            },
            "text/plain": [
              "  0%|          | 0/500 [00:00<?, ?it/s]"
            ]
          },
          "metadata": {},
          "output_type": "display_data"
        },
        {
          "name": "stdout",
          "output_type": "stream",
          "text": [
            "epoch = 0, loss_de = 6.4074\n",
            "epoch = 50, loss_de = 0.1069\n",
            "epoch = 100, loss_de = 0.0007\n",
            "epoch = 150, loss_de = 0.0004\n",
            "epoch = 200, loss_de = 0.0003\n",
            "epoch = 250, loss_de = 0.0003\n",
            "epoch = 300, loss_de = 0.0003\n",
            "epoch = 350, loss_de = 0.0003\n",
            "epoch = 400, loss_de = 0.0003\n",
            "epoch = 450, loss_de = 0.0003\n",
            "1.7841260913087353e-08\n"
          ]
        },
        {
          "data": {
            "application/vnd.jupyter.widget-view+json": {
              "model_id": "f2fd65cc15474024942762d7f4ffcc49",
              "version_major": 2,
              "version_minor": 0
            },
            "text/plain": [
              "  0%|          | 0/500 [00:00<?, ?it/s]"
            ]
          },
          "metadata": {},
          "output_type": "display_data"
        },
        {
          "name": "stdout",
          "output_type": "stream",
          "text": [
            "epoch = 0, loss_de = 28.4543\n",
            "epoch = 50, loss_de = 0.0505\n",
            "epoch = 100, loss_de = 0.0004\n",
            "epoch = 150, loss_de = 0.0003\n",
            "epoch = 200, loss_de = 0.0003\n",
            "epoch = 250, loss_de = 0.0002\n",
            "epoch = 300, loss_de = 0.0003\n",
            "epoch = 350, loss_de = 0.0003\n",
            "epoch = 400, loss_de = 0.0003\n",
            "epoch = 450, loss_de = 0.0003\n",
            "2.644859442568759e-09\n"
          ]
        },
        {
          "data": {
            "application/vnd.jupyter.widget-view+json": {
              "model_id": "73a1c683f88c40d1ba08a54eb1f8ec08",
              "version_major": 2,
              "version_minor": 0
            },
            "text/plain": [
              "  0%|          | 0/500 [00:00<?, ?it/s]"
            ]
          },
          "metadata": {},
          "output_type": "display_data"
        },
        {
          "name": "stdout",
          "output_type": "stream",
          "text": [
            "epoch = 0, loss_de = 67.5041\n",
            "epoch = 50, loss_de = 0.1565\n",
            "epoch = 100, loss_de = 0.0013\n",
            "epoch = 150, loss_de = 0.0006\n",
            "epoch = 200, loss_de = 0.0006\n",
            "epoch = 250, loss_de = 0.0005\n",
            "epoch = 300, loss_de = 0.0006\n",
            "epoch = 350, loss_de = 0.0005\n",
            "epoch = 400, loss_de = 0.0005\n",
            "epoch = 450, loss_de = 0.0005\n",
            "2.115623898291119e-09\n"
          ]
        },
        {
          "data": {
            "application/vnd.jupyter.widget-view+json": {
              "model_id": "5815813496844c73a6d218175a6a2c98",
              "version_major": 2,
              "version_minor": 0
            },
            "text/plain": [
              "  0%|          | 0/500 [00:00<?, ?it/s]"
            ]
          },
          "metadata": {},
          "output_type": "display_data"
        },
        {
          "name": "stdout",
          "output_type": "stream",
          "text": [
            "epoch = 0, loss_de = 123.5567\n",
            "epoch = 50, loss_de = 0.7811\n",
            "epoch = 100, loss_de = 0.0490\n",
            "epoch = 150, loss_de = 0.0355\n",
            "epoch = 200, loss_de = 0.0308\n",
            "epoch = 250, loss_de = 0.0247\n",
            "epoch = 300, loss_de = 0.0284\n",
            "epoch = 350, loss_de = 0.0260\n",
            "epoch = 400, loss_de = 0.0269\n",
            "epoch = 450, loss_de = 0.0276\n",
            "4.926184260511945e-07\n"
          ]
        },
        {
          "data": {
            "application/vnd.jupyter.widget-view+json": {
              "model_id": "d644ec1b3bca4072b57d3dff6e01fc8c",
              "version_major": 2,
              "version_minor": 0
            },
            "text/plain": [
              "  0%|          | 0/500 [00:00<?, ?it/s]"
            ]
          },
          "metadata": {},
          "output_type": "display_data"
        },
        {
          "name": "stdout",
          "output_type": "stream",
          "text": [
            "epoch = 0, loss_de = 196.6123\n",
            "epoch = 50, loss_de = 1.9994\n",
            "epoch = 100, loss_de = 0.0771\n",
            "epoch = 150, loss_de = 0.0633\n",
            "epoch = 200, loss_de = 0.0584\n",
            "epoch = 250, loss_de = 0.0453\n",
            "epoch = 300, loss_de = 0.0560\n",
            "epoch = 350, loss_de = 0.0503\n",
            "epoch = 400, loss_de = 0.0527\n",
            "epoch = 450, loss_de = 0.0533\n",
            "8.668331474837032e-07\n"
          ]
        },
        {
          "data": {
            "application/vnd.jupyter.widget-view+json": {
              "model_id": "b7da35d622eb48e5a70b6f70b895ace2",
              "version_major": 2,
              "version_minor": 0
            },
            "text/plain": [
              "  0%|          | 0/500 [00:00<?, ?it/s]"
            ]
          },
          "metadata": {},
          "output_type": "display_data"
        },
        {
          "name": "stdout",
          "output_type": "stream",
          "text": [
            "epoch = 0, loss_de = 286.6707\n",
            "epoch = 50, loss_de = 13.1085\n",
            "epoch = 100, loss_de = 2.6510\n",
            "epoch = 150, loss_de = 1.9373\n",
            "epoch = 200, loss_de = 1.7974\n",
            "epoch = 250, loss_de = 1.5511\n",
            "epoch = 300, loss_de = 1.6869\n",
            "epoch = 350, loss_de = 1.5669\n",
            "epoch = 400, loss_de = 1.5954\n",
            "epoch = 450, loss_de = 1.6131\n",
            "0.0001167147493106313\n"
          ]
        },
        {
          "data": {
            "application/vnd.jupyter.widget-view+json": {
              "model_id": "a7625101eb20453188c4e599c8d1b58a",
              "version_major": 2,
              "version_minor": 0
            },
            "text/plain": [
              "  0%|          | 0/500 [00:00<?, ?it/s]"
            ]
          },
          "metadata": {},
          "output_type": "display_data"
        },
        {
          "name": "stdout",
          "output_type": "stream",
          "text": [
            "epoch = 0, loss_de = 393.7320\n",
            "epoch = 50, loss_de = 20.1852\n",
            "epoch = 100, loss_de = 4.4593\n",
            "epoch = 150, loss_de = 3.2434\n",
            "epoch = 200, loss_de = 2.9986\n",
            "epoch = 250, loss_de = 2.5494\n",
            "epoch = 300, loss_de = 2.8004\n",
            "epoch = 350, loss_de = 2.5751\n",
            "epoch = 400, loss_de = 2.6523\n",
            "epoch = 450, loss_de = 2.6635\n",
            "0.00017620876315049827\n"
          ]
        },
        {
          "data": {
            "application/vnd.jupyter.widget-view+json": {
              "model_id": "4f9f4d9af98e4e58b3776c9b9be9407e",
              "version_major": 2,
              "version_minor": 0
            },
            "text/plain": [
              "  0%|          | 0/500 [00:00<?, ?it/s]"
            ]
          },
          "metadata": {},
          "output_type": "display_data"
        },
        {
          "name": "stdout",
          "output_type": "stream",
          "text": [
            "epoch = 0, loss_de = 517.7961\n",
            "epoch = 50, loss_de = 33.3446\n",
            "epoch = 100, loss_de = 7.7761\n",
            "epoch = 150, loss_de = 5.5410\n",
            "epoch = 200, loss_de = 5.0975\n",
            "epoch = 250, loss_de = 4.2879\n",
            "epoch = 300, loss_de = 4.7432\n",
            "epoch = 350, loss_de = 4.3068\n",
            "epoch = 400, loss_de = 4.4860\n",
            "epoch = 450, loss_de = 4.4766\n",
            "0.0002706587838474661\n"
          ]
        },
        {
          "data": {
            "application/vnd.jupyter.widget-view+json": {
              "model_id": "c10593f4b05d4da490fe61014f60d8e0",
              "version_major": 2,
              "version_minor": 0
            },
            "text/plain": [
              "  0%|          | 0/500 [00:00<?, ?it/s]"
            ]
          },
          "metadata": {},
          "output_type": "display_data"
        },
        {
          "name": "stdout",
          "output_type": "stream",
          "text": [
            "epoch = 0, loss_de = 658.8632\n",
            "epoch = 50, loss_de = 64.4535\n",
            "epoch = 100, loss_de = 15.8850\n",
            "epoch = 150, loss_de = 10.6889\n",
            "epoch = 200, loss_de = 9.6895\n",
            "epoch = 250, loss_de = 8.0611\n",
            "epoch = 300, loss_de = 8.9629\n",
            "epoch = 350, loss_de = 7.9638\n",
            "epoch = 400, loss_de = 8.3836\n",
            "epoch = 450, loss_de = 8.4125\n",
            "0.0004658288380596787\n"
          ]
        },
        {
          "data": {
            "application/vnd.jupyter.widget-view+json": {
              "model_id": "6fd16c94e5494456bcbd254fcccb32a1",
              "version_major": 2,
              "version_minor": 0
            },
            "text/plain": [
              "  0%|          | 0/500 [00:00<?, ?it/s]"
            ]
          },
          "metadata": {},
          "output_type": "display_data"
        },
        {
          "name": "stdout",
          "output_type": "stream",
          "text": [
            "epoch = 0, loss_de = 816.9330\n",
            "epoch = 50, loss_de = 71.1649\n",
            "epoch = 100, loss_de = 14.3930\n",
            "epoch = 150, loss_de = 8.1813\n",
            "epoch = 200, loss_de = 6.9750\n",
            "epoch = 250, loss_de = 5.3975\n",
            "epoch = 300, loss_de = 6.2597\n",
            "epoch = 350, loss_de = 5.3797\n",
            "epoch = 400, loss_de = 5.7810\n",
            "epoch = 450, loss_de = 5.7020\n",
            "0.00020643702009692788\n"
          ]
        },
        {
          "data": {
            "application/vnd.jupyter.widget-view+json": {
              "model_id": "c1c5b27d21024775b72de3e5512e7228",
              "version_major": 2,
              "version_minor": 0
            },
            "text/plain": [
              "  0%|          | 0/500 [00:00<?, ?it/s]"
            ]
          },
          "metadata": {},
          "output_type": "display_data"
        },
        {
          "name": "stdout",
          "output_type": "stream",
          "text": [
            "epoch = 0, loss_de = 992.0058\n",
            "epoch = 50, loss_de = 104.3413\n",
            "epoch = 100, loss_de = 27.2542\n",
            "epoch = 150, loss_de = 15.1812\n",
            "epoch = 200, loss_de = 12.8910\n",
            "epoch = 250, loss_de = 10.0189\n",
            "epoch = 300, loss_de = 11.5644\n",
            "epoch = 350, loss_de = 9.8010\n",
            "epoch = 400, loss_de = 10.6114\n",
            "epoch = 450, loss_de = 10.4802\n",
            "0.00034911674447357655\n"
          ]
        },
        {
          "data": {
            "application/vnd.jupyter.widget-view+json": {
              "model_id": "367a1fdd95424bd2b4dfed48a205e27d",
              "version_major": 2,
              "version_minor": 0
            },
            "text/plain": [
              "  0%|          | 0/500 [00:00<?, ?it/s]"
            ]
          },
          "metadata": {},
          "output_type": "display_data"
        },
        {
          "name": "stdout",
          "output_type": "stream",
          "text": [
            "epoch = 0, loss_de = 1184.0814\n",
            "epoch = 50, loss_de = 149.9971\n",
            "epoch = 100, loss_de = 53.2222\n",
            "epoch = 150, loss_de = 31.0266\n",
            "epoch = 200, loss_de = 25.6079\n",
            "epoch = 250, loss_de = 20.2567\n",
            "epoch = 300, loss_de = 23.0250\n",
            "epoch = 350, loss_de = 19.3252\n",
            "epoch = 400, loss_de = 20.8678\n",
            "epoch = 450, loss_de = 20.9342\n",
            "0.0005871417233720422\n"
          ]
        },
        {
          "data": {
            "application/vnd.jupyter.widget-view+json": {
              "model_id": "5f4879aa591a469f99828fab5d8d3023",
              "version_major": 2,
              "version_minor": 0
            },
            "text/plain": [
              "  0%|          | 0/500 [00:00<?, ?it/s]"
            ]
          },
          "metadata": {},
          "output_type": "display_data"
        },
        {
          "name": "stdout",
          "output_type": "stream",
          "text": [
            "epoch = 0, loss_de = 1393.1600\n",
            "epoch = 50, loss_de = 177.5027\n",
            "epoch = 100, loss_de = 68.1361\n",
            "epoch = 150, loss_de = 40.8626\n",
            "epoch = 200, loss_de = 34.1073\n",
            "epoch = 250, loss_de = 27.0586\n",
            "epoch = 300, loss_de = 30.7792\n",
            "epoch = 350, loss_de = 25.7723\n",
            "epoch = 400, loss_de = 27.8631\n",
            "epoch = 450, loss_de = 27.9171\n",
            "0.0006864294409751892\n"
          ]
        },
        {
          "data": {
            "application/vnd.jupyter.widget-view+json": {
              "model_id": "2f6a4a919dd141d3ae90f2bd6a68aa42",
              "version_major": 2,
              "version_minor": 0
            },
            "text/plain": [
              "  0%|          | 0/500 [00:00<?, ?it/s]"
            ]
          },
          "metadata": {},
          "output_type": "display_data"
        },
        {
          "name": "stdout",
          "output_type": "stream",
          "text": [
            "epoch = 0, loss_de = 1619.2415\n",
            "epoch = 50, loss_de = 225.0211\n",
            "epoch = 100, loss_de = 92.2486\n",
            "epoch = 150, loss_de = 65.1884\n",
            "epoch = 200, loss_de = 60.0857\n",
            "epoch = 250, loss_de = 50.7397\n",
            "epoch = 300, loss_de = 56.3207\n",
            "epoch = 350, loss_de = 47.3139\n",
            "epoch = 400, loss_de = 50.1308\n",
            "epoch = 450, loss_de = 50.5560\n",
            "0.0011697927257046103\n"
          ]
        },
        {
          "data": {
            "application/vnd.jupyter.widget-view+json": {
              "model_id": "f15c39900362429a8cb2e79cc41bd15c",
              "version_major": 2,
              "version_minor": 0
            },
            "text/plain": [
              "  0%|          | 0/500 [00:00<?, ?it/s]"
            ]
          },
          "metadata": {},
          "output_type": "display_data"
        },
        {
          "name": "stdout",
          "output_type": "stream",
          "text": [
            "epoch = 0, loss_de = 1862.3256\n",
            "epoch = 50, loss_de = 306.2524\n",
            "epoch = 100, loss_de = 133.3781\n",
            "epoch = 150, loss_de = 94.9641\n",
            "epoch = 200, loss_de = 87.6007\n",
            "epoch = 250, loss_de = 66.9604\n",
            "epoch = 300, loss_de = 74.1500\n",
            "epoch = 350, loss_de = 62.5340\n",
            "epoch = 400, loss_de = 66.9567\n",
            "epoch = 450, loss_de = 67.5290\n",
            "0.0013356300769373775\n"
          ]
        },
        {
          "data": {
            "application/vnd.jupyter.widget-view+json": {
              "model_id": "00f7a2a174044234b91c747333fff8e3",
              "version_major": 2,
              "version_minor": 0
            },
            "text/plain": [
              "  0%|          | 0/500 [00:00<?, ?it/s]"
            ]
          },
          "metadata": {},
          "output_type": "display_data"
        },
        {
          "name": "stdout",
          "output_type": "stream",
          "text": [
            "epoch = 0, loss_de = 2122.4128\n",
            "epoch = 50, loss_de = 312.3830\n",
            "epoch = 100, loss_de = 143.9519\n",
            "epoch = 150, loss_de = 104.9936\n",
            "epoch = 200, loss_de = 97.6567\n",
            "epoch = 250, loss_de = 83.3961\n",
            "epoch = 300, loss_de = 93.5825\n",
            "epoch = 350, loss_de = 79.9671\n",
            "epoch = 400, loss_de = 85.3382\n",
            "epoch = 450, loss_de = 86.5045\n",
            "0.0016284406883642077\n"
          ]
        },
        {
          "data": {
            "application/vnd.jupyter.widget-view+json": {
              "model_id": "b2c7fc0cc2164a388f856a0fd45a89ff",
              "version_major": 2,
              "version_minor": 0
            },
            "text/plain": [
              "  0%|          | 0/500 [00:00<?, ?it/s]"
            ]
          },
          "metadata": {},
          "output_type": "display_data"
        },
        {
          "name": "stdout",
          "output_type": "stream",
          "text": [
            "epoch = 0, loss_de = 2399.5027\n",
            "epoch = 50, loss_de = 317.6272\n",
            "epoch = 100, loss_de = 152.4632\n",
            "epoch = 150, loss_de = 114.4702\n",
            "epoch = 200, loss_de = 107.9691\n",
            "epoch = 250, loss_de = 92.3002\n",
            "epoch = 300, loss_de = 103.7446\n",
            "epoch = 350, loss_de = 88.5664\n",
            "epoch = 400, loss_de = 94.8973\n",
            "epoch = 450, loss_de = 95.5554\n",
            "0.0016391986282542348\n"
          ]
        },
        {
          "data": {
            "application/vnd.jupyter.widget-view+json": {
              "model_id": "886442c05a8041139c520fd833ca8a2c",
              "version_major": 2,
              "version_minor": 0
            },
            "text/plain": [
              "  0%|          | 0/500 [00:00<?, ?it/s]"
            ]
          },
          "metadata": {},
          "output_type": "display_data"
        },
        {
          "name": "stdout",
          "output_type": "stream",
          "text": [
            "epoch = 0, loss_de = 2693.5957\n",
            "epoch = 50, loss_de = 362.9101\n",
            "epoch = 100, loss_de = 180.4552\n",
            "epoch = 150, loss_de = 137.5670\n",
            "epoch = 200, loss_de = 130.2752\n",
            "epoch = 250, loss_de = 111.8869\n",
            "epoch = 300, loss_de = 125.7208\n",
            "epoch = 350, loss_de = 107.2963\n",
            "epoch = 400, loss_de = 114.8606\n",
            "epoch = 450, loss_de = 115.8677\n",
            "0.0017508044838905334\n"
          ]
        },
        {
          "data": {
            "application/vnd.jupyter.widget-view+json": {
              "model_id": "18f1dde2c41446e6b6dddeb3473946c4",
              "version_major": 2,
              "version_minor": 0
            },
            "text/plain": [
              "  0%|          | 0/500 [00:00<?, ?it/s]"
            ]
          },
          "metadata": {},
          "output_type": "display_data"
        },
        {
          "name": "stdout",
          "output_type": "stream",
          "text": [
            "epoch = 0, loss_de = 3004.6914\n",
            "epoch = 50, loss_de = 427.5151\n",
            "epoch = 100, loss_de = 221.3387\n",
            "epoch = 150, loss_de = 170.8071\n",
            "epoch = 200, loss_de = 161.5241\n",
            "epoch = 250, loss_de = 139.6421\n",
            "epoch = 300, loss_de = 156.5878\n",
            "epoch = 350, loss_de = 133.7302\n",
            "epoch = 400, loss_de = 142.7807\n",
            "epoch = 450, loss_de = 144.6218\n",
            "0.0018661441281437874\n"
          ]
        },
        {
          "data": {
            "application/vnd.jupyter.widget-view+json": {
              "model_id": "9cebc2c7325e45ac97d21006748700e4",
              "version_major": 2,
              "version_minor": 0
            },
            "text/plain": [
              "  0%|          | 0/500 [00:00<?, ?it/s]"
            ]
          },
          "metadata": {},
          "output_type": "display_data"
        },
        {
          "name": "stdout",
          "output_type": "stream",
          "text": [
            "epoch = 0, loss_de = 3332.7903\n",
            "epoch = 50, loss_de = 483.7511\n",
            "epoch = 100, loss_de = 256.0902\n",
            "epoch = 150, loss_de = 198.9895\n",
            "epoch = 200, loss_de = 189.2204\n",
            "epoch = 250, loss_de = 164.0448\n",
            "epoch = 300, loss_de = 183.8721\n",
            "epoch = 350, loss_de = 157.1225\n",
            "epoch = 400, loss_de = 167.7047\n",
            "epoch = 450, loss_de = 169.7487\n",
            "0.002008378505706787\n"
          ]
        },
        {
          "data": {
            "application/vnd.jupyter.widget-view+json": {
              "model_id": "b9ee2a992eb740759a90cb34b585b6b5",
              "version_major": 2,
              "version_minor": 0
            },
            "text/plain": [
              "  0%|          | 0/500 [00:00<?, ?it/s]"
            ]
          },
          "metadata": {},
          "output_type": "display_data"
        },
        {
          "name": "stdout",
          "output_type": "stream",
          "text": [
            "epoch = 0, loss_de = 3677.8916\n",
            "epoch = 50, loss_de = 544.3569\n",
            "epoch = 100, loss_de = 296.6778\n",
            "epoch = 150, loss_de = 233.4079\n",
            "epoch = 200, loss_de = 222.4141\n",
            "epoch = 250, loss_de = 193.7963\n",
            "epoch = 300, loss_de = 216.9186\n",
            "epoch = 350, loss_de = 185.6320\n",
            "epoch = 400, loss_de = 197.7496\n",
            "epoch = 450, loss_de = 200.5554\n",
            "0.002113953698426485\n"
          ]
        },
        {
          "data": {
            "application/vnd.jupyter.widget-view+json": {
              "model_id": "ba601fb5f733404db9684413357f2ce0",
              "version_major": 2,
              "version_minor": 0
            },
            "text/plain": [
              "  0%|          | 0/500 [00:00<?, ?it/s]"
            ]
          },
          "metadata": {},
          "output_type": "display_data"
        },
        {
          "name": "stdout",
          "output_type": "stream",
          "text": [
            "epoch = 0, loss_de = 4039.9961\n",
            "epoch = 50, loss_de = 596.7720\n",
            "epoch = 100, loss_de = 332.3058\n",
            "epoch = 150, loss_de = 263.8080\n",
            "epoch = 200, loss_de = 241.9319\n",
            "epoch = 250, loss_de = 201.5778\n",
            "epoch = 300, loss_de = 225.3150\n",
            "epoch = 350, loss_de = 190.6627\n",
            "epoch = 400, loss_de = 203.9003\n",
            "epoch = 450, loss_de = 206.2534\n",
            "0.0018220174824818969\n"
          ]
        },
        {
          "data": {
            "application/vnd.jupyter.widget-view+json": {
              "model_id": "ece6fd768a28423da592a6e5efa941ad",
              "version_major": 2,
              "version_minor": 0
            },
            "text/plain": [
              "  0%|          | 0/500 [00:00<?, ?it/s]"
            ]
          },
          "metadata": {},
          "output_type": "display_data"
        },
        {
          "name": "stdout",
          "output_type": "stream",
          "text": [
            "epoch = 0, loss_de = 4419.1030\n",
            "epoch = 50, loss_de = 665.4358\n",
            "epoch = 100, loss_de = 367.8888\n",
            "epoch = 150, loss_de = 262.2601\n",
            "epoch = 200, loss_de = 243.2861\n",
            "epoch = 250, loss_de = 207.1143\n",
            "epoch = 300, loss_de = 233.6595\n",
            "epoch = 350, loss_de = 196.6447\n",
            "epoch = 400, loss_de = 211.6485\n",
            "epoch = 450, loss_de = 213.0839\n",
            "0.0017045228742063046\n"
          ]
        },
        {
          "data": {
            "application/vnd.jupyter.widget-view+json": {
              "model_id": "f1ddbb532a3f480e9e4e3ad6e0624241",
              "version_major": 2,
              "version_minor": 0
            },
            "text/plain": [
              "  0%|          | 0/500 [00:00<?, ?it/s]"
            ]
          },
          "metadata": {},
          "output_type": "display_data"
        },
        {
          "name": "stdout",
          "output_type": "stream",
          "text": [
            "epoch = 0, loss_de = 4815.2134\n",
            "epoch = 50, loss_de = 761.9262\n",
            "epoch = 100, loss_de = 437.2504\n",
            "epoch = 150, loss_de = 353.4182\n",
            "epoch = 200, loss_de = 340.0594\n",
            "epoch = 250, loss_de = 299.7389\n",
            "epoch = 300, loss_de = 334.0693\n",
            "epoch = 350, loss_de = 287.2050\n",
            "epoch = 400, loss_de = 304.8591\n",
            "epoch = 450, loss_de = 309.5578\n",
            "0.0024958814028650522\n"
          ]
        },
        {
          "data": {
            "application/vnd.jupyter.widget-view+json": {
              "model_id": "9471048872b64feb94201066f4b3765f",
              "version_major": 2,
              "version_minor": 0
            },
            "text/plain": [
              "  0%|          | 0/500 [00:00<?, ?it/s]"
            ]
          },
          "metadata": {},
          "output_type": "display_data"
        },
        {
          "name": "stdout",
          "output_type": "stream",
          "text": [
            "epoch = 0, loss_de = 5228.3262\n",
            "epoch = 50, loss_de = 846.2805\n",
            "epoch = 100, loss_de = 493.8375\n",
            "epoch = 150, loss_de = 402.2930\n",
            "epoch = 200, loss_de = 388.2296\n",
            "epoch = 250, loss_de = 343.5549\n",
            "epoch = 300, loss_de = 382.1336\n",
            "epoch = 350, loss_de = 329.1506\n",
            "epoch = 400, loss_de = 348.9137\n",
            "epoch = 450, loss_de = 354.3997\n",
            "0.0026199256535619497\n"
          ]
        },
        {
          "data": {
            "application/vnd.jupyter.widget-view+json": {
              "model_id": "9d5d4fb582674ccdb8f97861d5f89112",
              "version_major": 2,
              "version_minor": 0
            },
            "text/plain": [
              "  0%|          | 0/500 [00:00<?, ?it/s]"
            ]
          },
          "metadata": {},
          "output_type": "display_data"
        },
        {
          "name": "stdout",
          "output_type": "stream",
          "text": [
            "epoch = 0, loss_de = 5658.4424\n",
            "epoch = 50, loss_de = 908.8645\n",
            "epoch = 100, loss_de = 537.8248\n",
            "epoch = 150, loss_de = 441.4672\n",
            "epoch = 200, loss_de = 427.7997\n",
            "epoch = 250, loss_de = 379.3164\n",
            "epoch = 300, loss_de = 421.8240\n",
            "epoch = 350, loss_de = 363.5527\n",
            "epoch = 400, loss_de = 385.3998\n",
            "epoch = 450, loss_de = 391.2131\n",
            "0.002680603414773941\n"
          ]
        },
        {
          "data": {
            "application/vnd.jupyter.widget-view+json": {
              "model_id": "05934f478e594cbc82bc15b80899ac80",
              "version_major": 2,
              "version_minor": 0
            },
            "text/plain": [
              "  0%|          | 0/500 [00:00<?, ?it/s]"
            ]
          },
          "metadata": {},
          "output_type": "display_data"
        },
        {
          "name": "stdout",
          "output_type": "stream",
          "text": [
            "epoch = 0, loss_de = 6105.5610\n",
            "epoch = 50, loss_de = 990.5900\n",
            "epoch = 100, loss_de = 592.0648\n",
            "epoch = 150, loss_de = 486.6201\n",
            "epoch = 200, loss_de = 471.8188\n",
            "epoch = 250, loss_de = 418.6456\n",
            "epoch = 300, loss_de = 465.3393\n",
            "epoch = 350, loss_de = 401.0873\n",
            "epoch = 400, loss_de = 425.4973\n",
            "epoch = 450, loss_de = 430.8130\n",
            "0.002776576904579997\n"
          ]
        },
        {
          "data": {
            "application/vnd.jupyter.widget-view+json": {
              "model_id": "b3a137f245184698b3dbb4c122b3a551",
              "version_major": 2,
              "version_minor": 0
            },
            "text/plain": [
              "  0%|          | 0/500 [00:00<?, ?it/s]"
            ]
          },
          "metadata": {},
          "output_type": "display_data"
        },
        {
          "name": "stdout",
          "output_type": "stream",
          "text": [
            "epoch = 0, loss_de = 6569.6826\n",
            "epoch = 50, loss_de = 1023.4399\n",
            "epoch = 100, loss_de = 635.3099\n",
            "epoch = 150, loss_de = 529.2238\n",
            "epoch = 200, loss_de = 515.7897\n",
            "epoch = 250, loss_de = 459.1935\n",
            "epoch = 300, loss_de = 510.3063\n",
            "epoch = 350, loss_de = 440.4320\n",
            "epoch = 400, loss_de = 466.6280\n",
            "epoch = 450, loss_de = 473.5438\n",
            "0.002809049328789115\n"
          ]
        },
        {
          "data": {
            "application/vnd.jupyter.widget-view+json": {
              "model_id": "e000e04c2b2d4805a3e520e22605b33e",
              "version_major": 2,
              "version_minor": 0
            },
            "text/plain": [
              "  0%|          | 0/500 [00:00<?, ?it/s]"
            ]
          },
          "metadata": {},
          "output_type": "display_data"
        },
        {
          "name": "stdout",
          "output_type": "stream",
          "text": [
            "epoch = 0, loss_de = 7050.8071\n",
            "epoch = 50, loss_de = 1090.0481\n",
            "epoch = 100, loss_de = 679.8514\n",
            "epoch = 150, loss_de = 570.0876\n",
            "epoch = 200, loss_de = 556.7288\n",
            "epoch = 250, loss_de = 496.1899\n",
            "epoch = 300, loss_de = 551.6743\n",
            "epoch = 350, loss_de = 476.1472\n",
            "epoch = 400, loss_de = 504.3955\n",
            "epoch = 450, loss_de = 512.0816\n",
            "0.0028600108344107866\n"
          ]
        },
        {
          "data": {
            "application/vnd.jupyter.widget-view+json": {
              "model_id": "c31e80fff156430bb09d031ff4d160df",
              "version_major": 2,
              "version_minor": 0
            },
            "text/plain": [
              "  0%|          | 0/500 [00:00<?, ?it/s]"
            ]
          },
          "metadata": {},
          "output_type": "display_data"
        },
        {
          "name": "stdout",
          "output_type": "stream",
          "text": [
            "epoch = 0, loss_de = 7548.9346\n",
            "epoch = 50, loss_de = 1158.8318\n",
            "epoch = 100, loss_de = 728.5193\n",
            "epoch = 150, loss_de = 613.8982\n",
            "epoch = 200, loss_de = 600.6136\n",
            "epoch = 250, loss_de = 535.9179\n",
            "epoch = 300, loss_de = 595.9251\n",
            "epoch = 350, loss_de = 514.4344\n",
            "epoch = 400, loss_de = 544.9036\n",
            "epoch = 450, loss_de = 553.2521\n",
            "0.0029088472947478294\n"
          ]
        },
        {
          "data": {
            "application/vnd.jupyter.widget-view+json": {
              "model_id": "09111c9f591343a6a3a69409917e0d23",
              "version_major": 2,
              "version_minor": 0
            },
            "text/plain": [
              "  0%|          | 0/500 [00:00<?, ?it/s]"
            ]
          },
          "metadata": {},
          "output_type": "display_data"
        },
        {
          "name": "stdout",
          "output_type": "stream",
          "text": [
            "epoch = 0, loss_de = 8064.0649\n",
            "epoch = 50, loss_de = 1244.9609\n",
            "epoch = 100, loss_de = 788.3093\n",
            "epoch = 150, loss_de = 667.8102\n",
            "epoch = 200, loss_de = 654.6415\n",
            "epoch = 250, loss_de = 585.2330\n",
            "epoch = 300, loss_de = 650.2919\n",
            "epoch = 350, loss_de = 561.7712\n",
            "epoch = 400, loss_de = 594.8995\n",
            "epoch = 450, loss_de = 603.7890\n",
            "0.002979208482429385\n"
          ]
        },
        {
          "data": {
            "application/vnd.jupyter.widget-view+json": {
              "model_id": "7e0f5a5440364633b144dfc5468a8308",
              "version_major": 2,
              "version_minor": 0
            },
            "text/plain": [
              "  0%|          | 0/500 [00:00<?, ?it/s]"
            ]
          },
          "metadata": {},
          "output_type": "display_data"
        },
        {
          "name": "stdout",
          "output_type": "stream",
          "text": [
            "epoch = 0, loss_de = 8596.1973\n",
            "epoch = 50, loss_de = 1341.6316\n",
            "epoch = 100, loss_de = 853.4823\n",
            "epoch = 150, loss_de = 725.3004\n",
            "epoch = 200, loss_de = 712.2597\n",
            "epoch = 250, loss_de = 637.8395\n",
            "epoch = 300, loss_de = 708.1818\n",
            "epoch = 350, loss_de = 612.2119\n",
            "epoch = 400, loss_de = 648.1907\n",
            "epoch = 450, loss_de = 657.5229\n",
            "0.0030580852180719376\n"
          ]
        },
        {
          "data": {
            "application/vnd.jupyter.widget-view+json": {
              "model_id": "c8dcaeb9919f4600bf69e396d9205b57",
              "version_major": 2,
              "version_minor": 0
            },
            "text/plain": [
              "  0%|          | 0/500 [00:00<?, ?it/s]"
            ]
          },
          "metadata": {},
          "output_type": "display_data"
        },
        {
          "name": "stdout",
          "output_type": "stream",
          "text": [
            "epoch = 0, loss_de = 9145.3340\n",
            "epoch = 50, loss_de = 1440.5330\n",
            "epoch = 100, loss_de = 918.7004\n",
            "epoch = 150, loss_de = 782.9799\n",
            "epoch = 200, loss_de = 770.5192\n",
            "epoch = 250, loss_de = 691.0741\n",
            "epoch = 300, loss_de = 766.7639\n",
            "epoch = 350, loss_de = 663.2582\n",
            "epoch = 400, loss_de = 702.1627\n",
            "epoch = 450, loss_de = 711.8738\n",
            "0.003128570271655917\n"
          ]
        },
        {
          "data": {
            "application/vnd.jupyter.widget-view+json": {
              "model_id": "61eee238d95e40698d2b4bedbbd79dcc",
              "version_major": 2,
              "version_minor": 0
            },
            "text/plain": [
              "  0%|          | 0/500 [00:00<?, ?it/s]"
            ]
          },
          "metadata": {},
          "output_type": "display_data"
        },
        {
          "name": "stdout",
          "output_type": "stream",
          "text": [
            "epoch = 0, loss_de = 9711.4727\n",
            "epoch = 50, loss_de = 1538.0049\n",
            "epoch = 100, loss_de = 987.6972\n",
            "epoch = 150, loss_de = 844.2424\n",
            "epoch = 200, loss_de = 832.0834\n",
            "epoch = 250, loss_de = 747.3519\n",
            "epoch = 300, loss_de = 828.5842\n",
            "epoch = 350, loss_de = 717.1639\n",
            "epoch = 400, loss_de = 759.1737\n",
            "epoch = 450, loss_de = 769.1484\n",
            "0.0032042351085692644\n"
          ]
        },
        {
          "data": {
            "application/vnd.jupyter.widget-view+json": {
              "model_id": "8317168d52ab46e9ba44f362df572441",
              "version_major": 2,
              "version_minor": 0
            },
            "text/plain": [
              "  0%|          | 0/500 [00:00<?, ?it/s]"
            ]
          },
          "metadata": {},
          "output_type": "display_data"
        },
        {
          "name": "stdout",
          "output_type": "stream",
          "text": [
            "epoch = 0, loss_de = 10294.6133\n",
            "epoch = 50, loss_de = 1641.8464\n",
            "epoch = 100, loss_de = 1057.5276\n",
            "epoch = 150, loss_de = 906.3036\n",
            "epoch = 200, loss_de = 894.4514\n",
            "epoch = 250, loss_de = 804.3612\n",
            "epoch = 300, loss_de = 891.2515\n",
            "epoch = 350, loss_de = 771.8512\n",
            "epoch = 400, loss_de = 816.9379\n",
            "epoch = 450, loss_de = 827.3339\n",
            "0.0032853111624717712\n"
          ]
        },
        {
          "data": {
            "application/vnd.jupyter.widget-view+json": {
              "model_id": "4bbf00851768481a8102c8a9ec054d0e",
              "version_major": 2,
              "version_minor": 0
            },
            "text/plain": [
              "  0%|          | 0/500 [00:00<?, ?it/s]"
            ]
          },
          "metadata": {},
          "output_type": "display_data"
        },
        {
          "name": "stdout",
          "output_type": "stream",
          "text": [
            "epoch = 0, loss_de = 10894.7588\n",
            "epoch = 50, loss_de = 1738.6874\n",
            "epoch = 100, loss_de = 1132.2993\n",
            "epoch = 150, loss_de = 973.6401\n",
            "epoch = 200, loss_de = 961.8477\n",
            "epoch = 250, loss_de = 866.1607\n",
            "epoch = 300, loss_de = 958.9382\n",
            "epoch = 350, loss_de = 831.0140\n",
            "epoch = 400, loss_de = 879.4661\n",
            "epoch = 450, loss_de = 890.0300\n",
            "0.0033697402104735374\n"
          ]
        },
        {
          "data": {
            "application/vnd.jupyter.widget-view+json": {
              "model_id": "c31c3acee94c4af19e4cc9857f3cf7c1",
              "version_major": 2,
              "version_minor": 0
            },
            "text/plain": [
              "  0%|          | 0/500 [00:00<?, ?it/s]"
            ]
          },
          "metadata": {},
          "output_type": "display_data"
        },
        {
          "name": "stdout",
          "output_type": "stream",
          "text": [
            "epoch = 0, loss_de = 11511.9062\n",
            "epoch = 50, loss_de = 1840.5236\n",
            "epoch = 100, loss_de = 1206.6888\n",
            "epoch = 150, loss_de = 1040.5220\n",
            "epoch = 200, loss_de = 1029.2664\n",
            "epoch = 250, loss_de = 927.9573\n",
            "epoch = 300, loss_de = 1026.7181\n",
            "epoch = 350, loss_de = 890.2215\n",
            "epoch = 400, loss_de = 942.1043\n",
            "epoch = 450, loss_de = 952.8007\n",
            "0.003442943561822176\n"
          ]
        },
        {
          "data": {
            "application/vnd.jupyter.widget-view+json": {
              "model_id": "c937f442cd134e67ac2dcd420343995f",
              "version_major": 2,
              "version_minor": 0
            },
            "text/plain": [
              "  0%|          | 0/500 [00:00<?, ?it/s]"
            ]
          },
          "metadata": {},
          "output_type": "display_data"
        },
        {
          "name": "stdout",
          "output_type": "stream",
          "text": [
            "epoch = 0, loss_de = 12146.0566\n",
            "epoch = 50, loss_de = 1933.2928\n",
            "epoch = 100, loss_de = 1277.1260\n",
            "epoch = 150, loss_de = 1104.4016\n",
            "epoch = 200, loss_de = 1094.7534\n",
            "epoch = 250, loss_de = 987.9900\n",
            "epoch = 300, loss_de = 1092.7836\n",
            "epoch = 350, loss_de = 947.8202\n",
            "epoch = 400, loss_de = 1003.1961\n",
            "epoch = 450, loss_de = 1013.8824\n",
            "0.0034877751022577286\n"
          ]
        },
        {
          "data": {
            "application/vnd.jupyter.widget-view+json": {
              "model_id": "6e6b95c044964e11aa25ca9f498e7118",
              "version_major": 2,
              "version_minor": 0
            },
            "text/plain": [
              "  0%|          | 0/500 [00:00<?, ?it/s]"
            ]
          },
          "metadata": {},
          "output_type": "display_data"
        },
        {
          "name": "stdout",
          "output_type": "stream",
          "text": [
            "epoch = 0, loss_de = 12797.2100\n",
            "epoch = 50, loss_de = 2028.8499\n",
            "epoch = 100, loss_de = 1354.1812\n",
            "epoch = 150, loss_de = 1174.7719\n",
            "epoch = 200, loss_de = 1166.0699\n",
            "epoch = 250, loss_de = 1053.4562\n",
            "epoch = 300, loss_de = 1164.5215\n",
            "epoch = 350, loss_de = 1010.5007\n",
            "epoch = 400, loss_de = 1069.6051\n",
            "epoch = 450, loss_de = 1080.1659\n",
            "0.0035521499812602997\n"
          ]
        },
        {
          "data": {
            "application/vnd.jupyter.widget-view+json": {
              "model_id": "a027969740e648c1bd32976f61717666",
              "version_major": 2,
              "version_minor": 0
            },
            "text/plain": [
              "  0%|          | 0/500 [00:00<?, ?it/s]"
            ]
          },
          "metadata": {},
          "output_type": "display_data"
        },
        {
          "name": "stdout",
          "output_type": "stream",
          "text": [
            "epoch = 0, loss_de = 13465.3662\n",
            "epoch = 50, loss_de = 2149.3115\n",
            "epoch = 100, loss_de = 1436.0352\n",
            "epoch = 150, loss_de = 1247.2354\n",
            "epoch = 200, loss_de = 1238.2917\n",
            "epoch = 250, loss_de = 1119.5323\n",
            "epoch = 300, loss_de = 1237.0833\n",
            "epoch = 350, loss_de = 1073.8422\n",
            "epoch = 400, loss_de = 1136.5099\n",
            "epoch = 450, loss_de = 1147.5419\n",
            "0.0036368058063089848\n"
          ]
        },
        {
          "data": {
            "application/vnd.jupyter.widget-view+json": {
              "model_id": "63b8ca9fbc3c417c816999f8da64f703",
              "version_major": 2,
              "version_minor": 0
            },
            "text/plain": [
              "  0%|          | 0/500 [00:00<?, ?it/s]"
            ]
          },
          "metadata": {},
          "output_type": "display_data"
        },
        {
          "name": "stdout",
          "output_type": "stream",
          "text": [
            "epoch = 0, loss_de = 14150.5244\n",
            "epoch = 50, loss_de = 2272.1470\n",
            "epoch = 100, loss_de = 1514.2585\n",
            "epoch = 150, loss_de = 1317.6757\n",
            "epoch = 200, loss_de = 1310.2917\n",
            "epoch = 250, loss_de = 1185.4456\n",
            "epoch = 300, loss_de = 1309.5577\n",
            "epoch = 350, loss_de = 1136.9598\n",
            "epoch = 400, loss_de = 1203.5439\n",
            "epoch = 450, loss_de = 1214.4406\n",
            "0.003684035036712885\n"
          ]
        },
        {
          "data": {
            "application/vnd.jupyter.widget-view+json": {
              "model_id": "1149892be9e349fc85b643cdd25a5e8c",
              "version_major": 2,
              "version_minor": 0
            },
            "text/plain": [
              "  0%|          | 0/500 [00:00<?, ?it/s]"
            ]
          },
          "metadata": {},
          "output_type": "display_data"
        },
        {
          "name": "stdout",
          "output_type": "stream",
          "text": [
            "epoch = 0, loss_de = 14852.6865\n",
            "epoch = 50, loss_de = 2410.3535\n",
            "epoch = 100, loss_de = 1625.9519\n",
            "epoch = 150, loss_de = 1415.8876\n",
            "epoch = 200, loss_de = 1409.7358\n",
            "epoch = 250, loss_de = 1277.3464\n",
            "epoch = 300, loss_de = 1408.5731\n",
            "epoch = 350, loss_de = 1224.0717\n",
            "epoch = 400, loss_de = 1296.1754\n",
            "epoch = 450, loss_de = 1304.7850\n",
            "0.00380376516841352\n"
          ]
        },
        {
          "data": {
            "application/vnd.jupyter.widget-view+json": {
              "model_id": "54c7796fecef487d93449f746e1b3fe2",
              "version_major": 2,
              "version_minor": 0
            },
            "text/plain": [
              "  0%|          | 0/500 [00:00<?, ?it/s]"
            ]
          },
          "metadata": {},
          "output_type": "display_data"
        },
        {
          "name": "stdout",
          "output_type": "stream",
          "text": [
            "epoch = 0, loss_de = 15571.8525\n",
            "epoch = 50, loss_de = 2524.4570\n",
            "epoch = 100, loss_de = 1707.7286\n",
            "epoch = 150, loss_de = 1490.7433\n",
            "epoch = 200, loss_de = 1486.2520\n",
            "epoch = 250, loss_de = 1347.4279\n",
            "epoch = 300, loss_de = 1485.6108\n",
            "epoch = 350, loss_de = 1291.1385\n",
            "epoch = 400, loss_de = 1367.5657\n",
            "epoch = 450, loss_de = 1375.6906\n",
            "0.0038491524755954742\n"
          ]
        },
        {
          "data": {
            "application/vnd.jupyter.widget-view+json": {
              "model_id": "2b81572539e54df3b26e6daacb5b08f3",
              "version_major": 2,
              "version_minor": 0
            },
            "text/plain": [
              "  0%|          | 0/500 [00:00<?, ?it/s]"
            ]
          },
          "metadata": {},
          "output_type": "display_data"
        },
        {
          "name": "stdout",
          "output_type": "stream",
          "text": [
            "epoch = 0, loss_de = 16308.0176\n",
            "epoch = 50, loss_de = 2647.0000\n",
            "epoch = 100, loss_de = 1811.6434\n",
            "epoch = 150, loss_de = 1582.6329\n",
            "epoch = 200, loss_de = 1579.0658\n",
            "epoch = 250, loss_de = 1432.8715\n",
            "epoch = 300, loss_de = 1578.3700\n",
            "epoch = 350, loss_de = 1372.5847\n",
            "epoch = 400, loss_de = 1453.9639\n",
            "epoch = 450, loss_de = 1460.9821\n",
            "0.0039605265483260155\n"
          ]
        },
        {
          "data": {
            "application/vnd.jupyter.widget-view+json": {
              "model_id": "01fb2be1eaf64541af2c2cd7e9ed9f10",
              "version_major": 2,
              "version_minor": 0
            },
            "text/plain": [
              "  0%|          | 0/500 [00:00<?, ?it/s]"
            ]
          },
          "metadata": {},
          "output_type": "display_data"
        },
        {
          "name": "stdout",
          "output_type": "stream",
          "text": [
            "epoch = 0, loss_de = 17061.1895\n",
            "epoch = 50, loss_de = 2823.9021\n",
            "epoch = 100, loss_de = 1925.8000\n",
            "epoch = 150, loss_de = 1683.2136\n",
            "epoch = 200, loss_de = 1680.7115\n",
            "epoch = 250, loss_de = 1526.8131\n",
            "epoch = 300, loss_de = 1679.7252\n",
            "epoch = 350, loss_de = 1461.9672\n",
            "epoch = 400, loss_de = 1548.6790\n",
            "epoch = 450, loss_de = 1553.9104\n",
            "0.004093226511031389\n"
          ]
        },
        {
          "data": {
            "application/vnd.jupyter.widget-view+json": {
              "model_id": "d44759f8e8c243a380d0de252bb2d022",
              "version_major": 2,
              "version_minor": 0
            },
            "text/plain": [
              "  0%|          | 0/500 [00:00<?, ?it/s]"
            ]
          },
          "metadata": {},
          "output_type": "display_data"
        },
        {
          "name": "stdout",
          "output_type": "stream",
          "text": [
            "epoch = 0, loss_de = 17831.3633\n",
            "epoch = 50, loss_de = 2874.9490\n",
            "epoch = 100, loss_de = 1998.8306\n",
            "epoch = 150, loss_de = 1750.6602\n",
            "epoch = 200, loss_de = 1749.5861\n",
            "epoch = 250, loss_de = 1589.5768\n",
            "epoch = 300, loss_de = 1749.7460\n",
            "epoch = 350, loss_de = 1522.5798\n",
            "epoch = 400, loss_de = 1613.0350\n",
            "epoch = 450, loss_de = 1619.1405\n",
            "0.004110135603696108\n"
          ]
        },
        {
          "data": {
            "application/vnd.jupyter.widget-view+json": {
              "model_id": "643d03e951264046a6a5f63f5b93a184",
              "version_major": 2,
              "version_minor": 0
            },
            "text/plain": [
              "  0%|          | 0/500 [00:00<?, ?it/s]"
            ]
          },
          "metadata": {},
          "output_type": "display_data"
        },
        {
          "name": "stdout",
          "output_type": "stream",
          "text": [
            "epoch = 0, loss_de = 18618.5391\n",
            "epoch = 50, loss_de = 3015.1687\n",
            "epoch = 100, loss_de = 2078.4351\n",
            "epoch = 150, loss_de = 1827.2992\n",
            "epoch = 200, loss_de = 1828.8984\n",
            "epoch = 250, loss_de = 1662.5240\n",
            "epoch = 300, loss_de = 1830.0861\n",
            "epoch = 350, loss_de = 1592.5612\n",
            "epoch = 400, loss_de = 1687.4362\n",
            "epoch = 450, loss_de = 1693.0918\n",
            "0.0041368273086845875\n"
          ]
        },
        {
          "data": {
            "application/vnd.jupyter.widget-view+json": {
              "model_id": "ac8321438aea424380d41eb68e005f77",
              "version_major": 2,
              "version_minor": 0
            },
            "text/plain": [
              "  0%|          | 0/500 [00:00<?, ?it/s]"
            ]
          },
          "metadata": {},
          "output_type": "display_data"
        },
        {
          "name": "stdout",
          "output_type": "stream",
          "text": [
            "epoch = 0, loss_de = 19422.7188\n",
            "epoch = 50, loss_de = 3149.8196\n",
            "epoch = 100, loss_de = 2201.4075\n",
            "epoch = 150, loss_de = 1933.9517\n",
            "epoch = 200, loss_de = 1936.1492\n",
            "epoch = 250, loss_de = 1761.3698\n",
            "epoch = 300, loss_de = 1936.8217\n",
            "epoch = 350, loss_de = 1686.5914\n",
            "epoch = 400, loss_de = 1787.1772\n",
            "epoch = 450, loss_de = 1790.9596\n",
            "0.004262616857886314\n"
          ]
        },
        {
          "data": {
            "application/vnd.jupyter.widget-view+json": {
              "model_id": "a67ff4b28cbb41509c2d91898517b20c",
              "version_major": 2,
              "version_minor": 0
            },
            "text/plain": [
              "  0%|          | 0/500 [00:00<?, ?it/s]"
            ]
          },
          "metadata": {},
          "output_type": "display_data"
        },
        {
          "name": "stdout",
          "output_type": "stream",
          "text": [
            "epoch = 0, loss_de = 20243.8984\n",
            "epoch = 50, loss_de = 3297.1025\n",
            "epoch = 100, loss_de = 2309.7800\n",
            "epoch = 150, loss_de = 2029.7684\n",
            "epoch = 200, loss_de = 2033.0468\n",
            "epoch = 250, loss_de = 1850.5200\n",
            "epoch = 300, loss_de = 2033.8176\n",
            "epoch = 350, loss_de = 1771.7064\n",
            "epoch = 400, loss_de = 1877.3593\n",
            "epoch = 450, loss_de = 1880.2184\n",
            "0.004351353272795677\n"
          ]
        },
        {
          "data": {
            "application/vnd.jupyter.widget-view+json": {
              "model_id": "8c9a9dfe3d164283acedea7d29d1f03f",
              "version_major": 2,
              "version_minor": 0
            },
            "text/plain": [
              "  0%|          | 0/500 [00:00<?, ?it/s]"
            ]
          },
          "metadata": {},
          "output_type": "display_data"
        },
        {
          "name": "stdout",
          "output_type": "stream",
          "text": [
            "epoch = 0, loss_de = 21082.0840\n",
            "epoch = 50, loss_de = 3423.8877\n",
            "epoch = 100, loss_de = 2401.7488\n",
            "epoch = 150, loss_de = 2114.1372\n",
            "epoch = 200, loss_de = 2119.1409\n",
            "epoch = 250, loss_de = 1929.5426\n",
            "epoch = 300, loss_de = 2120.7473\n",
            "epoch = 350, loss_de = 1847.5520\n",
            "epoch = 400, loss_de = 1957.7810\n",
            "epoch = 450, loss_de = 1960.6016\n",
            "0.004397879354655743\n"
          ]
        },
        {
          "data": {
            "application/vnd.jupyter.widget-view+json": {
              "model_id": "fe2d2aa446a6453e82217ee5c715e912",
              "version_major": 2,
              "version_minor": 0
            },
            "text/plain": [
              "  0%|          | 0/500 [00:00<?, ?it/s]"
            ]
          },
          "metadata": {},
          "output_type": "display_data"
        },
        {
          "name": "stdout",
          "output_type": "stream",
          "text": [
            "epoch = 0, loss_de = 21937.2734\n",
            "epoch = 50, loss_de = 3554.3013\n",
            "epoch = 100, loss_de = 2502.1257\n",
            "epoch = 150, loss_de = 2204.0288\n",
            "epoch = 200, loss_de = 2210.3291\n",
            "epoch = 250, loss_de = 2013.0699\n",
            "epoch = 300, loss_de = 2212.4070\n",
            "epoch = 350, loss_de = 1927.5789\n",
            "epoch = 400, loss_de = 2042.7177\n",
            "epoch = 450, loss_de = 2045.2866\n",
            "0.0044532716274261475\n"
          ]
        },
        {
          "data": {
            "application/vnd.jupyter.widget-view+json": {
              "model_id": "d0bb7924d822410ebf1fac2380b50f37",
              "version_major": 2,
              "version_minor": 0
            },
            "text/plain": [
              "  0%|          | 0/500 [00:00<?, ?it/s]"
            ]
          },
          "metadata": {},
          "output_type": "display_data"
        },
        {
          "name": "stdout",
          "output_type": "stream",
          "text": [
            "epoch = 0, loss_de = 22809.4629\n",
            "epoch = 50, loss_de = 3689.5049\n",
            "epoch = 100, loss_de = 2607.8701\n",
            "epoch = 150, loss_de = 2298.7412\n",
            "epoch = 200, loss_de = 2306.2639\n",
            "epoch = 250, loss_de = 2101.1597\n",
            "epoch = 300, loss_de = 2308.7471\n",
            "epoch = 350, loss_de = 2011.8503\n",
            "epoch = 400, loss_de = 2132.1184\n",
            "epoch = 450, loss_de = 2134.0701\n",
            "0.004515985958278179\n"
          ]
        },
        {
          "data": {
            "application/vnd.jupyter.widget-view+json": {
              "model_id": "514ad12b798243ab8b43fae645eae131",
              "version_major": 2,
              "version_minor": 0
            },
            "text/plain": [
              "  0%|          | 0/500 [00:00<?, ?it/s]"
            ]
          },
          "metadata": {},
          "output_type": "display_data"
        },
        {
          "name": "stdout",
          "output_type": "stream",
          "text": [
            "epoch = 0, loss_de = 23698.6562\n",
            "epoch = 50, loss_de = 3837.4248\n",
            "epoch = 100, loss_de = 2716.8459\n",
            "epoch = 150, loss_de = 2397.7769\n",
            "epoch = 200, loss_de = 2407.5271\n",
            "epoch = 250, loss_de = 2194.4998\n",
            "epoch = 300, loss_de = 2410.4204\n",
            "epoch = 350, loss_de = 2100.9968\n",
            "epoch = 400, loss_de = 2226.6853\n",
            "epoch = 450, loss_de = 2227.3879\n",
            "0.004583949688822031\n"
          ]
        },
        {
          "data": {
            "application/vnd.jupyter.widget-view+json": {
              "model_id": "95a8f7c2a54d489eb83cdba8cff4d826",
              "version_major": 2,
              "version_minor": 0
            },
            "text/plain": [
              "  0%|          | 0/500 [00:00<?, ?it/s]"
            ]
          },
          "metadata": {},
          "output_type": "display_data"
        },
        {
          "name": "stdout",
          "output_type": "stream",
          "text": [
            "epoch = 0, loss_de = 24604.8535\n",
            "epoch = 50, loss_de = 4174.8374\n",
            "epoch = 100, loss_de = 2850.5967\n",
            "epoch = 150, loss_de = 2516.5344\n",
            "epoch = 200, loss_de = 2528.3235\n",
            "epoch = 250, loss_de = 2306.5134\n",
            "epoch = 300, loss_de = 2530.9619\n",
            "epoch = 350, loss_de = 2207.4597\n",
            "epoch = 400, loss_de = 2339.4563\n",
            "epoch = 450, loss_de = 2337.1816\n",
            "0.004699846263974905\n"
          ]
        },
        {
          "data": {
            "application/vnd.jupyter.widget-view+json": {
              "model_id": "c111f38520f14dd09555217e3c5fbd2f",
              "version_major": 2,
              "version_minor": 0
            },
            "text/plain": [
              "  0%|          | 0/500 [00:00<?, ?it/s]"
            ]
          },
          "metadata": {},
          "output_type": "display_data"
        },
        {
          "name": "stdout",
          "output_type": "stream",
          "text": [
            "epoch = 0, loss_de = 25528.0488\n",
            "epoch = 50, loss_de = 4287.2505\n",
            "epoch = 100, loss_de = 2964.0906\n",
            "epoch = 150, loss_de = 2619.2373\n",
            "epoch = 200, loss_de = 2633.0400\n",
            "epoch = 250, loss_de = 2403.0769\n",
            "epoch = 300, loss_de = 2636.1897\n",
            "epoch = 350, loss_de = 2299.7476\n",
            "epoch = 400, loss_de = 2437.2700\n",
            "epoch = 450, loss_de = 2433.8125\n",
            "0.004768226761370897\n"
          ]
        },
        {
          "data": {
            "application/vnd.jupyter.widget-view+json": {
              "model_id": "d49989901aa5467183781f370c917eaa",
              "version_major": 2,
              "version_minor": 0
            },
            "text/plain": [
              "  0%|          | 0/500 [00:00<?, ?it/s]"
            ]
          },
          "metadata": {},
          "output_type": "display_data"
        },
        {
          "name": "stdout",
          "output_type": "stream",
          "text": [
            "epoch = 0, loss_de = 26468.2539\n",
            "epoch = 50, loss_de = 4397.6431\n",
            "epoch = 100, loss_de = 3068.3977\n",
            "epoch = 150, loss_de = 2714.5061\n",
            "epoch = 200, loss_de = 2730.1494\n",
            "epoch = 250, loss_de = 2492.1909\n",
            "epoch = 300, loss_de = 2734.1128\n",
            "epoch = 350, loss_de = 2385.1958\n",
            "epoch = 400, loss_de = 2527.9321\n",
            "epoch = 450, loss_de = 2524.2239\n",
            "0.004810885060578585\n"
          ]
        },
        {
          "data": {
            "application/vnd.jupyter.widget-view+json": {
              "model_id": "c02164790acd482da20f240e55885f54",
              "version_major": 2,
              "version_minor": 0
            },
            "text/plain": [
              "  0%|          | 0/500 [00:00<?, ?it/s]"
            ]
          },
          "metadata": {},
          "output_type": "display_data"
        },
        {
          "name": "stdout",
          "output_type": "stream",
          "text": [
            "epoch = 0, loss_de = 27425.4590\n",
            "epoch = 50, loss_de = 4536.6748\n",
            "epoch = 100, loss_de = 3174.0417\n",
            "epoch = 150, loss_de = 2810.0935\n",
            "epoch = 200, loss_de = 2827.3809\n",
            "epoch = 250, loss_de = 2581.2649\n",
            "epoch = 300, loss_de = 2832.1792\n",
            "epoch = 350, loss_de = 2470.6438\n",
            "epoch = 400, loss_de = 2618.6489\n",
            "epoch = 450, loss_de = 2614.9319\n",
            "0.004850069992244244\n"
          ]
        },
        {
          "data": {
            "application/vnd.jupyter.widget-view+json": {
              "model_id": "1b49e309f28d4f0f9e408a40053dbfe6",
              "version_major": 2,
              "version_minor": 0
            },
            "text/plain": [
              "  0%|          | 0/500 [00:00<?, ?it/s]"
            ]
          },
          "metadata": {},
          "output_type": "display_data"
        },
        {
          "name": "stdout",
          "output_type": "stream",
          "text": [
            "epoch = 0, loss_de = 28399.6641\n",
            "epoch = 50, loss_de = 4928.2056\n",
            "epoch = 100, loss_de = 3299.2285\n",
            "epoch = 150, loss_de = 2921.8196\n",
            "epoch = 200, loss_de = 2940.5947\n",
            "epoch = 250, loss_de = 2685.4331\n",
            "epoch = 300, loss_de = 2945.5479\n",
            "epoch = 350, loss_de = 2570.1157\n",
            "epoch = 400, loss_de = 2724.1052\n",
            "epoch = 450, loss_de = 2719.1545\n",
            "0.004929231479763985\n"
          ]
        },
        {
          "data": {
            "application/vnd.jupyter.widget-view+json": {
              "model_id": "87b5a75ea83e47c68b14964ba24b0ac0",
              "version_major": 2,
              "version_minor": 0
            },
            "text/plain": [
              "  0%|          | 0/500 [00:00<?, ?it/s]"
            ]
          },
          "metadata": {},
          "output_type": "display_data"
        },
        {
          "name": "stdout",
          "output_type": "stream",
          "text": [
            "epoch = 0, loss_de = 29390.8809\n",
            "epoch = 50, loss_de = 5127.8057\n",
            "epoch = 100, loss_de = 3435.7932\n",
            "epoch = 150, loss_de = 3042.4836\n",
            "epoch = 200, loss_de = 3062.9731\n",
            "epoch = 250, loss_de = 2798.4109\n",
            "epoch = 300, loss_de = 3067.8708\n",
            "epoch = 350, loss_de = 2677.8101\n",
            "epoch = 400, loss_de = 2838.1409\n",
            "epoch = 450, loss_de = 2831.2458\n",
            "0.005027231760323048\n"
          ]
        },
        {
          "data": {
            "application/vnd.jupyter.widget-view+json": {
              "model_id": "bf32b6ebe4bf466f92e2a58a8af82882",
              "version_major": 2,
              "version_minor": 0
            },
            "text/plain": [
              "  0%|          | 0/500 [00:00<?, ?it/s]"
            ]
          },
          "metadata": {},
          "output_type": "display_data"
        },
        {
          "name": "stdout",
          "output_type": "stream",
          "text": [
            "epoch = 0, loss_de = 30399.0918\n",
            "epoch = 50, loss_de = 5316.4434\n",
            "epoch = 100, loss_de = 3563.2859\n",
            "epoch = 150, loss_de = 3157.0176\n",
            "epoch = 200, loss_de = 3179.3582\n",
            "epoch = 250, loss_de = 2905.6804\n",
            "epoch = 300, loss_de = 3184.5901\n",
            "epoch = 350, loss_de = 2780.2683\n",
            "epoch = 400, loss_de = 2946.6831\n",
            "epoch = 450, loss_de = 2938.4663\n",
            "0.00510247191414237\n"
          ]
        },
        {
          "data": {
            "application/vnd.jupyter.widget-view+json": {
              "model_id": "fdd12521ba5847b381be4fb920edff22",
              "version_major": 2,
              "version_minor": 0
            },
            "text/plain": [
              "  0%|          | 0/500 [00:00<?, ?it/s]"
            ]
          },
          "metadata": {},
          "output_type": "display_data"
        },
        {
          "name": "stdout",
          "output_type": "stream",
          "text": [
            "epoch = 0, loss_de = 31424.3047\n",
            "epoch = 50, loss_de = 5497.9238\n",
            "epoch = 100, loss_de = 3690.8792\n",
            "epoch = 150, loss_de = 3271.8398\n",
            "epoch = 200, loss_de = 3296.0703\n",
            "epoch = 250, loss_de = 3013.1809\n",
            "epoch = 300, loss_de = 3301.7363\n",
            "epoch = 350, loss_de = 2883.0225\n",
            "epoch = 400, loss_de = 3055.5713\n",
            "epoch = 450, loss_de = 3046.1899\n",
            "0.0051734535954892635\n"
          ]
        },
        {
          "data": {
            "application/vnd.jupyter.widget-view+json": {
              "model_id": "b5ea9a8497ab482ab83f849683a3336f",
              "version_major": 2,
              "version_minor": 0
            },
            "text/plain": [
              "  0%|          | 0/500 [00:00<?, ?it/s]"
            ]
          },
          "metadata": {},
          "output_type": "display_data"
        },
        {
          "name": "stdout",
          "output_type": "stream",
          "text": [
            "epoch = 0, loss_de = 32466.5254\n",
            "epoch = 50, loss_de = 5690.9326\n",
            "epoch = 100, loss_de = 3817.1533\n",
            "epoch = 150, loss_de = 3386.0620\n",
            "epoch = 200, loss_de = 3412.3196\n",
            "epoch = 250, loss_de = 3120.1785\n",
            "epoch = 300, loss_de = 3418.5327\n",
            "epoch = 350, loss_de = 2985.3669\n",
            "epoch = 400, loss_de = 3164.0598\n",
            "epoch = 450, loss_de = 3153.6772\n",
            "0.005237448960542679\n"
          ]
        },
        {
          "data": {
            "application/vnd.jupyter.widget-view+json": {
              "model_id": "3ee6d6c678934eceae8d5158e3753dd3",
              "version_major": 2,
              "version_minor": 0
            },
            "text/plain": [
              "  0%|          | 0/500 [00:00<?, ?it/s]"
            ]
          },
          "metadata": {},
          "output_type": "display_data"
        },
        {
          "name": "stdout",
          "output_type": "stream",
          "text": [
            "epoch = 0, loss_de = 33525.7500\n",
            "epoch = 50, loss_de = 5880.0322\n",
            "epoch = 100, loss_de = 3949.8484\n",
            "epoch = 150, loss_de = 3504.2056\n",
            "epoch = 200, loss_de = 3531.6008\n",
            "epoch = 250, loss_de = 3229.6953\n",
            "epoch = 300, loss_de = 3538.0947\n",
            "epoch = 350, loss_de = 3090.1316\n",
            "epoch = 400, loss_de = 3275.1309\n",
            "epoch = 450, loss_de = 3264.0225\n",
            "0.005307476501911879\n"
          ]
        },
        {
          "data": {
            "application/vnd.jupyter.widget-view+json": {
              "model_id": "630bcd225bdf4b74b080f58c0d361dc9",
              "version_major": 2,
              "version_minor": 0
            },
            "text/plain": [
              "  0%|          | 0/500 [00:00<?, ?it/s]"
            ]
          },
          "metadata": {},
          "output_type": "display_data"
        },
        {
          "name": "stdout",
          "output_type": "stream",
          "text": [
            "epoch = 0, loss_de = 34601.9727\n",
            "epoch = 50, loss_de = 6081.1318\n",
            "epoch = 100, loss_de = 4091.0571\n",
            "epoch = 150, loss_de = 3629.9548\n",
            "epoch = 200, loss_de = 3658.8772\n",
            "epoch = 250, loss_de = 3346.9329\n",
            "epoch = 300, loss_de = 3665.5120\n",
            "epoch = 350, loss_de = 3202.1064\n",
            "epoch = 400, loss_de = 3393.7236\n",
            "epoch = 450, loss_de = 3381.2051\n",
            "0.005391932092607021\n"
          ]
        },
        {
          "data": {
            "application/vnd.jupyter.widget-view+json": {
              "model_id": "7d50617a70f0406c88ec43cea82b410f",
              "version_major": 2,
              "version_minor": 0
            },
            "text/plain": [
              "  0%|          | 0/500 [00:00<?, ?it/s]"
            ]
          },
          "metadata": {},
          "output_type": "display_data"
        },
        {
          "name": "stdout",
          "output_type": "stream",
          "text": [
            "epoch = 0, loss_de = 35695.1992\n",
            "epoch = 50, loss_de = 6283.8208\n",
            "epoch = 100, loss_de = 4229.9233\n",
            "epoch = 150, loss_de = 3754.3936\n",
            "epoch = 200, loss_de = 3785.9788\n",
            "epoch = 250, loss_de = 3464.4419\n",
            "epoch = 300, loss_de = 3793.1899\n",
            "epoch = 350, loss_de = 3314.3193\n",
            "epoch = 400, loss_de = 3512.5093\n",
            "epoch = 450, loss_de = 3498.2112\n",
            "0.005466418340802193\n"
          ]
        },
        {
          "data": {
            "application/vnd.jupyter.widget-view+json": {
              "model_id": "52bd0c8e8a8f4841ab9c78218f4bdd48",
              "version_major": 2,
              "version_minor": 0
            },
            "text/plain": [
              "  0%|          | 0/500 [00:00<?, ?it/s]"
            ]
          },
          "metadata": {},
          "output_type": "display_data"
        },
        {
          "name": "stdout",
          "output_type": "stream",
          "text": [
            "epoch = 0, loss_de = 36805.4336\n",
            "epoch = 50, loss_de = 6488.4834\n",
            "epoch = 100, loss_de = 4369.8262\n",
            "epoch = 150, loss_de = 3880.9663\n",
            "epoch = 200, loss_de = 3914.7944\n",
            "epoch = 250, loss_de = 3583.2925\n",
            "epoch = 300, loss_de = 3922.4280\n",
            "epoch = 350, loss_de = 3427.8633\n",
            "epoch = 400, loss_de = 3632.7244\n",
            "epoch = 450, loss_de = 3616.8809\n",
            "0.005541888996958733\n"
          ]
        },
        {
          "data": {
            "application/vnd.jupyter.widget-view+json": {
              "model_id": "f99481f29d2142159f0b204faebd9480",
              "version_major": 2,
              "version_minor": 0
            },
            "text/plain": [
              "  0%|          | 0/500 [00:00<?, ?it/s]"
            ]
          },
          "metadata": {},
          "output_type": "display_data"
        },
        {
          "name": "stdout",
          "output_type": "stream",
          "text": [
            "epoch = 0, loss_de = 37932.6641\n",
            "epoch = 50, loss_de = 6686.7827\n",
            "epoch = 100, loss_de = 4513.8608\n",
            "epoch = 150, loss_de = 4008.3696\n",
            "epoch = 200, loss_de = 4044.0713\n",
            "epoch = 250, loss_de = 3702.3232\n",
            "epoch = 300, loss_de = 4052.0356\n",
            "epoch = 350, loss_de = 3541.5825\n",
            "epoch = 400, loss_de = 3753.2188\n",
            "epoch = 450, loss_de = 3736.0396\n",
            "0.005612713750451803\n"
          ]
        },
        {
          "data": {
            "application/vnd.jupyter.widget-view+json": {
              "model_id": "9dd8cb878b52443cafea2470493f3b86",
              "version_major": 2,
              "version_minor": 0
            },
            "text/plain": [
              "  0%|          | 0/500 [00:00<?, ?it/s]"
            ]
          },
          "metadata": {},
          "output_type": "display_data"
        },
        {
          "name": "stdout",
          "output_type": "stream",
          "text": [
            "epoch = 0, loss_de = 39076.8984\n",
            "epoch = 50, loss_de = 6895.1304\n",
            "epoch = 100, loss_de = 4655.1587\n",
            "epoch = 150, loss_de = 4134.9292\n",
            "epoch = 200, loss_de = 4172.0854\n",
            "epoch = 250, loss_de = 3819.8601\n",
            "epoch = 300, loss_de = 4180.3623\n",
            "epoch = 350, loss_de = 3654.0076\n",
            "epoch = 400, loss_de = 3872.4348\n",
            "epoch = 450, loss_de = 3854.3872\n",
            "0.0056761945597827435\n"
          ]
        },
        {
          "data": {
            "application/vnd.jupyter.widget-view+json": {
              "model_id": "711289b458c443a1aab51b35b3f755f0",
              "version_major": 2,
              "version_minor": 0
            },
            "text/plain": [
              "  0%|          | 0/500 [00:00<?, ?it/s]"
            ]
          },
          "metadata": {},
          "output_type": "display_data"
        },
        {
          "name": "stdout",
          "output_type": "stream",
          "text": [
            "epoch = 0, loss_de = 40238.1406\n",
            "epoch = 50, loss_de = 7106.6968\n",
            "epoch = 100, loss_de = 4804.0894\n",
            "epoch = 150, loss_de = 4269.2881\n",
            "epoch = 200, loss_de = 4308.4087\n",
            "epoch = 250, loss_de = 3945.6077\n",
            "epoch = 300, loss_de = 4316.9663\n",
            "epoch = 350, loss_de = 3774.0759\n",
            "epoch = 400, loss_de = 3999.5503\n",
            "epoch = 450, loss_de = 3979.8152\n",
            "0.005754558369517326\n"
          ]
        },
        {
          "data": {
            "application/vnd.jupyter.widget-view+json": {
              "model_id": "7c290e431423442c8b1fa548a676c775",
              "version_major": 2,
              "version_minor": 0
            },
            "text/plain": [
              "  0%|          | 0/500 [00:00<?, ?it/s]"
            ]
          },
          "metadata": {},
          "output_type": "display_data"
        },
        {
          "name": "stdout",
          "output_type": "stream",
          "text": [
            "epoch = 0, loss_de = 41416.3828\n",
            "epoch = 50, loss_de = 7314.4385\n",
            "epoch = 100, loss_de = 4959.9790\n",
            "epoch = 150, loss_de = 4408.2437\n",
            "epoch = 200, loss_de = 4449.4790\n",
            "epoch = 250, loss_de = 4075.9744\n",
            "epoch = 300, loss_de = 4458.2983\n",
            "epoch = 350, loss_de = 3898.4812\n",
            "epoch = 400, loss_de = 4131.1382\n",
            "epoch = 450, loss_de = 4109.3838\n",
            "0.005839816760271788\n"
          ]
        },
        {
          "data": {
            "application/vnd.jupyter.widget-view+json": {
              "model_id": "1848bf57dc1c4b67a3aa1a7b27335de4",
              "version_major": 2,
              "version_minor": 0
            },
            "text/plain": [
              "  0%|          | 0/500 [00:00<?, ?it/s]"
            ]
          },
          "metadata": {},
          "output_type": "display_data"
        },
        {
          "name": "stdout",
          "output_type": "stream",
          "text": [
            "epoch = 0, loss_de = 42611.6328\n",
            "epoch = 50, loss_de = 7536.6240\n",
            "epoch = 100, loss_de = 5116.0298\n",
            "epoch = 150, loss_de = 4547.9087\n",
            "epoch = 200, loss_de = 4591.4268\n",
            "epoch = 250, loss_de = 4206.9810\n",
            "epoch = 300, loss_de = 4600.4385\n",
            "epoch = 350, loss_de = 4023.5017\n",
            "epoch = 400, loss_de = 4263.4204\n",
            "epoch = 450, loss_de = 4239.7788\n",
            "0.005921478848904371\n"
          ]
        },
        {
          "data": {
            "application/vnd.jupyter.widget-view+json": {
              "model_id": "cceb445af626425d9a1012de39f19cca",
              "version_major": 2,
              "version_minor": 0
            },
            "text/plain": [
              "  0%|          | 0/500 [00:00<?, ?it/s]"
            ]
          },
          "metadata": {},
          "output_type": "display_data"
        },
        {
          "name": "stdout",
          "output_type": "stream",
          "text": [
            "epoch = 0, loss_de = 43823.8828\n",
            "epoch = 50, loss_de = 7763.7046\n",
            "epoch = 100, loss_de = 5277.3389\n",
            "epoch = 150, loss_de = 4690.7231\n",
            "epoch = 200, loss_de = 4736.3735\n",
            "epoch = 250, loss_de = 4340.7202\n",
            "epoch = 300, loss_de = 4745.4766\n",
            "epoch = 350, loss_de = 4151.1069\n",
            "epoch = 400, loss_de = 4398.4199\n",
            "epoch = 450, loss_de = 4372.8496\n",
            "0.006005282048135996\n"
          ]
        },
        {
          "data": {
            "application/vnd.jupyter.widget-view+json": {
              "model_id": "04d6b8a429e74bf08cf0f216c05bfb49",
              "version_major": 2,
              "version_minor": 0
            },
            "text/plain": [
              "  0%|          | 0/500 [00:00<?, ?it/s]"
            ]
          },
          "metadata": {},
          "output_type": "display_data"
        },
        {
          "name": "stdout",
          "output_type": "stream",
          "text": [
            "epoch = 0, loss_de = 45053.1289\n",
            "epoch = 50, loss_de = 7986.2017\n",
            "epoch = 100, loss_de = 5437.5474\n",
            "epoch = 150, loss_de = 4832.4277\n",
            "epoch = 200, loss_de = 4880.4883\n",
            "epoch = 250, loss_de = 4473.5840\n",
            "epoch = 300, loss_de = 4889.8159\n",
            "epoch = 350, loss_de = 4277.9541\n",
            "epoch = 400, loss_de = 4532.6797\n",
            "epoch = 450, loss_de = 4505.3516\n",
            "0.006081115920096636\n"
          ]
        },
        {
          "data": {
            "application/vnd.jupyter.widget-view+json": {
              "model_id": "156f5c8e5bed457a9ac0c58ef1f9ee3a",
              "version_major": 2,
              "version_minor": 0
            },
            "text/plain": [
              "  0%|          | 0/500 [00:00<?, ?it/s]"
            ]
          },
          "metadata": {},
          "output_type": "display_data"
        },
        {
          "name": "stdout",
          "output_type": "stream",
          "text": [
            "epoch = 0, loss_de = 46299.3828\n",
            "epoch = 50, loss_de = 8207.9092\n",
            "epoch = 100, loss_de = 5594.1865\n",
            "epoch = 150, loss_de = 4973.0767\n",
            "epoch = 200, loss_de = 5023.4014\n",
            "epoch = 250, loss_de = 4605.2461\n",
            "epoch = 300, loss_de = 5033.1313\n",
            "epoch = 350, loss_de = 4403.7749\n",
            "epoch = 400, loss_de = 4665.9170\n",
            "epoch = 450, loss_de = 4637.0938\n",
            "0.00614899443462491\n"
          ]
        },
        {
          "data": {
            "application/vnd.jupyter.widget-view+json": {
              "model_id": "a105274bbe4b45c296b763d8117ee4d4",
              "version_major": 2,
              "version_minor": 0
            },
            "text/plain": [
              "  0%|          | 0/500 [00:00<?, ?it/s]"
            ]
          },
          "metadata": {},
          "output_type": "display_data"
        },
        {
          "name": "stdout",
          "output_type": "stream",
          "text": [
            "epoch = 0, loss_de = 47562.6367\n",
            "epoch = 50, loss_de = 8433.9746\n",
            "epoch = 100, loss_de = 5751.5430\n",
            "epoch = 150, loss_de = 5114.8154\n",
            "epoch = 200, loss_de = 5167.5024\n",
            "epoch = 250, loss_de = 4738.0625\n",
            "epoch = 300, loss_de = 5177.7432\n",
            "epoch = 350, loss_de = 4530.7256\n",
            "epoch = 400, loss_de = 4800.3457\n",
            "epoch = 450, loss_de = 4770.0259\n",
            "0.006214817054569721\n"
          ]
        },
        {
          "data": {
            "application/vnd.jupyter.widget-view+json": {
              "model_id": "463c97778c1e44c095435e5564809648",
              "version_major": 2,
              "version_minor": 0
            },
            "text/plain": [
              "  0%|          | 0/500 [00:00<?, ?it/s]"
            ]
          },
          "metadata": {},
          "output_type": "display_data"
        },
        {
          "name": "stdout",
          "output_type": "stream",
          "text": [
            "epoch = 0, loss_de = 48842.8984\n",
            "epoch = 50, loss_de = 8664.7852\n",
            "epoch = 100, loss_de = 5908.4048\n",
            "epoch = 150, loss_de = 5257.4160\n",
            "epoch = 200, loss_de = 5312.8350\n",
            "epoch = 250, loss_de = 4872.1353\n",
            "epoch = 300, loss_de = 5323.7407\n",
            "epoch = 350, loss_de = 4658.9082\n",
            "epoch = 400, loss_de = 4936.0513\n",
            "epoch = 450, loss_de = 4904.2046\n",
            "0.006279056891798973\n"
          ]
        },
        {
          "data": {
            "application/vnd.jupyter.widget-view+json": {
              "model_id": "e2b8585db8cf4ef8864e35c251ee05c4",
              "version_major": 2,
              "version_minor": 0
            },
            "text/plain": [
              "  0%|          | 0/500 [00:00<?, ?it/s]"
            ]
          },
          "metadata": {},
          "output_type": "display_data"
        },
        {
          "name": "stdout",
          "output_type": "stream",
          "text": [
            "epoch = 0, loss_de = 50140.1562\n",
            "epoch = 50, loss_de = 8898.6396\n",
            "epoch = 100, loss_de = 6068.8423\n",
            "epoch = 150, loss_de = 5404.1265\n",
            "epoch = 200, loss_de = 5461.9233\n",
            "epoch = 250, loss_de = 5009.8774\n",
            "epoch = 300, loss_de = 5473.5381\n",
            "epoch = 350, loss_de = 4790.6069\n",
            "epoch = 400, loss_de = 5075.3701\n",
            "epoch = 450, loss_de = 5041.8804\n",
            "0.006348807364702225\n"
          ]
        },
        {
          "data": {
            "application/vnd.jupyter.widget-view+json": {
              "model_id": "6df4af150b7545bfb4760aec54f0357c",
              "version_major": 2,
              "version_minor": 0
            },
            "text/plain": [
              "  0%|          | 0/500 [00:00<?, ?it/s]"
            ]
          },
          "metadata": {},
          "output_type": "display_data"
        },
        {
          "name": "stdout",
          "output_type": "stream",
          "text": [
            "epoch = 0, loss_de = 51454.4258\n",
            "epoch = 50, loss_de = 9154.8066\n",
            "epoch = 100, loss_de = 6232.4678\n",
            "epoch = 150, loss_de = 5552.8154\n",
            "epoch = 200, loss_de = 5612.5815\n",
            "epoch = 250, loss_de = 5148.8906\n",
            "epoch = 300, loss_de = 5624.8218\n",
            "epoch = 350, loss_de = 4923.5947\n",
            "epoch = 400, loss_de = 5216.1035\n",
            "epoch = 450, loss_de = 5181.1450\n",
            "0.006417691241949797\n"
          ]
        },
        {
          "data": {
            "application/vnd.jupyter.widget-view+json": {
              "model_id": "f8e96d9cad4e403cb47b51589da1e6de",
              "version_major": 2,
              "version_minor": 0
            },
            "text/plain": [
              "  0%|          | 0/500 [00:00<?, ?it/s]"
            ]
          },
          "metadata": {},
          "output_type": "display_data"
        },
        {
          "name": "stdout",
          "output_type": "stream",
          "text": [
            "epoch = 0, loss_de = 52785.6953\n",
            "epoch = 50, loss_de = 9450.9072\n",
            "epoch = 100, loss_de = 6395.0264\n",
            "epoch = 150, loss_de = 5702.2266\n",
            "epoch = 200, loss_de = 5766.7358\n",
            "epoch = 250, loss_de = 5291.7925\n",
            "epoch = 300, loss_de = 5780.1177\n",
            "epoch = 350, loss_de = 5060.2378\n",
            "epoch = 400, loss_de = 5360.5005\n",
            "epoch = 450, loss_de = 5323.5039\n",
            "0.0064904228784143925\n"
          ]
        },
        {
          "data": {
            "application/vnd.jupyter.widget-view+json": {
              "model_id": "8b528520a15f4877bf4ec590366adce8",
              "version_major": 2,
              "version_minor": 0
            },
            "text/plain": [
              "  0%|          | 0/500 [00:00<?, ?it/s]"
            ]
          },
          "metadata": {},
          "output_type": "display_data"
        },
        {
          "name": "stdout",
          "output_type": "stream",
          "text": [
            "epoch = 0, loss_de = 54133.9648\n",
            "epoch = 50, loss_de = 9736.1816\n",
            "epoch = 100, loss_de = 6565.3193\n",
            "epoch = 150, loss_de = 5858.6758\n",
            "epoch = 200, loss_de = 5926.5938\n",
            "epoch = 250, loss_de = 5439.8608\n",
            "epoch = 300, loss_de = 5940.7910\n",
            "epoch = 350, loss_de = 5201.7734\n",
            "epoch = 400, loss_de = 5510.0498\n",
            "epoch = 450, loss_de = 5470.9775\n",
            "0.006571836769580841\n"
          ]
        },
        {
          "data": {
            "application/vnd.jupyter.widget-view+json": {
              "model_id": "3a6dc0cff0d2489dafbfda27798ebb3a",
              "version_major": 2,
              "version_minor": 0
            },
            "text/plain": [
              "  0%|          | 0/500 [00:00<?, ?it/s]"
            ]
          },
          "metadata": {},
          "output_type": "display_data"
        },
        {
          "name": "stdout",
          "output_type": "stream",
          "text": [
            "epoch = 0, loss_de = 55499.2383\n",
            "epoch = 50, loss_de = 9935.8877\n",
            "epoch = 100, loss_de = 6727.7202\n",
            "epoch = 150, loss_de = 6003.6245\n",
            "epoch = 200, loss_de = 6074.9351\n",
            "epoch = 250, loss_de = 5576.4878\n",
            "epoch = 300, loss_de = 6090.2485\n",
            "epoch = 350, loss_de = 5332.6421\n",
            "epoch = 400, loss_de = 5648.8394\n",
            "epoch = 450, loss_de = 5608.6475\n",
            "0.006618672050535679\n"
          ]
        },
        {
          "data": {
            "application/vnd.jupyter.widget-view+json": {
              "model_id": "8f8853af0d7442a0ba2349369eeb23d4",
              "version_major": 2,
              "version_minor": 0
            },
            "text/plain": [
              "  0%|          | 0/500 [00:00<?, ?it/s]"
            ]
          },
          "metadata": {},
          "output_type": "display_data"
        },
        {
          "name": "stdout",
          "output_type": "stream",
          "text": [
            "epoch = 0, loss_de = 56881.5117\n",
            "epoch = 50, loss_de = 10153.8574\n",
            "epoch = 100, loss_de = 6878.1689\n",
            "epoch = 150, loss_de = 6143.7832\n",
            "epoch = 200, loss_de = 6218.4644\n",
            "epoch = 250, loss_de = 5708.4219\n",
            "epoch = 300, loss_de = 6235.2090\n",
            "epoch = 350, loss_de = 5459.2070\n",
            "epoch = 400, loss_de = 5783.2886\n",
            "epoch = 450, loss_de = 5742.4126\n",
            "0.006649530027061701\n"
          ]
        },
        {
          "data": {
            "application/vnd.jupyter.widget-view+json": {
              "model_id": "2bae3b6dd117482c886bbee52389c46f",
              "version_major": 2,
              "version_minor": 0
            },
            "text/plain": [
              "  0%|          | 0/500 [00:00<?, ?it/s]"
            ]
          },
          "metadata": {},
          "output_type": "display_data"
        },
        {
          "name": "stdout",
          "output_type": "stream",
          "text": [
            "epoch = 0, loss_de = 58280.7891\n",
            "epoch = 50, loss_de = 10433.7256\n",
            "epoch = 100, loss_de = 7037.3306\n",
            "epoch = 150, loss_de = 6287.0391\n",
            "epoch = 200, loss_de = 6365.4790\n",
            "epoch = 250, loss_de = 5843.7266\n",
            "epoch = 300, loss_de = 6383.6523\n",
            "epoch = 350, loss_de = 5588.9390\n",
            "epoch = 400, loss_de = 5920.9927\n",
            "epoch = 450, loss_de = 5879.2686\n",
            "0.006685121916234493\n"
          ]
        },
        {
          "data": {
            "application/vnd.jupyter.widget-view+json": {
              "model_id": "44958ec77a2f4bdbb40ff45d9c7c62f9",
              "version_major": 2,
              "version_minor": 0
            },
            "text/plain": [
              "  0%|          | 0/500 [00:00<?, ?it/s]"
            ]
          },
          "metadata": {},
          "output_type": "display_data"
        },
        {
          "name": "stdout",
          "output_type": "stream",
          "text": [
            "epoch = 0, loss_de = 59697.0742\n",
            "epoch = 50, loss_de = 10693.5674\n",
            "epoch = 100, loss_de = 7201.6055\n",
            "epoch = 150, loss_de = 6434.8525\n",
            "epoch = 200, loss_de = 6516.6289\n",
            "epoch = 250, loss_de = 5982.8560\n",
            "epoch = 300, loss_de = 6536.0732\n",
            "epoch = 350, loss_de = 5722.2656\n",
            "epoch = 400, loss_de = 6062.4673\n",
            "epoch = 450, loss_de = 6019.7549\n",
            "0.006725637707859278\n"
          ]
        },
        {
          "data": {
            "application/vnd.jupyter.widget-view+json": {
              "model_id": "1e0f964088cf48118160e138f594b25b",
              "version_major": 2,
              "version_minor": 0
            },
            "text/plain": [
              "  0%|          | 0/500 [00:00<?, ?it/s]"
            ]
          },
          "metadata": {},
          "output_type": "display_data"
        },
        {
          "name": "stdout",
          "output_type": "stream",
          "text": [
            "epoch = 0, loss_de = 61130.3633\n",
            "epoch = 50, loss_de = 10938.4268\n",
            "epoch = 100, loss_de = 7373.9082\n",
            "epoch = 150, loss_de = 6590.8994\n",
            "epoch = 200, loss_de = 6675.8892\n",
            "epoch = 250, loss_de = 6129.6855\n",
            "epoch = 300, loss_de = 6696.3027\n",
            "epoch = 350, loss_de = 5862.7881\n",
            "epoch = 400, loss_de = 6211.3477\n",
            "epoch = 450, loss_de = 6167.1958\n",
            "0.006780206225812435\n"
          ]
        },
        {
          "data": {
            "application/vnd.jupyter.widget-view+json": {
              "model_id": "a507466a6e82417e8e5b073792784764",
              "version_major": 2,
              "version_minor": 0
            },
            "text/plain": [
              "  0%|          | 0/500 [00:00<?, ?it/s]"
            ]
          },
          "metadata": {},
          "output_type": "display_data"
        },
        {
          "name": "stdout",
          "output_type": "stream",
          "text": [
            "epoch = 0, loss_de = 62580.6523\n",
            "epoch = 50, loss_de = 11190.5967\n",
            "epoch = 100, loss_de = 7552.0752\n",
            "epoch = 150, loss_de = 6751.7666\n",
            "epoch = 200, loss_de = 6839.8838\n",
            "epoch = 250, loss_de = 6280.9468\n",
            "epoch = 300, loss_de = 6861.1079\n",
            "epoch = 350, loss_de = 6007.4673\n",
            "epoch = 400, loss_de = 6364.5513\n",
            "epoch = 450, loss_de = 6318.7559\n",
            "0.006840660236775875\n"
          ]
        },
        {
          "data": {
            "application/vnd.jupyter.widget-view+json": {
              "model_id": "8f08ad6dc6274afbbaf8b85c2f47cf9b",
              "version_major": 2,
              "version_minor": 0
            },
            "text/plain": [
              "  0%|          | 0/500 [00:00<?, ?it/s]"
            ]
          },
          "metadata": {},
          "output_type": "display_data"
        },
        {
          "name": "stdout",
          "output_type": "stream",
          "text": [
            "epoch = 0, loss_de = 64047.9414\n",
            "epoch = 50, loss_de = 11450.8740\n",
            "epoch = 100, loss_de = 7733.7583\n",
            "epoch = 150, loss_de = 6915.8198\n",
            "epoch = 200, loss_de = 7007.0264\n",
            "epoch = 250, loss_de = 6435.1367\n",
            "epoch = 300, loss_de = 7028.9976\n",
            "epoch = 350, loss_de = 6154.9170\n",
            "epoch = 400, loss_de = 6520.6567\n",
            "epoch = 450, loss_de = 6473.1260\n",
            "0.006903315894305706\n"
          ]
        },
        {
          "data": {
            "application/vnd.jupyter.widget-view+json": {
              "model_id": "5f63610f5013403fb76ac61ae69c1975",
              "version_major": 2,
              "version_minor": 0
            },
            "text/plain": [
              "  0%|          | 0/500 [00:00<?, ?it/s]"
            ]
          },
          "metadata": {},
          "output_type": "display_data"
        },
        {
          "name": "stdout",
          "output_type": "stream",
          "text": [
            "epoch = 0, loss_de = 65532.2383\n",
            "epoch = 50, loss_de = 11717.5820\n",
            "epoch = 100, loss_de = 7918.1982\n",
            "epoch = 150, loss_de = 7082.4624\n",
            "epoch = 200, loss_de = 7176.7520\n",
            "epoch = 250, loss_de = 6591.7246\n",
            "epoch = 300, loss_de = 7199.4526\n",
            "epoch = 350, loss_de = 6304.6504\n",
            "epoch = 400, loss_de = 6679.1733\n",
            "epoch = 450, loss_de = 6629.8530\n",
            "0.006966865621507168\n"
          ]
        },
        {
          "data": {
            "application/vnd.jupyter.widget-view+json": {
              "model_id": "20c678ed71ee48a3ba96a128ea6632fe",
              "version_major": 2,
              "version_minor": 0
            },
            "text/plain": [
              "  0%|          | 0/500 [00:00<?, ?it/s]"
            ]
          },
          "metadata": {},
          "output_type": "display_data"
        },
        {
          "name": "stdout",
          "output_type": "stream",
          "text": [
            "epoch = 0, loss_de = 67033.5391\n",
            "epoch = 50, loss_de = 11997.8877\n",
            "epoch = 100, loss_de = 8107.0122\n",
            "epoch = 150, loss_de = 7252.7344\n",
            "epoch = 200, loss_de = 7350.0576\n",
            "epoch = 250, loss_de = 6751.6343\n",
            "epoch = 300, loss_de = 7373.3921\n",
            "epoch = 350, loss_de = 6457.5166\n",
            "epoch = 400, loss_de = 6840.9751\n",
            "epoch = 450, loss_de = 6789.7441\n",
            "0.007033177185803652\n"
          ]
        },
        {
          "data": {
            "application/vnd.jupyter.widget-view+json": {
              "model_id": "946a3617a0b245478b73d5e69c0d8b0b",
              "version_major": 2,
              "version_minor": 0
            },
            "text/plain": [
              "  0%|          | 0/500 [00:00<?, ?it/s]"
            ]
          },
          "metadata": {},
          "output_type": "display_data"
        },
        {
          "name": "stdout",
          "output_type": "stream",
          "text": [
            "epoch = 0, loss_de = 68551.8359\n",
            "epoch = 50, loss_de = 12305.9062\n",
            "epoch = 100, loss_de = 8307.9102\n",
            "epoch = 150, loss_de = 7432.5254\n",
            "epoch = 200, loss_de = 7532.8066\n",
            "epoch = 250, loss_de = 6920.5479\n",
            "epoch = 300, loss_de = 7556.4302\n",
            "epoch = 350, loss_de = 6618.7842\n",
            "epoch = 400, loss_de = 7011.3936\n",
            "epoch = 450, loss_de = 6957.7441\n",
            "0.0071150739677250385\n"
          ]
        },
        {
          "data": {
            "application/vnd.jupyter.widget-view+json": {
              "model_id": "d221d2af4990415fb902936b9a9c26da",
              "version_major": 2,
              "version_minor": 0
            },
            "text/plain": [
              "  0%|          | 0/500 [00:00<?, ?it/s]"
            ]
          },
          "metadata": {},
          "output_type": "display_data"
        },
        {
          "name": "stdout",
          "output_type": "stream",
          "text": [
            "epoch = 0, loss_de = 70087.1328\n",
            "epoch = 50, loss_de = 12629.0381\n",
            "epoch = 100, loss_de = 8517.9404\n",
            "epoch = 150, loss_de = 7621.4849\n",
            "epoch = 200, loss_de = 7723.7822\n",
            "epoch = 250, loss_de = 7097.0376\n",
            "epoch = 300, loss_de = 7747.1816\n",
            "epoch = 350, loss_de = 6787.1206\n",
            "epoch = 400, loss_de = 7189.1567\n",
            "epoch = 450, loss_de = 7132.7729\n",
            "0.007208189461380243\n"
          ]
        },
        {
          "data": {
            "application/vnd.jupyter.widget-view+json": {
              "model_id": "858b0444ae56421f98f5c705448cfa58",
              "version_major": 2,
              "version_minor": 0
            },
            "text/plain": [
              "  0%|          | 0/500 [00:00<?, ?it/s]"
            ]
          },
          "metadata": {},
          "output_type": "display_data"
        },
        {
          "name": "stdout",
          "output_type": "stream",
          "text": [
            "epoch = 0, loss_de = 71639.4375\n",
            "epoch = 50, loss_de = 12919.3574\n",
            "epoch = 100, loss_de = 8748.3691\n",
            "epoch = 150, loss_de = 7825.4312\n",
            "epoch = 200, loss_de = 7928.9087\n",
            "epoch = 250, loss_de = 7287.0278\n",
            "epoch = 300, loss_de = 7951.4448\n",
            "epoch = 350, loss_de = 6968.1074\n",
            "epoch = 400, loss_de = 7379.7598\n",
            "epoch = 450, loss_de = 7319.9722\n",
            "0.007327722385525703\n"
          ]
        },
        {
          "data": {
            "application/vnd.jupyter.widget-view+json": {
              "model_id": "7fea473ad5554d55b1cfdb68efbfd6ee",
              "version_major": 2,
              "version_minor": 0
            },
            "text/plain": [
              "  0%|          | 0/500 [00:00<?, ?it/s]"
            ]
          },
          "metadata": {},
          "output_type": "display_data"
        },
        {
          "name": "stdout",
          "output_type": "stream",
          "text": [
            "epoch = 0, loss_de = 73208.7422\n",
            "epoch = 50, loss_de = 13255.0332\n",
            "epoch = 100, loss_de = 8962.5791\n",
            "epoch = 150, loss_de = 8020.6538\n",
            "epoch = 200, loss_de = 8125.8682\n",
            "epoch = 250, loss_de = 7469.2007\n",
            "epoch = 300, loss_de = 8148.0854\n",
            "epoch = 350, loss_de = 7141.8857\n",
            "epoch = 400, loss_de = 7563.0352\n",
            "epoch = 450, loss_de = 7500.4521\n",
            "0.007425252348184586\n"
          ]
        },
        {
          "data": {
            "application/vnd.jupyter.widget-view+json": {
              "model_id": "618596e28eb644d3a5549f8615687730",
              "version_major": 2,
              "version_minor": 0
            },
            "text/plain": [
              "  0%|          | 0/500 [00:00<?, ?it/s]"
            ]
          },
          "metadata": {},
          "output_type": "display_data"
        },
        {
          "name": "stdout",
          "output_type": "stream",
          "text": [
            "epoch = 0, loss_de = 74795.0625\n",
            "epoch = 50, loss_de = 13444.2207\n",
            "epoch = 100, loss_de = 9085.8457\n",
            "epoch = 150, loss_de = 8131.0630\n",
            "epoch = 200, loss_de = 8243.1494\n",
            "epoch = 250, loss_de = 7575.2432\n",
            "epoch = 300, loss_de = 8269.4160\n",
            "epoch = 350, loss_de = 7244.8306\n",
            "epoch = 400, loss_de = 7674.4058\n",
            "epoch = 450, loss_de = 7613.5537\n",
            "0.007350307423621416\n"
          ]
        },
        {
          "data": {
            "application/vnd.jupyter.widget-view+json": {
              "model_id": "3e2266f1e104492f9c094d83cd113b51",
              "version_major": 2,
              "version_minor": 0
            },
            "text/plain": [
              "  0%|          | 0/500 [00:00<?, ?it/s]"
            ]
          },
          "metadata": {},
          "output_type": "display_data"
        },
        {
          "name": "stdout",
          "output_type": "stream",
          "text": [
            "epoch = 0, loss_de = 76398.3750\n",
            "epoch = 50, loss_de = 13701.1807\n",
            "epoch = 100, loss_de = 9256.2188\n",
            "epoch = 150, loss_de = 8292.2148\n",
            "epoch = 200, loss_de = 8409.6914\n",
            "epoch = 250, loss_de = 7729.1758\n",
            "epoch = 300, loss_de = 8438.2627\n",
            "epoch = 350, loss_de = 7392.5938\n",
            "epoch = 400, loss_de = 7831.0078\n",
            "epoch = 450, loss_de = 7769.1006\n",
            "0.007383797317743301\n"
          ]
        },
        {
          "data": {
            "application/vnd.jupyter.widget-view+json": {
              "model_id": "13c24bf332cc4a99913283ff5dd7af24",
              "version_major": 2,
              "version_minor": 0
            },
            "text/plain": [
              "  0%|          | 0/500 [00:00<?, ?it/s]"
            ]
          },
          "metadata": {},
          "output_type": "display_data"
        },
        {
          "name": "stdout",
          "output_type": "stream",
          "text": [
            "epoch = 0, loss_de = 78018.6875\n",
            "epoch = 50, loss_de = 13962.2461\n",
            "epoch = 100, loss_de = 9466.5498\n",
            "epoch = 150, loss_de = 8477.0820\n",
            "epoch = 200, loss_de = 8597.0840\n",
            "epoch = 250, loss_de = 7901.6514\n",
            "epoch = 300, loss_de = 8625.8740\n",
            "epoch = 350, loss_de = 7557.3594\n",
            "epoch = 400, loss_de = 8005.5352\n",
            "epoch = 450, loss_de = 7941.5806\n",
            "0.007444973103702068\n"
          ]
        },
        {
          "data": {
            "application/vnd.jupyter.widget-view+json": {
              "model_id": "5a6e584c890d48c39d55a997c0b1bae1",
              "version_major": 2,
              "version_minor": 0
            },
            "text/plain": [
              "  0%|          | 0/500 [00:00<?, ?it/s]"
            ]
          },
          "metadata": {},
          "output_type": "display_data"
        },
        {
          "name": "stdout",
          "output_type": "stream",
          "text": [
            "epoch = 0, loss_de = 79656.0156\n",
            "epoch = 50, loss_de = 14254.0908\n",
            "epoch = 100, loss_de = 9690.5840\n",
            "epoch = 150, loss_de = 8682.5918\n",
            "epoch = 200, loss_de = 8803.3477\n",
            "epoch = 250, loss_de = 8092.3672\n",
            "epoch = 300, loss_de = 8831.6279\n",
            "epoch = 350, loss_de = 7739.2090\n",
            "epoch = 400, loss_de = 8197.3584\n",
            "epoch = 450, loss_de = 8130.4048\n",
            "0.007541988510638475\n"
          ]
        },
        {
          "data": {
            "application/vnd.jupyter.widget-view+json": {
              "model_id": "1febad1b9f8e482983a2f1353d296acc",
              "version_major": 2,
              "version_minor": 0
            },
            "text/plain": [
              "  0%|          | 0/500 [00:00<?, ?it/s]"
            ]
          },
          "metadata": {},
          "output_type": "display_data"
        },
        {
          "name": "stdout",
          "output_type": "stream",
          "text": [
            "epoch = 0, loss_de = 81310.3359\n",
            "epoch = 50, loss_de = 14583.8916\n",
            "epoch = 100, loss_de = 9937.4092\n",
            "epoch = 150, loss_de = 8900.2705\n",
            "epoch = 200, loss_de = 9022.0312\n",
            "epoch = 250, loss_de = 8294.7422\n",
            "epoch = 300, loss_de = 9049.1133\n",
            "epoch = 350, loss_de = 7931.8706\n",
            "epoch = 400, loss_de = 8400.2188\n",
            "epoch = 450, loss_de = 8329.6553\n",
            "0.00765842804685235\n"
          ]
        },
        {
          "data": {
            "application/vnd.jupyter.widget-view+json": {
              "model_id": "79ea43d4d58f442b930aac924347e8ae",
              "version_major": 2,
              "version_minor": 0
            },
            "text/plain": [
              "  0%|          | 0/500 [00:00<?, ?it/s]"
            ]
          },
          "metadata": {},
          "output_type": "display_data"
        },
        {
          "name": "stdout",
          "output_type": "stream",
          "text": [
            "epoch = 0, loss_de = 82981.6484\n",
            "epoch = 50, loss_de = 14942.2051\n",
            "epoch = 100, loss_de = 10173.1387\n",
            "epoch = 150, loss_de = 9106.7363\n",
            "epoch = 200, loss_de = 9231.3662\n",
            "epoch = 250, loss_de = 8488.1152\n",
            "epoch = 300, loss_de = 9257.9287\n",
            "epoch = 350, loss_de = 8116.1294\n",
            "epoch = 400, loss_de = 8594.6768\n",
            "epoch = 450, loss_de = 8521.0215\n",
            "0.007749481126666069\n"
          ]
        },
        {
          "data": {
            "application/vnd.jupyter.widget-view+json": {
              "model_id": "0a877c1c32354fada6a39c57c0269500",
              "version_major": 2,
              "version_minor": 0
            },
            "text/plain": [
              "  0%|          | 0/500 [00:00<?, ?it/s]"
            ]
          },
          "metadata": {},
          "output_type": "display_data"
        },
        {
          "name": "stdout",
          "output_type": "stream",
          "text": [
            "epoch = 0, loss_de = 84669.9922\n",
            "epoch = 50, loss_de = 15256.9219\n",
            "epoch = 100, loss_de = 10402.6162\n",
            "epoch = 150, loss_de = 9309.3857\n",
            "epoch = 200, loss_de = 9437.4287\n",
            "epoch = 250, loss_de = 8678.7012\n",
            "epoch = 300, loss_de = 9464.0771\n",
            "epoch = 350, loss_de = 8297.9678\n",
            "epoch = 400, loss_de = 8786.5381\n",
            "epoch = 450, loss_de = 8710.0771\n",
            "0.007833186537027359\n"
          ]
        },
        {
          "data": {
            "application/vnd.jupyter.widget-view+json": {
              "model_id": "70c89d3cd7ed49a68207bab0ce23824b",
              "version_major": 2,
              "version_minor": 0
            },
            "text/plain": [
              "  0%|          | 0/500 [00:00<?, ?it/s]"
            ]
          },
          "metadata": {},
          "output_type": "display_data"
        },
        {
          "name": "stdout",
          "output_type": "stream",
          "text": [
            "epoch = 0, loss_de = 86375.3125\n",
            "epoch = 50, loss_de = 15548.2158\n",
            "epoch = 100, loss_de = 10632.1855\n",
            "epoch = 150, loss_de = 9515.6523\n",
            "epoch = 200, loss_de = 9646.6445\n",
            "epoch = 250, loss_de = 8872.3193\n",
            "epoch = 300, loss_de = 9673.3867\n",
            "epoch = 350, loss_de = 8482.8643\n",
            "epoch = 400, loss_de = 8981.4873\n",
            "epoch = 450, loss_de = 8902.3018\n",
            "0.007920482195913792\n"
          ]
        },
        {
          "data": {
            "application/vnd.jupyter.widget-view+json": {
              "model_id": "548eb1cf7b3b4ab5994e9fa2e8f97c08",
              "version_major": 2,
              "version_minor": 0
            },
            "text/plain": [
              "  0%|          | 0/500 [00:00<?, ?it/s]"
            ]
          },
          "metadata": {},
          "output_type": "display_data"
        },
        {
          "name": "stdout",
          "output_type": "stream",
          "text": [
            "epoch = 0, loss_de = 88097.6484\n",
            "epoch = 50, loss_de = 15825.7793\n",
            "epoch = 100, loss_de = 10852.6641\n",
            "epoch = 150, loss_de = 9712.1396\n",
            "epoch = 200, loss_de = 9846.1514\n",
            "epoch = 250, loss_de = 9056.3486\n",
            "epoch = 300, loss_de = 9873.3857\n",
            "epoch = 350, loss_de = 8658.7178\n",
            "epoch = 400, loss_de = 9167.5098\n",
            "epoch = 450, loss_de = 9086.1396\n",
            "0.007980830036103725\n"
          ]
        },
        {
          "data": {
            "application/vnd.jupyter.widget-view+json": {
              "model_id": "9fe38c2aad774d8d823975fa7b0e9616",
              "version_major": 2,
              "version_minor": 0
            },
            "text/plain": [
              "  0%|          | 0/500 [00:00<?, ?it/s]"
            ]
          },
          "metadata": {},
          "output_type": "display_data"
        },
        {
          "name": "stdout",
          "output_type": "stream",
          "text": [
            "epoch = 0, loss_de = 89836.9922\n",
            "epoch = 50, loss_de = 16098.3838\n",
            "epoch = 100, loss_de = 11068.8467\n",
            "epoch = 150, loss_de = 9907.3779\n",
            "epoch = 200, loss_de = 10043.7822\n",
            "epoch = 250, loss_de = 9238.3076\n",
            "epoch = 300, loss_de = 10071.5117\n",
            "epoch = 350, loss_de = 8832.7061\n",
            "epoch = 400, loss_de = 9351.8037\n",
            "epoch = 450, loss_de = 9268.5156\n",
            "0.00803204532712698\n"
          ]
        },
        {
          "data": {
            "application/vnd.jupyter.widget-view+json": {
              "model_id": "8914839be63f4747b7364d0bd9fca740",
              "version_major": 2,
              "version_minor": 0
            },
            "text/plain": [
              "  0%|          | 0/500 [00:00<?, ?it/s]"
            ]
          },
          "metadata": {},
          "output_type": "display_data"
        },
        {
          "name": "stdout",
          "output_type": "stream",
          "text": [
            "epoch = 0, loss_de = 91593.3281\n",
            "epoch = 50, loss_de = 16386.2559\n",
            "epoch = 100, loss_de = 11288.7031\n",
            "epoch = 150, loss_de = 10108.5361\n",
            "epoch = 200, loss_de = 10247.4424\n",
            "epoch = 250, loss_de = 9425.9678\n",
            "epoch = 300, loss_de = 10275.4727\n",
            "epoch = 350, loss_de = 9012.2002\n",
            "epoch = 400, loss_de = 9541.7012\n",
            "epoch = 450, loss_de = 9456.3535\n",
            "0.008091829717159271\n"
          ]
        },
        {
          "data": {
            "application/vnd.jupyter.widget-view+json": {
              "model_id": "407957f8ce1a47e7aa22b516222f078a",
              "version_major": 2,
              "version_minor": 0
            },
            "text/plain": [
              "  0%|          | 0/500 [00:00<?, ?it/s]"
            ]
          },
          "metadata": {},
          "output_type": "display_data"
        },
        {
          "name": "stdout",
          "output_type": "stream",
          "text": [
            "epoch = 0, loss_de = 93366.6719\n",
            "epoch = 50, loss_de = 16697.0820\n",
            "epoch = 100, loss_de = 11512.5859\n",
            "epoch = 150, loss_de = 10313.6230\n",
            "epoch = 200, loss_de = 10456.1074\n",
            "epoch = 250, loss_de = 9618.7188\n",
            "epoch = 300, loss_de = 10484.6035\n",
            "epoch = 350, loss_de = 9196.4482\n",
            "epoch = 400, loss_de = 9736.3389\n",
            "epoch = 450, loss_de = 9648.6465\n",
            "0.008159369230270386\n"
          ]
        },
        {
          "data": {
            "application/vnd.jupyter.widget-view+json": {
              "model_id": "3c066a9023bb4b7ab65fac44815acbca",
              "version_major": 2,
              "version_minor": 0
            },
            "text/plain": [
              "  0%|          | 0/500 [00:00<?, ?it/s]"
            ]
          },
          "metadata": {},
          "output_type": "display_data"
        },
        {
          "name": "stdout",
          "output_type": "stream",
          "text": [
            "epoch = 0, loss_de = 95157.0156\n",
            "epoch = 50, loss_de = 17019.5859\n",
            "epoch = 100, loss_de = 11740.1592\n",
            "epoch = 150, loss_de = 10521.6523\n",
            "epoch = 200, loss_de = 10667.5332\n",
            "epoch = 250, loss_de = 9814.0039\n",
            "epoch = 300, loss_de = 10696.4268\n",
            "epoch = 350, loss_de = 9383.0352\n",
            "epoch = 400, loss_de = 9933.4541\n",
            "epoch = 450, loss_de = 9843.3184\n",
            "0.008227071724832058\n"
          ]
        },
        {
          "data": {
            "application/vnd.jupyter.widget-view+json": {
              "model_id": "74224d6d296e4af496c677f922865e9f",
              "version_major": 2,
              "version_minor": 0
            },
            "text/plain": [
              "  0%|          | 0/500 [00:00<?, ?it/s]"
            ]
          },
          "metadata": {},
          "output_type": "display_data"
        },
        {
          "name": "stdout",
          "output_type": "stream",
          "text": [
            "epoch = 0, loss_de = 96964.3672\n",
            "epoch = 50, loss_de = 17347.0547\n",
            "epoch = 100, loss_de = 11972.2725\n",
            "epoch = 150, loss_de = 10731.3750\n",
            "epoch = 200, loss_de = 10880.3936\n",
            "epoch = 250, loss_de = 10010.4072\n",
            "epoch = 300, loss_de = 10909.5693\n",
            "epoch = 350, loss_de = 9570.6943\n",
            "epoch = 400, loss_de = 10131.8301\n",
            "epoch = 450, loss_de = 10039.2715\n",
            "0.008291512727737427\n"
          ]
        },
        {
          "data": {
            "application/vnd.jupyter.widget-view+json": {
              "model_id": "97da69a0f07a4ee28eef345dfd8666a2",
              "version_major": 2,
              "version_minor": 0
            },
            "text/plain": [
              "  0%|          | 0/500 [00:00<?, ?it/s]"
            ]
          },
          "metadata": {},
          "output_type": "display_data"
        },
        {
          "name": "stdout",
          "output_type": "stream",
          "text": [
            "epoch = 0, loss_de = 98788.7188\n",
            "epoch = 50, loss_de = 17682.1191\n",
            "epoch = 100, loss_de = 12213.9736\n",
            "epoch = 150, loss_de = 10948.4795\n",
            "epoch = 200, loss_de = 11100.4521\n",
            "epoch = 250, loss_de = 10213.6357\n",
            "epoch = 300, loss_de = 11129.6338\n",
            "epoch = 350, loss_de = 9764.7510\n",
            "epoch = 400, loss_de = 10336.7383\n",
            "epoch = 450, loss_de = 10241.4834\n",
            "0.008364860899746418\n"
          ]
        },
        {
          "data": {
            "application/vnd.jupyter.widget-view+json": {
              "model_id": "645ab4f6c06d4429ba2d63092ac7bbe9",
              "version_major": 2,
              "version_minor": 0
            },
            "text/plain": [
              "  0%|          | 0/500 [00:00<?, ?it/s]"
            ]
          },
          "metadata": {},
          "output_type": "display_data"
        },
        {
          "name": "stdout",
          "output_type": "stream",
          "text": [
            "epoch = 0, loss_de = 100630.0703\n",
            "epoch = 50, loss_de = 18025.2441\n",
            "epoch = 100, loss_de = 12466.7637\n",
            "epoch = 150, loss_de = 11168.8896\n",
            "epoch = 200, loss_de = 11323.7822\n",
            "epoch = 250, loss_de = 10419.8408\n",
            "epoch = 300, loss_de = 11352.8594\n",
            "epoch = 350, loss_de = 9961.5898\n",
            "epoch = 400, loss_de = 10544.6074\n",
            "epoch = 450, loss_de = 10446.5410\n",
            "0.008438585326075554\n"
          ]
        },
        {
          "data": {
            "application/vnd.jupyter.widget-view+json": {
              "model_id": "b11520d843074285ac7d8695316e93e9",
              "version_major": 2,
              "version_minor": 0
            },
            "text/plain": [
              "  0%|          | 0/500 [00:00<?, ?it/s]"
            ]
          },
          "metadata": {},
          "output_type": "display_data"
        },
        {
          "name": "stdout",
          "output_type": "stream",
          "text": [
            "epoch = 0, loss_de = 102488.4297\n",
            "epoch = 50, loss_de = 18375.3145\n",
            "epoch = 100, loss_de = 12728.3232\n",
            "epoch = 150, loss_de = 11392.8535\n",
            "epoch = 200, loss_de = 11550.9121\n",
            "epoch = 250, loss_de = 10629.6650\n",
            "epoch = 300, loss_de = 11579.8652\n",
            "epoch = 350, loss_de = 10161.8076\n",
            "epoch = 400, loss_de = 10755.9717\n",
            "epoch = 450, loss_de = 10654.9424\n",
            "0.008514698594808578\n"
          ]
        },
        {
          "data": {
            "application/vnd.jupyter.widget-view+json": {
              "model_id": "786a2001e5ce41639d6a8c29f230d931",
              "version_major": 2,
              "version_minor": 0
            },
            "text/plain": [
              "  0%|          | 0/500 [00:00<?, ?it/s]"
            ]
          },
          "metadata": {},
          "output_type": "display_data"
        },
        {
          "name": "stdout",
          "output_type": "stream",
          "text": [
            "epoch = 0, loss_de = 104363.7812\n",
            "epoch = 50, loss_de = 18743.7285\n",
            "epoch = 100, loss_de = 12991.7930\n",
            "epoch = 150, loss_de = 11617.9180\n",
            "epoch = 200, loss_de = 11780.2158\n",
            "epoch = 250, loss_de = 10841.9697\n",
            "epoch = 300, loss_de = 11809.4844\n",
            "epoch = 350, loss_de = 10364.1914\n",
            "epoch = 400, loss_de = 10969.4443\n",
            "epoch = 450, loss_de = 10865.2021\n",
            "0.008593505248427391\n"
          ]
        },
        {
          "data": {
            "application/vnd.jupyter.widget-view+json": {
              "model_id": "e0af93703b9c4d6c9a9244ecc32642c8",
              "version_major": 2,
              "version_minor": 0
            },
            "text/plain": [
              "  0%|          | 0/500 [00:00<?, ?it/s]"
            ]
          },
          "metadata": {},
          "output_type": "display_data"
        },
        {
          "name": "stdout",
          "output_type": "stream",
          "text": [
            "epoch = 0, loss_de = 106256.1562\n",
            "epoch = 50, loss_de = 19138.7871\n",
            "epoch = 100, loss_de = 13252.5381\n",
            "epoch = 150, loss_de = 11853.9336\n",
            "epoch = 200, loss_de = 12019.0400\n",
            "epoch = 250, loss_de = 11062.7939\n",
            "epoch = 300, loss_de = 12047.7236\n",
            "epoch = 350, loss_de = 10574.7061\n",
            "epoch = 400, loss_de = 11191.3506\n",
            "epoch = 450, loss_de = 11083.7363\n",
            "0.008681645616889\n"
          ]
        },
        {
          "data": {
            "application/vnd.jupyter.widget-view+json": {
              "model_id": "29ad52959eff454ab3b101936b63ce5e",
              "version_major": 2,
              "version_minor": 0
            },
            "text/plain": [
              "  0%|          | 0/500 [00:00<?, ?it/s]"
            ]
          },
          "metadata": {},
          "output_type": "display_data"
        },
        {
          "name": "stdout",
          "output_type": "stream",
          "text": [
            "epoch = 0, loss_de = 108165.5156\n",
            "epoch = 50, loss_de = 19542.4590\n",
            "epoch = 100, loss_de = 13534.0225\n",
            "epoch = 150, loss_de = 12093.1729\n",
            "epoch = 200, loss_de = 12261.2021\n",
            "epoch = 250, loss_de = 11286.7373\n",
            "epoch = 300, loss_de = 12289.1768\n",
            "epoch = 350, loss_de = 10788.3936\n",
            "epoch = 400, loss_de = 11416.4893\n",
            "epoch = 450, loss_de = 11305.6484\n",
            "0.008771699853241444\n"
          ]
        },
        {
          "data": {
            "application/vnd.jupyter.widget-view+json": {
              "model_id": "98afa4b927414467901fc2400cdcd721",
              "version_major": 2,
              "version_minor": 0
            },
            "text/plain": [
              "  0%|          | 0/500 [00:00<?, ?it/s]"
            ]
          },
          "metadata": {},
          "output_type": "display_data"
        },
        {
          "name": "stdout",
          "output_type": "stream",
          "text": [
            "epoch = 0, loss_de = 110091.8906\n",
            "epoch = 50, loss_de = 19934.4297\n",
            "epoch = 100, loss_de = 13802.0000\n",
            "epoch = 150, loss_de = 12333.9746\n",
            "epoch = 200, loss_de = 12505.4180\n",
            "epoch = 250, loss_de = 11512.6543\n",
            "epoch = 300, loss_de = 12532.7871\n",
            "epoch = 350, loss_de = 11004.0557\n",
            "epoch = 400, loss_de = 11643.7041\n",
            "epoch = 450, loss_de = 11529.6377\n",
            "0.008860322646796703\n"
          ]
        },
        {
          "data": {
            "application/vnd.jupyter.widget-view+json": {
              "model_id": "2a6fee4d298349bf9410e226e86d68e7",
              "version_major": 2,
              "version_minor": 0
            },
            "text/plain": [
              "  0%|          | 0/500 [00:00<?, ?it/s]"
            ]
          },
          "metadata": {},
          "output_type": "display_data"
        },
        {
          "name": "stdout",
          "output_type": "stream",
          "text": [
            "epoch = 0, loss_de = 112035.2500\n",
            "epoch = 50, loss_de = 20311.5332\n",
            "epoch = 100, loss_de = 14073.2510\n",
            "epoch = 150, loss_de = 12575.5918\n",
            "epoch = 200, loss_de = 12750.4668\n",
            "epoch = 250, loss_de = 11739.4365\n",
            "epoch = 300, loss_de = 12777.4053\n",
            "epoch = 350, loss_de = 11220.4775\n",
            "epoch = 400, loss_de = 11871.7002\n",
            "epoch = 450, loss_de = 11754.3965\n",
            "0.00894705019891262\n"
          ]
        },
        {
          "data": {
            "application/vnd.jupyter.widget-view+json": {
              "model_id": "d25daea39cbe4f2ab685fe82a402febf",
              "version_major": 2,
              "version_minor": 0
            },
            "text/plain": [
              "  0%|          | 0/500 [00:00<?, ?it/s]"
            ]
          },
          "metadata": {},
          "output_type": "display_data"
        },
        {
          "name": "stdout",
          "output_type": "stream",
          "text": [
            "epoch = 0, loss_de = 113995.6328\n",
            "epoch = 50, loss_de = 20679.9785\n",
            "epoch = 100, loss_de = 14358.1104\n",
            "epoch = 150, loss_de = 12815.3711\n",
            "epoch = 200, loss_de = 12993.6553\n",
            "epoch = 250, loss_de = 11964.3027\n",
            "epoch = 300, loss_de = 13020.3076\n",
            "epoch = 350, loss_de = 11435.0879\n",
            "epoch = 400, loss_de = 12097.9795\n",
            "epoch = 450, loss_de = 11977.5488\n",
            "0.009025875478982925\n"
          ]
        },
        {
          "data": {
            "application/vnd.jupyter.widget-view+json": {
              "model_id": "2f85f410b35c4d64804ec2d532b17694",
              "version_major": 2,
              "version_minor": 0
            },
            "text/plain": [
              "  0%|          | 0/500 [00:00<?, ?it/s]"
            ]
          },
          "metadata": {},
          "output_type": "display_data"
        },
        {
          "name": "stdout",
          "output_type": "stream",
          "text": [
            "epoch = 0, loss_de = 115973.0078\n",
            "epoch = 50, loss_de = 21045.1719\n",
            "epoch = 100, loss_de = 14634.4092\n",
            "epoch = 150, loss_de = 13055.3760\n",
            "epoch = 200, loss_de = 13236.7539\n",
            "epoch = 250, loss_de = 12188.9375\n",
            "epoch = 300, loss_de = 13263.1484\n",
            "epoch = 350, loss_de = 11649.4541\n",
            "epoch = 400, loss_de = 12324.1074\n",
            "epoch = 450, loss_de = 12200.5928\n",
            "0.009100156836211681\n"
          ]
        },
        {
          "data": {
            "application/vnd.jupyter.widget-view+json": {
              "model_id": "b5e135306de24746a80dc65583a7e2d7",
              "version_major": 2,
              "version_minor": 0
            },
            "text/plain": [
              "  0%|          | 0/500 [00:00<?, ?it/s]"
            ]
          },
          "metadata": {},
          "output_type": "display_data"
        },
        {
          "name": "stdout",
          "output_type": "stream",
          "text": [
            "epoch = 0, loss_de = 117967.3828\n",
            "epoch = 50, loss_de = 21408.7227\n",
            "epoch = 100, loss_de = 14910.5684\n",
            "epoch = 150, loss_de = 13292.6797\n",
            "epoch = 200, loss_de = 13476.8018\n",
            "epoch = 250, loss_de = 12410.4229\n",
            "epoch = 300, loss_de = 13503.0254\n",
            "epoch = 350, loss_de = 11860.8027\n",
            "epoch = 400, loss_de = 12547.2988\n",
            "epoch = 450, loss_de = 12420.8408\n",
            "0.009164800867438316\n"
          ]
        },
        {
          "data": {
            "application/vnd.jupyter.widget-view+json": {
              "model_id": "63266983e536489bbdd946d29bd57bc5",
              "version_major": 2,
              "version_minor": 0
            },
            "text/plain": [
              "  0%|          | 0/500 [00:00<?, ?it/s]"
            ]
          },
          "metadata": {},
          "output_type": "display_data"
        },
        {
          "name": "stdout",
          "output_type": "stream",
          "text": [
            "epoch = 0, loss_de = 119978.7656\n",
            "epoch = 50, loss_de = 21769.2422\n",
            "epoch = 100, loss_de = 15182.5137\n",
            "epoch = 150, loss_de = 13531.5439\n",
            "epoch = 200, loss_de = 13718.6436\n",
            "epoch = 250, loss_de = 12633.6445\n",
            "epoch = 300, loss_de = 13744.7822\n",
            "epoch = 350, loss_de = 12073.8652\n",
            "epoch = 400, loss_de = 12772.2568\n",
            "epoch = 450, loss_de = 12642.8818\n",
            "0.009229523129761219\n"
          ]
        },
        {
          "data": {
            "application/vnd.jupyter.widget-view+json": {
              "model_id": "bd62f921e9a74b1795c544d738fe3616",
              "version_major": 2,
              "version_minor": 0
            },
            "text/plain": [
              "  0%|          | 0/500 [00:00<?, ?it/s]"
            ]
          },
          "metadata": {},
          "output_type": "display_data"
        },
        {
          "name": "stdout",
          "output_type": "stream",
          "text": [
            "epoch = 0, loss_de = 122007.1562\n",
            "epoch = 50, loss_de = 22122.4902\n",
            "epoch = 100, loss_de = 15452.1172\n",
            "epoch = 150, loss_de = 13772.9199\n",
            "epoch = 200, loss_de = 13963.8291\n",
            "epoch = 250, loss_de = 12860.2588\n",
            "epoch = 300, loss_de = 13990.0947\n",
            "epoch = 350, loss_de = 12290.3027\n",
            "epoch = 400, loss_de = 13000.6348\n",
            "epoch = 450, loss_de = 12868.3447\n",
            "0.009297213517129421\n"
          ]
        }
      ],
      "source": [
        "DATA21=[]\n",
        "DATA22=[]\n",
        "RATIO2=[]\n",
        "\n",
        "for c in C:\n",
        "    torch.manual_seed(78)\n",
        "    model = MLP(1, 50, 50, 1)\n",
        "    batch_size = 10000\n",
        "    n_epochs = 500\n",
        "    print_interval = n_epochs // 10\n",
        "    learning_rate = 0.1\n",
        "    optimizer = torch.optim.Adam(model.parameters(), lr=learning_rate)\n",
        "    scheduler = torch.optim.lr_scheduler.LambdaLR(optimizer=optimizer,\n",
        "                                            lr_lambda=lambda epoch: 0.98 ** epoch,\n",
        "                                            last_epoch=-1,\n",
        "                                            verbose=False)\n",
        "\n",
        "    for epoch in tqdm(range(n_epochs)):\n",
        "        optimizer.zero_grad()\n",
        "\n",
        "        # 무작위 t 생성 후 y 계산\n",
        "        t = torch.empty(batch_size, 1).uniform_(*domain).requires_grad_()\n",
        "        y = t*(1-t)*model(t)+t\n",
        "        a = np.array([[1,1],[np.exp(1/eps+((1/eps)**2+c/eps)**0.5),np.exp(1/eps-((1/eps)**2+c/eps)**0.5)]])\n",
        "        b = np.array([0,1])\n",
        "        x = np.linalg.solve(a, b)\n",
        "        C_1 = x[0]\n",
        "        C_2 = x[1]\n",
        "        y_e = C_1*torch.exp((1/eps+((1/eps)**2+c/eps)**0.5)*t)+C_2*torch.exp((1/eps-((1/eps)**2+c/eps)**0.5)*t)\n",
        "        y_t = grad(y, t)\n",
        "        y_tt = grad(y_t,t)\n",
        "\n",
        "        # Loss\n",
        "        loss_de = F.mse_loss(eps*y_tt-2*y_t-c*y, torch.zeros_like(y_t))\n",
        "        loss = loss_de\n",
        "        realloss=F.mse_loss(y-y_e, torch.zeros_like(y))\n",
        "        # Backprop\n",
        "        loss.backward()\n",
        "        optimizer.step()\n",
        "        scheduler.step()\n",
        "        if epoch % print_interval == 0:\n",
        "            print(f\"{epoch = }, loss_de = {loss_de.item():.4f}\")\n",
        "        if epoch==n_epochs-1:\n",
        "            print(realloss.item())\n",
        "            DATA21.append(realloss.item())\n",
        "            DATA22.append(loss.item())\n",
        "            RATIO2.append(realloss.item()/loss.item())\n"
      ]
    },
    {
      "cell_type": "markdown",
      "metadata": {
        "id": "FXKUyOO6LaNI"
      },
      "source": [
        "$$\n",
        "\\epsilon=0.1\n",
        "$$"
      ]
    },
    {
      "cell_type": "code",
      "execution_count": null,
      "metadata": {
        "colab": {
          "background_save": true
        },
        "id": "ErEQ3uxWLZ1L"
      },
      "outputs": [],
      "source": [
        "eps = 0.1"
      ]
    },
    {
      "cell_type": "code",
      "execution_count": null,
      "metadata": {
        "colab": {
          "background_save": true,
          "referenced_widgets": [
            "70a26bd3f4bf4849aadf16c72c2b2753",
            "e383d4d8863d40879bafaf0d5b035e1f",
            "0b687455928e48488144d4fba852ebee",
            "9d534c14895f4dde8a4a221f50d276c7",
            "3446cb54caf14f388040d66d12e3de67",
            "8d51f79bbc2442599e80b6d69569cf0f",
            "5542540424ec4535a8c954f50ea146de",
            "026db3550d0248b68a8f32840bff52fe",
            "f31d5bb86e304ba88dd2a0f2a1b6dc2a",
            "f30d91edb38847a39b7f30a26a092b43",
            "ace08566bed6489bba97f45fb6b0138d",
            "5e47f3aed497409f9ab5d7d54eb6be2c",
            "1f0d7f2ce1e842638585a8e73e36c237",
            "57a02f93072f4c079f29c9bc7ccb5f7a",
            "f54c16da20454ec2a00487f2c16b03e3",
            "72369aea0ff941998c4cc6ea6f412bad",
            "a5812b8314374265bf44d51e976969f3",
            "f6132b103cef4a4bb551c013cbbd3d54",
            "df353166d067451996e731085c85003e",
            "7c1680d2d810428292bf1204882dcb30",
            "12af6bef66954f7da0e6190c71bcc607",
            "7f2dec23e0ea4ab8878e95b351b1fc90",
            "8519523e78ff47c0b4ec0669363ab268",
            "7c9df4f8b4324daab34d415b86475b27",
            "dea620d71c0d493f8614cd14c980454b",
            "852464f1f8d84577ba09d2bc90379aa9",
            "6a7046b49e554a23802899df2efe0754",
            "4fcaf85f06fc4ff08525b2d86b3bd633",
            "e21afc3a00444a619cd3046a67b48ef4",
            "d08a4f8b1fcf4c969cb48b79bc708a7e",
            "c5b0ec0aaa2a46bc9699298b8dccce5c",
            "3ec732abeeb34620a086016ff1b06f89",
            "fd2867e2bccc471f9764fa42f68a99df",
            "605615833c734031ad230f47dbe399e8",
            "a4ac3020d0b145e49d6bdddd157d8972",
            "f31e009934524253830f3b941c739158",
            "e9381a033f5046028c376bb202cc082f",
            "3dd1f028411d49d184bb4d0b60a927f6",
            "6f6160989607461aaa2ed38fcfb6964d",
            "81318114f5b74b1abb2d555a016490e8",
            "336ef40c6a324469bebceaf6ed01093a",
            "6190a6458e714cbb90f4be79b0c04b12",
            "a149541f564c4a2aa117b903a8983d4f",
            "304865c4e3e2468fa60227f40da3e47a",
            "ce71c0d56b274db79d2e6913f9667ac3",
            "3bae8fa327454217b46b46dab683355a",
            "be4705315e484a2bb15c327421500cff",
            "48cfc04176634f949959c57539f2d16f",
            "cf98b254d8fb4c6dacce7fb7b7be83fd",
            "d637470e3a1643839547702cc4c89f1d",
            "fc4c00a95aaf41018b57642c5863d756",
            "a9e85c7aedcc4148ad6818d830224e37",
            "439dff21bd3a40099cd24339cc2706b5",
            "f76c2fab24e54e409f2cc17c7868bfc9",
            "ec172006b8034626b5557b9568801208",
            "4bf0529772f34ce89aae1a2791ab7dd6",
            "04ffd44ec5d64c91ac0fe42c4699991f",
            "96dff7a16039403895f800540d9cf980",
            "1215467c11924e5f8a29c614f55fbde9",
            "600bcb6027f641b196fb82d549e76095",
            "d56b3d4f8a014f6eb6619a4b125ecfe4",
            "527aa5f3c3604db3bb89a221b7d1de50",
            "57e99502f01747c4862c6c5d35aa5057",
            "659aa47690b347dfade96cb92c4b5351",
            "4fbf629f5af24a91bed599d6503864aa",
            "0ff7fdd9758747efad0a93487fb95b93",
            "38394c9c37e0403fa0a0f1e740c869e5",
            "35d43778dc5148ffb78295bd37ac9e5b",
            "c45483e5e970443db7321047788eb93d",
            "ccf4033f1fb64c3eb6df60220fe5ead9",
            "6c7f967f23e343ee98a9d410306c5069",
            "d961c29173d8491ab42c2f995e225b37",
            "d92efed871b14fb483f83e93c2ad4534",
            "f1590aaedd064f8e93d5b7ae8f173c91",
            "294db4afee3b4a7ca79dbd7489f71aeb",
            "9b6ef9f960c744f5bda0589c03c7a43e",
            "cdb7ea0295a244718a2548dc44acc4ca",
            "9c2cbee297f44bd09ea7e9ffb566fd51",
            "ab2c13f1cf8a4a61ad19713f4670bcbd",
            "ebe78c68d1f847abb95bc05bea42ce60",
            "7b2892fcb09a4218a8d23e64af9e0ed4",
            "da451ff2c7874584b97a5d036c7f00f6",
            "7225049a831745f391902324f185c53b",
            "0b59ba42264d4ff0a87cd264bd9e7c01",
            "fa812c45227e4b2da4c0053635b0b242",
            "f580b2a3eb2f4c259c27e2a2fa2b6899",
            "f44ab3005b654d00831747861b04493d",
            "ec402155641345f380e44fc492be385f",
            "568948bc954b43cca06fc3110c35a623",
            "3fbc672456ce4f9687615b09f5b70fe6",
            "e310230f66324fb4b1a58f7a80234ada",
            "4667b99db3434e73b5f0f9f91e078e6a",
            "fdea208845244dd89252cf1ed8f7fadd",
            "1b42f30bec6742ffb7d9f01f951a243a",
            "81364250a67e4d18a5d31483cf649617",
            "c076da8640e1445f996f9893f63d4712",
            "8d5c523a18d54bb39d06bafc923836cb",
            "dff2dfd666024b53a384f43285b6f0d9",
            "8ed1f8c9551443a2aedb66612891340e",
            "cc77dfaa3d3646c7900b4afe037b9aaf",
            "02c2720cae5b4adfb1c902c6578b65f1",
            "4306a2f578fe43758e7420307a1cd887",
            "4ce13587d0b24ab2818049ae73eb43e7",
            "34aef57d39694e0aa5ba43e315753be7",
            "83fd33cd203f4e76bc600ef7a01850e3",
            "cf4803f10fbb49a7b673bda45354c746",
            "8b775415a243413b8b6c886ee3f90260",
            "5a922622e06e46a2af390f8ddb22dc09",
            "2ed0c56906464575a2d0c697106846a5",
            "eee9897b1a854a1a909f5228f2fa52d2",
            "80b3584eba1a47428135f3c954865bad",
            "3bf9e3c9b9ad4e9d9149f72aaf5adb3e",
            "e740e48049ee439aa7e473454ac8a808",
            "a9770b34f29842839fb9d4a21b5b1b59",
            "38d90b7e0467499d9c28128914e4cc71",
            "25e125acdef94157af42b1d6a0afb323",
            "035a571b01e84a0d8f41041a03e0195e",
            "f4e2c850383944969e1f8e624ad87c88",
            "f4036e061f90441e9b3833ec922c07f8",
            "8c41e797648f4ff081cd44d584e261b4"
          ]
        },
        "id": "LWpZIDFqMRbn",
        "outputId": "2011167c-be3e-40df-f9b9-4aa791948ca1"
      },
      "outputs": [
        {
          "data": {
            "application/vnd.jupyter.widget-view+json": {
              "model_id": "70a26bd3f4bf4849aadf16c72c2b2753",
              "version_major": 2,
              "version_minor": 0
            },
            "text/plain": [
              "  0%|          | 0/500 [00:00<?, ?it/s]"
            ]
          },
          "metadata": {},
          "output_type": "display_data"
        },
        {
          "name": "stdout",
          "output_type": "stream",
          "text": [
            "epoch = 0, loss_de = 6.3646\n",
            "epoch = 50, loss_de = 6.1403\n",
            "epoch = 100, loss_de = 5.5911\n",
            "epoch = 150, loss_de = 4.2489\n",
            "epoch = 200, loss_de = 3.6866\n",
            "epoch = 250, loss_de = 3.2835\n",
            "epoch = 300, loss_de = 3.2919\n",
            "epoch = 350, loss_de = 3.1536\n",
            "epoch = 400, loss_de = 3.1986\n",
            "epoch = 450, loss_de = 3.2132\n",
            "0.11031343042850494\n"
          ]
        },
        {
          "data": {
            "application/vnd.jupyter.widget-view+json": {
              "model_id": "e383d4d8863d40879bafaf0d5b035e1f",
              "version_major": 2,
              "version_minor": 0
            },
            "text/plain": [
              "  0%|          | 0/500 [00:00<?, ?it/s]"
            ]
          },
          "metadata": {},
          "output_type": "display_data"
        },
        {
          "name": "stdout",
          "output_type": "stream",
          "text": [
            "epoch = 0, loss_de = 28.3538\n",
            "epoch = 50, loss_de = 20.1601\n",
            "epoch = 100, loss_de = 11.9138\n",
            "epoch = 150, loss_de = 6.4623\n",
            "epoch = 200, loss_de = 4.9931\n",
            "epoch = 250, loss_de = 3.8992\n",
            "epoch = 300, loss_de = 4.1808\n",
            "epoch = 350, loss_de = 3.7109\n",
            "epoch = 400, loss_de = 3.8938\n",
            "epoch = 450, loss_de = 3.9086\n",
            "0.014444733038544655\n"
          ]
        },
        {
          "data": {
            "application/vnd.jupyter.widget-view+json": {
              "model_id": "0b687455928e48488144d4fba852ebee",
              "version_major": 2,
              "version_minor": 0
            },
            "text/plain": [
              "  0%|          | 0/500 [00:00<?, ?it/s]"
            ]
          },
          "metadata": {},
          "output_type": "display_data"
        },
        {
          "name": "stdout",
          "output_type": "stream",
          "text": [
            "epoch = 0, loss_de = 67.3460\n",
            "epoch = 50, loss_de = 37.0242\n",
            "epoch = 100, loss_de = 26.1086\n",
            "epoch = 150, loss_de = 20.8904\n",
            "epoch = 200, loss_de = 19.8221\n",
            "epoch = 250, loss_de = 17.5378\n",
            "epoch = 300, loss_de = 18.9259\n",
            "epoch = 350, loss_de = 16.9549\n",
            "epoch = 400, loss_de = 17.7075\n",
            "epoch = 450, loss_de = 17.9178\n",
            "0.02228282392024994\n"
          ]
        },
        {
          "data": {
            "application/vnd.jupyter.widget-view+json": {
              "model_id": "9d534c14895f4dde8a4a221f50d276c7",
              "version_major": 2,
              "version_minor": 0
            },
            "text/plain": [
              "  0%|          | 0/500 [00:00<?, ?it/s]"
            ]
          },
          "metadata": {},
          "output_type": "display_data"
        },
        {
          "name": "stdout",
          "output_type": "stream",
          "text": [
            "epoch = 0, loss_de = 123.3410\n",
            "epoch = 50, loss_de = 53.6674\n",
            "epoch = 100, loss_de = 39.5406\n",
            "epoch = 150, loss_de = 33.4631\n",
            "epoch = 200, loss_de = 32.2270\n",
            "epoch = 250, loss_de = 28.7021\n",
            "epoch = 300, loss_de = 31.2303\n",
            "epoch = 350, loss_de = 27.6070\n",
            "epoch = 400, loss_de = 29.0459\n",
            "epoch = 450, loss_de = 29.1901\n",
            "0.01688687689602375\n"
          ]
        },
        {
          "data": {
            "application/vnd.jupyter.widget-view+json": {
              "model_id": "3446cb54caf14f388040d66d12e3de67",
              "version_major": 2,
              "version_minor": 0
            },
            "text/plain": [
              "  0%|          | 0/500 [00:00<?, ?it/s]"
            ]
          },
          "metadata": {},
          "output_type": "display_data"
        },
        {
          "name": "stdout",
          "output_type": "stream",
          "text": [
            "epoch = 0, loss_de = 196.3389\n",
            "epoch = 50, loss_de = 82.0395\n",
            "epoch = 100, loss_de = 60.3591\n",
            "epoch = 150, loss_de = 51.9712\n",
            "epoch = 200, loss_de = 50.7681\n",
            "epoch = 250, loss_de = 45.7445\n",
            "epoch = 300, loss_de = 49.6038\n",
            "epoch = 350, loss_de = 43.8675\n",
            "epoch = 400, loss_de = 46.0946\n",
            "epoch = 450, loss_de = 46.1378\n",
            "0.015646247193217278\n"
          ]
        },
        {
          "data": {
            "application/vnd.jupyter.widget-view+json": {
              "model_id": "8d51f79bbc2442599e80b6d69569cf0f",
              "version_major": 2,
              "version_minor": 0
            },
            "text/plain": [
              "  0%|          | 0/500 [00:00<?, ?it/s]"
            ]
          },
          "metadata": {},
          "output_type": "display_data"
        },
        {
          "name": "stdout",
          "output_type": "stream",
          "text": [
            "epoch = 0, loss_de = 286.3398\n",
            "epoch = 50, loss_de = 91.2565\n",
            "epoch = 100, loss_de = 72.4097\n",
            "epoch = 150, loss_de = 65.1337\n",
            "epoch = 200, loss_de = 65.4385\n",
            "epoch = 250, loss_de = 59.6851\n",
            "epoch = 300, loss_de = 65.1210\n",
            "epoch = 350, loss_de = 57.6035\n",
            "epoch = 400, loss_de = 60.3819\n",
            "epoch = 450, loss_de = 60.8642\n",
            "0.013487323187291622\n"
          ]
        },
        {
          "data": {
            "application/vnd.jupyter.widget-view+json": {
              "model_id": "5542540424ec4535a8c954f50ea146de",
              "version_major": 2,
              "version_minor": 0
            },
            "text/plain": [
              "  0%|          | 0/500 [00:00<?, ?it/s]"
            ]
          },
          "metadata": {},
          "output_type": "display_data"
        },
        {
          "name": "stdout",
          "output_type": "stream",
          "text": [
            "epoch = 0, loss_de = 393.3434\n",
            "epoch = 50, loss_de = 118.7175\n",
            "epoch = 100, loss_de = 94.4863\n",
            "epoch = 150, loss_de = 85.7535\n",
            "epoch = 200, loss_de = 86.5426\n",
            "epoch = 250, loss_de = 79.3408\n",
            "epoch = 300, loss_de = 86.4355\n",
            "epoch = 350, loss_de = 76.4757\n",
            "epoch = 400, loss_de = 80.1492\n",
            "epoch = 450, loss_de = 80.6445\n",
            "0.012579340487718582\n"
          ]
        },
        {
          "data": {
            "application/vnd.jupyter.widget-view+json": {
              "model_id": "026db3550d0248b68a8f32840bff52fe",
              "version_major": 2,
              "version_minor": 0
            },
            "text/plain": [
              "  0%|          | 0/500 [00:00<?, ?it/s]"
            ]
          },
          "metadata": {},
          "output_type": "display_data"
        },
        {
          "name": "stdout",
          "output_type": "stream",
          "text": [
            "epoch = 0, loss_de = 517.3499\n",
            "epoch = 50, loss_de = 146.4906\n",
            "epoch = 100, loss_de = 117.3343\n",
            "epoch = 150, loss_de = 107.5400\n",
            "epoch = 200, loss_de = 106.3347\n",
            "epoch = 250, loss_de = 97.0782\n",
            "epoch = 300, loss_de = 105.8157\n",
            "epoch = 350, loss_de = 93.2423\n",
            "epoch = 400, loss_de = 97.8318\n",
            "epoch = 450, loss_de = 98.4346\n",
            "0.011218042112886906\n"
          ]
        },
        {
          "data": {
            "application/vnd.jupyter.widget-view+json": {
              "model_id": "f31d5bb86e304ba88dd2a0f2a1b6dc2a",
              "version_major": 2,
              "version_minor": 0
            },
            "text/plain": [
              "  0%|          | 0/500 [00:00<?, ?it/s]"
            ]
          },
          "metadata": {},
          "output_type": "display_data"
        },
        {
          "name": "stdout",
          "output_type": "stream",
          "text": [
            "epoch = 0, loss_de = 658.3593\n",
            "epoch = 50, loss_de = 177.8461\n",
            "epoch = 100, loss_de = 143.6571\n",
            "epoch = 150, loss_de = 132.0612\n",
            "epoch = 200, loss_de = 134.2095\n",
            "epoch = 250, loss_de = 123.9208\n",
            "epoch = 300, loss_de = 134.7120\n",
            "epoch = 350, loss_de = 119.1216\n",
            "epoch = 400, loss_de = 125.1053\n",
            "epoch = 450, loss_de = 125.2203\n",
            "0.01130229514092207\n"
          ]
        },
        {
          "data": {
            "application/vnd.jupyter.widget-view+json": {
              "model_id": "f30d91edb38847a39b7f30a26a092b43",
              "version_major": 2,
              "version_minor": 0
            },
            "text/plain": [
              "  0%|          | 0/500 [00:00<?, ?it/s]"
            ]
          },
          "metadata": {},
          "output_type": "display_data"
        },
        {
          "name": "stdout",
          "output_type": "stream",
          "text": [
            "epoch = 0, loss_de = 816.3715\n",
            "epoch = 50, loss_de = 210.6603\n",
            "epoch = 100, loss_de = 168.9598\n",
            "epoch = 150, loss_de = 155.8454\n",
            "epoch = 200, loss_de = 158.5596\n",
            "epoch = 250, loss_de = 146.5304\n",
            "epoch = 300, loss_de = 159.4600\n",
            "epoch = 350, loss_de = 140.8642\n",
            "epoch = 400, loss_de = 147.9880\n",
            "epoch = 450, loss_de = 148.2293\n",
            "0.011007549241185188\n"
          ]
        },
        {
          "data": {
            "application/vnd.jupyter.widget-view+json": {
              "model_id": "ace08566bed6489bba97f45fb6b0138d",
              "version_major": 2,
              "version_minor": 0
            },
            "text/plain": [
              "  0%|          | 0/500 [00:00<?, ?it/s]"
            ]
          },
          "metadata": {},
          "output_type": "display_data"
        },
        {
          "name": "stdout",
          "output_type": "stream",
          "text": [
            "epoch = 0, loss_de = 991.3868\n",
            "epoch = 50, loss_de = 252.1362\n",
            "epoch = 100, loss_de = 199.8730\n",
            "epoch = 150, loss_de = 184.4770\n",
            "epoch = 200, loss_de = 188.1788\n",
            "epoch = 250, loss_de = 174.1883\n",
            "epoch = 300, loss_de = 189.2714\n",
            "epoch = 350, loss_de = 167.1764\n",
            "epoch = 400, loss_de = 175.9533\n",
            "epoch = 450, loss_de = 175.3764\n",
            "0.010885590687394142\n"
          ]
        },
        {
          "data": {
            "application/vnd.jupyter.widget-view+json": {
              "model_id": "5e47f3aed497409f9ab5d7d54eb6be2c",
              "version_major": 2,
              "version_minor": 0
            },
            "text/plain": [
              "  0%|          | 0/500 [00:00<?, ?it/s]"
            ]
          },
          "metadata": {},
          "output_type": "display_data"
        },
        {
          "name": "stdout",
          "output_type": "stream",
          "text": [
            "epoch = 0, loss_de = 1183.4047\n",
            "epoch = 50, loss_de = 281.6985\n",
            "epoch = 100, loss_de = 226.5556\n",
            "epoch = 150, loss_de = 209.4426\n",
            "epoch = 200, loss_de = 213.8737\n",
            "epoch = 250, loss_de = 197.8694\n",
            "epoch = 300, loss_de = 215.4053\n",
            "epoch = 350, loss_de = 189.9650\n",
            "epoch = 400, loss_de = 200.0455\n",
            "epoch = 450, loss_de = 199.6638\n",
            "0.010499618947505951\n"
          ]
        },
        {
          "data": {
            "application/vnd.jupyter.widget-view+json": {
              "model_id": "1f0d7f2ce1e842638585a8e73e36c237",
              "version_major": 2,
              "version_minor": 0
            },
            "text/plain": [
              "  0%|          | 0/500 [00:00<?, ?it/s]"
            ]
          },
          "metadata": {},
          "output_type": "display_data"
        },
        {
          "name": "stdout",
          "output_type": "stream",
          "text": [
            "epoch = 0, loss_de = 1392.4254\n",
            "epoch = 50, loss_de = 342.4215\n",
            "epoch = 100, loss_de = 270.4685\n",
            "epoch = 150, loss_de = 248.3481\n",
            "epoch = 200, loss_de = 253.5798\n",
            "epoch = 250, loss_de = 235.0361\n",
            "epoch = 300, loss_de = 254.9033\n",
            "epoch = 350, loss_de = 225.2102\n",
            "epoch = 400, loss_de = 237.3282\n",
            "epoch = 450, loss_de = 235.4757\n",
            "0.011167223565280437\n"
          ]
        },
        {
          "data": {
            "application/vnd.jupyter.widget-view+json": {
              "model_id": "57a02f93072f4c079f29c9bc7ccb5f7a",
              "version_major": 2,
              "version_minor": 0
            },
            "text/plain": [
              "  0%|          | 0/500 [00:00<?, ?it/s]"
            ]
          },
          "metadata": {},
          "output_type": "display_data"
        },
        {
          "name": "stdout",
          "output_type": "stream",
          "text": [
            "epoch = 0, loss_de = 1618.4492\n",
            "epoch = 50, loss_de = 367.2241\n",
            "epoch = 100, loss_de = 292.9775\n",
            "epoch = 150, loss_de = 271.1025\n",
            "epoch = 200, loss_de = 277.4421\n",
            "epoch = 250, loss_de = 256.9096\n",
            "epoch = 300, loss_de = 279.5829\n",
            "epoch = 350, loss_de = 246.4119\n",
            "epoch = 400, loss_de = 259.8327\n",
            "epoch = 450, loss_de = 258.5738\n",
            "0.01041430700570345\n"
          ]
        },
        {
          "data": {
            "application/vnd.jupyter.widget-view+json": {
              "model_id": "f54c16da20454ec2a00487f2c16b03e3",
              "version_major": 2,
              "version_minor": 0
            },
            "text/plain": [
              "  0%|          | 0/500 [00:00<?, ?it/s]"
            ]
          },
          "metadata": {},
          "output_type": "display_data"
        },
        {
          "name": "stdout",
          "output_type": "stream",
          "text": [
            "epoch = 0, loss_de = 1861.4758\n",
            "epoch = 50, loss_de = 421.4965\n",
            "epoch = 100, loss_de = 330.4732\n",
            "epoch = 150, loss_de = 305.7318\n",
            "epoch = 200, loss_de = 313.0599\n",
            "epoch = 250, loss_de = 289.9654\n",
            "epoch = 300, loss_de = 315.4612\n",
            "epoch = 350, loss_de = 277.9896\n",
            "epoch = 400, loss_de = 293.2983\n",
            "epoch = 450, loss_de = 291.4866\n",
            "0.010530185885727406\n"
          ]
        },
        {
          "data": {
            "application/vnd.jupyter.widget-view+json": {
              "model_id": "72369aea0ff941998c4cc6ea6f412bad",
              "version_major": 2,
              "version_minor": 0
            },
            "text/plain": [
              "  0%|          | 0/500 [00:00<?, ?it/s]"
            ]
          },
          "metadata": {},
          "output_type": "display_data"
        },
        {
          "name": "stdout",
          "output_type": "stream",
          "text": [
            "epoch = 0, loss_de = 2121.5056\n",
            "epoch = 50, loss_de = 462.5578\n",
            "epoch = 100, loss_de = 366.8254\n",
            "epoch = 150, loss_de = 339.6175\n",
            "epoch = 200, loss_de = 348.0344\n",
            "epoch = 250, loss_de = 322.3933\n",
            "epoch = 300, loss_de = 350.8419\n",
            "epoch = 350, loss_de = 309.0610\n",
            "epoch = 400, loss_de = 326.2009\n",
            "epoch = 450, loss_de = 324.0409\n",
            "0.010508745908737183\n"
          ]
        },
        {
          "data": {
            "application/vnd.jupyter.widget-view+json": {
              "model_id": "a5812b8314374265bf44d51e976969f3",
              "version_major": 2,
              "version_minor": 0
            },
            "text/plain": [
              "  0%|          | 0/500 [00:00<?, ?it/s]"
            ]
          },
          "metadata": {},
          "output_type": "display_data"
        },
        {
          "name": "stdout",
          "output_type": "stream",
          "text": [
            "epoch = 0, loss_de = 2398.5381\n",
            "epoch = 50, loss_de = 515.0819\n",
            "epoch = 100, loss_de = 409.9302\n",
            "epoch = 150, loss_de = 378.9087\n",
            "epoch = 200, loss_de = 388.4417\n",
            "epoch = 250, loss_de = 359.8420\n",
            "epoch = 300, loss_de = 391.3937\n",
            "epoch = 350, loss_de = 344.8192\n",
            "epoch = 400, loss_de = 364.1279\n",
            "epoch = 450, loss_de = 361.0927\n",
            "0.010721828788518906\n"
          ]
        },
        {
          "data": {
            "application/vnd.jupyter.widget-view+json": {
              "model_id": "f6132b103cef4a4bb551c013cbbd3d54",
              "version_major": 2,
              "version_minor": 0
            },
            "text/plain": [
              "  0%|          | 0/500 [00:00<?, ?it/s]"
            ]
          },
          "metadata": {},
          "output_type": "display_data"
        },
        {
          "name": "stdout",
          "output_type": "stream",
          "text": [
            "epoch = 0, loss_de = 2692.5732\n",
            "epoch = 50, loss_de = 595.5164\n",
            "epoch = 100, loss_de = 467.6604\n",
            "epoch = 150, loss_de = 429.5366\n",
            "epoch = 200, loss_de = 439.7624\n",
            "epoch = 250, loss_de = 407.7296\n",
            "epoch = 300, loss_de = 442.2756\n",
            "epoch = 350, loss_de = 390.3303\n",
            "epoch = 400, loss_de = 412.0186\n",
            "epoch = 450, loss_de = 407.3880\n",
            "0.011483650654554367\n"
          ]
        },
        {
          "data": {
            "application/vnd.jupyter.widget-view+json": {
              "model_id": "df353166d067451996e731085c85003e",
              "version_major": 2,
              "version_minor": 0
            },
            "text/plain": [
              "  0%|          | 0/500 [00:00<?, ?it/s]"
            ]
          },
          "metadata": {},
          "output_type": "display_data"
        },
        {
          "name": "stdout",
          "output_type": "stream",
          "text": [
            "epoch = 0, loss_de = 3003.6111\n",
            "epoch = 50, loss_de = 658.2394\n",
            "epoch = 100, loss_de = 501.7798\n",
            "epoch = 150, loss_de = 462.9832\n",
            "epoch = 200, loss_de = 474.7401\n",
            "epoch = 250, loss_de = 439.9045\n",
            "epoch = 300, loss_de = 478.0976\n",
            "epoch = 350, loss_de = 421.3163\n",
            "epoch = 400, loss_de = 445.1089\n",
            "epoch = 450, loss_de = 440.4777\n",
            "0.011162782087922096\n"
          ]
        },
        {
          "data": {
            "application/vnd.jupyter.widget-view+json": {
              "model_id": "7c1680d2d810428292bf1204882dcb30",
              "version_major": 2,
              "version_minor": 0
            },
            "text/plain": [
              "  0%|          | 0/500 [00:00<?, ?it/s]"
            ]
          },
          "metadata": {},
          "output_type": "display_data"
        },
        {
          "name": "stdout",
          "output_type": "stream",
          "text": [
            "epoch = 0, loss_de = 3331.6521\n",
            "epoch = 50, loss_de = 724.5148\n",
            "epoch = 100, loss_de = 550.5303\n",
            "epoch = 150, loss_de = 507.5586\n",
            "epoch = 200, loss_de = 520.4407\n",
            "epoch = 250, loss_de = 482.3300\n",
            "epoch = 300, loss_de = 524.0412\n",
            "epoch = 350, loss_de = 461.8770\n",
            "epoch = 400, loss_de = 487.9497\n",
            "epoch = 450, loss_de = 482.6424\n",
            "0.011377811431884766\n"
          ]
        },
        {
          "data": {
            "application/vnd.jupyter.widget-view+json": {
              "model_id": "12af6bef66954f7da0e6190c71bcc607",
              "version_major": 2,
              "version_minor": 0
            },
            "text/plain": [
              "  0%|          | 0/500 [00:00<?, ?it/s]"
            ]
          },
          "metadata": {},
          "output_type": "display_data"
        },
        {
          "name": "stdout",
          "output_type": "stream",
          "text": [
            "epoch = 0, loss_de = 3676.6960\n",
            "epoch = 50, loss_de = 794.2429\n",
            "epoch = 100, loss_de = 600.7948\n",
            "epoch = 150, loss_de = 553.5969\n",
            "epoch = 200, loss_de = 567.6428\n",
            "epoch = 250, loss_de = 526.1340\n",
            "epoch = 300, loss_de = 571.5225\n",
            "epoch = 350, loss_de = 503.7682\n",
            "epoch = 400, loss_de = 532.1984\n",
            "epoch = 450, loss_de = 526.2380\n",
            "0.011573242023587227\n"
          ]
        },
        {
          "data": {
            "application/vnd.jupyter.widget-view+json": {
              "model_id": "7f2dec23e0ea4ab8878e95b351b1fc90",
              "version_major": 2,
              "version_minor": 0
            },
            "text/plain": [
              "  0%|          | 0/500 [00:00<?, ?it/s]"
            ]
          },
          "metadata": {},
          "output_type": "display_data"
        },
        {
          "name": "stdout",
          "output_type": "stream",
          "text": [
            "epoch = 0, loss_de = 4038.7424\n",
            "epoch = 50, loss_de = 875.0324\n",
            "epoch = 100, loss_de = 656.3642\n",
            "epoch = 150, loss_de = 604.4059\n",
            "epoch = 200, loss_de = 619.5563\n",
            "epoch = 250, loss_de = 574.4559\n",
            "epoch = 300, loss_de = 623.5953\n",
            "epoch = 350, loss_de = 549.9411\n",
            "epoch = 400, loss_de = 580.7914\n",
            "epoch = 450, loss_de = 574.0289\n",
            "0.011910802684724331\n"
          ]
        },
        {
          "data": {
            "application/vnd.jupyter.widget-view+json": {
              "model_id": "8519523e78ff47c0b4ec0669363ab268",
              "version_major": 2,
              "version_minor": 0
            },
            "text/plain": [
              "  0%|          | 0/500 [00:00<?, ?it/s]"
            ]
          },
          "metadata": {},
          "output_type": "display_data"
        },
        {
          "name": "stdout",
          "output_type": "stream",
          "text": [
            "epoch = 0, loss_de = 4417.7925\n",
            "epoch = 50, loss_de = 953.8481\n",
            "epoch = 100, loss_de = 717.4764\n",
            "epoch = 150, loss_de = 659.0120\n",
            "epoch = 200, loss_de = 675.2145\n",
            "epoch = 250, loss_de = 626.2820\n",
            "epoch = 300, loss_de = 679.2777\n",
            "epoch = 350, loss_de = 599.4195\n",
            "epoch = 400, loss_de = 632.7816\n",
            "epoch = 450, loss_de = 625.1336\n",
            "0.01231198851019144\n"
          ]
        },
        {
          "data": {
            "application/vnd.jupyter.widget-view+json": {
              "model_id": "7c9df4f8b4324daab34d415b86475b27",
              "version_major": 2,
              "version_minor": 0
            },
            "text/plain": [
              "  0%|          | 0/500 [00:00<?, ?it/s]"
            ]
          },
          "metadata": {},
          "output_type": "display_data"
        },
        {
          "name": "stdout",
          "output_type": "stream",
          "text": [
            "epoch = 0, loss_de = 4813.8447\n",
            "epoch = 50, loss_de = 1027.7164\n",
            "epoch = 100, loss_de = 780.2435\n",
            "epoch = 150, loss_de = 714.8093\n",
            "epoch = 200, loss_de = 731.9736\n",
            "epoch = 250, loss_de = 679.0048\n",
            "epoch = 300, loss_de = 736.0451\n",
            "epoch = 350, loss_de = 649.7647\n",
            "epoch = 400, loss_de = 685.7584\n",
            "epoch = 450, loss_de = 677.2836\n",
            "0.012641006149351597\n"
          ]
        },
        {
          "data": {
            "application/vnd.jupyter.widget-view+json": {
              "model_id": "dea620d71c0d493f8614cd14c980454b",
              "version_major": 2,
              "version_minor": 0
            },
            "text/plain": [
              "  0%|          | 0/500 [00:00<?, ?it/s]"
            ]
          },
          "metadata": {},
          "output_type": "display_data"
        },
        {
          "name": "stdout",
          "output_type": "stream",
          "text": [
            "epoch = 0, loss_de = 5226.8999\n",
            "epoch = 50, loss_de = 1124.0634\n",
            "epoch = 100, loss_de = 849.9574\n",
            "epoch = 150, loss_de = 776.5713\n",
            "epoch = 200, loss_de = 794.7161\n",
            "epoch = 250, loss_de = 737.4728\n",
            "epoch = 300, loss_de = 798.6238\n",
            "epoch = 350, loss_de = 705.5593\n",
            "epoch = 400, loss_de = 744.2360\n",
            "epoch = 450, loss_de = 734.7947\n",
            "0.013123852200806141\n"
          ]
        },
        {
          "data": {
            "application/vnd.jupyter.widget-view+json": {
              "model_id": "852464f1f8d84577ba09d2bc90379aa9",
              "version_major": 2,
              "version_minor": 0
            },
            "text/plain": [
              "  0%|          | 0/500 [00:00<?, ?it/s]"
            ]
          },
          "metadata": {},
          "output_type": "display_data"
        },
        {
          "name": "stdout",
          "output_type": "stream",
          "text": [
            "epoch = 0, loss_de = 5656.9585\n",
            "epoch = 50, loss_de = 1196.7432\n",
            "epoch = 100, loss_de = 902.0201\n",
            "epoch = 150, loss_de = 825.6796\n",
            "epoch = 200, loss_de = 845.3151\n",
            "epoch = 250, loss_de = 784.0664\n",
            "epoch = 300, loss_de = 849.8808\n",
            "epoch = 350, loss_de = 750.2393\n",
            "epoch = 400, loss_de = 791.8601\n",
            "epoch = 450, loss_de = 781.9178\n",
            "0.013005848973989487\n"
          ]
        },
        {
          "data": {
            "application/vnd.jupyter.widget-view+json": {
              "model_id": "6a7046b49e554a23802899df2efe0754",
              "version_major": 2,
              "version_minor": 0
            },
            "text/plain": [
              "  0%|          | 0/500 [00:00<?, ?it/s]"
            ]
          },
          "metadata": {},
          "output_type": "display_data"
        },
        {
          "name": "stdout",
          "output_type": "stream",
          "text": [
            "epoch = 0, loss_de = 6104.0190\n",
            "epoch = 50, loss_de = 1277.9020\n",
            "epoch = 100, loss_de = 959.2224\n",
            "epoch = 150, loss_de = 879.7331\n",
            "epoch = 200, loss_de = 900.8459\n",
            "epoch = 250, loss_de = 835.3852\n",
            "epoch = 300, loss_de = 905.9294\n",
            "epoch = 350, loss_de = 799.4106\n",
            "epoch = 400, loss_de = 844.0130\n",
            "epoch = 450, loss_de = 833.4765\n",
            "0.013036010786890984\n"
          ]
        },
        {
          "data": {
            "application/vnd.jupyter.widget-view+json": {
              "model_id": "4fcaf85f06fc4ff08525b2d86b3bd633",
              "version_major": 2,
              "version_minor": 0
            },
            "text/plain": [
              "  0%|          | 0/500 [00:00<?, ?it/s]"
            ]
          },
          "metadata": {},
          "output_type": "display_data"
        },
        {
          "name": "stdout",
          "output_type": "stream",
          "text": [
            "epoch = 0, loss_de = 6568.0830\n",
            "epoch = 50, loss_de = 1371.8434\n",
            "epoch = 100, loss_de = 1029.0645\n",
            "epoch = 150, loss_de = 942.0855\n",
            "epoch = 200, loss_de = 964.4599\n",
            "epoch = 250, loss_de = 894.4469\n",
            "epoch = 300, loss_de = 969.6882\n",
            "epoch = 350, loss_de = 855.8454\n",
            "epoch = 400, loss_de = 903.4452\n",
            "epoch = 450, loss_de = 892.0614\n",
            "0.01329767145216465\n"
          ]
        },
        {
          "data": {
            "application/vnd.jupyter.widget-view+json": {
              "model_id": "e21afc3a00444a619cd3046a67b48ef4",
              "version_major": 2,
              "version_minor": 0
            },
            "text/plain": [
              "  0%|          | 0/500 [00:00<?, ?it/s]"
            ]
          },
          "metadata": {},
          "output_type": "display_data"
        },
        {
          "name": "stdout",
          "output_type": "stream",
          "text": [
            "epoch = 0, loss_de = 7049.1504\n",
            "epoch = 50, loss_de = 1464.4587\n",
            "epoch = 100, loss_de = 1094.7913\n",
            "epoch = 150, loss_de = 1002.6140\n",
            "epoch = 200, loss_de = 1026.5300\n",
            "epoch = 250, loss_de = 951.9936\n",
            "epoch = 300, loss_de = 1032.1758\n",
            "epoch = 350, loss_de = 910.9225\n",
            "epoch = 400, loss_de = 961.5998\n",
            "epoch = 450, loss_de = 949.5216\n",
            "0.01344473846256733\n"
          ]
        },
        {
          "data": {
            "application/vnd.jupyter.widget-view+json": {
              "model_id": "d08a4f8b1fcf4c969cb48b79bc708a7e",
              "version_major": 2,
              "version_minor": 0
            },
            "text/plain": [
              "  0%|          | 0/500 [00:00<?, ?it/s]"
            ]
          },
          "metadata": {},
          "output_type": "display_data"
        },
        {
          "name": "stdout",
          "output_type": "stream",
          "text": [
            "epoch = 0, loss_de = 7547.2202\n",
            "epoch = 50, loss_de = 1556.9778\n",
            "epoch = 100, loss_de = 1175.4268\n",
            "epoch = 150, loss_de = 1072.8252\n",
            "epoch = 200, loss_de = 1097.7292\n",
            "epoch = 250, loss_de = 1018.0789\n",
            "epoch = 300, loss_de = 1103.1948\n",
            "epoch = 350, loss_de = 974.0006\n",
            "epoch = 400, loss_de = 1027.9189\n",
            "epoch = 450, loss_de = 1014.8131\n",
            "0.01377793401479721\n"
          ]
        },
        {
          "data": {
            "application/vnd.jupyter.widget-view+json": {
              "model_id": "c5b0ec0aaa2a46bc9699298b8dccce5c",
              "version_major": 2,
              "version_minor": 0
            },
            "text/plain": [
              "  0%|          | 0/500 [00:00<?, ?it/s]"
            ]
          },
          "metadata": {},
          "output_type": "display_data"
        },
        {
          "name": "stdout",
          "output_type": "stream",
          "text": [
            "epoch = 0, loss_de = 8062.2920\n",
            "epoch = 50, loss_de = 1651.1665\n",
            "epoch = 100, loss_de = 1247.2867\n",
            "epoch = 150, loss_de = 1138.6202\n",
            "epoch = 200, loss_de = 1164.9587\n",
            "epoch = 250, loss_de = 1080.3726\n",
            "epoch = 300, loss_de = 1170.7194\n",
            "epoch = 350, loss_de = 1033.5874\n",
            "epoch = 400, loss_de = 1090.8180\n",
            "epoch = 450, loss_de = 1076.9148\n",
            "0.013936859555542469\n"
          ]
        },
        {
          "data": {
            "application/vnd.jupyter.widget-view+json": {
              "model_id": "3ec732abeeb34620a086016ff1b06f89",
              "version_major": 2,
              "version_minor": 0
            },
            "text/plain": [
              "  0%|          | 0/500 [00:00<?, ?it/s]"
            ]
          },
          "metadata": {},
          "output_type": "display_data"
        },
        {
          "name": "stdout",
          "output_type": "stream",
          "text": [
            "epoch = 0, loss_de = 8594.3682\n",
            "epoch = 50, loss_de = 1752.0532\n",
            "epoch = 100, loss_de = 1321.3300\n",
            "epoch = 150, loss_de = 1206.0620\n",
            "epoch = 200, loss_de = 1233.8730\n",
            "epoch = 250, loss_de = 1144.2086\n",
            "epoch = 300, loss_de = 1239.9432\n",
            "epoch = 350, loss_de = 1094.6506\n",
            "epoch = 400, loss_de = 1155.2860\n",
            "epoch = 450, loss_de = 1140.5803\n",
            "0.014086984097957611\n"
          ]
        },
        {
          "data": {
            "application/vnd.jupyter.widget-view+json": {
              "model_id": "fd2867e2bccc471f9764fa42f68a99df",
              "version_major": 2,
              "version_minor": 0
            },
            "text/plain": [
              "  0%|          | 0/500 [00:00<?, ?it/s]"
            ]
          },
          "metadata": {},
          "output_type": "display_data"
        },
        {
          "name": "stdout",
          "output_type": "stream",
          "text": [
            "epoch = 0, loss_de = 9143.4473\n",
            "epoch = 50, loss_de = 1861.8942\n",
            "epoch = 100, loss_de = 1409.2609\n",
            "epoch = 150, loss_de = 1281.5627\n",
            "epoch = 200, loss_de = 1310.3687\n",
            "epoch = 250, loss_de = 1215.2087\n",
            "epoch = 300, loss_de = 1316.3600\n",
            "epoch = 350, loss_de = 1162.4456\n",
            "epoch = 400, loss_de = 1226.5574\n",
            "epoch = 450, loss_de = 1210.8447\n",
            "0.014380287379026413\n"
          ]
        },
        {
          "data": {
            "application/vnd.jupyter.widget-view+json": {
              "model_id": "605615833c734031ad230f47dbe399e8",
              "version_major": 2,
              "version_minor": 0
            },
            "text/plain": [
              "  0%|          | 0/500 [00:00<?, ?it/s]"
            ]
          },
          "metadata": {},
          "output_type": "display_data"
        },
        {
          "name": "stdout",
          "output_type": "stream",
          "text": [
            "epoch = 0, loss_de = 9709.5283\n",
            "epoch = 50, loss_de = 1986.8900\n",
            "epoch = 100, loss_de = 1516.3868\n",
            "epoch = 150, loss_de = 1365.4041\n",
            "epoch = 200, loss_de = 1394.4338\n",
            "epoch = 250, loss_de = 1293.2848\n",
            "epoch = 300, loss_de = 1399.8903\n",
            "epoch = 350, loss_de = 1236.8822\n",
            "epoch = 400, loss_de = 1304.5487\n",
            "epoch = 450, loss_de = 1287.6531\n",
            "0.01479441486299038\n"
          ]
        },
        {
          "data": {
            "application/vnd.jupyter.widget-view+json": {
              "model_id": "a4ac3020d0b145e49d6bdddd157d8972",
              "version_major": 2,
              "version_minor": 0
            },
            "text/plain": [
              "  0%|          | 0/500 [00:00<?, ?it/s]"
            ]
          },
          "metadata": {},
          "output_type": "display_data"
        },
        {
          "name": "stdout",
          "output_type": "stream",
          "text": [
            "epoch = 0, loss_de = 10292.6123\n",
            "epoch = 50, loss_de = 2103.3291\n",
            "epoch = 100, loss_de = 1665.6975\n",
            "epoch = 150, loss_de = 1448.4637\n",
            "epoch = 200, loss_de = 1477.5645\n",
            "epoch = 250, loss_de = 1370.2871\n",
            "epoch = 300, loss_de = 1482.5542\n",
            "epoch = 350, loss_de = 1310.3057\n",
            "epoch = 400, loss_de = 1381.6575\n",
            "epoch = 450, loss_de = 1363.6420\n",
            "0.015105742029845715\n"
          ]
        },
        {
          "data": {
            "application/vnd.jupyter.widget-view+json": {
              "model_id": "f31e009934524253830f3b941c739158",
              "version_major": 2,
              "version_minor": 0
            },
            "text/plain": [
              "  0%|          | 0/500 [00:00<?, ?it/s]"
            ]
          },
          "metadata": {},
          "output_type": "display_data"
        },
        {
          "name": "stdout",
          "output_type": "stream",
          "text": [
            "epoch = 0, loss_de = 10892.6992\n",
            "epoch = 50, loss_de = 2215.4475\n",
            "epoch = 100, loss_de = 1754.5476\n",
            "epoch = 150, loss_de = 1529.3452\n",
            "epoch = 200, loss_de = 1558.9354\n",
            "epoch = 250, loss_de = 1445.5282\n",
            "epoch = 300, loss_de = 1563.6821\n",
            "epoch = 350, loss_de = 1382.1072\n",
            "epoch = 400, loss_de = 1457.2565\n",
            "epoch = 450, loss_de = 1438.2152\n",
            "0.015314255841076374\n"
          ]
        },
        {
          "data": {
            "application/vnd.jupyter.widget-view+json": {
              "model_id": "e9381a033f5046028c376bb202cc082f",
              "version_major": 2,
              "version_minor": 0
            },
            "text/plain": [
              "  0%|          | 0/500 [00:00<?, ?it/s]"
            ]
          },
          "metadata": {},
          "output_type": "display_data"
        },
        {
          "name": "stdout",
          "output_type": "stream",
          "text": [
            "epoch = 0, loss_de = 11509.7891\n",
            "epoch = 50, loss_de = 2327.9043\n",
            "epoch = 100, loss_de = 1845.6460\n",
            "epoch = 150, loss_de = 1610.9788\n",
            "epoch = 200, loss_de = 1640.9446\n",
            "epoch = 250, loss_de = 1521.3616\n",
            "epoch = 300, loss_de = 1645.5916\n",
            "epoch = 350, loss_de = 1454.5149\n",
            "epoch = 400, loss_de = 1533.5677\n",
            "epoch = 450, loss_de = 1513.5194\n",
            "0.015485412441194057\n"
          ]
        },
        {
          "data": {
            "application/vnd.jupyter.widget-view+json": {
              "model_id": "3dd1f028411d49d184bb4d0b60a927f6",
              "version_major": 2,
              "version_minor": 0
            },
            "text/plain": [
              "  0%|          | 0/500 [00:00<?, ?it/s]"
            ]
          },
          "metadata": {},
          "output_type": "display_data"
        },
        {
          "name": "stdout",
          "output_type": "stream",
          "text": [
            "epoch = 0, loss_de = 12143.8818\n",
            "epoch = 50, loss_de = 2450.4822\n",
            "epoch = 100, loss_de = 1940.0736\n",
            "epoch = 150, loss_de = 1694.7002\n",
            "epoch = 200, loss_de = 1725.6244\n",
            "epoch = 250, loss_de = 1599.6907\n",
            "epoch = 300, loss_de = 1730.1460\n",
            "epoch = 350, loss_de = 1529.3011\n",
            "epoch = 400, loss_de = 1612.3500\n",
            "epoch = 450, loss_de = 1591.2628\n",
            "0.015667269006371498\n"
          ]
        },
        {
          "data": {
            "application/vnd.jupyter.widget-view+json": {
              "model_id": "6f6160989607461aaa2ed38fcfb6964d",
              "version_major": 2,
              "version_minor": 0
            },
            "text/plain": [
              "  0%|          | 0/500 [00:00<?, ?it/s]"
            ]
          },
          "metadata": {},
          "output_type": "display_data"
        },
        {
          "name": "stdout",
          "output_type": "stream",
          "text": [
            "epoch = 0, loss_de = 12794.9766\n",
            "epoch = 50, loss_de = 2584.6086\n",
            "epoch = 100, loss_de = 2037.3036\n",
            "epoch = 150, loss_de = 1786.5144\n",
            "epoch = 200, loss_de = 1816.3704\n",
            "epoch = 250, loss_de = 1683.6322\n",
            "epoch = 300, loss_de = 1820.3702\n",
            "epoch = 350, loss_de = 1609.3264\n",
            "epoch = 400, loss_de = 1696.4558\n",
            "epoch = 450, loss_de = 1674.2021\n",
            "0.01592160016298294\n"
          ]
        },
        {
          "data": {
            "application/vnd.jupyter.widget-view+json": {
              "model_id": "81318114f5b74b1abb2d555a016490e8",
              "version_major": 2,
              "version_minor": 0
            },
            "text/plain": [
              "  0%|          | 0/500 [00:00<?, ?it/s]"
            ]
          },
          "metadata": {},
          "output_type": "display_data"
        },
        {
          "name": "stdout",
          "output_type": "stream",
          "text": [
            "epoch = 0, loss_de = 13463.0752\n",
            "epoch = 50, loss_de = 2717.0356\n",
            "epoch = 100, loss_de = 2136.8511\n",
            "epoch = 150, loss_de = 1883.2482\n",
            "epoch = 200, loss_de = 1912.5544\n",
            "epoch = 250, loss_de = 1772.4268\n",
            "epoch = 300, loss_de = 1915.4856\n",
            "epoch = 350, loss_de = 1693.8306\n",
            "epoch = 400, loss_de = 1785.1414\n",
            "epoch = 450, loss_de = 1761.6088\n",
            "0.0162187572568655\n"
          ]
        },
        {
          "data": {
            "application/vnd.jupyter.widget-view+json": {
              "model_id": "336ef40c6a324469bebceaf6ed01093a",
              "version_major": 2,
              "version_minor": 0
            },
            "text/plain": [
              "  0%|          | 0/500 [00:00<?, ?it/s]"
            ]
          },
          "metadata": {},
          "output_type": "display_data"
        },
        {
          "name": "stdout",
          "output_type": "stream",
          "text": [
            "epoch = 0, loss_de = 14148.1758\n",
            "epoch = 50, loss_de = 2849.9526\n",
            "epoch = 100, loss_de = 2238.3896\n",
            "epoch = 150, loss_de = 1983.3824\n",
            "epoch = 200, loss_de = 2010.7638\n",
            "epoch = 250, loss_de = 1862.6566\n",
            "epoch = 300, loss_de = 2012.1733\n",
            "epoch = 350, loss_de = 1779.6892\n",
            "epoch = 400, loss_de = 1875.2828\n",
            "epoch = 450, loss_de = 1850.4788\n",
            "0.016489950940012932\n"
          ]
        },
        {
          "data": {
            "application/vnd.jupyter.widget-view+json": {
              "model_id": "6190a6458e714cbb90f4be79b0c04b12",
              "version_major": 2,
              "version_minor": 0
            },
            "text/plain": [
              "  0%|          | 0/500 [00:00<?, ?it/s]"
            ]
          },
          "metadata": {},
          "output_type": "display_data"
        },
        {
          "name": "stdout",
          "output_type": "stream",
          "text": [
            "epoch = 0, loss_de = 14850.2803\n",
            "epoch = 50, loss_de = 2985.1426\n",
            "epoch = 100, loss_de = 2341.5881\n",
            "epoch = 150, loss_de = 2149.0071\n",
            "epoch = 200, loss_de = 2107.7820\n",
            "epoch = 250, loss_de = 1951.7280\n",
            "epoch = 300, loss_de = 2107.9053\n",
            "epoch = 350, loss_de = 1864.5009\n",
            "epoch = 400, loss_de = 1964.4860\n",
            "epoch = 450, loss_de = 1938.4692\n",
            "0.016689889132976532\n"
          ]
        },
        {
          "data": {
            "application/vnd.jupyter.widget-view+json": {
              "model_id": "a149541f564c4a2aa117b903a8983d4f",
              "version_major": 2,
              "version_minor": 0
            },
            "text/plain": [
              "  0%|          | 0/500 [00:00<?, ?it/s]"
            ]
          },
          "metadata": {},
          "output_type": "display_data"
        },
        {
          "name": "stdout",
          "output_type": "stream",
          "text": [
            "epoch = 0, loss_de = 15569.3887\n",
            "epoch = 50, loss_de = 3122.3401\n",
            "epoch = 100, loss_de = 2446.9021\n",
            "epoch = 150, loss_de = 2253.4531\n",
            "epoch = 200, loss_de = 2203.4331\n",
            "epoch = 250, loss_de = 2039.8218\n",
            "epoch = 300, loss_de = 2202.9463\n",
            "epoch = 350, loss_de = 1948.5367\n",
            "epoch = 400, loss_de = 2053.0181\n",
            "epoch = 450, loss_de = 2025.8462\n",
            "0.016835331916809082\n"
          ]
        },
        {
          "data": {
            "application/vnd.jupyter.widget-view+json": {
              "model_id": "304865c4e3e2468fa60227f40da3e47a",
              "version_major": 2,
              "version_minor": 0
            },
            "text/plain": [
              "  0%|          | 0/500 [00:00<?, ?it/s]"
            ]
          },
          "metadata": {},
          "output_type": "display_data"
        },
        {
          "name": "stdout",
          "output_type": "stream",
          "text": [
            "epoch = 0, loss_de = 16305.4990\n",
            "epoch = 50, loss_de = 3262.3982\n",
            "epoch = 100, loss_de = 2554.3091\n",
            "epoch = 150, loss_de = 2352.7700\n",
            "epoch = 200, loss_de = 2299.4888\n",
            "epoch = 250, loss_de = 2128.5449\n",
            "epoch = 300, loss_de = 2298.8396\n",
            "epoch = 350, loss_de = 2033.2534\n",
            "epoch = 400, loss_de = 2142.3340\n",
            "epoch = 450, loss_de = 2114.0156\n",
            "0.01695769652724266\n"
          ]
        },
        {
          "data": {
            "application/vnd.jupyter.widget-view+json": {
              "model_id": "ce71c0d56b274db79d2e6913f9667ac3",
              "version_major": 2,
              "version_minor": 0
            },
            "text/plain": [
              "  0%|          | 0/500 [00:00<?, ?it/s]"
            ]
          },
          "metadata": {},
          "output_type": "display_data"
        },
        {
          "name": "stdout",
          "output_type": "stream",
          "text": [
            "epoch = 0, loss_de = 17058.6113\n",
            "epoch = 50, loss_de = 3405.4792\n",
            "epoch = 100, loss_de = 2663.9622\n",
            "epoch = 150, loss_de = 2454.2488\n",
            "epoch = 200, loss_de = 2397.6597\n",
            "epoch = 250, loss_de = 2219.2070\n",
            "epoch = 300, loss_de = 2396.8213\n",
            "epoch = 350, loss_de = 2119.8157\n",
            "epoch = 400, loss_de = 2233.5945\n",
            "epoch = 450, loss_de = 2204.1050\n",
            "0.01707869954407215\n"
          ]
        },
        {
          "data": {
            "application/vnd.jupyter.widget-view+json": {
              "model_id": "3bae8fa327454217b46b46dab683355a",
              "version_major": 2,
              "version_minor": 0
            },
            "text/plain": [
              "  0%|          | 0/500 [00:00<?, ?it/s]"
            ]
          },
          "metadata": {},
          "output_type": "display_data"
        },
        {
          "name": "stdout",
          "output_type": "stream",
          "text": [
            "epoch = 0, loss_de = 17828.7246\n",
            "epoch = 50, loss_de = 3550.9912\n",
            "epoch = 100, loss_de = 2775.7205\n",
            "epoch = 150, loss_de = 2557.6436\n",
            "epoch = 200, loss_de = 2497.8091\n",
            "epoch = 250, loss_de = 2311.6892\n",
            "epoch = 300, loss_de = 2496.7769\n",
            "epoch = 350, loss_de = 2208.1160\n",
            "epoch = 400, loss_de = 2326.6912\n",
            "epoch = 450, loss_de = 2296.0095\n",
            "0.017196718603372574\n"
          ]
        },
        {
          "data": {
            "application/vnd.jupyter.widget-view+json": {
              "model_id": "be4705315e484a2bb15c327421500cff",
              "version_major": 2,
              "version_minor": 0
            },
            "text/plain": [
              "  0%|          | 0/500 [00:00<?, ?it/s]"
            ]
          },
          "metadata": {},
          "output_type": "display_data"
        },
        {
          "name": "stdout",
          "output_type": "stream",
          "text": [
            "epoch = 0, loss_de = 18615.8457\n",
            "epoch = 50, loss_de = 3698.0815\n",
            "epoch = 100, loss_de = 2889.4341\n",
            "epoch = 150, loss_de = 2662.9067\n",
            "epoch = 200, loss_de = 2599.9685\n",
            "epoch = 250, loss_de = 2406.0107\n",
            "epoch = 300, loss_de = 2598.7244\n",
            "epoch = 350, loss_de = 2298.1709\n",
            "epoch = 400, loss_de = 2421.6406\n",
            "epoch = 450, loss_de = 2389.7461\n",
            "0.017312169075012207\n"
          ]
        },
        {
          "data": {
            "application/vnd.jupyter.widget-view+json": {
              "model_id": "48cfc04176634f949959c57539f2d16f",
              "version_major": 2,
              "version_minor": 0
            },
            "text/plain": [
              "  0%|          | 0/500 [00:00<?, ?it/s]"
            ]
          },
          "metadata": {},
          "output_type": "display_data"
        },
        {
          "name": "stdout",
          "output_type": "stream",
          "text": [
            "epoch = 0, loss_de = 19419.9668\n",
            "epoch = 50, loss_de = 3845.9763\n",
            "epoch = 100, loss_de = 3005.1143\n",
            "epoch = 150, loss_de = 2770.2461\n",
            "epoch = 200, loss_de = 2705.0354\n",
            "epoch = 250, loss_de = 2503.0049\n",
            "epoch = 300, loss_de = 2703.4419\n",
            "epoch = 350, loss_de = 2390.7107\n",
            "epoch = 400, loss_de = 2519.1711\n",
            "epoch = 450, loss_de = 2486.0203\n",
            "0.01743573136627674\n"
          ]
        },
        {
          "data": {
            "application/vnd.jupyter.widget-view+json": {
              "model_id": "cf98b254d8fb4c6dacce7fb7b7be83fd",
              "version_major": 2,
              "version_minor": 0
            },
            "text/plain": [
              "  0%|          | 0/500 [00:00<?, ?it/s]"
            ]
          },
          "metadata": {},
          "output_type": "display_data"
        },
        {
          "name": "stdout",
          "output_type": "stream",
          "text": [
            "epoch = 0, loss_de = 20241.0918\n",
            "epoch = 50, loss_de = 3995.0132\n",
            "epoch = 100, loss_de = 3122.6326\n",
            "epoch = 150, loss_de = 2879.1345\n",
            "epoch = 200, loss_de = 2813.9619\n",
            "epoch = 250, loss_de = 2603.0503\n",
            "epoch = 300, loss_de = 2811.2581\n",
            "epoch = 350, loss_de = 2486.0381\n",
            "epoch = 400, loss_de = 2619.5828\n",
            "epoch = 450, loss_de = 2585.1245\n",
            "0.01757029816508293\n"
          ]
        },
        {
          "data": {
            "application/vnd.jupyter.widget-view+json": {
              "model_id": "d637470e3a1643839547702cc4c89f1d",
              "version_major": 2,
              "version_minor": 0
            },
            "text/plain": [
              "  0%|          | 0/500 [00:00<?, ?it/s]"
            ]
          },
          "metadata": {},
          "output_type": "display_data"
        },
        {
          "name": "stdout",
          "output_type": "stream",
          "text": [
            "epoch = 0, loss_de = 21079.2168\n",
            "epoch = 50, loss_de = 4146.5166\n",
            "epoch = 100, loss_de = 3242.1262\n",
            "epoch = 150, loss_de = 2989.7134\n",
            "epoch = 200, loss_de = 2926.1287\n",
            "epoch = 250, loss_de = 2705.2351\n",
            "epoch = 300, loss_de = 2921.3062\n",
            "epoch = 350, loss_de = 2583.3401\n",
            "epoch = 400, loss_de = 2722.0652\n",
            "epoch = 450, loss_de = 2686.2708\n",
            "0.01770329289138317\n"
          ]
        },
        {
          "data": {
            "application/vnd.jupyter.widget-view+json": {
              "model_id": "fc4c00a95aaf41018b57642c5863d756",
              "version_major": 2,
              "version_minor": 0
            },
            "text/plain": [
              "  0%|          | 0/500 [00:00<?, ?it/s]"
            ]
          },
          "metadata": {},
          "output_type": "display_data"
        },
        {
          "name": "stdout",
          "output_type": "stream",
          "text": [
            "epoch = 0, loss_de = 21934.3496\n",
            "epoch = 50, loss_de = 4301.5435\n",
            "epoch = 100, loss_de = 3363.9668\n",
            "epoch = 150, loss_de = 3102.2307\n",
            "epoch = 200, loss_de = 3039.5220\n",
            "epoch = 250, loss_de = 2808.9509\n",
            "epoch = 300, loss_de = 3033.0613\n",
            "epoch = 350, loss_de = 2682.1311\n",
            "epoch = 400, loss_de = 2826.1355\n",
            "epoch = 450, loss_de = 2788.9941\n",
            "0.017829149961471558\n"
          ]
        },
        {
          "data": {
            "application/vnd.jupyter.widget-view+json": {
              "model_id": "a9e85c7aedcc4148ad6818d830224e37",
              "version_major": 2,
              "version_minor": 0
            },
            "text/plain": [
              "  0%|          | 0/500 [00:00<?, ?it/s]"
            ]
          },
          "metadata": {},
          "output_type": "display_data"
        },
        {
          "name": "stdout",
          "output_type": "stream",
          "text": [
            "epoch = 0, loss_de = 22806.4785\n",
            "epoch = 50, loss_de = 4460.4170\n",
            "epoch = 100, loss_de = 3488.2600\n",
            "epoch = 150, loss_de = 3216.7832\n",
            "epoch = 200, loss_de = 3153.9934\n",
            "epoch = 250, loss_de = 2913.8530\n",
            "epoch = 300, loss_de = 3146.1985\n",
            "epoch = 350, loss_de = 2782.1067\n",
            "epoch = 400, loss_de = 2931.4905\n",
            "epoch = 450, loss_de = 2892.9978\n",
            "0.017944229766726494\n"
          ]
        },
        {
          "data": {
            "application/vnd.jupyter.widget-view+json": {
              "model_id": "439dff21bd3a40099cd24339cc2706b5",
              "version_major": 2,
              "version_minor": 0
            },
            "text/plain": [
              "  0%|          | 0/500 [00:00<?, ?it/s]"
            ]
          },
          "metadata": {},
          "output_type": "display_data"
        },
        {
          "name": "stdout",
          "output_type": "stream",
          "text": [
            "epoch = 0, loss_de = 23695.6152\n",
            "epoch = 50, loss_de = 4622.9731\n",
            "epoch = 100, loss_de = 3614.8279\n",
            "epoch = 150, loss_de = 3333.3489\n",
            "epoch = 200, loss_de = 3268.5042\n",
            "epoch = 250, loss_de = 3019.3459\n",
            "epoch = 300, loss_de = 3260.2158\n",
            "epoch = 350, loss_de = 2882.7996\n",
            "epoch = 400, loss_de = 3037.6680\n",
            "epoch = 450, loss_de = 2997.8313\n",
            "0.018044210970401764\n"
          ]
        },
        {
          "data": {
            "application/vnd.jupyter.widget-view+json": {
              "model_id": "f76c2fab24e54e409f2cc17c7868bfc9",
              "version_major": 2,
              "version_minor": 0
            },
            "text/plain": [
              "  0%|          | 0/500 [00:00<?, ?it/s]"
            ]
          },
          "metadata": {},
          "output_type": "display_data"
        },
        {
          "name": "stdout",
          "output_type": "stream",
          "text": [
            "epoch = 0, loss_de = 24601.7539\n",
            "epoch = 50, loss_de = 4788.7910\n",
            "epoch = 100, loss_de = 3743.3872\n",
            "epoch = 150, loss_de = 3451.8584\n",
            "epoch = 200, loss_de = 3382.6892\n",
            "epoch = 250, loss_de = 3125.2605\n",
            "epoch = 300, loss_de = 3374.9617\n",
            "epoch = 350, loss_de = 2984.0671\n",
            "epoch = 400, loss_de = 3144.5264\n",
            "epoch = 450, loss_de = 3103.3564\n",
            "0.018128791823983192\n"
          ]
        },
        {
          "data": {
            "application/vnd.jupyter.widget-view+json": {
              "model_id": "ec172006b8034626b5557b9568801208",
              "version_major": 2,
              "version_minor": 0
            },
            "text/plain": [
              "  0%|          | 0/500 [00:00<?, ?it/s]"
            ]
          },
          "metadata": {},
          "output_type": "display_data"
        },
        {
          "name": "stdout",
          "output_type": "stream",
          "text": [
            "epoch = 0, loss_de = 25524.8984\n",
            "epoch = 50, loss_de = 4956.9126\n",
            "epoch = 100, loss_de = 3873.5825\n",
            "epoch = 150, loss_de = 3572.2356\n",
            "epoch = 200, loss_de = 3497.6653\n",
            "epoch = 250, loss_de = 3231.9785\n",
            "epoch = 300, loss_de = 3490.7473\n",
            "epoch = 350, loss_de = 3086.1995\n",
            "epoch = 400, loss_de = 3252.3503\n",
            "epoch = 450, loss_de = 3209.8513\n",
            "0.018202515318989754\n"
          ]
        },
        {
          "data": {
            "application/vnd.jupyter.widget-view+json": {
              "model_id": "4bf0529772f34ce89aae1a2791ab7dd6",
              "version_major": 2,
              "version_minor": 0
            },
            "text/plain": [
              "  0%|          | 0/500 [00:00<?, ?it/s]"
            ]
          },
          "metadata": {},
          "output_type": "display_data"
        },
        {
          "name": "stdout",
          "output_type": "stream",
          "text": [
            "epoch = 0, loss_de = 26465.0391\n",
            "epoch = 50, loss_de = 5125.3184\n",
            "epoch = 100, loss_de = 4005.4673\n",
            "epoch = 150, loss_de = 3694.4951\n",
            "epoch = 200, loss_de = 3614.6787\n",
            "epoch = 250, loss_de = 3340.4734\n",
            "epoch = 300, loss_de = 3608.4360\n",
            "epoch = 350, loss_de = 3190.0032\n",
            "epoch = 400, loss_de = 3361.9397\n",
            "epoch = 450, loss_de = 3318.0945\n",
            "0.018275024369359016\n"
          ]
        },
        {
          "data": {
            "application/vnd.jupyter.widget-view+json": {
              "model_id": "04ffd44ec5d64c91ac0fe42c4699991f",
              "version_major": 2,
              "version_minor": 0
            },
            "text/plain": [
              "  0%|          | 0/500 [00:00<?, ?it/s]"
            ]
          },
          "metadata": {},
          "output_type": "display_data"
        },
        {
          "name": "stdout",
          "output_type": "stream",
          "text": [
            "epoch = 0, loss_de = 27422.1895\n",
            "epoch = 50, loss_de = 5292.4336\n",
            "epoch = 100, loss_de = 4139.0156\n",
            "epoch = 150, loss_de = 3818.5195\n",
            "epoch = 200, loss_de = 3733.1279\n",
            "epoch = 250, loss_de = 3450.5789\n",
            "epoch = 300, loss_de = 3727.8672\n",
            "epoch = 350, loss_de = 3295.3218\n",
            "epoch = 400, loss_de = 3473.1396\n",
            "epoch = 450, loss_de = 3427.9331\n",
            "0.018344320356845856\n"
          ]
        },
        {
          "data": {
            "application/vnd.jupyter.widget-view+json": {
              "model_id": "96dff7a16039403895f800540d9cf980",
              "version_major": 2,
              "version_minor": 0
            },
            "text/plain": [
              "  0%|          | 0/500 [00:00<?, ?it/s]"
            ]
          },
          "metadata": {},
          "output_type": "display_data"
        },
        {
          "name": "stdout",
          "output_type": "stream",
          "text": [
            "epoch = 0, loss_de = 28396.3398\n",
            "epoch = 50, loss_de = 5463.3193\n",
            "epoch = 100, loss_de = 4275.0967\n",
            "epoch = 150, loss_de = 3944.2129\n",
            "epoch = 200, loss_de = 3850.7231\n",
            "epoch = 250, loss_de = 3560.5891\n",
            "epoch = 300, loss_de = 3847.4368\n",
            "epoch = 350, loss_de = 3400.6511\n",
            "epoch = 400, loss_de = 3584.4497\n",
            "epoch = 450, loss_de = 3537.9065\n",
            "0.018394235521554947\n"
          ]
        },
        {
          "data": {
            "application/vnd.jupyter.widget-view+json": {
              "model_id": "1215467c11924e5f8a29c614f55fbde9",
              "version_major": 2,
              "version_minor": 0
            },
            "text/plain": [
              "  0%|          | 0/500 [00:00<?, ?it/s]"
            ]
          },
          "metadata": {},
          "output_type": "display_data"
        },
        {
          "name": "stdout",
          "output_type": "stream",
          "text": [
            "epoch = 0, loss_de = 29387.4902\n",
            "epoch = 50, loss_de = 5653.7002\n",
            "epoch = 100, loss_de = 4416.8071\n",
            "epoch = 150, loss_de = 4073.9443\n",
            "epoch = 200, loss_de = 3971.3289\n",
            "epoch = 250, loss_de = 3672.4568\n",
            "epoch = 300, loss_de = 3969.1729\n",
            "epoch = 350, loss_de = 3507.9399\n",
            "epoch = 400, loss_de = 3697.8003\n",
            "epoch = 450, loss_de = 3649.9280\n",
            "0.01845146156847477\n"
          ]
        },
        {
          "data": {
            "application/vnd.jupyter.widget-view+json": {
              "model_id": "600bcb6027f641b196fb82d549e76095",
              "version_major": 2,
              "version_minor": 0
            },
            "text/plain": [
              "  0%|          | 0/500 [00:00<?, ?it/s]"
            ]
          },
          "metadata": {},
          "output_type": "display_data"
        },
        {
          "name": "stdout",
          "output_type": "stream",
          "text": [
            "epoch = 0, loss_de = 30395.6445\n",
            "epoch = 50, loss_de = 5843.2017\n",
            "epoch = 100, loss_de = 4566.6147\n",
            "epoch = 150, loss_de = 4194.0757\n",
            "epoch = 200, loss_de = 4092.4668\n",
            "epoch = 250, loss_de = 3785.7771\n",
            "epoch = 300, loss_de = 4092.4993\n",
            "epoch = 350, loss_de = 3616.5977\n",
            "epoch = 400, loss_de = 3812.6189\n",
            "epoch = 450, loss_de = 3763.4111\n",
            "0.018503695726394653\n"
          ]
        },
        {
          "data": {
            "application/vnd.jupyter.widget-view+json": {
              "model_id": "d56b3d4f8a014f6eb6619a4b125ecfe4",
              "version_major": 2,
              "version_minor": 0
            },
            "text/plain": [
              "  0%|          | 0/500 [00:00<?, ?it/s]"
            ]
          },
          "metadata": {},
          "output_type": "display_data"
        },
        {
          "name": "stdout",
          "output_type": "stream",
          "text": [
            "epoch = 0, loss_de = 31420.8027\n",
            "epoch = 50, loss_de = 6089.4751\n",
            "epoch = 100, loss_de = 4725.8218\n",
            "epoch = 150, loss_de = 4348.3696\n",
            "epoch = 200, loss_de = 4236.2656\n",
            "epoch = 250, loss_de = 3918.2305\n",
            "epoch = 300, loss_de = 4234.5239\n",
            "epoch = 350, loss_de = 3742.7324\n",
            "epoch = 400, loss_de = 3945.0513\n",
            "epoch = 450, loss_de = 3894.0063\n",
            "0.018707389011979103\n"
          ]
        },
        {
          "data": {
            "application/vnd.jupyter.widget-view+json": {
              "model_id": "527aa5f3c3604db3bb89a221b7d1de50",
              "version_major": 2,
              "version_minor": 0
            },
            "text/plain": [
              "  0%|          | 0/500 [00:00<?, ?it/s]"
            ]
          },
          "metadata": {},
          "output_type": "display_data"
        },
        {
          "name": "stdout",
          "output_type": "stream",
          "text": [
            "epoch = 0, loss_de = 32462.9668\n",
            "epoch = 50, loss_de = 6270.8311\n",
            "epoch = 100, loss_de = 4882.3726\n",
            "epoch = 150, loss_de = 4493.7598\n",
            "epoch = 200, loss_de = 4416.3032\n",
            "epoch = 250, loss_de = 4096.6006\n",
            "epoch = 300, loss_de = 4415.7002\n",
            "epoch = 350, loss_de = 3904.5889\n",
            "epoch = 400, loss_de = 4112.5596\n",
            "epoch = 450, loss_de = 4058.7104\n",
            "0.01919875480234623\n"
          ]
        },
        {
          "data": {
            "application/vnd.jupyter.widget-view+json": {
              "model_id": "57e99502f01747c4862c6c5d35aa5057",
              "version_major": 2,
              "version_minor": 0
            },
            "text/plain": [
              "  0%|          | 0/500 [00:00<?, ?it/s]"
            ]
          },
          "metadata": {},
          "output_type": "display_data"
        },
        {
          "name": "stdout",
          "output_type": "stream",
          "text": [
            "epoch = 0, loss_de = 33522.1328\n",
            "epoch = 50, loss_de = 6502.2778\n",
            "epoch = 100, loss_de = 5039.3384\n",
            "epoch = 150, loss_de = 4636.7935\n",
            "epoch = 200, loss_de = 4750.7544\n",
            "epoch = 250, loss_de = 4237.9414\n",
            "epoch = 300, loss_de = 4572.7358\n",
            "epoch = 350, loss_de = 4049.8440\n",
            "epoch = 400, loss_de = 4265.8091\n",
            "epoch = 450, loss_de = 4210.2983\n",
            "0.019557300955057144\n"
          ]
        },
        {
          "data": {
            "application/vnd.jupyter.widget-view+json": {
              "model_id": "659aa47690b347dfade96cb92c4b5351",
              "version_major": 2,
              "version_minor": 0
            },
            "text/plain": [
              "  0%|          | 0/500 [00:00<?, ?it/s]"
            ]
          },
          "metadata": {},
          "output_type": "display_data"
        },
        {
          "name": "stdout",
          "output_type": "stream",
          "text": [
            "epoch = 0, loss_de = 34598.2969\n",
            "epoch = 50, loss_de = 6720.4536\n",
            "epoch = 100, loss_de = 5195.8018\n",
            "epoch = 150, loss_de = 4779.2134\n",
            "epoch = 200, loss_de = 4898.9463\n",
            "epoch = 250, loss_de = 4410.2334\n",
            "epoch = 300, loss_de = 4720.1470\n",
            "epoch = 350, loss_de = 4181.0659\n",
            "epoch = 400, loss_de = 4403.6318\n",
            "epoch = 450, loss_de = 4346.2920\n",
            "0.019724387675523758\n"
          ]
        },
        {
          "data": {
            "application/vnd.jupyter.widget-view+json": {
              "model_id": "4fbf629f5af24a91bed599d6503864aa",
              "version_major": 2,
              "version_minor": 0
            },
            "text/plain": [
              "  0%|          | 0/500 [00:00<?, ?it/s]"
            ]
          },
          "metadata": {},
          "output_type": "display_data"
        },
        {
          "name": "stdout",
          "output_type": "stream",
          "text": [
            "epoch = 0, loss_de = 35691.4688\n",
            "epoch = 50, loss_de = 6928.8433\n",
            "epoch = 100, loss_de = 5352.6914\n",
            "epoch = 150, loss_de = 4922.7920\n",
            "epoch = 200, loss_de = 5046.0342\n",
            "epoch = 250, loss_de = 4646.0825\n",
            "epoch = 300, loss_de = 4867.0269\n",
            "epoch = 350, loss_de = 4309.8564\n",
            "epoch = 400, loss_de = 4538.9565\n",
            "epoch = 450, loss_de = 4479.8101\n",
            "0.019840478897094727\n"
          ]
        },
        {
          "data": {
            "application/vnd.jupyter.widget-view+json": {
              "model_id": "0ff7fdd9758747efad0a93487fb95b93",
              "version_major": 2,
              "version_minor": 0
            },
            "text/plain": [
              "  0%|          | 0/500 [00:00<?, ?it/s]"
            ]
          },
          "metadata": {},
          "output_type": "display_data"
        },
        {
          "name": "stdout",
          "output_type": "stream",
          "text": [
            "epoch = 0, loss_de = 36801.6406\n",
            "epoch = 50, loss_de = 7135.5640\n",
            "epoch = 100, loss_de = 5511.0742\n",
            "epoch = 150, loss_de = 5067.9688\n",
            "epoch = 200, loss_de = 5194.7256\n",
            "epoch = 250, loss_de = 4827.3018\n",
            "epoch = 300, loss_de = 5028.2266\n",
            "epoch = 350, loss_de = 4442.5786\n",
            "epoch = 400, loss_de = 4677.3262\n",
            "epoch = 450, loss_de = 4616.0449\n",
            "0.019954225048422813\n"
          ]
        },
        {
          "data": {
            "application/vnd.jupyter.widget-view+json": {
              "model_id": "38394c9c37e0403fa0a0f1e740c869e5",
              "version_major": 2,
              "version_minor": 0
            },
            "text/plain": [
              "  0%|          | 0/500 [00:00<?, ?it/s]"
            ]
          },
          "metadata": {},
          "output_type": "display_data"
        },
        {
          "name": "stdout",
          "output_type": "stream",
          "text": [
            "epoch = 0, loss_de = 37928.8203\n",
            "epoch = 50, loss_de = 7339.1519\n",
            "epoch = 100, loss_de = 5670.7705\n",
            "epoch = 150, loss_de = 5214.7754\n",
            "epoch = 200, loss_de = 5345.1152\n",
            "epoch = 250, loss_de = 4981.0698\n",
            "epoch = 300, loss_de = 5274.0142\n",
            "epoch = 350, loss_de = 4606.8047\n",
            "epoch = 400, loss_de = 4837.9487\n",
            "epoch = 450, loss_de = 4771.6318\n",
            "0.020189041271805763\n"
          ]
        },
        {
          "data": {
            "application/vnd.jupyter.widget-view+json": {
              "model_id": "35d43778dc5148ffb78295bd37ac9e5b",
              "version_major": 2,
              "version_minor": 0
            },
            "text/plain": [
              "  0%|          | 0/500 [00:00<?, ?it/s]"
            ]
          },
          "metadata": {},
          "output_type": "display_data"
        },
        {
          "name": "stdout",
          "output_type": "stream",
          "text": [
            "epoch = 0, loss_de = 39073.0000\n",
            "epoch = 50, loss_de = 7538.7402\n",
            "epoch = 100, loss_de = 5832.1089\n",
            "epoch = 150, loss_de = 5363.0898\n",
            "epoch = 200, loss_de = 5497.0581\n",
            "epoch = 250, loss_de = 5124.6646\n",
            "epoch = 300, loss_de = 5506.8008\n",
            "epoch = 350, loss_de = 4849.5381\n",
            "epoch = 400, loss_de = 5074.6753\n",
            "epoch = 450, loss_de = 4997.8960\n",
            "0.020971687510609627\n"
          ]
        },
        {
          "data": {
            "application/vnd.jupyter.widget-view+json": {
              "model_id": "c45483e5e970443db7321047788eb93d",
              "version_major": 2,
              "version_minor": 0
            },
            "text/plain": [
              "  0%|          | 0/500 [00:00<?, ?it/s]"
            ]
          },
          "metadata": {},
          "output_type": "display_data"
        },
        {
          "name": "stdout",
          "output_type": "stream",
          "text": [
            "epoch = 0, loss_de = 40234.1797\n",
            "epoch = 50, loss_de = 7759.7354\n",
            "epoch = 100, loss_de = 5997.9995\n",
            "epoch = 150, loss_de = 5514.9121\n",
            "epoch = 200, loss_de = 5652.4590\n",
            "epoch = 250, loss_de = 5269.4834\n",
            "epoch = 300, loss_de = 5665.7715\n",
            "epoch = 350, loss_de = 4997.7212\n",
            "epoch = 400, loss_de = 5232.3730\n",
            "epoch = 450, loss_de = 5153.5215\n",
            "0.021166592836380005\n"
          ]
        },
        {
          "data": {
            "application/vnd.jupyter.widget-view+json": {
              "model_id": "ccf4033f1fb64c3eb6df60220fe5ead9",
              "version_major": 2,
              "version_minor": 0
            },
            "text/plain": [
              "  0%|          | 0/500 [00:00<?, ?it/s]"
            ]
          },
          "metadata": {},
          "output_type": "display_data"
        },
        {
          "name": "stdout",
          "output_type": "stream",
          "text": [
            "epoch = 0, loss_de = 41412.3633\n",
            "epoch = 50, loss_de = 7907.1968\n",
            "epoch = 100, loss_de = 6134.9575\n",
            "epoch = 150, loss_de = 5647.7148\n",
            "epoch = 200, loss_de = 5519.7642\n",
            "epoch = 250, loss_de = 5097.9639\n",
            "epoch = 300, loss_de = 5508.1392\n",
            "epoch = 350, loss_de = 4867.7402\n",
            "epoch = 400, loss_de = 5131.0166\n",
            "epoch = 450, loss_de = 5064.8237\n",
            "0.019531335681676865\n"
          ]
        },
        {
          "data": {
            "application/vnd.jupyter.widget-view+json": {
              "model_id": "6c7f967f23e343ee98a9d410306c5069",
              "version_major": 2,
              "version_minor": 0
            },
            "text/plain": [
              "  0%|          | 0/500 [00:00<?, ?it/s]"
            ]
          },
          "metadata": {},
          "output_type": "display_data"
        },
        {
          "name": "stdout",
          "output_type": "stream",
          "text": [
            "epoch = 0, loss_de = 42607.5469\n",
            "epoch = 50, loss_de = 8208.7598\n",
            "epoch = 100, loss_de = 6333.1694\n",
            "epoch = 150, loss_de = 5822.6060\n",
            "epoch = 200, loss_de = 5918.4609\n",
            "epoch = 250, loss_de = 5310.9326\n",
            "epoch = 300, loss_de = 5731.9219\n",
            "epoch = 350, loss_de = 5075.0718\n",
            "epoch = 400, loss_de = 5346.6470\n",
            "epoch = 450, loss_de = 5277.5293\n",
            "0.020171809941530228\n"
          ]
        },
        {
          "data": {
            "application/vnd.jupyter.widget-view+json": {
              "model_id": "d961c29173d8491ab42c2f995e225b37",
              "version_major": 2,
              "version_minor": 0
            },
            "text/plain": [
              "  0%|          | 0/500 [00:00<?, ?it/s]"
            ]
          },
          "metadata": {},
          "output_type": "display_data"
        },
        {
          "name": "stdout",
          "output_type": "stream",
          "text": [
            "epoch = 0, loss_de = 43819.7422\n",
            "epoch = 50, loss_de = 8391.5645\n",
            "epoch = 100, loss_de = 6483.8452\n",
            "epoch = 150, loss_de = 5965.6763\n",
            "epoch = 200, loss_de = 5827.8335\n",
            "epoch = 250, loss_de = 5383.6519\n",
            "epoch = 300, loss_de = 5816.9175\n",
            "epoch = 350, loss_de = 5140.7827\n",
            "epoch = 400, loss_de = 5418.6699\n",
            "epoch = 450, loss_de = 5348.8643\n",
            "0.019727163016796112\n"
          ]
        },
        {
          "data": {
            "application/vnd.jupyter.widget-view+json": {
              "model_id": "d92efed871b14fb483f83e93c2ad4534",
              "version_major": 2,
              "version_minor": 0
            },
            "text/plain": [
              "  0%|          | 0/500 [00:00<?, ?it/s]"
            ]
          },
          "metadata": {},
          "output_type": "display_data"
        },
        {
          "name": "stdout",
          "output_type": "stream",
          "text": [
            "epoch = 0, loss_de = 45048.9297\n",
            "epoch = 50, loss_de = 8651.1357\n",
            "epoch = 100, loss_de = 6659.8208\n",
            "epoch = 150, loss_de = 6124.2305\n",
            "epoch = 200, loss_de = 5962.6846\n",
            "epoch = 250, loss_de = 5512.3154\n",
            "epoch = 300, loss_de = 5958.2202\n",
            "epoch = 350, loss_de = 5264.8589\n",
            "epoch = 400, loss_de = 5550.2002\n",
            "epoch = 450, loss_de = 5478.9839\n",
            "0.019720030948519707\n"
          ]
        },
        {
          "data": {
            "application/vnd.jupyter.widget-view+json": {
              "model_id": "f1590aaedd064f8e93d5b7ae8f173c91",
              "version_major": 2,
              "version_minor": 0
            },
            "text/plain": [
              "  0%|          | 0/500 [00:00<?, ?it/s]"
            ]
          },
          "metadata": {},
          "output_type": "display_data"
        },
        {
          "name": "stdout",
          "output_type": "stream",
          "text": [
            "epoch = 0, loss_de = 46295.1289\n",
            "epoch = 50, loss_de = 8889.3809\n",
            "epoch = 100, loss_de = 6838.0518\n",
            "epoch = 150, loss_de = 6288.7085\n",
            "epoch = 200, loss_de = 6162.1895\n",
            "epoch = 250, loss_de = 5684.9399\n",
            "epoch = 300, loss_de = 6140.1011\n",
            "epoch = 350, loss_de = 5426.7148\n",
            "epoch = 400, loss_de = 5719.5811\n",
            "epoch = 450, loss_de = 5645.8311\n",
            "0.01994498074054718\n"
          ]
        },
        {
          "data": {
            "application/vnd.jupyter.widget-view+json": {
              "model_id": "294db4afee3b4a7ca79dbd7489f71aeb",
              "version_major": 2,
              "version_minor": 0
            },
            "text/plain": [
              "  0%|          | 0/500 [00:00<?, ?it/s]"
            ]
          },
          "metadata": {},
          "output_type": "display_data"
        },
        {
          "name": "stdout",
          "output_type": "stream",
          "text": [
            "epoch = 0, loss_de = 47558.3320\n",
            "epoch = 50, loss_de = 9079.5254\n",
            "epoch = 100, loss_de = 7017.3618\n",
            "epoch = 150, loss_de = 6452.9390\n",
            "epoch = 200, loss_de = 6581.1865\n",
            "epoch = 250, loss_de = 5884.6206\n",
            "epoch = 300, loss_de = 6352.3110\n",
            "epoch = 350, loss_de = 5623.0933\n",
            "epoch = 400, loss_de = 5924.7847\n",
            "epoch = 450, loss_de = 5848.5430\n",
            "0.02040303871035576\n"
          ]
        },
        {
          "data": {
            "application/vnd.jupyter.widget-view+json": {
              "model_id": "9b6ef9f960c744f5bda0589c03c7a43e",
              "version_major": 2,
              "version_minor": 0
            },
            "text/plain": [
              "  0%|          | 0/500 [00:00<?, ?it/s]"
            ]
          },
          "metadata": {},
          "output_type": "display_data"
        },
        {
          "name": "stdout",
          "output_type": "stream",
          "text": [
            "epoch = 0, loss_de = 48838.5312\n",
            "epoch = 50, loss_de = 9292.7109\n",
            "epoch = 100, loss_de = 7200.7856\n",
            "epoch = 150, loss_de = 6620.3647\n",
            "epoch = 200, loss_de = 6785.2002\n",
            "epoch = 250, loss_de = 6235.0396\n",
            "epoch = 300, loss_de = 6539.1284\n",
            "epoch = 350, loss_de = 5788.7930\n",
            "epoch = 400, loss_de = 6098.1060\n",
            "epoch = 450, loss_de = 6019.4126\n",
            "0.02061752788722515\n"
          ]
        },
        {
          "data": {
            "application/vnd.jupyter.widget-view+json": {
              "model_id": "cdb7ea0295a244718a2548dc44acc4ca",
              "version_major": 2,
              "version_minor": 0
            },
            "text/plain": [
              "  0%|          | 0/500 [00:00<?, ?it/s]"
            ]
          },
          "metadata": {},
          "output_type": "display_data"
        },
        {
          "name": "stdout",
          "output_type": "stream",
          "text": [
            "epoch = 0, loss_de = 50135.7422\n",
            "epoch = 50, loss_de = 9537.4316\n",
            "epoch = 100, loss_de = 7388.2554\n",
            "epoch = 150, loss_de = 6791.1968\n",
            "epoch = 200, loss_de = 6959.9258\n",
            "epoch = 250, loss_de = 6482.6538\n",
            "epoch = 300, loss_de = 6836.4897\n",
            "epoch = 350, loss_de = 5979.0215\n",
            "epoch = 400, loss_de = 6285.0898\n",
            "epoch = 450, loss_de = 6200.7505\n",
            "0.020844310522079468\n"
          ]
        },
        {
          "data": {
            "application/vnd.jupyter.widget-view+json": {
              "model_id": "9c2cbee297f44bd09ea7e9ffb566fd51",
              "version_major": 2,
              "version_minor": 0
            },
            "text/plain": [
              "  0%|          | 0/500 [00:00<?, ?it/s]"
            ]
          },
          "metadata": {},
          "output_type": "display_data"
        },
        {
          "name": "stdout",
          "output_type": "stream",
          "text": [
            "epoch = 0, loss_de = 51449.9453\n",
            "epoch = 50, loss_de = 9789.4297\n",
            "epoch = 100, loss_de = 7576.5239\n",
            "epoch = 150, loss_de = 6962.9810\n",
            "epoch = 200, loss_de = 7135.5752\n",
            "epoch = 250, loss_de = 6648.0894\n",
            "epoch = 300, loss_de = 7067.7666\n",
            "epoch = 350, loss_de = 6162.7734\n",
            "epoch = 400, loss_de = 6466.8467\n",
            "epoch = 450, loss_de = 6377.3037\n",
            "0.02103973552584648\n"
          ]
        },
        {
          "data": {
            "application/vnd.jupyter.widget-view+json": {
              "model_id": "ab2c13f1cf8a4a61ad19713f4670bcbd",
              "version_major": 2,
              "version_minor": 0
            },
            "text/plain": [
              "  0%|          | 0/500 [00:00<?, ?it/s]"
            ]
          },
          "metadata": {},
          "output_type": "display_data"
        },
        {
          "name": "stdout",
          "output_type": "stream",
          "text": [
            "epoch = 0, loss_de = 52781.1562\n",
            "epoch = 50, loss_de = 10036.1426\n",
            "epoch = 100, loss_de = 7765.0386\n",
            "epoch = 150, loss_de = 7135.4062\n",
            "epoch = 200, loss_de = 7311.9722\n",
            "epoch = 250, loss_de = 6812.1816\n",
            "epoch = 300, loss_de = 7240.3350\n",
            "epoch = 350, loss_de = 6313.1094\n",
            "epoch = 400, loss_de = 6625.1323\n",
            "epoch = 450, loss_de = 6533.5645\n",
            "0.021104369312524796\n"
          ]
        },
        {
          "data": {
            "application/vnd.jupyter.widget-view+json": {
              "model_id": "ebe78c68d1f847abb95bc05bea42ce60",
              "version_major": 2,
              "version_minor": 0
            },
            "text/plain": [
              "  0%|          | 0/500 [00:00<?, ?it/s]"
            ]
          },
          "metadata": {},
          "output_type": "display_data"
        },
        {
          "name": "stdout",
          "output_type": "stream",
          "text": [
            "epoch = 0, loss_de = 54129.3711\n",
            "epoch = 50, loss_de = 10281.9385\n",
            "epoch = 100, loss_de = 7954.8394\n",
            "epoch = 150, loss_de = 7309.2129\n",
            "epoch = 200, loss_de = 7489.8511\n",
            "epoch = 250, loss_de = 6977.6865\n",
            "epoch = 300, loss_de = 7415.9009\n",
            "epoch = 350, loss_de = 6465.6411\n",
            "epoch = 400, loss_de = 6785.4033\n",
            "epoch = 450, loss_de = 6691.7114\n",
            "0.021167941391468048\n"
          ]
        },
        {
          "data": {
            "application/vnd.jupyter.widget-view+json": {
              "model_id": "7b2892fcb09a4218a8d23e64af9e0ed4",
              "version_major": 2,
              "version_minor": 0
            },
            "text/plain": [
              "  0%|          | 0/500 [00:00<?, ?it/s]"
            ]
          },
          "metadata": {},
          "output_type": "display_data"
        },
        {
          "name": "stdout",
          "output_type": "stream",
          "text": [
            "epoch = 0, loss_de = 55494.5859\n",
            "epoch = 50, loss_de = 10530.0547\n",
            "epoch = 100, loss_de = 8146.6670\n",
            "epoch = 150, loss_de = 7484.8496\n",
            "epoch = 200, loss_de = 7669.6494\n",
            "epoch = 250, loss_de = 7145.3330\n",
            "epoch = 300, loss_de = 7606.7456\n",
            "epoch = 350, loss_de = 6630.5078\n",
            "epoch = 400, loss_de = 6955.1455\n",
            "epoch = 450, loss_de = 6858.3081\n",
            "0.021266290917992592\n"
          ]
        },
        {
          "data": {
            "application/vnd.jupyter.widget-view+json": {
              "model_id": "da451ff2c7874584b97a5d036c7f00f6",
              "version_major": 2,
              "version_minor": 0
            },
            "text/plain": [
              "  0%|          | 0/500 [00:00<?, ?it/s]"
            ]
          },
          "metadata": {},
          "output_type": "display_data"
        },
        {
          "name": "stdout",
          "output_type": "stream",
          "text": [
            "epoch = 0, loss_de = 56876.8008\n",
            "epoch = 50, loss_de = 10781.6045\n",
            "epoch = 100, loss_de = 8340.7754\n",
            "epoch = 150, loss_de = 7662.5166\n",
            "epoch = 200, loss_de = 7851.5503\n",
            "epoch = 250, loss_de = 7315.1553\n",
            "epoch = 300, loss_de = 7809.4785\n",
            "epoch = 350, loss_de = 6810.0186\n",
            "epoch = 400, loss_de = 7136.6313\n",
            "epoch = 450, loss_de = 7035.4175\n",
            "0.021408958360552788\n"
          ]
        },
        {
          "data": {
            "application/vnd.jupyter.widget-view+json": {
              "model_id": "7225049a831745f391902324f185c53b",
              "version_major": 2,
              "version_minor": 0
            },
            "text/plain": [
              "  0%|          | 0/500 [00:00<?, ?it/s]"
            ]
          },
          "metadata": {},
          "output_type": "display_data"
        },
        {
          "name": "stdout",
          "output_type": "stream",
          "text": [
            "epoch = 0, loss_de = 58276.0273\n",
            "epoch = 50, loss_de = 11036.9668\n",
            "epoch = 100, loss_de = 8536.8799\n",
            "epoch = 150, loss_de = 7842.2695\n",
            "epoch = 200, loss_de = 8035.5850\n",
            "epoch = 250, loss_de = 7487.0234\n",
            "epoch = 300, loss_de = 8018.1138\n",
            "epoch = 350, loss_de = 7007.2354\n",
            "epoch = 400, loss_de = 7334.4287\n",
            "epoch = 450, loss_de = 7227.4160\n",
            "0.021617457270622253\n"
          ]
        },
        {
          "data": {
            "application/vnd.jupyter.widget-view+json": {
              "model_id": "0b59ba42264d4ff0a87cd264bd9e7c01",
              "version_major": 2,
              "version_minor": 0
            },
            "text/plain": [
              "  0%|          | 0/500 [00:00<?, ?it/s]"
            ]
          },
          "metadata": {},
          "output_type": "display_data"
        },
        {
          "name": "stdout",
          "output_type": "stream",
          "text": [
            "epoch = 0, loss_de = 59692.2500\n",
            "epoch = 50, loss_de = 11296.4004\n",
            "epoch = 100, loss_de = 8734.7998\n",
            "epoch = 150, loss_de = 8023.9990\n",
            "epoch = 200, loss_de = 8221.6465\n",
            "epoch = 250, loss_de = 7660.6992\n",
            "epoch = 300, loss_de = 8225.0010\n",
            "epoch = 350, loss_de = 7216.5679\n",
            "epoch = 400, loss_de = 7549.1514\n",
            "epoch = 450, loss_de = 7436.0151\n",
            "0.021896865218877792\n"
          ]
        },
        {
          "data": {
            "application/vnd.jupyter.widget-view+json": {
              "model_id": "fa812c45227e4b2da4c0053635b0b242",
              "version_major": 2,
              "version_minor": 0
            },
            "text/plain": [
              "  0%|          | 0/500 [00:00<?, ?it/s]"
            ]
          },
          "metadata": {},
          "output_type": "display_data"
        },
        {
          "name": "stdout",
          "output_type": "stream",
          "text": [
            "epoch = 0, loss_de = 61125.4766\n",
            "epoch = 50, loss_de = 11560.4893\n",
            "epoch = 100, loss_de = 8934.9463\n",
            "epoch = 150, loss_de = 8207.3643\n",
            "epoch = 200, loss_de = 8409.4512\n",
            "epoch = 250, loss_de = 7835.8848\n",
            "epoch = 300, loss_de = 8427.7275\n",
            "epoch = 350, loss_de = 7426.6914\n",
            "epoch = 400, loss_de = 7774.7798\n",
            "epoch = 450, loss_de = 7657.6943\n",
            "0.0222228541970253\n"
          ]
        },
        {
          "data": {
            "application/vnd.jupyter.widget-view+json": {
              "model_id": "f580b2a3eb2f4c259c27e2a2fa2b6899",
              "version_major": 2,
              "version_minor": 0
            },
            "text/plain": [
              "  0%|          | 0/500 [00:00<?, ?it/s]"
            ]
          },
          "metadata": {},
          "output_type": "display_data"
        },
        {
          "name": "stdout",
          "output_type": "stream",
          "text": [
            "epoch = 0, loss_de = 62575.7070\n",
            "epoch = 50, loss_de = 11830.3115\n",
            "epoch = 100, loss_de = 9136.5156\n",
            "epoch = 150, loss_de = 8392.0986\n",
            "epoch = 200, loss_de = 8598.7314\n",
            "epoch = 250, loss_de = 8012.3223\n",
            "epoch = 300, loss_de = 8626.3047\n",
            "epoch = 350, loss_de = 7626.2402\n",
            "epoch = 400, loss_de = 7995.3833\n",
            "epoch = 450, loss_de = 7877.5742\n",
            "0.02251608483493328\n"
          ]
        },
        {
          "data": {
            "application/vnd.jupyter.widget-view+json": {
              "model_id": "f44ab3005b654d00831747861b04493d",
              "version_major": 2,
              "version_minor": 0
            },
            "text/plain": [
              "  0%|          | 0/500 [00:00<?, ?it/s]"
            ]
          },
          "metadata": {},
          "output_type": "display_data"
        },
        {
          "name": "stdout",
          "output_type": "stream",
          "text": [
            "epoch = 0, loss_de = 64042.9375\n",
            "epoch = 50, loss_de = 12106.1855\n",
            "epoch = 100, loss_de = 9339.1465\n",
            "epoch = 150, loss_de = 8578.5586\n",
            "epoch = 200, loss_de = 8789.7754\n",
            "epoch = 250, loss_de = 8190.3584\n",
            "epoch = 300, loss_de = 8823.9375\n",
            "epoch = 350, loss_de = 7819.2129\n",
            "epoch = 400, loss_de = 8210.0967\n",
            "epoch = 450, loss_de = 8093.3457\n",
            "0.022767476737499237\n"
          ]
        },
        {
          "data": {
            "application/vnd.jupyter.widget-view+json": {
              "model_id": "ec402155641345f380e44fc492be385f",
              "version_major": 2,
              "version_minor": 0
            },
            "text/plain": [
              "  0%|          | 0/500 [00:00<?, ?it/s]"
            ]
          },
          "metadata": {},
          "output_type": "display_data"
        },
        {
          "name": "stdout",
          "output_type": "stream",
          "text": [
            "epoch = 0, loss_de = 65527.1758\n",
            "epoch = 50, loss_de = 12385.6904\n",
            "epoch = 100, loss_de = 9544.1719\n",
            "epoch = 150, loss_de = 8767.1562\n",
            "epoch = 200, loss_de = 8983.0537\n",
            "epoch = 250, loss_de = 8370.4785\n",
            "epoch = 300, loss_de = 9021.8604\n",
            "epoch = 350, loss_de = 8006.3657\n",
            "epoch = 400, loss_de = 8415.7275\n",
            "epoch = 450, loss_de = 8299.6045\n",
            "0.022954683750867844\n"
          ]
        },
        {
          "data": {
            "application/vnd.jupyter.widget-view+json": {
              "model_id": "568948bc954b43cca06fc3110c35a623",
              "version_major": 2,
              "version_minor": 0
            },
            "text/plain": [
              "  0%|          | 0/500 [00:00<?, ?it/s]"
            ]
          },
          "metadata": {},
          "output_type": "display_data"
        },
        {
          "name": "stdout",
          "output_type": "stream",
          "text": [
            "epoch = 0, loss_de = 67028.4141\n",
            "epoch = 50, loss_de = 12664.6191\n",
            "epoch = 100, loss_de = 9751.8887\n",
            "epoch = 150, loss_de = 8957.8125\n",
            "epoch = 200, loss_de = 9178.3848\n",
            "epoch = 250, loss_de = 8552.4424\n",
            "epoch = 300, loss_de = 9219.8438\n",
            "epoch = 350, loss_de = 8186.6641\n",
            "epoch = 400, loss_de = 8609.1191\n",
            "epoch = 450, loss_de = 8491.8359\n",
            "0.02306205965578556\n"
          ]
        },
        {
          "data": {
            "application/vnd.jupyter.widget-view+json": {
              "model_id": "3fbc672456ce4f9687615b09f5b70fe6",
              "version_major": 2,
              "version_minor": 0
            },
            "text/plain": [
              "  0%|          | 0/500 [00:00<?, ?it/s]"
            ]
          },
          "metadata": {},
          "output_type": "display_data"
        },
        {
          "name": "stdout",
          "output_type": "stream",
          "text": [
            "epoch = 0, loss_de = 68546.6641\n",
            "epoch = 50, loss_de = 12941.4727\n",
            "epoch = 100, loss_de = 9961.6855\n",
            "epoch = 150, loss_de = 9150.2129\n",
            "epoch = 200, loss_de = 9375.6416\n",
            "epoch = 250, loss_de = 8736.0859\n",
            "epoch = 300, loss_de = 9418.6318\n",
            "epoch = 350, loss_de = 8364.2959\n",
            "epoch = 400, loss_de = 8797.1592\n",
            "epoch = 450, loss_de = 8677.7842\n",
            "0.023129737004637718\n"
          ]
        },
        {
          "data": {
            "application/vnd.jupyter.widget-view+json": {
              "model_id": "e310230f66324fb4b1a58f7a80234ada",
              "version_major": 2,
              "version_minor": 0
            },
            "text/plain": [
              "  0%|          | 0/500 [00:00<?, ?it/s]"
            ]
          },
          "metadata": {},
          "output_type": "display_data"
        },
        {
          "name": "stdout",
          "output_type": "stream",
          "text": [
            "epoch = 0, loss_de = 70081.8984\n",
            "epoch = 50, loss_de = 13219.0684\n",
            "epoch = 100, loss_de = 10172.8340\n",
            "epoch = 150, loss_de = 9345.2051\n",
            "epoch = 200, loss_de = 9575.3535\n",
            "epoch = 250, loss_de = 8921.9150\n",
            "epoch = 300, loss_de = 9619.1846\n",
            "epoch = 350, loss_de = 8541.9893\n",
            "epoch = 400, loss_de = 8984.0898\n",
            "epoch = 450, loss_de = 8862.1846\n",
            "0.02318117767572403\n"
          ]
        },
        {
          "data": {
            "application/vnd.jupyter.widget-view+json": {
              "model_id": "4667b99db3434e73b5f0f9f91e078e6a",
              "version_major": 2,
              "version_minor": 0
            },
            "text/plain": [
              "  0%|          | 0/500 [00:00<?, ?it/s]"
            ]
          },
          "metadata": {},
          "output_type": "display_data"
        },
        {
          "name": "stdout",
          "output_type": "stream",
          "text": [
            "epoch = 0, loss_de = 71634.1562\n",
            "epoch = 50, loss_de = 13500.7715\n",
            "epoch = 100, loss_de = 10388.8281\n",
            "epoch = 150, loss_de = 9543.4141\n",
            "epoch = 200, loss_de = 9778.2148\n",
            "epoch = 250, loss_de = 9110.5996\n",
            "epoch = 300, loss_de = 9821.7988\n",
            "epoch = 350, loss_de = 8718.8877\n",
            "epoch = 400, loss_de = 9168.0811\n",
            "epoch = 450, loss_de = 9042.8691\n",
            "0.02320844493806362\n"
          ]
        },
        {
          "data": {
            "application/vnd.jupyter.widget-view+json": {
              "model_id": "fdea208845244dd89252cf1ed8f7fadd",
              "version_major": 2,
              "version_minor": 0
            },
            "text/plain": [
              "  0%|          | 0/500 [00:00<?, ?it/s]"
            ]
          },
          "metadata": {},
          "output_type": "display_data"
        },
        {
          "name": "stdout",
          "output_type": "stream",
          "text": [
            "epoch = 0, loss_de = 73203.3984\n",
            "epoch = 50, loss_de = 13785.7314\n",
            "epoch = 100, loss_de = 10609.6260\n",
            "epoch = 150, loss_de = 9745.1650\n",
            "epoch = 200, loss_de = 9984.5791\n",
            "epoch = 250, loss_de = 9302.2500\n",
            "epoch = 300, loss_de = 10022.5488\n",
            "epoch = 350, loss_de = 8877.1582\n",
            "epoch = 400, loss_de = 9319.5576\n",
            "epoch = 450, loss_de = 9186.4375\n",
            "0.02307131513953209\n"
          ]
        },
        {
          "data": {
            "application/vnd.jupyter.widget-view+json": {
              "model_id": "1b42f30bec6742ffb7d9f01f951a243a",
              "version_major": 2,
              "version_minor": 0
            },
            "text/plain": [
              "  0%|          | 0/500 [00:00<?, ?it/s]"
            ]
          },
          "metadata": {},
          "output_type": "display_data"
        },
        {
          "name": "stdout",
          "output_type": "stream",
          "text": [
            "epoch = 0, loss_de = 74789.6562\n",
            "epoch = 50, loss_de = 14069.6348\n",
            "epoch = 100, loss_de = 10835.9521\n",
            "epoch = 150, loss_de = 9950.4922\n",
            "epoch = 200, loss_de = 10194.4736\n",
            "epoch = 250, loss_de = 9496.3613\n",
            "epoch = 300, loss_de = 10192.9580\n",
            "epoch = 350, loss_de = 8927.4443\n",
            "epoch = 400, loss_de = 9338.2422\n",
            "epoch = 450, loss_de = 9199.3174\n",
            "0.02237953059375286\n"
          ]
        },
        {
          "data": {
            "application/vnd.jupyter.widget-view+json": {
              "model_id": "81364250a67e4d18a5d31483cf649617",
              "version_major": 2,
              "version_minor": 0
            },
            "text/plain": [
              "  0%|          | 0/500 [00:00<?, ?it/s]"
            ]
          },
          "metadata": {},
          "output_type": "display_data"
        },
        {
          "name": "stdout",
          "output_type": "stream",
          "text": [
            "epoch = 0, loss_de = 76392.9141\n",
            "epoch = 50, loss_de = 14356.0479\n",
            "epoch = 100, loss_de = 11065.0596\n",
            "epoch = 150, loss_de = 10159.0635\n",
            "epoch = 200, loss_de = 10407.4375\n",
            "epoch = 250, loss_de = 9692.2812\n",
            "epoch = 300, loss_de = 10309.5283\n",
            "epoch = 350, loss_de = 8976.9141\n",
            "epoch = 400, loss_de = 9421.0576\n",
            "epoch = 450, loss_de = 9291.7754\n",
            "0.022040337324142456\n"
          ]
        },
        {
          "data": {
            "application/vnd.jupyter.widget-view+json": {
              "model_id": "c076da8640e1445f996f9893f63d4712",
              "version_major": 2,
              "version_minor": 0
            },
            "text/plain": [
              "  0%|          | 0/500 [00:00<?, ?it/s]"
            ]
          },
          "metadata": {},
          "output_type": "display_data"
        },
        {
          "name": "stdout",
          "output_type": "stream",
          "text": [
            "epoch = 0, loss_de = 78013.1719\n",
            "epoch = 50, loss_de = 14665.4404\n",
            "epoch = 100, loss_de = 11298.3652\n",
            "epoch = 150, loss_de = 10371.2139\n",
            "epoch = 200, loss_de = 10623.9727\n",
            "epoch = 250, loss_de = 9893.8301\n",
            "epoch = 300, loss_de = 10525.7373\n",
            "epoch = 350, loss_de = 9165.6992\n",
            "epoch = 400, loss_de = 9618.3389\n",
            "epoch = 450, loss_de = 9486.1221\n",
            "0.02211783453822136\n"
          ]
        },
        {
          "data": {
            "application/vnd.jupyter.widget-view+json": {
              "model_id": "8d5c523a18d54bb39d06bafc923836cb",
              "version_major": 2,
              "version_minor": 0
            },
            "text/plain": [
              "  0%|          | 0/500 [00:00<?, ?it/s]"
            ]
          },
          "metadata": {},
          "output_type": "display_data"
        },
        {
          "name": "stdout",
          "output_type": "stream",
          "text": [
            "epoch = 0, loss_de = 79650.4297\n",
            "epoch = 50, loss_de = 15013.1152\n",
            "epoch = 100, loss_de = 11536.5615\n",
            "epoch = 150, loss_de = 10587.0254\n",
            "epoch = 200, loss_de = 10844.3564\n",
            "epoch = 250, loss_de = 10101.7783\n",
            "epoch = 300, loss_de = 10856.0176\n",
            "epoch = 350, loss_de = 9539.3916\n",
            "epoch = 400, loss_de = 9980.7412\n",
            "epoch = 450, loss_de = 9830.6582\n",
            "0.02278170920908451\n"
          ]
        },
        {
          "data": {
            "application/vnd.jupyter.widget-view+json": {
              "model_id": "dff2dfd666024b53a384f43285b6f0d9",
              "version_major": 2,
              "version_minor": 0
            },
            "text/plain": [
              "  0%|          | 0/500 [00:00<?, ?it/s]"
            ]
          },
          "metadata": {},
          "output_type": "display_data"
        },
        {
          "name": "stdout",
          "output_type": "stream",
          "text": [
            "epoch = 0, loss_de = 81304.6953\n",
            "epoch = 50, loss_de = 15369.5645\n",
            "epoch = 100, loss_de = 11775.4355\n",
            "epoch = 150, loss_de = 10804.1064\n",
            "epoch = 200, loss_de = 11065.9912\n",
            "epoch = 250, loss_de = 10309.5332\n",
            "epoch = 300, loss_de = 11112.3203\n",
            "epoch = 350, loss_de = 9861.0068\n",
            "epoch = 400, loss_de = 10365.9756\n",
            "epoch = 450, loss_de = 10223.4424\n",
            "0.02359982579946518\n"
          ]
        },
        {
          "data": {
            "application/vnd.jupyter.widget-view+json": {
              "model_id": "8ed1f8c9551443a2aedb66612891340e",
              "version_major": 2,
              "version_minor": 0
            },
            "text/plain": [
              "  0%|          | 0/500 [00:00<?, ?it/s]"
            ]
          },
          "metadata": {},
          "output_type": "display_data"
        },
        {
          "name": "stdout",
          "output_type": "stream",
          "text": [
            "epoch = 0, loss_de = 82975.9766\n",
            "epoch = 50, loss_de = 15693.5596\n",
            "epoch = 100, loss_de = 12015.9385\n",
            "epoch = 150, loss_de = 11023.5049\n",
            "epoch = 200, loss_de = 11290.0381\n",
            "epoch = 250, loss_de = 10518.7305\n",
            "epoch = 300, loss_de = 11341.0977\n",
            "epoch = 350, loss_de = 10073.5635\n",
            "epoch = 400, loss_de = 10596.2881\n",
            "epoch = 450, loss_de = 10453.2979\n",
            "0.02375960163772106\n"
          ]
        },
        {
          "data": {
            "application/vnd.jupyter.widget-view+json": {
              "model_id": "cc77dfaa3d3646c7900b4afe037b9aaf",
              "version_major": 2,
              "version_minor": 0
            },
            "text/plain": [
              "  0%|          | 0/500 [00:00<?, ?it/s]"
            ]
          },
          "metadata": {},
          "output_type": "display_data"
        },
        {
          "name": "stdout",
          "output_type": "stream",
          "text": [
            "epoch = 0, loss_de = 84664.2344\n",
            "epoch = 50, loss_de = 15982.9492\n",
            "epoch = 100, loss_de = 12257.3818\n",
            "epoch = 150, loss_de = 11243.9805\n",
            "epoch = 200, loss_de = 11515.1934\n",
            "epoch = 250, loss_de = 10728.5986\n",
            "epoch = 300, loss_de = 11567.6396\n",
            "epoch = 350, loss_de = 10275.4189\n",
            "epoch = 400, loss_de = 10808.8584\n",
            "epoch = 450, loss_de = 10663.1348\n",
            "0.02383432351052761\n"
          ]
        },
        {
          "data": {
            "application/vnd.jupyter.widget-view+json": {
              "model_id": "02c2720cae5b4adfb1c902c6578b65f1",
              "version_major": 2,
              "version_minor": 0
            },
            "text/plain": [
              "  0%|          | 0/500 [00:00<?, ?it/s]"
            ]
          },
          "metadata": {},
          "output_type": "display_data"
        },
        {
          "name": "stdout",
          "output_type": "stream",
          "text": [
            "epoch = 0, loss_de = 86369.5156\n",
            "epoch = 50, loss_de = 16261.1826\n",
            "epoch = 100, loss_de = 12501.7900\n",
            "epoch = 150, loss_de = 11465.6816\n",
            "epoch = 200, loss_de = 11741.5908\n",
            "epoch = 250, loss_de = 10939.4941\n",
            "epoch = 300, loss_de = 11795.0430\n",
            "epoch = 350, loss_de = 10477.5303\n",
            "epoch = 400, loss_de = 11021.4570\n",
            "epoch = 450, loss_de = 10872.8955\n",
            "0.023900000378489494\n"
          ]
        },
        {
          "data": {
            "application/vnd.jupyter.widget-view+json": {
              "model_id": "4306a2f578fe43758e7420307a1cd887",
              "version_major": 2,
              "version_minor": 0
            },
            "text/plain": [
              "  0%|          | 0/500 [00:00<?, ?it/s]"
            ]
          },
          "metadata": {},
          "output_type": "display_data"
        },
        {
          "name": "stdout",
          "output_type": "stream",
          "text": [
            "epoch = 0, loss_de = 88091.7891\n",
            "epoch = 50, loss_de = 16547.1680\n",
            "epoch = 100, loss_de = 12746.2383\n",
            "epoch = 150, loss_de = 11688.6621\n",
            "epoch = 200, loss_de = 11969.3662\n",
            "epoch = 250, loss_de = 11151.6201\n",
            "epoch = 300, loss_de = 12023.7686\n",
            "epoch = 350, loss_de = 10680.7070\n",
            "epoch = 400, loss_de = 11235.1855\n",
            "epoch = 450, loss_de = 11083.7637\n",
            "0.023961320519447327\n"
          ]
        },
        {
          "data": {
            "application/vnd.jupyter.widget-view+json": {
              "model_id": "4ce13587d0b24ab2818049ae73eb43e7",
              "version_major": 2,
              "version_minor": 0
            },
            "text/plain": [
              "  0%|          | 0/500 [00:00<?, ?it/s]"
            ]
          },
          "metadata": {},
          "output_type": "display_data"
        },
        {
          "name": "stdout",
          "output_type": "stream",
          "text": [
            "epoch = 0, loss_de = 89831.0625\n",
            "epoch = 50, loss_de = 16845.2969\n",
            "epoch = 100, loss_de = 12991.2188\n",
            "epoch = 150, loss_de = 11913.0459\n",
            "epoch = 200, loss_de = 12198.6436\n",
            "epoch = 250, loss_de = 11365.1104\n",
            "epoch = 300, loss_de = 12253.9932\n",
            "epoch = 350, loss_de = 10885.1611\n",
            "epoch = 400, loss_de = 11450.2803\n",
            "epoch = 450, loss_de = 11295.9834\n",
            "0.02401939406991005\n"
          ]
        },
        {
          "data": {
            "application/vnd.jupyter.widget-view+json": {
              "model_id": "34aef57d39694e0aa5ba43e315753be7",
              "version_major": 2,
              "version_minor": 0
            },
            "text/plain": [
              "  0%|          | 0/500 [00:00<?, ?it/s]"
            ]
          },
          "metadata": {},
          "output_type": "display_data"
        },
        {
          "name": "stdout",
          "output_type": "stream",
          "text": [
            "epoch = 0, loss_de = 91587.3516\n",
            "epoch = 50, loss_de = 17154.6816\n",
            "epoch = 100, loss_de = 13237.7842\n",
            "epoch = 150, loss_de = 12138.8955\n",
            "epoch = 200, loss_de = 12429.4932\n",
            "epoch = 250, loss_de = 11580.0303\n",
            "epoch = 300, loss_de = 12485.7988\n",
            "epoch = 350, loss_de = 11090.9766\n",
            "epoch = 400, loss_de = 11666.8369\n",
            "epoch = 450, loss_de = 11509.6523\n",
            "0.024074727669358253\n"
          ]
        },
        {
          "data": {
            "application/vnd.jupyter.widget-view+json": {
              "model_id": "83fd33cd203f4e76bc600ef7a01850e3",
              "version_major": 2,
              "version_minor": 0
            },
            "text/plain": [
              "  0%|          | 0/500 [00:00<?, ?it/s]"
            ]
          },
          "metadata": {},
          "output_type": "display_data"
        },
        {
          "name": "stdout",
          "output_type": "stream",
          "text": [
            "epoch = 0, loss_de = 93360.6250\n",
            "epoch = 50, loss_de = 17472.7578\n",
            "epoch = 100, loss_de = 13486.2910\n",
            "epoch = 150, loss_de = 12366.3301\n",
            "epoch = 200, loss_de = 12662.0312\n",
            "epoch = 250, loss_de = 11796.5020\n",
            "epoch = 300, loss_de = 12719.3115\n",
            "epoch = 350, loss_de = 11298.2783\n",
            "epoch = 400, loss_de = 11884.9775\n",
            "epoch = 450, loss_de = 11724.8896\n",
            "0.02412787638604641\n"
          ]
        },
        {
          "data": {
            "application/vnd.jupyter.widget-view+json": {
              "model_id": "cf4803f10fbb49a7b673bda45354c746",
              "version_major": 2,
              "version_minor": 0
            },
            "text/plain": [
              "  0%|          | 0/500 [00:00<?, ?it/s]"
            ]
          },
          "metadata": {},
          "output_type": "display_data"
        },
        {
          "name": "stdout",
          "output_type": "stream",
          "text": [
            "epoch = 0, loss_de = 95150.9219\n",
            "epoch = 50, loss_de = 17797.4023\n",
            "epoch = 100, loss_de = 13736.8545\n",
            "epoch = 150, loss_de = 12595.4785\n",
            "epoch = 200, loss_de = 12896.3643\n",
            "epoch = 250, loss_de = 12014.6260\n",
            "epoch = 300, loss_de = 12954.6348\n",
            "epoch = 350, loss_de = 11507.1650\n",
            "epoch = 400, loss_de = 12104.8018\n",
            "epoch = 450, loss_de = 11941.7900\n",
            "0.02417921833693981\n"
          ]
        },
        {
          "data": {
            "application/vnd.jupyter.widget-view+json": {
              "model_id": "8b775415a243413b8b6c886ee3f90260",
              "version_major": 2,
              "version_minor": 0
            },
            "text/plain": [
              "  0%|          | 0/500 [00:00<?, ?it/s]"
            ]
          },
          "metadata": {},
          "output_type": "display_data"
        },
        {
          "name": "stdout",
          "output_type": "stream",
          "text": [
            "epoch = 0, loss_de = 96958.2109\n",
            "epoch = 50, loss_de = 18127.3594\n",
            "epoch = 100, loss_de = 13989.5332\n",
            "epoch = 150, loss_de = 12826.4414\n",
            "epoch = 200, loss_de = 13132.5938\n",
            "epoch = 250, loss_de = 12234.5029\n",
            "epoch = 300, loss_de = 13191.8701\n",
            "epoch = 350, loss_de = 11717.7314\n",
            "epoch = 400, loss_de = 12326.4082\n",
            "epoch = 450, loss_de = 12160.4512\n",
            "0.024229226633906364\n"
          ]
        },
        {
          "data": {
            "application/vnd.jupyter.widget-view+json": {
              "model_id": "5a922622e06e46a2af390f8ddb22dc09",
              "version_major": 2,
              "version_minor": 0
            },
            "text/plain": [
              "  0%|          | 0/500 [00:00<?, ?it/s]"
            ]
          },
          "metadata": {},
          "output_type": "display_data"
        },
        {
          "name": "stdout",
          "output_type": "stream",
          "text": [
            "epoch = 0, loss_de = 98782.5078\n",
            "epoch = 50, loss_de = 18461.8633\n",
            "epoch = 100, loss_de = 14244.3584\n",
            "epoch = 150, loss_de = 13059.2939\n",
            "epoch = 200, loss_de = 13370.7852\n",
            "epoch = 250, loss_de = 12456.1953\n",
            "epoch = 300, loss_de = 13431.0771\n",
            "epoch = 350, loss_de = 11930.0371\n",
            "epoch = 400, loss_de = 12549.8525\n",
            "epoch = 450, loss_de = 12380.9268\n",
            "0.02427813783288002\n"
          ]
        },
        {
          "data": {
            "application/vnd.jupyter.widget-view+json": {
              "model_id": "2ed0c56906464575a2d0c697106846a5",
              "version_major": 2,
              "version_minor": 0
            },
            "text/plain": [
              "  0%|          | 0/500 [00:00<?, ?it/s]"
            ]
          },
          "metadata": {},
          "output_type": "display_data"
        },
        {
          "name": "stdout",
          "output_type": "stream",
          "text": [
            "epoch = 0, loss_de = 100623.8047\n",
            "epoch = 50, loss_de = 18800.3672\n",
            "epoch = 100, loss_de = 14501.3477\n",
            "epoch = 150, loss_de = 13294.1191\n",
            "epoch = 200, loss_de = 13611.0107\n",
            "epoch = 250, loss_de = 12679.7812\n",
            "epoch = 300, loss_de = 13672.3330\n",
            "epoch = 350, loss_de = 12144.1523\n",
            "epoch = 400, loss_de = 12775.2109\n",
            "epoch = 450, loss_de = 12603.2939\n",
            "0.024326233193278313\n"
          ]
        },
        {
          "data": {
            "application/vnd.jupyter.widget-view+json": {
              "model_id": "eee9897b1a854a1a909f5228f2fa52d2",
              "version_major": 2,
              "version_minor": 0
            },
            "text/plain": [
              "  0%|          | 0/500 [00:00<?, ?it/s]"
            ]
          },
          "metadata": {},
          "output_type": "display_data"
        },
        {
          "name": "stdout",
          "output_type": "stream",
          "text": [
            "epoch = 0, loss_de = 102482.1094\n",
            "epoch = 50, loss_de = 19142.5684\n",
            "epoch = 100, loss_de = 14760.4736\n",
            "epoch = 150, loss_de = 13530.9580\n",
            "epoch = 200, loss_de = 13853.3105\n",
            "epoch = 250, loss_de = 12905.2861\n",
            "epoch = 300, loss_de = 13915.6719\n",
            "epoch = 350, loss_de = 12360.1104\n",
            "epoch = 400, loss_de = 13002.5107\n",
            "epoch = 450, loss_de = 12827.5771\n",
            "0.024373691529035568\n"
          ]
        },
        {
          "data": {
            "application/vnd.jupyter.widget-view+json": {
              "model_id": "80b3584eba1a47428135f3c954865bad",
              "version_major": 2,
              "version_minor": 0
            },
            "text/plain": [
              "  0%|          | 0/500 [00:00<?, ?it/s]"
            ]
          },
          "metadata": {},
          "output_type": "display_data"
        },
        {
          "name": "stdout",
          "output_type": "stream",
          "text": [
            "epoch = 0, loss_de = 104357.4062\n",
            "epoch = 50, loss_de = 19488.1465\n",
            "epoch = 100, loss_de = 15021.7393\n",
            "epoch = 150, loss_de = 13769.8623\n",
            "epoch = 200, loss_de = 14097.7295\n",
            "epoch = 250, loss_de = 13132.7637\n",
            "epoch = 300, loss_de = 14161.1377\n",
            "epoch = 350, loss_de = 12577.9561\n",
            "epoch = 400, loss_de = 13231.7969\n",
            "epoch = 450, loss_de = 13053.8232\n",
            "0.02442057430744171\n"
          ]
        },
        {
          "data": {
            "application/vnd.jupyter.widget-view+json": {
              "model_id": "3bf9e3c9b9ad4e9d9149f72aaf5adb3e",
              "version_major": 2,
              "version_minor": 0
            },
            "text/plain": [
              "  0%|          | 0/500 [00:00<?, ?it/s]"
            ]
          },
          "metadata": {},
          "output_type": "display_data"
        },
        {
          "name": "stdout",
          "output_type": "stream",
          "text": [
            "epoch = 0, loss_de = 106249.7188\n",
            "epoch = 50, loss_de = 19836.9434\n",
            "epoch = 100, loss_de = 15285.1533\n",
            "epoch = 150, loss_de = 14010.8496\n",
            "epoch = 200, loss_de = 14344.2812\n",
            "epoch = 250, loss_de = 13362.2266\n",
            "epoch = 300, loss_de = 14408.7471\n",
            "epoch = 350, loss_de = 12797.6973\n",
            "epoch = 400, loss_de = 13463.0830\n",
            "epoch = 450, loss_de = 13282.0420\n",
            "0.024466978386044502\n"
          ]
        },
        {
          "data": {
            "application/vnd.jupyter.widget-view+json": {
              "model_id": "e740e48049ee439aa7e473454ac8a808",
              "version_major": 2,
              "version_minor": 0
            },
            "text/plain": [
              "  0%|          | 0/500 [00:00<?, ?it/s]"
            ]
          },
          "metadata": {},
          "output_type": "display_data"
        },
        {
          "name": "stdout",
          "output_type": "stream",
          "text": [
            "epoch = 0, loss_de = 108159.0234\n",
            "epoch = 50, loss_de = 20188.7656\n",
            "epoch = 100, loss_de = 15550.7646\n",
            "epoch = 150, loss_de = 14253.9473\n",
            "epoch = 200, loss_de = 14592.9922\n",
            "epoch = 250, loss_de = 13593.7012\n",
            "epoch = 300, loss_de = 14658.5283\n",
            "epoch = 350, loss_de = 13019.3701\n",
            "epoch = 400, loss_de = 13696.3984\n",
            "epoch = 450, loss_de = 13512.2607\n",
            "0.02451297640800476\n"
          ]
        },
        {
          "data": {
            "application/vnd.jupyter.widget-view+json": {
              "model_id": "a9770b34f29842839fb9d4a21b5b1b59",
              "version_major": 2,
              "version_minor": 0
            },
            "text/plain": [
              "  0%|          | 0/500 [00:00<?, ?it/s]"
            ]
          },
          "metadata": {},
          "output_type": "display_data"
        },
        {
          "name": "stdout",
          "output_type": "stream",
          "text": [
            "epoch = 0, loss_de = 110085.3359\n",
            "epoch = 50, loss_de = 20543.4863\n",
            "epoch = 100, loss_de = 15818.6309\n",
            "epoch = 150, loss_de = 14499.1680\n",
            "epoch = 200, loss_de = 14843.8770\n",
            "epoch = 250, loss_de = 13827.1953\n",
            "epoch = 300, loss_de = 14910.4912\n",
            "epoch = 350, loss_de = 13242.9805\n",
            "epoch = 400, loss_de = 13931.7520\n",
            "epoch = 450, loss_de = 13744.4932\n",
            "0.02455870620906353\n"
          ]
        },
        {
          "data": {
            "application/vnd.jupyter.widget-view+json": {
              "model_id": "38d90b7e0467499d9c28128914e4cc71",
              "version_major": 2,
              "version_minor": 0
            },
            "text/plain": [
              "  0%|          | 0/500 [00:00<?, ?it/s]"
            ]
          },
          "metadata": {},
          "output_type": "display_data"
        },
        {
          "name": "stdout",
          "output_type": "stream",
          "text": [
            "epoch = 0, loss_de = 112028.6484\n",
            "epoch = 50, loss_de = 20900.9512\n",
            "epoch = 100, loss_de = 16088.8369\n",
            "epoch = 150, loss_de = 14746.5537\n",
            "epoch = 200, loss_de = 15096.9629\n",
            "epoch = 250, loss_de = 14062.7412\n",
            "epoch = 300, loss_de = 15164.6621\n",
            "epoch = 350, loss_de = 13468.5518\n",
            "epoch = 400, loss_de = 14169.1699\n",
            "epoch = 450, loss_de = 13978.7637\n",
            "0.024604065343737602\n"
          ]
        },
        {
          "data": {
            "application/vnd.jupyter.widget-view+json": {
              "model_id": "25e125acdef94157af42b1d6a0afb323",
              "version_major": 2,
              "version_minor": 0
            },
            "text/plain": [
              "  0%|          | 0/500 [00:00<?, ?it/s]"
            ]
          },
          "metadata": {},
          "output_type": "display_data"
        },
        {
          "name": "stdout",
          "output_type": "stream",
          "text": [
            "epoch = 0, loss_de = 113988.9531\n",
            "epoch = 50, loss_de = 21261.2500\n",
            "epoch = 100, loss_de = 16361.3604\n",
            "epoch = 150, loss_de = 14996.0527\n",
            "epoch = 200, loss_de = 15352.2158\n",
            "epoch = 250, loss_de = 14300.3008\n",
            "epoch = 300, loss_de = 15421.0068\n",
            "epoch = 350, loss_de = 13696.0527\n",
            "epoch = 400, loss_de = 14408.6162\n",
            "epoch = 450, loss_de = 14215.0332\n",
            "0.024649130180478096\n"
          ]
        },
        {
          "data": {
            "application/vnd.jupyter.widget-view+json": {
              "model_id": "035a571b01e84a0d8f41041a03e0195e",
              "version_major": 2,
              "version_minor": 0
            },
            "text/plain": [
              "  0%|          | 0/500 [00:00<?, ?it/s]"
            ]
          },
          "metadata": {},
          "output_type": "display_data"
        },
        {
          "name": "stdout",
          "output_type": "stream",
          "text": [
            "epoch = 0, loss_de = 115966.2812\n",
            "epoch = 50, loss_de = 21624.2012\n",
            "epoch = 100, loss_de = 16636.2832\n",
            "epoch = 150, loss_de = 15247.7275\n",
            "epoch = 200, loss_de = 15609.6787\n",
            "epoch = 250, loss_de = 14539.9219\n",
            "epoch = 300, loss_de = 15679.5645\n",
            "epoch = 350, loss_de = 13925.5234\n",
            "epoch = 400, loss_de = 14650.1348\n",
            "epoch = 450, loss_de = 14453.3486\n",
            "0.024693898856639862\n"
          ]
        },
        {
          "data": {
            "application/vnd.jupyter.widget-view+json": {
              "model_id": "f4e2c850383944969e1f8e624ad87c88",
              "version_major": 2,
              "version_minor": 0
            },
            "text/plain": [
              "  0%|          | 0/500 [00:00<?, ?it/s]"
            ]
          },
          "metadata": {},
          "output_type": "display_data"
        },
        {
          "name": "stdout",
          "output_type": "stream",
          "text": [
            "epoch = 0, loss_de = 117960.6016\n",
            "epoch = 50, loss_de = 21989.8359\n",
            "epoch = 100, loss_de = 16913.6191\n",
            "epoch = 150, loss_de = 15501.5693\n",
            "epoch = 200, loss_de = 15869.3516\n",
            "epoch = 250, loss_de = 14781.5967\n",
            "epoch = 300, loss_de = 15940.3438\n",
            "epoch = 350, loss_de = 14156.9648\n",
            "epoch = 400, loss_de = 14893.7266\n",
            "epoch = 450, loss_de = 14693.7090\n",
            "0.024738475680351257\n"
          ]
        },
        {
          "data": {
            "application/vnd.jupyter.widget-view+json": {
              "model_id": "f4036e061f90441e9b3833ec922c07f8",
              "version_major": 2,
              "version_minor": 0
            },
            "text/plain": [
              "  0%|          | 0/500 [00:00<?, ?it/s]"
            ]
          },
          "metadata": {},
          "output_type": "display_data"
        },
        {
          "name": "stdout",
          "output_type": "stream",
          "text": [
            "epoch = 0, loss_de = 119971.9297\n",
            "epoch = 50, loss_de = 22358.1621\n",
            "epoch = 100, loss_de = 17193.3516\n",
            "epoch = 150, loss_de = 15757.5615\n",
            "epoch = 200, loss_de = 16131.2148\n",
            "epoch = 250, loss_de = 15025.3164\n",
            "epoch = 300, loss_de = 16203.3252\n",
            "epoch = 350, loss_de = 14390.3652\n",
            "epoch = 400, loss_de = 15139.3779\n",
            "epoch = 450, loss_de = 14936.0996\n",
            "0.024782691150903702\n"
          ]
        },
        {
          "data": {
            "application/vnd.jupyter.widget-view+json": {
              "model_id": "8c41e797648f4ff081cd44d584e261b4",
              "version_major": 2,
              "version_minor": 0
            },
            "text/plain": [
              "  0%|          | 0/500 [00:00<?, ?it/s]"
            ]
          },
          "metadata": {},
          "output_type": "display_data"
        },
        {
          "name": "stdout",
          "output_type": "stream",
          "text": [
            "epoch = 0, loss_de = 122000.2578\n",
            "epoch = 50, loss_de = 22729.1914\n",
            "epoch = 100, loss_de = 17475.4844\n",
            "epoch = 150, loss_de = 16015.7139\n",
            "epoch = 200, loss_de = 16395.2734\n",
            "epoch = 250, loss_de = 15271.0820\n",
            "epoch = 300, loss_de = 16468.5059\n",
            "epoch = 350, loss_de = 14625.7148\n",
            "epoch = 400, loss_de = 15387.0781\n",
            "epoch = 450, loss_de = 15180.5186\n",
            "0.024826684966683388\n"
          ]
        }
      ],
      "source": [
        "DATA31=[]\n",
        "DATA32=[]\n",
        "RATIO3=[]\n",
        "\n",
        "for c in C:\n",
        "    torch.manual_seed(78)\n",
        "    model = MLP(1, 50, 50, 1)\n",
        "    batch_size = 10000\n",
        "    n_epochs = 500\n",
        "    print_interval = n_epochs // 10\n",
        "    learning_rate = 0.1\n",
        "    optimizer = torch.optim.Adam(model.parameters(), lr=learning_rate)\n",
        "    scheduler = torch.optim.lr_scheduler.LambdaLR(optimizer=optimizer,\n",
        "                                            lr_lambda=lambda epoch: 0.98 ** epoch,\n",
        "                                            last_epoch=-1,\n",
        "                                            verbose=False)\n",
        "\n",
        "    for epoch in tqdm(range(n_epochs)):\n",
        "        optimizer.zero_grad()\n",
        "\n",
        "        # 무작위 t 생성 후 y 계산\n",
        "        t = torch.empty(batch_size, 1).uniform_(*domain).requires_grad_()\n",
        "        y = t*(1-t)*model(t)+t\n",
        "        a = np.array([[1,1],[np.exp(1/eps+((1/eps)**2+c/eps)**0.5),np.exp(1/eps-((1/eps)**2+c/eps)**0.5)]])\n",
        "        b = np.array([0,1])\n",
        "        x = np.linalg.solve(a, b)\n",
        "        C_1 = x[0]\n",
        "        C_2 = x[1]\n",
        "        y_e = C_1*torch.exp((1/eps+((1/eps)**2+c/eps)**0.5)*t)+C_2*torch.exp((1/eps-((1/eps)**2+c/eps)**0.5)*t)\n",
        "        y_t = grad(y, t)\n",
        "        y_tt = grad(y_t,t)\n",
        "\n",
        "        # Loss\n",
        "        loss_de = F.mse_loss(eps*y_tt-2*y_t-c*y, torch.zeros_like(y_t))\n",
        "        loss = loss_de\n",
        "        realloss=F.mse_loss(y-y_e, torch.zeros_like(y))\n",
        "        # Backprop\n",
        "        loss.backward()\n",
        "        optimizer.step()\n",
        "        scheduler.step()\n",
        "        if epoch % print_interval == 0:\n",
        "            print(f\"{epoch = }, loss_de = {loss_de.item():.4f}\")\n",
        "        if epoch==n_epochs-1:\n",
        "            print(realloss.item())\n",
        "            DATA31.append(realloss.item())\n",
        "            DATA32.append(loss.item())\n",
        "            RATIO3.append(realloss.item()/loss.item())\n"
      ]
    },
    {
      "cell_type": "code",
      "execution_count": null,
      "metadata": {
        "colab": {
          "background_save": true
        },
        "id": "ChjXVFk_MTZB",
        "outputId": "81bf3278-b428-4e83-e934-3cf08f71964a"
      },
      "outputs": [
        {
          "data": {
            "image/png": "[encoded data removed]",
            "text/plain": [
              "<Figure size 640x480 with 1 Axes>"
            ]
          },
          "metadata": {
            "image/png": {
              "height": 491,
              "width": 651
            }
          },
          "output_type": "display_data"
        }
      ],
      "source": [
        "fig, ax = plt.subplots()\n",
        "ax.plot(C, DATA11, c=\"C0\", label=\"Error\")\n",
        "ax.plot(C, DATA12, c=\"C1\", label=\"Loss\")\n",
        "\n",
        "ax.set(\n",
        "    yscale=\"log\",\n",
        "    xlabel=r\"$\\lambda$\"\n",
        ")\n",
        "ax.grid()\n",
        "ax.legend()\n",
        "ax.spines[[\"top\", \"right\", \"left\"]].set_visible(False)\n",
        "pass"
      ]
    },
    {
      "cell_type": "code",
      "execution_count": null,
      "metadata": {
        "colab": {
          "background_save": true
        },
        "id": "W3lFyaPvMVOo",
        "outputId": "c611ff87-13ad-48fe-ed11-e2d8454f1ef6"
      },
      "outputs": [
        {
          "data": {
            "image/png": "[encoded data removed]",
            "text/plain": [
              "<Figure size 640x480 with 1 Axes>"
            ]
          },
          "metadata": {
            "image/png": {
              "height": 491,
              "width": 651
            }
          },
          "output_type": "display_data"
        }
      ],
      "source": [
        "fig, ax = plt.subplots()\n",
        "ax.plot(C, RATIO1, c=\"C0\", label=r\"ratio$=\\frac{\\sf Error}{\\sf Loss}$\")\n",
        "ax.plot(C, 1/C**2, c=\"C3\", label=\"upper bound\")\n",
        "\n",
        "ax.set(\n",
        "    yscale=\"log\",\n",
        "    xlabel=r\"$\\lambda$\"\n",
        ")\n",
        "ax.grid()\n",
        "ax.legend()\n",
        "ax.spines[[\"top\", \"right\", \"left\"]].set_visible(False)\n",
        "pass"
      ]
    },
    {
      "cell_type": "code",
      "execution_count": null,
      "metadata": {
        "colab": {
          "background_save": true
        },
        "id": "qtvRVz88M5-M",
        "outputId": "d5ddeb84-eb28-4b66-9aff-4ea48a09cafe"
      },
      "outputs": [
        {
          "data": {
            "image/png": "[encoded data removed]",
            "text/plain": [
              "<Figure size 640x480 with 1 Axes>"
            ]
          },
          "metadata": {
            "image/png": {
              "height": 491,
              "width": 651
            }
          },
          "output_type": "display_data"
        }
      ],
      "source": [
        "fig, ax = plt.subplots()\n",
        "ax.plot(C, DATA11, c=\"C0\", label=\"epsilon=1\")\n",
        "ax.plot(C, DATA21, c=\"C1\", label=\"epsilon=0.5\")\n",
        "ax.plot(C, DATA31, c=\"C2\", label=\"epsilon=0.1\")\n",
        "\n",
        "ax.set(\n",
        "    yscale=\"log\",\n",
        "    xlabel=r\"$\\lambda$\",\n",
        "    ylabel=\"Error\"\n",
        ")\n",
        "ax.grid()\n",
        "ax.legend()\n",
        "ax.spines[[\"top\", \"right\", \"left\"]].set_visible(False)\n",
        "pass"
      ]
    },
    {
      "cell_type": "code",
      "execution_count": null,
      "metadata": {
        "colab": {
          "background_save": true
        },
        "id": "5MDvhDO4NFAy",
        "outputId": "ab99d0a5-6139-4704-b102-bf964c008802"
      },
      "outputs": [
        {
          "data": {
            "image/png": "[encoded data removed]",
            "text/plain": [
              "<Figure size 640x480 with 1 Axes>"
            ]
          },
          "metadata": {
            "image/png": {
              "height": 491,
              "width": 651
            }
          },
          "output_type": "display_data"
        }
      ],
      "source": [
        "fig, ax = plt.subplots()\n",
        "ax.plot(C, RATIO1, c=\"C0\", label=\"epsilon=1\")\n",
        "ax.plot(C, RATIO2, c=\"C1\", label=\"epsilon=0.5\")\n",
        "ax.plot(C, RATIO3, c=\"C2\", label=\"epsilon=0.1\")\n",
        "ax.plot(C, 1/C**2, c=\"C3\", label=\"upper bound\")\n",
        "\n",
        "ax.set(\n",
        "    yscale=\"log\",\n",
        "    xlabel=r\"$\\lambda$\",\n",
        "    ylabel=\"ratio\"\n",
        ")\n",
        "ax.grid()\n",
        "ax.legend()\n",
        "ax.spines[[\"top\", \"right\", \"left\"]].set_visible(False)\n",
        "pass"
      ]
    },
    {
      "cell_type": "code",
      "execution_count": null,
      "metadata": {
        "colab": {
          "background_save": true
        },
        "id": "plbQ1tzWNHJH"
      },
      "outputs": [],
      "source": []
    }
  ],
  "metadata": {
    "accelerator": "GPU",
    "colab": {
      "gpuType": "L4",
      "machine_shape": "hm",
      "provenance": []
    },
    "kernelspec": {
      "display_name": "Python 3",
      "name": "python3"
    },
    "language_info": {
      "name": "python"
    },
    "widgets": {
      "application/vnd.jupyter.widget-state+json": {
        "03da44a8fcac4108b755b0a9d122d93a": {
          "model_module": "@jupyter-widgets/controls",
          "model_module_version": "1.5.0",
          "model_name": "HBoxModel",
          "state": {
            "_dom_classes": [],
            "_model_module": "@jupyter-widgets/controls",
            "_model_module_version": "1.5.0",
            "_model_name": "HBoxModel",
            "_view_count": null,
            "_view_module": "@jupyter-widgets/controls",
            "_view_module_version": "1.5.0",
            "_view_name": "HBoxView",
            "box_style": "",
            "children": [
              "IPY_MODEL_e010079cfcd445678586eb2b7dfc18f1",
              "IPY_MODEL_87ba06637a2a4c1d87d4219a8c23b6b8",
              "IPY_MODEL_ee196475e7644526b985aa246ef1e215"
            ],
            "layout": "IPY_MODEL_d173e19c694c452994f27d7c6520ceb2"
          }
        },
        "048feb4323914d53b903a2aa730dcacc": {
          "model_module": "@jupyter-widgets/controls",
          "model_module_version": "1.5.0",
          "model_name": "HBoxModel",
          "state": {
            "_dom_classes": [],
            "_model_module": "@jupyter-widgets/controls",
            "_model_module_version": "1.5.0",
            "_model_name": "HBoxModel",
            "_view_count": null,
            "_view_module": "@jupyter-widgets/controls",
            "_view_module_version": "1.5.0",
            "_view_name": "HBoxView",
            "box_style": "",
            "children": [
              "IPY_MODEL_3914279487224898ae8fafee5ae7e61a",
              "IPY_MODEL_c37ae456dc7b43a099e9419d6fad209f",
              "IPY_MODEL_58799290c3ba45dcbecc6e433b0d7fad"
            ],
            "layout": "IPY_MODEL_66582c8dc8e3476da7c5d6bd35409c8d"
          }
        },
        "0c23d11f75af4c9a99a928c8679550f0": {
          "model_module": "@jupyter-widgets/controls",
          "model_module_version": "1.5.0",
          "model_name": "HBoxModel",
          "state": {
            "_dom_classes": [],
            "_model_module": "@jupyter-widgets/controls",
            "_model_module_version": "1.5.0",
            "_model_name": "HBoxModel",
            "_view_count": null,
            "_view_module": "@jupyter-widgets/controls",
            "_view_module_version": "1.5.0",
            "_view_name": "HBoxView",
            "box_style": "",
            "children": [
              "IPY_MODEL_88e3a6f5b98a464ca96a7203cce8315c",
              "IPY_MODEL_966d471035ba46e7938f7afdb0dd4ea7",
              "IPY_MODEL_4a6c34557c374c80aafbc22f1111763d"
            ],
            "layout": "IPY_MODEL_e3f2266852e040719bdc234a344c1379"
          }
        },
        "0c6b8c1208de42d799dfe43e870c65b7": {
          "model_module": "@jupyter-widgets/controls",
          "model_module_version": "1.5.0",
          "model_name": "HBoxModel",
          "state": {
            "_dom_classes": [],
            "_model_module": "@jupyter-widgets/controls",
            "_model_module_version": "1.5.0",
            "_model_name": "HBoxModel",
            "_view_count": null,
            "_view_module": "@jupyter-widgets/controls",
            "_view_module_version": "1.5.0",
            "_view_name": "HBoxView",
            "box_style": "",
            "children": [
              "IPY_MODEL_545fabbfc9c54ca28acb489c68bc6b9c",
              "IPY_MODEL_3c939275ab3d4210a9f462c0f23c1123",
              "IPY_MODEL_1731bd07c7f046dd8cbaeb7a0d074552"
            ],
            "layout": "IPY_MODEL_858f7ee8afcf43b6ab5ac649e3372055"
          }
        },
        "0eb364c59d1f4d23aa024029c8d80073": {
          "model_module": "@jupyter-widgets/controls",
          "model_module_version": "1.5.0",
          "model_name": "HBoxModel",
          "state": {
            "_dom_classes": [],
            "_model_module": "@jupyter-widgets/controls",
            "_model_module_version": "1.5.0",
            "_model_name": "HBoxModel",
            "_view_count": null,
            "_view_module": "@jupyter-widgets/controls",
            "_view_module_version": "1.5.0",
            "_view_name": "HBoxView",
            "box_style": "",
            "children": [
              "IPY_MODEL_522a229ee6174ad6885c74aeca4829ac",
              "IPY_MODEL_ac7ab2f4f12a4e3b8864422d5974430e",
              "IPY_MODEL_4d225ef65bd545bf93baeec857e77286"
            ],
            "layout": "IPY_MODEL_7ee3a274ab5e4383843b3ad351fe4cc6"
          }
        },
        "0f44aefab9934724b543b11dc975d1ef": {
          "model_module": "@jupyter-widgets/controls",
          "model_module_version": "1.5.0",
          "model_name": "HBoxModel",
          "state": {
            "_dom_classes": [],
            "_model_module": "@jupyter-widgets/controls",
            "_model_module_version": "1.5.0",
            "_model_name": "HBoxModel",
            "_view_count": null,
            "_view_module": "@jupyter-widgets/controls",
            "_view_module_version": "1.5.0",
            "_view_name": "HBoxView",
            "box_style": "",
            "children": [
              "IPY_MODEL_455b6da2160f44e0a23c9e3313cd71e0",
              "IPY_MODEL_75315c14c82341d692d32042b6dd19d7",
              "IPY_MODEL_a1a7c0eee5fa4f76941a7e91aa6141e0"
            ],
            "layout": "IPY_MODEL_5f416a4286f94204bb032645666eeab8"
          }
        },
        "102c2a82326240308f384d2d6a22d332": {
          "model_module": "@jupyter-widgets/controls",
          "model_module_version": "1.5.0",
          "model_name": "HBoxModel",
          "state": {
            "_dom_classes": [],
            "_model_module": "@jupyter-widgets/controls",
            "_model_module_version": "1.5.0",
            "_model_name": "HBoxModel",
            "_view_count": null,
            "_view_module": "@jupyter-widgets/controls",
            "_view_module_version": "1.5.0",
            "_view_name": "HBoxView",
            "box_style": "",
            "children": [
              "IPY_MODEL_55b23e9187a1459095534931caada52e",
              "IPY_MODEL_937d63a498da4607a4288009b82fa348",
              "IPY_MODEL_da72c9a1473841e5b7d12c7360c2209d"
            ],
            "layout": "IPY_MODEL_5ef2f6614f784f69934ed796bc7a0f23"
          }
        },
        "103a2c0da879468dbaf5373aed111dd2": {
          "model_module": "@jupyter-widgets/controls",
          "model_module_version": "1.5.0",
          "model_name": "HBoxModel",
          "state": {
            "_dom_classes": [],
            "_model_module": "@jupyter-widgets/controls",
            "_model_module_version": "1.5.0",
            "_model_name": "HBoxModel",
            "_view_count": null,
            "_view_module": "@jupyter-widgets/controls",
            "_view_module_version": "1.5.0",
            "_view_name": "HBoxView",
            "box_style": "",
            "children": [
              "IPY_MODEL_8939605036d34d4ea5d36a7ecdb619d7",
              "IPY_MODEL_2f145ed25da14a26a4c3fd9b51faf1e5",
              "IPY_MODEL_688703a05ef74926b7f7593fc03346f1"
            ],
            "layout": "IPY_MODEL_b9ae503e6500416d94f0bbdf33cae752"
          }
        },
        "14a713ca74f84d0799b7cfeb1cfc786c": {
          "model_module": "@jupyter-widgets/controls",
          "model_module_version": "1.5.0",
          "model_name": "HBoxModel",
          "state": {
            "_dom_classes": [],
            "_model_module": "@jupyter-widgets/controls",
            "_model_module_version": "1.5.0",
            "_model_name": "HBoxModel",
            "_view_count": null,
            "_view_module": "@jupyter-widgets/controls",
            "_view_module_version": "1.5.0",
            "_view_name": "HBoxView",
            "box_style": "",
            "children": [
              "IPY_MODEL_02aa06d51573428c8f062d96d38935c4",
              "IPY_MODEL_690092dfa3674f218e25d74bfbdcd8a6",
              "IPY_MODEL_60f88eb8797c4b49824188b4b3118491"
            ],
            "layout": "IPY_MODEL_87070d4d94d54f2ba439d5b941c7e015"
          }
        },
        "17fbd154122e44e19b113266d2fc4f59": {
          "model_module": "@jupyter-widgets/controls",
          "model_module_version": "1.5.0",
          "model_name": "HBoxModel",
          "state": {
            "_dom_classes": [],
            "_model_module": "@jupyter-widgets/controls",
            "_model_module_version": "1.5.0",
            "_model_name": "HBoxModel",
            "_view_count": null,
            "_view_module": "@jupyter-widgets/controls",
            "_view_module_version": "1.5.0",
            "_view_name": "HBoxView",
            "box_style": "",
            "children": [
              "IPY_MODEL_77909346e8594a5087d962e5076ab533",
              "IPY_MODEL_32a9a00df1684027b9a4e3e2ad20bccc",
              "IPY_MODEL_59528d1c843f40598ed8b630429caeda"
            ],
            "layout": "IPY_MODEL_c973b283660e441b99778913540634c6"
          }
        },
        "18b21195d92f47828b03420478fa1f34": {
          "model_module": "@jupyter-widgets/controls",
          "model_module_version": "1.5.0",
          "model_name": "HBoxModel",
          "state": {
            "_dom_classes": [],
            "_model_module": "@jupyter-widgets/controls",
            "_model_module_version": "1.5.0",
            "_model_name": "HBoxModel",
            "_view_count": null,
            "_view_module": "@jupyter-widgets/controls",
            "_view_module_version": "1.5.0",
            "_view_name": "HBoxView",
            "box_style": "",
            "children": [
              "IPY_MODEL_d2a780caf9034db8a600d3eee4d1255d",
              "IPY_MODEL_400c65eb8ac14ee789fcebc1796f8a85",
              "IPY_MODEL_cbadfaa238694d04a130d0503500cae1"
            ],
            "layout": "IPY_MODEL_c2cda9059d3a409e80f40542ed8e1c2e"
          }
        },
        "1a124dee219d4eae8f2a91f9b090877c": {
          "model_module": "@jupyter-widgets/controls",
          "model_module_version": "1.5.0",
          "model_name": "HBoxModel",
          "state": {
            "_dom_classes": [],
            "_model_module": "@jupyter-widgets/controls",
            "_model_module_version": "1.5.0",
            "_model_name": "HBoxModel",
            "_view_count": null,
            "_view_module": "@jupyter-widgets/controls",
            "_view_module_version": "1.5.0",
            "_view_name": "HBoxView",
            "box_style": "",
            "children": [
              "IPY_MODEL_c5fe368197074d14a9ee48d10aa78bab",
              "IPY_MODEL_1ae68208ca7c45108dccb91e058632b7",
              "IPY_MODEL_3e0b8427eb0e48e2b176d4a502e53ea2"
            ],
            "layout": "IPY_MODEL_d3bc91a918da4905b95fc25a0ca29fe6"
          }
        },
        "1b78893dd11b47e1b0352c8cb87b2afd": {
          "model_module": "@jupyter-widgets/controls",
          "model_module_version": "1.5.0",
          "model_name": "HBoxModel",
          "state": {
            "_dom_classes": [],
            "_model_module": "@jupyter-widgets/controls",
            "_model_module_version": "1.5.0",
            "_model_name": "HBoxModel",
            "_view_count": null,
            "_view_module": "@jupyter-widgets/controls",
            "_view_module_version": "1.5.0",
            "_view_name": "HBoxView",
            "box_style": "",
            "children": [
              "IPY_MODEL_f760bb087c6345b59526775ce11bbe98",
              "IPY_MODEL_c1279a2193c14de697d4c2b2c0bd6a99",
              "IPY_MODEL_d2fea17276bd4675901310aa5eb59d2f"
            ],
            "layout": "IPY_MODEL_72c02e996d5e40c2a28c429646d392fc"
          }
        },
        "23786fc642424b14b3b35cc6366a5da3": {
          "model_module": "@jupyter-widgets/controls",
          "model_module_version": "1.5.0",
          "model_name": "HBoxModel",
          "state": {
            "_dom_classes": [],
            "_model_module": "@jupyter-widgets/controls",
            "_model_module_version": "1.5.0",
            "_model_name": "HBoxModel",
            "_view_count": null,
            "_view_module": "@jupyter-widgets/controls",
            "_view_module_version": "1.5.0",
            "_view_name": "HBoxView",
            "box_style": "",
            "children": [
              "IPY_MODEL_8f553d1c94204716af9c49e6f48a302b",
              "IPY_MODEL_37ec7edb9cb3483eaf8eaa9331ef8eed",
              "IPY_MODEL_206065f6877a4abbb4fefbd77e8fc1f7"
            ],
            "layout": "IPY_MODEL_d979478346d5455bad711c0319caa68d"
          }
        },
        "297583c3f48e4c088bbcda5598e8a9b2": {
          "model_module": "@jupyter-widgets/controls",
          "model_module_version": "1.5.0",
          "model_name": "HBoxModel",
          "state": {
            "_dom_classes": [],
            "_model_module": "@jupyter-widgets/controls",
            "_model_module_version": "1.5.0",
            "_model_name": "HBoxModel",
            "_view_count": null,
            "_view_module": "@jupyter-widgets/controls",
            "_view_module_version": "1.5.0",
            "_view_name": "HBoxView",
            "box_style": "",
            "children": [
              "IPY_MODEL_9a89281525994efdb1e6b0f25886f1b9",
              "IPY_MODEL_001a3cb2e8954589a45c36a9ffef5352",
              "IPY_MODEL_6cabefa96ab24138bcff84a184e5ff84"
            ],
            "layout": "IPY_MODEL_253d5915f18942baa2ae0760e307c5dd"
          }
        },
        "2a83ea930e7e4419ab31321ed9afef91": {
          "model_module": "@jupyter-widgets/controls",
          "model_module_version": "1.5.0",
          "model_name": "HBoxModel",
          "state": {
            "_dom_classes": [],
            "_model_module": "@jupyter-widgets/controls",
            "_model_module_version": "1.5.0",
            "_model_name": "HBoxModel",
            "_view_count": null,
            "_view_module": "@jupyter-widgets/controls",
            "_view_module_version": "1.5.0",
            "_view_name": "HBoxView",
            "box_style": "",
            "children": [
              "IPY_MODEL_6fb5560f73334a598bf00dc38b10a463",
              "IPY_MODEL_6923eef2082f42938314982467bffad5",
              "IPY_MODEL_8ebf77d1d40d4d5c8b44d56303347d2c"
            ],
            "layout": "IPY_MODEL_0da1a04cd86a4470832c76611e0ef416"
          }
        },
        "2e21e6b1f8ef44eb8d8f98d8a736ec4f": {
          "model_module": "@jupyter-widgets/controls",
          "model_module_version": "1.5.0",
          "model_name": "HBoxModel",
          "state": {
            "_dom_classes": [],
            "_model_module": "@jupyter-widgets/controls",
            "_model_module_version": "1.5.0",
            "_model_name": "HBoxModel",
            "_view_count": null,
            "_view_module": "@jupyter-widgets/controls",
            "_view_module_version": "1.5.0",
            "_view_name": "HBoxView",
            "box_style": "",
            "children": [
              "IPY_MODEL_088f79af409940aa906f33d139132db3",
              "IPY_MODEL_54afab6abe7449f2b2a0ffa10e681e98",
              "IPY_MODEL_cd03c03cbcfe409cbb946861228efafd"
            ],
            "layout": "IPY_MODEL_d831913758b54c7da60a595c36476dbf"
          }
        },
        "3197ee109e7c42c383a25370b51d69c0": {
          "model_module": "@jupyter-widgets/controls",
          "model_module_version": "1.5.0",
          "model_name": "HBoxModel",
          "state": {
            "_dom_classes": [],
            "_model_module": "@jupyter-widgets/controls",
            "_model_module_version": "1.5.0",
            "_model_name": "HBoxModel",
            "_view_count": null,
            "_view_module": "@jupyter-widgets/controls",
            "_view_module_version": "1.5.0",
            "_view_name": "HBoxView",
            "box_style": "",
            "children": [
              "IPY_MODEL_7bbf03e4be804019a41b14480be80625",
              "IPY_MODEL_45b0c940b3bd4c06901496bbb962dff5",
              "IPY_MODEL_523e73bba74f46799572c7599b16575b"
            ],
            "layout": "IPY_MODEL_a36fd6f80dc74c98b9e38ae3dd7105f7"
          }
        },
        "31a7ef128cc34ce29920755b41dc3f9d": {
          "model_module": "@jupyter-widgets/controls",
          "model_module_version": "1.5.0",
          "model_name": "HBoxModel",
          "state": {
            "_dom_classes": [],
            "_model_module": "@jupyter-widgets/controls",
            "_model_module_version": "1.5.0",
            "_model_name": "HBoxModel",
            "_view_count": null,
            "_view_module": "@jupyter-widgets/controls",
            "_view_module_version": "1.5.0",
            "_view_name": "HBoxView",
            "box_style": "",
            "children": [
              "IPY_MODEL_7ce087543a5a4fc393be922bbfa5c602",
              "IPY_MODEL_2ea5298dbac1439a88155bf3f74bd815",
              "IPY_MODEL_4c4e1bd29b654010afd6ae0fd7c415d4"
            ],
            "layout": "IPY_MODEL_12560d62d0b44dbb917a7506c6787f35"
          }
        },
        "347b001b8d3b4b70bda6d4e3216d4350": {
          "model_module": "@jupyter-widgets/controls",
          "model_module_version": "1.5.0",
          "model_name": "HBoxModel",
          "state": {
            "_dom_classes": [],
            "_model_module": "@jupyter-widgets/controls",
            "_model_module_version": "1.5.0",
            "_model_name": "HBoxModel",
            "_view_count": null,
            "_view_module": "@jupyter-widgets/controls",
            "_view_module_version": "1.5.0",
            "_view_name": "HBoxView",
            "box_style": "",
            "children": [
              "IPY_MODEL_4e545ec6ff9440afa5530bc042be97ed",
              "IPY_MODEL_09fd007f6e694f83983ffa93522e5f98",
              "IPY_MODEL_ffc9aa0cca604ba9b4f100dc72859884"
            ],
            "layout": "IPY_MODEL_998561e3e53242e6a16b72ed25d24d42"
          }
        },
        "373b2e83fb8846759569d16904ca1618": {
          "model_module": "@jupyter-widgets/controls",
          "model_module_version": "1.5.0",
          "model_name": "HBoxModel",
          "state": {
            "_dom_classes": [],
            "_model_module": "@jupyter-widgets/controls",
            "_model_module_version": "1.5.0",
            "_model_name": "HBoxModel",
            "_view_count": null,
            "_view_module": "@jupyter-widgets/controls",
            "_view_module_version": "1.5.0",
            "_view_name": "HBoxView",
            "box_style": "",
            "children": [
              "IPY_MODEL_49adbea996674da59b28297b1ef93835",
              "IPY_MODEL_f40acec191b2464d9f125f7744d0dc10",
              "IPY_MODEL_2a26cb870a424d84a9e633459cbac89a"
            ],
            "layout": "IPY_MODEL_bf98536d4e064558ae02af32a1d2a0bb"
          }
        },
        "37bbf9c48312460f94301ed331009d3e": {
          "model_module": "@jupyter-widgets/controls",
          "model_module_version": "1.5.0",
          "model_name": "HBoxModel",
          "state": {
            "_dom_classes": [],
            "_model_module": "@jupyter-widgets/controls",
            "_model_module_version": "1.5.0",
            "_model_name": "HBoxModel",
            "_view_count": null,
            "_view_module": "@jupyter-widgets/controls",
            "_view_module_version": "1.5.0",
            "_view_name": "HBoxView",
            "box_style": "",
            "children": [
              "IPY_MODEL_dfb25b7c520a4826a7b4c4dc803be810",
              "IPY_MODEL_660af14c52914ef08eb3aaeea1c25ab5",
              "IPY_MODEL_e44bc755219f46828bb284a8fcb95bd8"
            ],
            "layout": "IPY_MODEL_9bdf73ca5ff742f190236ee2163e2ccd"
          }
        },
        "3910319c552c4fea8823df050e255144": {
          "model_module": "@jupyter-widgets/controls",
          "model_module_version": "1.5.0",
          "model_name": "HBoxModel",
          "state": {
            "_dom_classes": [],
            "_model_module": "@jupyter-widgets/controls",
            "_model_module_version": "1.5.0",
            "_model_name": "HBoxModel",
            "_view_count": null,
            "_view_module": "@jupyter-widgets/controls",
            "_view_module_version": "1.5.0",
            "_view_name": "HBoxView",
            "box_style": "",
            "children": [
              "IPY_MODEL_20ee0d60e0fb4cbca640468f15caaf3f",
              "IPY_MODEL_0c04fa9f35d14431b6b710178213438a",
              "IPY_MODEL_35114b796102479ba4cabafa10c2bd60"
            ],
            "layout": "IPY_MODEL_5ed5f488f7064ab389f9e71cae4cb04e"
          }
        },
        "3c181dfcd4994e4792659e875cb79516": {
          "model_module": "@jupyter-widgets/controls",
          "model_module_version": "1.5.0",
          "model_name": "HBoxModel",
          "state": {
            "_dom_classes": [],
            "_model_module": "@jupyter-widgets/controls",
            "_model_module_version": "1.5.0",
            "_model_name": "HBoxModel",
            "_view_count": null,
            "_view_module": "@jupyter-widgets/controls",
            "_view_module_version": "1.5.0",
            "_view_name": "HBoxView",
            "box_style": "",
            "children": [
              "IPY_MODEL_da5a447aaf33400d81365d1e98aecfaf",
              "IPY_MODEL_fd3db91dbaef4b2da537b29c9d02c088",
              "IPY_MODEL_405c3b958a104a40b6836c2377a4c916"
            ],
            "layout": "IPY_MODEL_18266ae08fb64ce7a0d327509e883e1a"
          }
        },
        "3ebcfe6ff15d4e5ca0118acae05d8bba": {
          "model_module": "@jupyter-widgets/controls",
          "model_module_version": "1.5.0",
          "model_name": "HBoxModel",
          "state": {
            "_dom_classes": [],
            "_model_module": "@jupyter-widgets/controls",
            "_model_module_version": "1.5.0",
            "_model_name": "HBoxModel",
            "_view_count": null,
            "_view_module": "@jupyter-widgets/controls",
            "_view_module_version": "1.5.0",
            "_view_name": "HBoxView",
            "box_style": "",
            "children": [
              "IPY_MODEL_ed95390cbe9c40f087740111b6dea539",
              "IPY_MODEL_168daf1693c34596a9933bd6ebef6719",
              "IPY_MODEL_29fc90b3784b448f956b08865ca1c512"
            ],
            "layout": "IPY_MODEL_4bd5139979aa4c2dac9641f87e2242d8"
          }
        },
        "3f922c8839d64a30b28952985bb1283a": {
          "model_module": "@jupyter-widgets/controls",
          "model_module_version": "1.5.0",
          "model_name": "HBoxModel",
          "state": {
            "_dom_classes": [],
            "_model_module": "@jupyter-widgets/controls",
            "_model_module_version": "1.5.0",
            "_model_name": "HBoxModel",
            "_view_count": null,
            "_view_module": "@jupyter-widgets/controls",
            "_view_module_version": "1.5.0",
            "_view_name": "HBoxView",
            "box_style": "",
            "children": [
              "IPY_MODEL_2cf03c30220845f29555cdb23ebe17be",
              "IPY_MODEL_70684e3eb7424726ac0ca1271891ed56",
              "IPY_MODEL_5b769bef53794722bc3e843f4a691a6b"
            ],
            "layout": "IPY_MODEL_0788b836c2ed43d0a68c8e170d680d93"
          }
        },
        "3fa7eedb3a254429bbcf3989e2914e12": {
          "model_module": "@jupyter-widgets/controls",
          "model_module_version": "1.5.0",
          "model_name": "HBoxModel",
          "state": {
            "_dom_classes": [],
            "_model_module": "@jupyter-widgets/controls",
            "_model_module_version": "1.5.0",
            "_model_name": "HBoxModel",
            "_view_count": null,
            "_view_module": "@jupyter-widgets/controls",
            "_view_module_version": "1.5.0",
            "_view_name": "HBoxView",
            "box_style": "",
            "children": [
              "IPY_MODEL_ec890530bbb34d28bd6e9e3a86ec0e03",
              "IPY_MODEL_18a4c157b7884f3ba8474797df393263",
              "IPY_MODEL_ae7c45f660c14fb79987d7e2b2cac2f8"
            ],
            "layout": "IPY_MODEL_a7c8d01485fe49cdafb04065ae0da2e1"
          }
        },
        "41aaa7fb185b4589b52b9cb9e006a5e5": {
          "model_module": "@jupyter-widgets/controls",
          "model_module_version": "1.5.0",
          "model_name": "HBoxModel",
          "state": {
            "_dom_classes": [],
            "_model_module": "@jupyter-widgets/controls",
            "_model_module_version": "1.5.0",
            "_model_name": "HBoxModel",
            "_view_count": null,
            "_view_module": "@jupyter-widgets/controls",
            "_view_module_version": "1.5.0",
            "_view_name": "HBoxView",
            "box_style": "",
            "children": [
              "IPY_MODEL_cd394c38a5b64a57851a9d87bc138969",
              "IPY_MODEL_db60273391d448ab8edd492f43881312",
              "IPY_MODEL_affe2d90cf9040f3b382a8d1e1f56021"
            ],
            "layout": "IPY_MODEL_a075df49394349dc9b8fc09c96a71dd5"
          }
        },
        "43df40fc34b8418cb58c6b037559707d": {
          "model_module": "@jupyter-widgets/controls",
          "model_module_version": "1.5.0",
          "model_name": "HBoxModel",
          "state": {
            "_dom_classes": [],
            "_model_module": "@jupyter-widgets/controls",
            "_model_module_version": "1.5.0",
            "_model_name": "HBoxModel",
            "_view_count": null,
            "_view_module": "@jupyter-widgets/controls",
            "_view_module_version": "1.5.0",
            "_view_name": "HBoxView",
            "box_style": "",
            "children": [
              "IPY_MODEL_1b9f1eb2d83a475eba8bf19ec95a72b7",
              "IPY_MODEL_ba6c72beb8ff4090a3fa3d90813fd5dc",
              "IPY_MODEL_1bfc61de5c4145d6b02ff4072722c618"
            ],
            "layout": "IPY_MODEL_cc6c20f26bc54d78a5a1fb8e9ac2618f"
          }
        },
        "44c640f8286842daa946574fefe01929": {
          "model_module": "@jupyter-widgets/controls",
          "model_module_version": "1.5.0",
          "model_name": "HBoxModel",
          "state": {
            "_dom_classes": [],
            "_model_module": "@jupyter-widgets/controls",
            "_model_module_version": "1.5.0",
            "_model_name": "HBoxModel",
            "_view_count": null,
            "_view_module": "@jupyter-widgets/controls",
            "_view_module_version": "1.5.0",
            "_view_name": "HBoxView",
            "box_style": "",
            "children": [
              "IPY_MODEL_0a240c3111fd49ff8b17fed8c3011ad3",
              "IPY_MODEL_483acbc4007d418db5480fb2a3f66cd7",
              "IPY_MODEL_94db357f53004a61a6bb14634cb3ee81"
            ],
            "layout": "IPY_MODEL_8f519b9372d14678817b45f013c03754"
          }
        },
        "4c5864e58ee844d489c4c5fe5d11a0d2": {
          "model_module": "@jupyter-widgets/controls",
          "model_module_version": "1.5.0",
          "model_name": "HBoxModel",
          "state": {
            "_dom_classes": [],
            "_model_module": "@jupyter-widgets/controls",
            "_model_module_version": "1.5.0",
            "_model_name": "HBoxModel",
            "_view_count": null,
            "_view_module": "@jupyter-widgets/controls",
            "_view_module_version": "1.5.0",
            "_view_name": "HBoxView",
            "box_style": "",
            "children": [
              "IPY_MODEL_8922a4e31ac04e339bb2167e6ee64135",
              "IPY_MODEL_c59c2047d836473abe9386ba71145a26",
              "IPY_MODEL_0890ceee9c1c4e78be54c78706c3ae26"
            ],
            "layout": "IPY_MODEL_d05fc44ae59b4fb3bacf8d12070d227a"
          }
        },
        "52282497d9be4a54ab374573dfcb3e8b": {
          "model_module": "@jupyter-widgets/controls",
          "model_module_version": "1.5.0",
          "model_name": "HBoxModel",
          "state": {
            "_dom_classes": [],
            "_model_module": "@jupyter-widgets/controls",
            "_model_module_version": "1.5.0",
            "_model_name": "HBoxModel",
            "_view_count": null,
            "_view_module": "@jupyter-widgets/controls",
            "_view_module_version": "1.5.0",
            "_view_name": "HBoxView",
            "box_style": "",
            "children": [
              "IPY_MODEL_602fe7b5e0f84fd2b9bf63ac59d0564d",
              "IPY_MODEL_5ddf765e610a4029964ba8e3c19e96de",
              "IPY_MODEL_755e64fea5504a6c9b5e6f2c0704315b"
            ],
            "layout": "IPY_MODEL_5c1db43efdf14a6ca23e7aadb26cbfa0"
          }
        },
        "5281fc4adc8a46b5b80a1d7ca7fd1247": {
          "model_module": "@jupyter-widgets/controls",
          "model_module_version": "1.5.0",
          "model_name": "HBoxModel",
          "state": {
            "_dom_classes": [],
            "_model_module": "@jupyter-widgets/controls",
            "_model_module_version": "1.5.0",
            "_model_name": "HBoxModel",
            "_view_count": null,
            "_view_module": "@jupyter-widgets/controls",
            "_view_module_version": "1.5.0",
            "_view_name": "HBoxView",
            "box_style": "",
            "children": [
              "IPY_MODEL_3519c57a37104ca8ae61492c4c6d79ab",
              "IPY_MODEL_cf439fef1ea9446180256a040c19d69a",
              "IPY_MODEL_00edeed0fd0c4f9daeb1e855880545b9"
            ],
            "layout": "IPY_MODEL_af28b4938e2c4ee5a02c3ac428a9c38f"
          }
        },
        "582dda9d5d6748878c2a7cbe779e6f13": {
          "model_module": "@jupyter-widgets/controls",
          "model_module_version": "1.5.0",
          "model_name": "HBoxModel",
          "state": {
            "_dom_classes": [],
            "_model_module": "@jupyter-widgets/controls",
            "_model_module_version": "1.5.0",
            "_model_name": "HBoxModel",
            "_view_count": null,
            "_view_module": "@jupyter-widgets/controls",
            "_view_module_version": "1.5.0",
            "_view_name": "HBoxView",
            "box_style": "",
            "children": [
              "IPY_MODEL_886a0e7d082643b59d557c03b90b30f4",
              "IPY_MODEL_2f1bfd7a29e3418ab15c1aeab85e0076",
              "IPY_MODEL_b9ff99229e34426aa10703f58eb9c59c"
            ],
            "layout": "IPY_MODEL_d38f3f24a7ba4b09962c24d1aa7d796d"
          }
        },
        "601ac720865042d38fc45931e0da3674": {
          "model_module": "@jupyter-widgets/controls",
          "model_module_version": "1.5.0",
          "model_name": "HBoxModel",
          "state": {
            "_dom_classes": [],
            "_model_module": "@jupyter-widgets/controls",
            "_model_module_version": "1.5.0",
            "_model_name": "HBoxModel",
            "_view_count": null,
            "_view_module": "@jupyter-widgets/controls",
            "_view_module_version": "1.5.0",
            "_view_name": "HBoxView",
            "box_style": "",
            "children": [
              "IPY_MODEL_8f0fa2fd2d82473c88b10cad92b4a90b",
              "IPY_MODEL_27735467240f4cf99030f321abda7e10",
              "IPY_MODEL_39ccea1f4b3a4e61941b8d9d5adaadf3"
            ],
            "layout": "IPY_MODEL_05269c37722342108ecde51e680d154c"
          }
        },
        "693179365c7d49dfaa51708270502e93": {
          "model_module": "@jupyter-widgets/controls",
          "model_module_version": "1.5.0",
          "model_name": "HBoxModel",
          "state": {
            "_dom_classes": [],
            "_model_module": "@jupyter-widgets/controls",
            "_model_module_version": "1.5.0",
            "_model_name": "HBoxModel",
            "_view_count": null,
            "_view_module": "@jupyter-widgets/controls",
            "_view_module_version": "1.5.0",
            "_view_name": "HBoxView",
            "box_style": "",
            "children": [
              "IPY_MODEL_2a391865271f44c2b22b12fefe047de5",
              "IPY_MODEL_8474c619e4b4459c9a39ddde143e590d",
              "IPY_MODEL_6931ae2ee06a446499706bd2fa00f868"
            ],
            "layout": "IPY_MODEL_ba33fbe7c453418e83c824c0bb87e010"
          }
        },
        "6a0ef8fb6d114b4d944bc40bdaeaa3aa": {
          "model_module": "@jupyter-widgets/controls",
          "model_module_version": "1.5.0",
          "model_name": "HBoxModel",
          "state": {
            "_dom_classes": [],
            "_model_module": "@jupyter-widgets/controls",
            "_model_module_version": "1.5.0",
            "_model_name": "HBoxModel",
            "_view_count": null,
            "_view_module": "@jupyter-widgets/controls",
            "_view_module_version": "1.5.0",
            "_view_name": "HBoxView",
            "box_style": "",
            "children": [
              "IPY_MODEL_d4ac9353d3f046a7a39cece7c33c0ee9",
              "IPY_MODEL_c76434a6f4a542c188adf51b9a854316",
              "IPY_MODEL_883bb338a21042c2be647e6632079954"
            ],
            "layout": "IPY_MODEL_639b7f4f8a9e4e1c99fc381595d98c13"
          }
        },
        "6e543031c67048e28ce4947e76902702": {
          "model_module": "@jupyter-widgets/controls",
          "model_module_version": "1.5.0",
          "model_name": "HBoxModel",
          "state": {
            "_dom_classes": [],
            "_model_module": "@jupyter-widgets/controls",
            "_model_module_version": "1.5.0",
            "_model_name": "HBoxModel",
            "_view_count": null,
            "_view_module": "@jupyter-widgets/controls",
            "_view_module_version": "1.5.0",
            "_view_name": "HBoxView",
            "box_style": "",
            "children": [
              "IPY_MODEL_37c3b694203d49fc8d45e99218651d50",
              "IPY_MODEL_0afdbbb75ab04e74bfbdb1adf4d4e3fb",
              "IPY_MODEL_29ed716be41f470f8dd45ecd37e21cf2"
            ],
            "layout": "IPY_MODEL_f8af24d96e054d23899f502882ee19ed"
          }
        },
        "707112b392ff4f9eb1c629e39a8bbb9d": {
          "model_module": "@jupyter-widgets/controls",
          "model_module_version": "1.5.0",
          "model_name": "HBoxModel",
          "state": {
            "_dom_classes": [],
            "_model_module": "@jupyter-widgets/controls",
            "_model_module_version": "1.5.0",
            "_model_name": "HBoxModel",
            "_view_count": null,
            "_view_module": "@jupyter-widgets/controls",
            "_view_module_version": "1.5.0",
            "_view_name": "HBoxView",
            "box_style": "",
            "children": [
              "IPY_MODEL_83737f24f4b440e1ae693d1fbf6ee8e9",
              "IPY_MODEL_15f0ff49901a4a379f9829d6da8c60f7",
              "IPY_MODEL_9c29204710884cfe8e739bd4a92283ac"
            ],
            "layout": "IPY_MODEL_1dbc30ecf6b243a2b4581441c4bc8310"
          }
        },
        "70e21a5af92e4fdbb465a7a051987b01": {
          "model_module": "@jupyter-widgets/controls",
          "model_module_version": "1.5.0",
          "model_name": "HBoxModel",
          "state": {
            "_dom_classes": [],
            "_model_module": "@jupyter-widgets/controls",
            "_model_module_version": "1.5.0",
            "_model_name": "HBoxModel",
            "_view_count": null,
            "_view_module": "@jupyter-widgets/controls",
            "_view_module_version": "1.5.0",
            "_view_name": "HBoxView",
            "box_style": "",
            "children": [
              "IPY_MODEL_d8b029e8e599414ab00ff3b40ebc1ca3",
              "IPY_MODEL_f50da377944a40ff860c156e3f7bcf97",
              "IPY_MODEL_a237ef2d19834b858b5099fab571745e"
            ],
            "layout": "IPY_MODEL_56df40ee5aa94fe49cd8239eea8cd39b"
          }
        },
        "72593baa46974e11a04b9945b22cdd69": {
          "model_module": "@jupyter-widgets/controls",
          "model_module_version": "1.5.0",
          "model_name": "HBoxModel",
          "state": {
            "_dom_classes": [],
            "_model_module": "@jupyter-widgets/controls",
            "_model_module_version": "1.5.0",
            "_model_name": "HBoxModel",
            "_view_count": null,
            "_view_module": "@jupyter-widgets/controls",
            "_view_module_version": "1.5.0",
            "_view_name": "HBoxView",
            "box_style": "",
            "children": [
              "IPY_MODEL_70050121b6f54936977623da86394bbc",
              "IPY_MODEL_af5b45d687fa4348a0b45bb6be0153ef",
              "IPY_MODEL_8c101ae01946419ea7a92c81af451457"
            ],
            "layout": "IPY_MODEL_7b92fd40c7804f25958db7768fc64917"
          }
        },
        "73a308e384234dfe84c9dca773f2ffd5": {
          "model_module": "@jupyter-widgets/controls",
          "model_module_version": "1.5.0",
          "model_name": "HBoxModel",
          "state": {
            "_dom_classes": [],
            "_model_module": "@jupyter-widgets/controls",
            "_model_module_version": "1.5.0",
            "_model_name": "HBoxModel",
            "_view_count": null,
            "_view_module": "@jupyter-widgets/controls",
            "_view_module_version": "1.5.0",
            "_view_name": "HBoxView",
            "box_style": "",
            "children": [
              "IPY_MODEL_a0c31538bbd5400face9065a77612d38",
              "IPY_MODEL_f0c2658e7d6f4d2a9d5ba2b918f51736",
              "IPY_MODEL_6b0ebad2977a431aa3f3a984270742bb"
            ],
            "layout": "IPY_MODEL_72bf3a630bb94d2abe4de695bbe064f4"
          }
        },
        "73b6eac30ea64002a74eda72aa41b612": {
          "model_module": "@jupyter-widgets/controls",
          "model_module_version": "1.5.0",
          "model_name": "HBoxModel",
          "state": {
            "_dom_classes": [],
            "_model_module": "@jupyter-widgets/controls",
            "_model_module_version": "1.5.0",
            "_model_name": "HBoxModel",
            "_view_count": null,
            "_view_module": "@jupyter-widgets/controls",
            "_view_module_version": "1.5.0",
            "_view_name": "HBoxView",
            "box_style": "",
            "children": [
              "IPY_MODEL_ed10e69fbaa245d5a35de0eb38c7830b",
              "IPY_MODEL_6a7411300a8a4a64ae68fbe1e636aa04",
              "IPY_MODEL_08c6cc92a0874bf8a5f7f9acdaba3039"
            ],
            "layout": "IPY_MODEL_2089c32b78b4423a90822024d7eda5be"
          }
        },
        "78d2bae96cc54dacb612ce1b7af5a668": {
          "model_module": "@jupyter-widgets/controls",
          "model_module_version": "1.5.0",
          "model_name": "HBoxModel",
          "state": {
            "_dom_classes": [],
            "_model_module": "@jupyter-widgets/controls",
            "_model_module_version": "1.5.0",
            "_model_name": "HBoxModel",
            "_view_count": null,
            "_view_module": "@jupyter-widgets/controls",
            "_view_module_version": "1.5.0",
            "_view_name": "HBoxView",
            "box_style": "",
            "children": [
              "IPY_MODEL_3fc55c55dc8d4879a7a9e73564efcbfb",
              "IPY_MODEL_2b06557fa17844d08c835cf428216693",
              "IPY_MODEL_a1110f89d3b243fc9ef7f03ed249eb5f"
            ],
            "layout": "IPY_MODEL_b9f61c8032324352bd566c0f314f8ca7"
          }
        },
        "7941af637b494e4fbc163cfe2e4bfeb5": {
          "model_module": "@jupyter-widgets/controls",
          "model_module_version": "1.5.0",
          "model_name": "HBoxModel",
          "state": {
            "_dom_classes": [],
            "_model_module": "@jupyter-widgets/controls",
            "_model_module_version": "1.5.0",
            "_model_name": "HBoxModel",
            "_view_count": null,
            "_view_module": "@jupyter-widgets/controls",
            "_view_module_version": "1.5.0",
            "_view_name": "HBoxView",
            "box_style": "",
            "children": [
              "IPY_MODEL_2ccb8fd1b18246bb8786e099c66c36ca",
              "IPY_MODEL_ffa57de3f0f34ea5a78d63d5890512da",
              "IPY_MODEL_b72a189b142d458c9ebc450474ca05e7"
            ],
            "layout": "IPY_MODEL_e61fa800c570443a82ebabecf96efebd"
          }
        },
        "7a9ea3726d0242c68626a07691655476": {
          "model_module": "@jupyter-widgets/controls",
          "model_module_version": "1.5.0",
          "model_name": "HBoxModel",
          "state": {
            "_dom_classes": [],
            "_model_module": "@jupyter-widgets/controls",
            "_model_module_version": "1.5.0",
            "_model_name": "HBoxModel",
            "_view_count": null,
            "_view_module": "@jupyter-widgets/controls",
            "_view_module_version": "1.5.0",
            "_view_name": "HBoxView",
            "box_style": "",
            "children": [
              "IPY_MODEL_546b6a52acb94e388179826146c74450",
              "IPY_MODEL_9c9e579ff7504b2ab351ea135e735b7a",
              "IPY_MODEL_0436cff3f2484773bb516daa72a6d9ec"
            ],
            "layout": "IPY_MODEL_c8bf17609c6f41ef86b5ce0c7a8e0e55"
          }
        },
        "7bf44236c3034fefa4870a162db8a784": {
          "model_module": "@jupyter-widgets/controls",
          "model_module_version": "1.5.0",
          "model_name": "HBoxModel",
          "state": {
            "_dom_classes": [],
            "_model_module": "@jupyter-widgets/controls",
            "_model_module_version": "1.5.0",
            "_model_name": "HBoxModel",
            "_view_count": null,
            "_view_module": "@jupyter-widgets/controls",
            "_view_module_version": "1.5.0",
            "_view_name": "HBoxView",
            "box_style": "",
            "children": [
              "IPY_MODEL_1b9cb06d0d004f32a08f1b60de035876",
              "IPY_MODEL_ef7ccb6f8e914fb8bbe49fbd4b6a2706",
              "IPY_MODEL_f3e0ec5bb036408dbc6ec3d38e8b701f"
            ],
            "layout": "IPY_MODEL_2d4dc3e4d451469593e7d841f1196cfc"
          }
        },
        "809f76023edb4458bc715ef14d9a639d": {
          "model_module": "@jupyter-widgets/controls",
          "model_module_version": "1.5.0",
          "model_name": "HBoxModel",
          "state": {
            "_dom_classes": [],
            "_model_module": "@jupyter-widgets/controls",
            "_model_module_version": "1.5.0",
            "_model_name": "HBoxModel",
            "_view_count": null,
            "_view_module": "@jupyter-widgets/controls",
            "_view_module_version": "1.5.0",
            "_view_name": "HBoxView",
            "box_style": "",
            "children": [
              "IPY_MODEL_bdb5720183464cc8add5dff31754b228",
              "IPY_MODEL_4ec85143fc8641b39a5a87523fded3cd",
              "IPY_MODEL_3c0e6475da054efdb63aef198dff4014"
            ],
            "layout": "IPY_MODEL_589d5c8d0eba46d7a5988480fc3d5723"
          }
        },
        "832fb2a30d234ba09d5627d921571e59": {
          "model_module": "@jupyter-widgets/controls",
          "model_module_version": "1.5.0",
          "model_name": "HBoxModel",
          "state": {
            "_dom_classes": [],
            "_model_module": "@jupyter-widgets/controls",
            "_model_module_version": "1.5.0",
            "_model_name": "HBoxModel",
            "_view_count": null,
            "_view_module": "@jupyter-widgets/controls",
            "_view_module_version": "1.5.0",
            "_view_name": "HBoxView",
            "box_style": "",
            "children": [
              "IPY_MODEL_504ebbc2e4604ee2a3bed070175b8832",
              "IPY_MODEL_c1ec19a26a7f49dc9b40775f460890fd",
              "IPY_MODEL_a36f66be6ffb4022a754b630f119d8f1"
            ],
            "layout": "IPY_MODEL_e8852bd650074f6faeab321eb96ebeaf"
          }
        },
        "84000a3c2cdd4d70b8458c2ac830142a": {
          "model_module": "@jupyter-widgets/controls",
          "model_module_version": "1.5.0",
          "model_name": "HBoxModel",
          "state": {
            "_dom_classes": [],
            "_model_module": "@jupyter-widgets/controls",
            "_model_module_version": "1.5.0",
            "_model_name": "HBoxModel",
            "_view_count": null,
            "_view_module": "@jupyter-widgets/controls",
            "_view_module_version": "1.5.0",
            "_view_name": "HBoxView",
            "box_style": "",
            "children": [
              "IPY_MODEL_eb820fe2047a4ff3bfdba62dde871568",
              "IPY_MODEL_b7336a57eacf4d2d9cfce830806b45cf",
              "IPY_MODEL_5c9b7e6da4a146659c08b9a3a0a0b67c"
            ],
            "layout": "IPY_MODEL_590a3b12bb7a4856824693af780aa4cf"
          }
        },
        "844d321456d84c748ac9d1b439fddee6": {
          "model_module": "@jupyter-widgets/controls",
          "model_module_version": "1.5.0",
          "model_name": "HBoxModel",
          "state": {
            "_dom_classes": [],
            "_model_module": "@jupyter-widgets/controls",
            "_model_module_version": "1.5.0",
            "_model_name": "HBoxModel",
            "_view_count": null,
            "_view_module": "@jupyter-widgets/controls",
            "_view_module_version": "1.5.0",
            "_view_name": "HBoxView",
            "box_style": "",
            "children": [
              "IPY_MODEL_3e832ad2b83a4285b9c68147fcda733c",
              "IPY_MODEL_03f2da49de1448039a3175a11d1414d5",
              "IPY_MODEL_afcd542540e74c84ac234249a2d10f40"
            ],
            "layout": "IPY_MODEL_cb706b110c98443ea1a17503558e6e91"
          }
        },
        "878e82c3ae194b70ac31c7350a2798b3": {
          "model_module": "@jupyter-widgets/controls",
          "model_module_version": "1.5.0",
          "model_name": "HBoxModel",
          "state": {
            "_dom_classes": [],
            "_model_module": "@jupyter-widgets/controls",
            "_model_module_version": "1.5.0",
            "_model_name": "HBoxModel",
            "_view_count": null,
            "_view_module": "@jupyter-widgets/controls",
            "_view_module_version": "1.5.0",
            "_view_name": "HBoxView",
            "box_style": "",
            "children": [
              "IPY_MODEL_9e5bdc00f2cd4f90828311a973488892",
              "IPY_MODEL_aceef2b59a204035b2e9059fd5c0bf26",
              "IPY_MODEL_527e176c8a9748acb3c8648217ff5307"
            ],
            "layout": "IPY_MODEL_dfd8d9c44d604ed09c7a1f70904020e0"
          }
        },
        "88240f7bfe41400d9c325d6a11baf154": {
          "model_module": "@jupyter-widgets/controls",
          "model_module_version": "1.5.0",
          "model_name": "HBoxModel",
          "state": {
            "_dom_classes": [],
            "_model_module": "@jupyter-widgets/controls",
            "_model_module_version": "1.5.0",
            "_model_name": "HBoxModel",
            "_view_count": null,
            "_view_module": "@jupyter-widgets/controls",
            "_view_module_version": "1.5.0",
            "_view_name": "HBoxView",
            "box_style": "",
            "children": [
              "IPY_MODEL_aba956d5f7174e919af3cd373a07d894",
              "IPY_MODEL_4edc4993f3ed484bb8e44a841d377ef3",
              "IPY_MODEL_5996550c0ccd4e14ad9db7d57cca3c99"
            ],
            "layout": "IPY_MODEL_1c27c76979d4459991f633559cd67a23"
          }
        },
        "8d7dcffedd784cb4a1f70d666ffa2bae": {
          "model_module": "@jupyter-widgets/controls",
          "model_module_version": "1.5.0",
          "model_name": "HBoxModel",
          "state": {
            "_dom_classes": [],
            "_model_module": "@jupyter-widgets/controls",
            "_model_module_version": "1.5.0",
            "_model_name": "HBoxModel",
            "_view_count": null,
            "_view_module": "@jupyter-widgets/controls",
            "_view_module_version": "1.5.0",
            "_view_name": "HBoxView",
            "box_style": "",
            "children": [
              "IPY_MODEL_343302e3f1c5425b8a1cb1e692411511",
              "IPY_MODEL_1bf3d5e6a9f94d0aa610c7c63d950a6f",
              "IPY_MODEL_c8c7766c56134c18b1b62dca70368f2f"
            ],
            "layout": "IPY_MODEL_ca51babb196a4f47958839b3a3f79d28"
          }
        },
        "8e0356d8b64d42848f12aa3a5ed8d97a": {
          "model_module": "@jupyter-widgets/controls",
          "model_module_version": "1.5.0",
          "model_name": "HBoxModel",
          "state": {
            "_dom_classes": [],
            "_model_module": "@jupyter-widgets/controls",
            "_model_module_version": "1.5.0",
            "_model_name": "HBoxModel",
            "_view_count": null,
            "_view_module": "@jupyter-widgets/controls",
            "_view_module_version": "1.5.0",
            "_view_name": "HBoxView",
            "box_style": "",
            "children": [
              "IPY_MODEL_c6cbd92e41d04368a7ca2833892e795e",
              "IPY_MODEL_8a75effa5aef4e5abeb0772515f0c02f",
              "IPY_MODEL_1c197ab87db94c7d9d436385b561cc3d"
            ],
            "layout": "IPY_MODEL_9d94c393ea2b4dfaab291a6cc2b6b3ed"
          }
        },
        "8ee8ba9c60694c54a73e67ed431b0bd7": {
          "model_module": "@jupyter-widgets/controls",
          "model_module_version": "1.5.0",
          "model_name": "HBoxModel",
          "state": {
            "_dom_classes": [],
            "_model_module": "@jupyter-widgets/controls",
            "_model_module_version": "1.5.0",
            "_model_name": "HBoxModel",
            "_view_count": null,
            "_view_module": "@jupyter-widgets/controls",
            "_view_module_version": "1.5.0",
            "_view_name": "HBoxView",
            "box_style": "",
            "children": [
              "IPY_MODEL_db20f735f77f4f9d9854b6d4d91d3322",
              "IPY_MODEL_69ed967f008e41779bfab2a28b7ae91b",
              "IPY_MODEL_dd72312f88024686bdd8f20205a217ce"
            ],
            "layout": "IPY_MODEL_f96a2e2c8e7348579491b1fc09b3d021"
          }
        },
        "9458729d9f314f9e8bf7c61f72543d81": {
          "model_module": "@jupyter-widgets/controls",
          "model_module_version": "1.5.0",
          "model_name": "HBoxModel",
          "state": {
            "_dom_classes": [],
            "_model_module": "@jupyter-widgets/controls",
            "_model_module_version": "1.5.0",
            "_model_name": "HBoxModel",
            "_view_count": null,
            "_view_module": "@jupyter-widgets/controls",
            "_view_module_version": "1.5.0",
            "_view_name": "HBoxView",
            "box_style": "",
            "children": [
              "IPY_MODEL_c7c236c849e243bab1cacdfb60c90aa2",
              "IPY_MODEL_33d08f032a81418faa26bfa75d23cba3",
              "IPY_MODEL_ce72bd84ffb043b8a79e6bbb2cb3c753"
            ],
            "layout": "IPY_MODEL_61f0d7c86b874eafb5b7a7af4350735f"
          }
        },
        "945c75d200b4494790e6f33935668af6": {
          "model_module": "@jupyter-widgets/controls",
          "model_module_version": "1.5.0",
          "model_name": "HBoxModel",
          "state": {
            "_dom_classes": [],
            "_model_module": "@jupyter-widgets/controls",
            "_model_module_version": "1.5.0",
            "_model_name": "HBoxModel",
            "_view_count": null,
            "_view_module": "@jupyter-widgets/controls",
            "_view_module_version": "1.5.0",
            "_view_name": "HBoxView",
            "box_style": "",
            "children": [
              "IPY_MODEL_f3ef680f272c4a68a61626d9e778ab7c",
              "IPY_MODEL_4894cc93df4c4609b8c8436ca5aff108",
              "IPY_MODEL_85f4d70843f04083ab12412786c3cecb"
            ],
            "layout": "IPY_MODEL_7357ba0cb795425083a8cf19c512381b"
          }
        },
        "969f85ac25bb44ab97e49f99b30797b3": {
          "model_module": "@jupyter-widgets/controls",
          "model_module_version": "1.5.0",
          "model_name": "HBoxModel",
          "state": {
            "_dom_classes": [],
            "_model_module": "@jupyter-widgets/controls",
            "_model_module_version": "1.5.0",
            "_model_name": "HBoxModel",
            "_view_count": null,
            "_view_module": "@jupyter-widgets/controls",
            "_view_module_version": "1.5.0",
            "_view_name": "HBoxView",
            "box_style": "",
            "children": [
              "IPY_MODEL_b8d53601482e47eb8cd434290b8d939b",
              "IPY_MODEL_d09cd843e4cf4d6aba5a5c24df3e8234",
              "IPY_MODEL_ba1f130ab50547b0b8c1412ab1927c9d"
            ],
            "layout": "IPY_MODEL_8360c4d4124f4f678f435ab0d8464a8f"
          }
        },
        "9b5148674a6449898ecef2f91078ecb9": {
          "model_module": "@jupyter-widgets/controls",
          "model_module_version": "1.5.0",
          "model_name": "HBoxModel",
          "state": {
            "_dom_classes": [],
            "_model_module": "@jupyter-widgets/controls",
            "_model_module_version": "1.5.0",
            "_model_name": "HBoxModel",
            "_view_count": null,
            "_view_module": "@jupyter-widgets/controls",
            "_view_module_version": "1.5.0",
            "_view_name": "HBoxView",
            "box_style": "",
            "children": [
              "IPY_MODEL_9c48860f059d4803ae35479771971e26",
              "IPY_MODEL_b6bd42d201814820a78581aa552d30c7",
              "IPY_MODEL_e11b1721332543969025d89775d92581"
            ],
            "layout": "IPY_MODEL_d722adf8282c4661bb89e50cedb59aca"
          }
        },
        "9ecd1bbaeacc401face632ec30d3d878": {
          "model_module": "@jupyter-widgets/controls",
          "model_module_version": "1.5.0",
          "model_name": "HBoxModel",
          "state": {
            "_dom_classes": [],
            "_model_module": "@jupyter-widgets/controls",
            "_model_module_version": "1.5.0",
            "_model_name": "HBoxModel",
            "_view_count": null,
            "_view_module": "@jupyter-widgets/controls",
            "_view_module_version": "1.5.0",
            "_view_name": "HBoxView",
            "box_style": "",
            "children": [
              "IPY_MODEL_b4fbcc744fc046a9b3eb90177c8d0985",
              "IPY_MODEL_8f558e262c4b4f1daa2462a13cc0193e",
              "IPY_MODEL_1d4d92c4d70b4ad492d753a326b66861"
            ],
            "layout": "IPY_MODEL_b1f4dd0b54eb401d871d02fce971b47c"
          }
        },
        "a061b572c68b4b03b65a43454a0f161d": {
          "model_module": "@jupyter-widgets/controls",
          "model_module_version": "1.5.0",
          "model_name": "HBoxModel",
          "state": {
            "_dom_classes": [],
            "_model_module": "@jupyter-widgets/controls",
            "_model_module_version": "1.5.0",
            "_model_name": "HBoxModel",
            "_view_count": null,
            "_view_module": "@jupyter-widgets/controls",
            "_view_module_version": "1.5.0",
            "_view_name": "HBoxView",
            "box_style": "",
            "children": [
              "IPY_MODEL_5605b09752674475ad65356db7a3721c",
              "IPY_MODEL_d1a9a484d6f04a5aa606ba62d557efba",
              "IPY_MODEL_5e5230832eb74946a01b69cef3683eaf"
            ],
            "layout": "IPY_MODEL_090f6a56c304491595f4b53077d9b2f0"
          }
        },
        "a24a7e849a1d435097312f1279af53bc": {
          "model_module": "@jupyter-widgets/controls",
          "model_module_version": "1.5.0",
          "model_name": "HBoxModel",
          "state": {
            "_dom_classes": [],
            "_model_module": "@jupyter-widgets/controls",
            "_model_module_version": "1.5.0",
            "_model_name": "HBoxModel",
            "_view_count": null,
            "_view_module": "@jupyter-widgets/controls",
            "_view_module_version": "1.5.0",
            "_view_name": "HBoxView",
            "box_style": "",
            "children": [
              "IPY_MODEL_9449adbbf4db40e6ab74c838188f0aec",
              "IPY_MODEL_c29ed4cb85004d22bf78fd3a3c008566",
              "IPY_MODEL_f6e4e08874ac499b82d798cfb369c8bb"
            ],
            "layout": "IPY_MODEL_03d76176f8ce4678b3988dee36cb05d9"
          }
        },
        "a521d2ce91e74a89b5817497f1efd46d": {
          "model_module": "@jupyter-widgets/controls",
          "model_module_version": "1.5.0",
          "model_name": "HBoxModel",
          "state": {
            "_dom_classes": [],
            "_model_module": "@jupyter-widgets/controls",
            "_model_module_version": "1.5.0",
            "_model_name": "HBoxModel",
            "_view_count": null,
            "_view_module": "@jupyter-widgets/controls",
            "_view_module_version": "1.5.0",
            "_view_name": "HBoxView",
            "box_style": "",
            "children": [
              "IPY_MODEL_888871f100994dc69ca4b4f408dc060f",
              "IPY_MODEL_893f500279e74a6db5372677882faa24",
              "IPY_MODEL_b1372b146ba04eee9a96c3a6afce9ad2"
            ],
            "layout": "IPY_MODEL_fe78b9656fa94356a975cb540f0ceb74"
          }
        },
        "a9bda5d0f9dd4e48834c191916692c24": {
          "model_module": "@jupyter-widgets/controls",
          "model_module_version": "1.5.0",
          "model_name": "HBoxModel",
          "state": {
            "_dom_classes": [],
            "_model_module": "@jupyter-widgets/controls",
            "_model_module_version": "1.5.0",
            "_model_name": "HBoxModel",
            "_view_count": null,
            "_view_module": "@jupyter-widgets/controls",
            "_view_module_version": "1.5.0",
            "_view_name": "HBoxView",
            "box_style": "",
            "children": [
              "IPY_MODEL_eadf3b6d33ec4652b092d0e77073fd89",
              "IPY_MODEL_33a706d046094e5b879a7d505bb15a6e",
              "IPY_MODEL_e54598d046864090adf37f711748cecd"
            ],
            "layout": "IPY_MODEL_bcdd779d96704b149551d95c85e73050"
          }
        },
        "ab594e90575941799f3788e36a38058e": {
          "model_module": "@jupyter-widgets/controls",
          "model_module_version": "1.5.0",
          "model_name": "HBoxModel",
          "state": {
            "_dom_classes": [],
            "_model_module": "@jupyter-widgets/controls",
            "_model_module_version": "1.5.0",
            "_model_name": "HBoxModel",
            "_view_count": null,
            "_view_module": "@jupyter-widgets/controls",
            "_view_module_version": "1.5.0",
            "_view_name": "HBoxView",
            "box_style": "",
            "children": [
              "IPY_MODEL_ca828e47c5204910b6cb35de156a2ecf",
              "IPY_MODEL_42eedb353cf84641805b97a0198e3771",
              "IPY_MODEL_087b6a1ba30a4cb286be3fb72d95a024"
            ],
            "layout": "IPY_MODEL_cb2eb196758543ebb632c48611dc00f5"
          }
        },
        "afcfc31b3639436485af7867a496d25d": {
          "model_module": "@jupyter-widgets/controls",
          "model_module_version": "1.5.0",
          "model_name": "HBoxModel",
          "state": {
            "_dom_classes": [],
            "_model_module": "@jupyter-widgets/controls",
            "_model_module_version": "1.5.0",
            "_model_name": "HBoxModel",
            "_view_count": null,
            "_view_module": "@jupyter-widgets/controls",
            "_view_module_version": "1.5.0",
            "_view_name": "HBoxView",
            "box_style": "",
            "children": [
              "IPY_MODEL_e5a4572a55fe4d9380b6a3d0511d22a9",
              "IPY_MODEL_d46eb786818f4a7583cd1b43ea5eee8b",
              "IPY_MODEL_e53a4a1ba38f43e8abd17730e934f440"
            ],
            "layout": "IPY_MODEL_e43dcaea31be4275a6efd5a9c7668817"
          }
        },
        "b09734d5b8f54e8ea89188e3d28a706f": {
          "model_module": "@jupyter-widgets/controls",
          "model_module_version": "1.5.0",
          "model_name": "HBoxModel",
          "state": {
            "_dom_classes": [],
            "_model_module": "@jupyter-widgets/controls",
            "_model_module_version": "1.5.0",
            "_model_name": "HBoxModel",
            "_view_count": null,
            "_view_module": "@jupyter-widgets/controls",
            "_view_module_version": "1.5.0",
            "_view_name": "HBoxView",
            "box_style": "",
            "children": [
              "IPY_MODEL_ba694702be5041ca93aacea4349c7b41",
              "IPY_MODEL_1a90a1c257464eeda6fe7ae15b831eb6",
              "IPY_MODEL_4beb0d5c4e4d4c63b86f6897dec7b0af"
            ],
            "layout": "IPY_MODEL_51bfde42dd5a4eee90313ad097ea7084"
          }
        },
        "b2164f17d6d24148865c3f8fd550bf16": {
          "model_module": "@jupyter-widgets/controls",
          "model_module_version": "1.5.0",
          "model_name": "HBoxModel",
          "state": {
            "_dom_classes": [],
            "_model_module": "@jupyter-widgets/controls",
            "_model_module_version": "1.5.0",
            "_model_name": "HBoxModel",
            "_view_count": null,
            "_view_module": "@jupyter-widgets/controls",
            "_view_module_version": "1.5.0",
            "_view_name": "HBoxView",
            "box_style": "",
            "children": [
              "IPY_MODEL_73e0c196e3f84b7fbbac8915125374b7",
              "IPY_MODEL_6c9ba50597b14f0c826e179cf070aaad",
              "IPY_MODEL_b53950d743864c6486519568dd6d110b"
            ],
            "layout": "IPY_MODEL_599a1ceaee6543909e0579f723d7b854"
          }
        },
        "b458b5cd19aa4fc3a9816941522a82e7": {
          "model_module": "@jupyter-widgets/controls",
          "model_module_version": "1.5.0",
          "model_name": "HBoxModel",
          "state": {
            "_dom_classes": [],
            "_model_module": "@jupyter-widgets/controls",
            "_model_module_version": "1.5.0",
            "_model_name": "HBoxModel",
            "_view_count": null,
            "_view_module": "@jupyter-widgets/controls",
            "_view_module_version": "1.5.0",
            "_view_name": "HBoxView",
            "box_style": "",
            "children": [
              "IPY_MODEL_6205e7482e344581b55a1cf336b49119",
              "IPY_MODEL_c2d7d93004894881819273803b19462d",
              "IPY_MODEL_d937e96e9a9e416ebbb534d93d1a8437"
            ],
            "layout": "IPY_MODEL_b3971b6b4fba4899ab24e38df5296eb3"
          }
        },
        "b76197323c8f45779372f658574480ae": {
          "model_module": "@jupyter-widgets/controls",
          "model_module_version": "1.5.0",
          "model_name": "HBoxModel",
          "state": {
            "_dom_classes": [],
            "_model_module": "@jupyter-widgets/controls",
            "_model_module_version": "1.5.0",
            "_model_name": "HBoxModel",
            "_view_count": null,
            "_view_module": "@jupyter-widgets/controls",
            "_view_module_version": "1.5.0",
            "_view_name": "HBoxView",
            "box_style": "",
            "children": [
              "IPY_MODEL_91e65692e6824ee4b52f423be0223672",
              "IPY_MODEL_e9a993ed252346b38393f730a633a5bd",
              "IPY_MODEL_dd23439a55c34280bc6dadde661e88ab"
            ],
            "layout": "IPY_MODEL_7ac840e0015f484e8e3ba37428251e2c"
          }
        },
        "b79a83f10ec8451d9c694aea6f17ff4d": {
          "model_module": "@jupyter-widgets/controls",
          "model_module_version": "1.5.0",
          "model_name": "HBoxModel",
          "state": {
            "_dom_classes": [],
            "_model_module": "@jupyter-widgets/controls",
            "_model_module_version": "1.5.0",
            "_model_name": "HBoxModel",
            "_view_count": null,
            "_view_module": "@jupyter-widgets/controls",
            "_view_module_version": "1.5.0",
            "_view_name": "HBoxView",
            "box_style": "",
            "children": [
              "IPY_MODEL_5af3428da7e646a386dcfe4b79e13880",
              "IPY_MODEL_ef45fc402d42481ca8bb953f554f047f",
              "IPY_MODEL_ae6649becc2741d1b60c377232a3f934"
            ],
            "layout": "IPY_MODEL_5ce444edb21c4d449e17f270c6910565"
          }
        },
        "bf79997dc0384a29ba3a5f12bc6de675": {
          "model_module": "@jupyter-widgets/controls",
          "model_module_version": "1.5.0",
          "model_name": "HBoxModel",
          "state": {
            "_dom_classes": [],
            "_model_module": "@jupyter-widgets/controls",
            "_model_module_version": "1.5.0",
            "_model_name": "HBoxModel",
            "_view_count": null,
            "_view_module": "@jupyter-widgets/controls",
            "_view_module_version": "1.5.0",
            "_view_name": "HBoxView",
            "box_style": "",
            "children": [
              "IPY_MODEL_a5815a9d2daf494b8c8ea8dae31372ca",
              "IPY_MODEL_cc45d0f3c96a459ab2c039e5e3a65ef9",
              "IPY_MODEL_f0aca2ee491f4b6792d5db7d008379f1"
            ],
            "layout": "IPY_MODEL_d3804d8fb8ad4f0fabbe1c20a4a62c41"
          }
        },
        "c45ebb9b91eb4984aeb65966e20d1fe5": {
          "model_module": "@jupyter-widgets/controls",
          "model_module_version": "1.5.0",
          "model_name": "HBoxModel",
          "state": {
            "_dom_classes": [],
            "_model_module": "@jupyter-widgets/controls",
            "_model_module_version": "1.5.0",
            "_model_name": "HBoxModel",
            "_view_count": null,
            "_view_module": "@jupyter-widgets/controls",
            "_view_module_version": "1.5.0",
            "_view_name": "HBoxView",
            "box_style": "",
            "children": [
              "IPY_MODEL_0484dfd97ffa458e99c9d197960e9072",
              "IPY_MODEL_c4a9c660781b48f492b6b394e90915fa",
              "IPY_MODEL_c4026daa0c1a4ba0b06d4473a6280e47"
            ],
            "layout": "IPY_MODEL_5edcd2d29de6455b87dc69e216616da2"
          }
        },
        "c6a1f1b8aad84585aaaaea0ceb1fa80c": {
          "model_module": "@jupyter-widgets/controls",
          "model_module_version": "1.5.0",
          "model_name": "HBoxModel",
          "state": {
            "_dom_classes": [],
            "_model_module": "@jupyter-widgets/controls",
            "_model_module_version": "1.5.0",
            "_model_name": "HBoxModel",
            "_view_count": null,
            "_view_module": "@jupyter-widgets/controls",
            "_view_module_version": "1.5.0",
            "_view_name": "HBoxView",
            "box_style": "",
            "children": [
              "IPY_MODEL_6c79c36248fa4789af2aa8a5a1930dd3",
              "IPY_MODEL_e8f5c0e21bbc4bdbafb84abad674899f",
              "IPY_MODEL_02017d39c7d54a149f5cd88901ce492b"
            ],
            "layout": "IPY_MODEL_0cf41b51beb7453199ba2e4b276b3fff"
          }
        },
        "c8f64a1e88494455a8b3a6551a0a7694": {
          "model_module": "@jupyter-widgets/controls",
          "model_module_version": "1.5.0",
          "model_name": "HBoxModel",
          "state": {
            "_dom_classes": [],
            "_model_module": "@jupyter-widgets/controls",
            "_model_module_version": "1.5.0",
            "_model_name": "HBoxModel",
            "_view_count": null,
            "_view_module": "@jupyter-widgets/controls",
            "_view_module_version": "1.5.0",
            "_view_name": "HBoxView",
            "box_style": "",
            "children": [
              "IPY_MODEL_72ff170f09b24a9aa2d91b957bab085d",
              "IPY_MODEL_c90611348f6e4a80ab6b705616c3eb6b",
              "IPY_MODEL_663c353419014b4cb11a43759ea75139"
            ],
            "layout": "IPY_MODEL_bafe3ae5fdce4c4587617d951c877b4c"
          }
        },
        "c911fcb98c5542f3ad3d95a8a145cf7d": {
          "model_module": "@jupyter-widgets/controls",
          "model_module_version": "1.5.0",
          "model_name": "HBoxModel",
          "state": {
            "_dom_classes": [],
            "_model_module": "@jupyter-widgets/controls",
            "_model_module_version": "1.5.0",
            "_model_name": "HBoxModel",
            "_view_count": null,
            "_view_module": "@jupyter-widgets/controls",
            "_view_module_version": "1.5.0",
            "_view_name": "HBoxView",
            "box_style": "",
            "children": [
              "IPY_MODEL_0a6d2ee48af04f76a7377c11d362bc90",
              "IPY_MODEL_26413ab389b8414fb411316949eb1165",
              "IPY_MODEL_60d08914221242ed91dcabe324411bb6"
            ],
            "layout": "IPY_MODEL_b0e3eb90cb7a4a8490130f2075f43671"
          }
        },
        "c993454a5b374907813f7d5270a06e9c": {
          "model_module": "@jupyter-widgets/controls",
          "model_module_version": "1.5.0",
          "model_name": "HBoxModel",
          "state": {
            "_dom_classes": [],
            "_model_module": "@jupyter-widgets/controls",
            "_model_module_version": "1.5.0",
            "_model_name": "HBoxModel",
            "_view_count": null,
            "_view_module": "@jupyter-widgets/controls",
            "_view_module_version": "1.5.0",
            "_view_name": "HBoxView",
            "box_style": "",
            "children": [
              "IPY_MODEL_0d4c996ec5614322821e39c95032d535",
              "IPY_MODEL_bce573f8c33440b593159072f430d943",
              "IPY_MODEL_88870327125d4ce289b5af5fb69a7d07"
            ],
            "layout": "IPY_MODEL_d665694db27f4495a5cb74647fd0e20e"
          }
        },
        "ce47bd60493d48968d20ea854c778f55": {
          "model_module": "@jupyter-widgets/controls",
          "model_module_version": "1.5.0",
          "model_name": "HBoxModel",
          "state": {
            "_dom_classes": [],
            "_model_module": "@jupyter-widgets/controls",
            "_model_module_version": "1.5.0",
            "_model_name": "HBoxModel",
            "_view_count": null,
            "_view_module": "@jupyter-widgets/controls",
            "_view_module_version": "1.5.0",
            "_view_name": "HBoxView",
            "box_style": "",
            "children": [
              "IPY_MODEL_4c5b63953a914f4f9b24e607d1513f9e",
              "IPY_MODEL_32fcb8c78abf43e299b327470595d4c1",
              "IPY_MODEL_71f7eb5fdf764df3918655c5458b86da"
            ],
            "layout": "IPY_MODEL_c125d272da9a4665afd7318878759589"
          }
        },
        "d2bbd429e789418a87fec95aadb9d8aa": {
          "model_module": "@jupyter-widgets/controls",
          "model_module_version": "1.5.0",
          "model_name": "HBoxModel",
          "state": {
            "_dom_classes": [],
            "_model_module": "@jupyter-widgets/controls",
            "_model_module_version": "1.5.0",
            "_model_name": "HBoxModel",
            "_view_count": null,
            "_view_module": "@jupyter-widgets/controls",
            "_view_module_version": "1.5.0",
            "_view_name": "HBoxView",
            "box_style": "",
            "children": [
              "IPY_MODEL_5c5141f882c44f44bd19e3621804f135",
              "IPY_MODEL_5289af99939542f9899ba3fde8210567",
              "IPY_MODEL_72f4a3ded351436fb85cd4657a6865ed"
            ],
            "layout": "IPY_MODEL_221d73834afe41599458963743447205"
          }
        },
        "df4214cebd9f451bb2d805e3c2055890": {
          "model_module": "@jupyter-widgets/controls",
          "model_module_version": "1.5.0",
          "model_name": "HBoxModel",
          "state": {
            "_dom_classes": [],
            "_model_module": "@jupyter-widgets/controls",
            "_model_module_version": "1.5.0",
            "_model_name": "HBoxModel",
            "_view_count": null,
            "_view_module": "@jupyter-widgets/controls",
            "_view_module_version": "1.5.0",
            "_view_name": "HBoxView",
            "box_style": "",
            "children": [
              "IPY_MODEL_e7bdf2c91b3b4d99b18e0102520a17fb",
              "IPY_MODEL_f7fdbf31b7bb4a3692d20df202df578b",
              "IPY_MODEL_6d4db6eb9909421086b1fb4a1e1a614d"
            ],
            "layout": "IPY_MODEL_c1cd80bc27494c529a45294f936f61c0"
          }
        },
        "e1461911941e437c84396c7060fd3ebf": {
          "model_module": "@jupyter-widgets/controls",
          "model_module_version": "1.5.0",
          "model_name": "HBoxModel",
          "state": {
            "_dom_classes": [],
            "_model_module": "@jupyter-widgets/controls",
            "_model_module_version": "1.5.0",
            "_model_name": "HBoxModel",
            "_view_count": null,
            "_view_module": "@jupyter-widgets/controls",
            "_view_module_version": "1.5.0",
            "_view_name": "HBoxView",
            "box_style": "",
            "children": [
              "IPY_MODEL_7f9cc0f8b9214f1e960ae4fa10c274fb",
              "IPY_MODEL_53f819792b6b4167a0e885aa2b9e1dbc",
              "IPY_MODEL_d0a297790a6b4fa0a1d70db2e8c51bf0"
            ],
            "layout": "IPY_MODEL_d0a9d18e006243b3b3c93ddcd964d8de"
          }
        },
        "e317060039064ddb9136d5cd44127cbe": {
          "model_module": "@jupyter-widgets/controls",
          "model_module_version": "1.5.0",
          "model_name": "HBoxModel",
          "state": {
            "_dom_classes": [],
            "_model_module": "@jupyter-widgets/controls",
            "_model_module_version": "1.5.0",
            "_model_name": "HBoxModel",
            "_view_count": null,
            "_view_module": "@jupyter-widgets/controls",
            "_view_module_version": "1.5.0",
            "_view_name": "HBoxView",
            "box_style": "",
            "children": [
              "IPY_MODEL_d770ff3356a342ad8b76eddb81422658",
              "IPY_MODEL_9f1a941837374ba385e615a31607e5a0",
              "IPY_MODEL_c539f19e502d45b5a703b8e07b088f08"
            ],
            "layout": "IPY_MODEL_957cf0af716648449b39dbefa35eb63a"
          }
        },
        "e45961da1c0d463a845f6e5cc33e149a": {
          "model_module": "@jupyter-widgets/controls",
          "model_module_version": "1.5.0",
          "model_name": "HBoxModel",
          "state": {
            "_dom_classes": [],
            "_model_module": "@jupyter-widgets/controls",
            "_model_module_version": "1.5.0",
            "_model_name": "HBoxModel",
            "_view_count": null,
            "_view_module": "@jupyter-widgets/controls",
            "_view_module_version": "1.5.0",
            "_view_name": "HBoxView",
            "box_style": "",
            "children": [
              "IPY_MODEL_67dceeb837a54b8dab27395184b821a8",
              "IPY_MODEL_32446977db7842e280899698ec183743",
              "IPY_MODEL_63686ff77e284cafa5ba78043c8b0446"
            ],
            "layout": "IPY_MODEL_9b725eeceb524aa89bbbe897cc0e6d52"
          }
        },
        "e5ee360f95084dcc9b7737e5505f1db2": {
          "model_module": "@jupyter-widgets/controls",
          "model_module_version": "1.5.0",
          "model_name": "HBoxModel",
          "state": {
            "_dom_classes": [],
            "_model_module": "@jupyter-widgets/controls",
            "_model_module_version": "1.5.0",
            "_model_name": "HBoxModel",
            "_view_count": null,
            "_view_module": "@jupyter-widgets/controls",
            "_view_module_version": "1.5.0",
            "_view_name": "HBoxView",
            "box_style": "",
            "children": [
              "IPY_MODEL_70848592dba3497dab7e9c3d145cf69b",
              "IPY_MODEL_6b3b97218f2b4b3ea751af6a453adfc4",
              "IPY_MODEL_870d5732f016494191c7bc03d240e633"
            ],
            "layout": "IPY_MODEL_f5ce7c3d64f846c5b805fe0aa23f83b5"
          }
        },
        "e62fa0f4ad7f49b28c122c1da7d9a6f1": {
          "model_module": "@jupyter-widgets/controls",
          "model_module_version": "1.5.0",
          "model_name": "HBoxModel",
          "state": {
            "_dom_classes": [],
            "_model_module": "@jupyter-widgets/controls",
            "_model_module_version": "1.5.0",
            "_model_name": "HBoxModel",
            "_view_count": null,
            "_view_module": "@jupyter-widgets/controls",
            "_view_module_version": "1.5.0",
            "_view_name": "HBoxView",
            "box_style": "",
            "children": [
              "IPY_MODEL_28e82135268b4b1b80404da69c1fb8a8",
              "IPY_MODEL_df6163b038dc44d98f48937904c0305f",
              "IPY_MODEL_a085b225e83041ed955e37475b324004"
            ],
            "layout": "IPY_MODEL_d943e64fecf94a04b5baef343c14e410"
          }
        },
        "e65e484567f5498d9af67b87f71360cb": {
          "model_module": "@jupyter-widgets/controls",
          "model_module_version": "1.5.0",
          "model_name": "HBoxModel",
          "state": {
            "_dom_classes": [],
            "_model_module": "@jupyter-widgets/controls",
            "_model_module_version": "1.5.0",
            "_model_name": "HBoxModel",
            "_view_count": null,
            "_view_module": "@jupyter-widgets/controls",
            "_view_module_version": "1.5.0",
            "_view_name": "HBoxView",
            "box_style": "",
            "children": [
              "IPY_MODEL_3fcbfa7fb0834a6897180b948ddd737a",
              "IPY_MODEL_3057f17f88234d64aaa69ba79455cdb0",
              "IPY_MODEL_3b5b2294bed44311be1ef67e73a53ac2"
            ],
            "layout": "IPY_MODEL_001825fda990430db89c78f3c9517e57"
          }
        },
        "e99d0863abd541e2be072c2bc0761578": {
          "model_module": "@jupyter-widgets/controls",
          "model_module_version": "1.5.0",
          "model_name": "HBoxModel",
          "state": {
            "_dom_classes": [],
            "_model_module": "@jupyter-widgets/controls",
            "_model_module_version": "1.5.0",
            "_model_name": "HBoxModel",
            "_view_count": null,
            "_view_module": "@jupyter-widgets/controls",
            "_view_module_version": "1.5.0",
            "_view_name": "HBoxView",
            "box_style": "",
            "children": [
              "IPY_MODEL_99b943a33e2f461ab66262fbca54c9aa",
              "IPY_MODEL_5337158710d24902a592aeaa1c28c32a",
              "IPY_MODEL_1cb1b1eecc83464a8a52d3eb1654185c"
            ],
            "layout": "IPY_MODEL_80376993835c426c99593402eb06b34f"
          }
        },
        "ebfc3d8e03ee46798934960b8fd4004a": {
          "model_module": "@jupyter-widgets/controls",
          "model_module_version": "1.5.0",
          "model_name": "HBoxModel",
          "state": {
            "_dom_classes": [],
            "_model_module": "@jupyter-widgets/controls",
            "_model_module_version": "1.5.0",
            "_model_name": "HBoxModel",
            "_view_count": null,
            "_view_module": "@jupyter-widgets/controls",
            "_view_module_version": "1.5.0",
            "_view_name": "HBoxView",
            "box_style": "",
            "children": [
              "IPY_MODEL_47914d51e0d945929f29c42c9b1d656c",
              "IPY_MODEL_224ed0eac8bd417191a78b63ad33f66d",
              "IPY_MODEL_f01bc89858334538b81ace7a45c7ee3b"
            ],
            "layout": "IPY_MODEL_a42f6683d3464250b8662a9fa8958da3"
          }
        },
        "ec20d75575094940a5fcff3df6a332bb": {
          "model_module": "@jupyter-widgets/controls",
          "model_module_version": "1.5.0",
          "model_name": "HBoxModel",
          "state": {
            "_dom_classes": [],
            "_model_module": "@jupyter-widgets/controls",
            "_model_module_version": "1.5.0",
            "_model_name": "HBoxModel",
            "_view_count": null,
            "_view_module": "@jupyter-widgets/controls",
            "_view_module_version": "1.5.0",
            "_view_name": "HBoxView",
            "box_style": "",
            "children": [
              "IPY_MODEL_1c62db84a1354bb3ba2a156a4780e041",
              "IPY_MODEL_d48c9c02490e436ba2241b78e9ae60e7",
              "IPY_MODEL_491dc9f671fd4eae912ec52d6eb2f388"
            ],
            "layout": "IPY_MODEL_0b6c6bf8077d43de985c5e4005d9dafd"
          }
        },
        "ee7749211d0f4316b4bc0b157a7c1eda": {
          "model_module": "@jupyter-widgets/controls",
          "model_module_version": "1.5.0",
          "model_name": "HBoxModel",
          "state": {
            "_dom_classes": [],
            "_model_module": "@jupyter-widgets/controls",
            "_model_module_version": "1.5.0",
            "_model_name": "HBoxModel",
            "_view_count": null,
            "_view_module": "@jupyter-widgets/controls",
            "_view_module_version": "1.5.0",
            "_view_name": "HBoxView",
            "box_style": "",
            "children": [
              "IPY_MODEL_95d2d23080cb4332849683bdb70238bb",
              "IPY_MODEL_a24f0c7c29024a259d8e0fa8eb174589",
              "IPY_MODEL_00db01defc8b42659ee6049337752b85"
            ],
            "layout": "IPY_MODEL_74b3eadf05ed41feb648f25e5819b47e"
          }
        },
        "ef34002246644943853bedf65cf0ea46": {
          "model_module": "@jupyter-widgets/controls",
          "model_module_version": "1.5.0",
          "model_name": "HBoxModel",
          "state": {
            "_dom_classes": [],
            "_model_module": "@jupyter-widgets/controls",
            "_model_module_version": "1.5.0",
            "_model_name": "HBoxModel",
            "_view_count": null,
            "_view_module": "@jupyter-widgets/controls",
            "_view_module_version": "1.5.0",
            "_view_name": "HBoxView",
            "box_style": "",
            "children": [
              "IPY_MODEL_89ab7f2b6ab2478f9e347be18e5eeb3d",
              "IPY_MODEL_0ca43b16d28141839201a796bcf81400",
              "IPY_MODEL_8c301dd5da9c4b97a722d7345b5c7636"
            ],
            "layout": "IPY_MODEL_69d116895f4e4c25a8e3643a265fd1bb"
          }
        },
        "f30c1c1d3c8841a3b0db57f66ae9b276": {
          "model_module": "@jupyter-widgets/controls",
          "model_module_version": "1.5.0",
          "model_name": "HBoxModel",
          "state": {
            "_dom_classes": [],
            "_model_module": "@jupyter-widgets/controls",
            "_model_module_version": "1.5.0",
            "_model_name": "HBoxModel",
            "_view_count": null,
            "_view_module": "@jupyter-widgets/controls",
            "_view_module_version": "1.5.0",
            "_view_name": "HBoxView",
            "box_style": "",
            "children": [
              "IPY_MODEL_bfb5dc536ce54edc8694cce9d5888602",
              "IPY_MODEL_60b079ab058c405a98a9146cfd98cb6a",
              "IPY_MODEL_ba79bbbce0e74845923499f5f881329b"
            ],
            "layout": "IPY_MODEL_ad4286a638c14260bd263d0398567ae8"
          }
        },
        "f31529591934435da37b3f540919c5b9": {
          "model_module": "@jupyter-widgets/controls",
          "model_module_version": "1.5.0",
          "model_name": "HBoxModel",
          "state": {
            "_dom_classes": [],
            "_model_module": "@jupyter-widgets/controls",
            "_model_module_version": "1.5.0",
            "_model_name": "HBoxModel",
            "_view_count": null,
            "_view_module": "@jupyter-widgets/controls",
            "_view_module_version": "1.5.0",
            "_view_name": "HBoxView",
            "box_style": "",
            "children": [
              "IPY_MODEL_8e5db9b168f84a70941d1b966b983cbe",
              "IPY_MODEL_3d29a09c35cf41999f5a7196ee0a9c24",
              "IPY_MODEL_29c2992a95a748039624b5c69ec48d02"
            ],
            "layout": "IPY_MODEL_8056d2ee92a346be8000127e23e3d6af"
          }
        },
        "f31980ca83954d66bf8c6ad6da514270": {
          "model_module": "@jupyter-widgets/controls",
          "model_module_version": "1.5.0",
          "model_name": "HBoxModel",
          "state": {
            "_dom_classes": [],
            "_model_module": "@jupyter-widgets/controls",
            "_model_module_version": "1.5.0",
            "_model_name": "HBoxModel",
            "_view_count": null,
            "_view_module": "@jupyter-widgets/controls",
            "_view_module_version": "1.5.0",
            "_view_name": "HBoxView",
            "box_style": "",
            "children": [
              "IPY_MODEL_f1d4f2b355ff4651b8b6b1c4b12d75a7",
              "IPY_MODEL_dbf3d2791d9e4921935c94a1a761cfd1",
              "IPY_MODEL_c1f3d3eb5baa4f158ab6eece806bf2e0"
            ],
            "layout": "IPY_MODEL_27400c97fbb34d56b8c68b7c547661d2"
          }
        },
        "f372d1243dfb43eabc75efbe9b48a98e": {
          "model_module": "@jupyter-widgets/controls",
          "model_module_version": "1.5.0",
          "model_name": "HBoxModel",
          "state": {
            "_dom_classes": [],
            "_model_module": "@jupyter-widgets/controls",
            "_model_module_version": "1.5.0",
            "_model_name": "HBoxModel",
            "_view_count": null,
            "_view_module": "@jupyter-widgets/controls",
            "_view_module_version": "1.5.0",
            "_view_name": "HBoxView",
            "box_style": "",
            "children": [
              "IPY_MODEL_2345e55790224fc295919921086ba909",
              "IPY_MODEL_21a77800bed64d00aa95ed6f8a4f5a68",
              "IPY_MODEL_197f5c07aa4d43618abb0ab4d77b5426"
            ],
            "layout": "IPY_MODEL_e1aed470e2c941ffa89028ec5203dddb"
          }
        },
        "f3b7a6b0b8a34f139cb4ed95ed1d9213": {
          "model_module": "@jupyter-widgets/controls",
          "model_module_version": "1.5.0",
          "model_name": "HBoxModel",
          "state": {
            "_dom_classes": [],
            "_model_module": "@jupyter-widgets/controls",
            "_model_module_version": "1.5.0",
            "_model_name": "HBoxModel",
            "_view_count": null,
            "_view_module": "@jupyter-widgets/controls",
            "_view_module_version": "1.5.0",
            "_view_name": "HBoxView",
            "box_style": "",
            "children": [
              "IPY_MODEL_97bdabf24f9845d0bc62f7293a5339b4",
              "IPY_MODEL_93dd84378f1a426ab346e3740b05cf0a",
              "IPY_MODEL_3638fe6a7f0a4b358eb7b5c523069d80"
            ],
            "layout": "IPY_MODEL_730e7e2cf5414b438a90689b5c5d42da"
          }
        },
        "f5c02c8aa88e4c2a9961904a21f4e74d": {
          "model_module": "@jupyter-widgets/controls",
          "model_module_version": "1.5.0",
          "model_name": "HBoxModel",
          "state": {
            "_dom_classes": [],
            "_model_module": "@jupyter-widgets/controls",
            "_model_module_version": "1.5.0",
            "_model_name": "HBoxModel",
            "_view_count": null,
            "_view_module": "@jupyter-widgets/controls",
            "_view_module_version": "1.5.0",
            "_view_name": "HBoxView",
            "box_style": "",
            "children": [
              "IPY_MODEL_ac9c737896084b1b8225469b7ca96cd7",
              "IPY_MODEL_94e2ec4250834d2393f6be21b866f6e0",
              "IPY_MODEL_19a5a48113ac4f188bdc4fcf892e54c6"
            ],
            "layout": "IPY_MODEL_56f315870ef04534bd43376c3732166d"
          }
        },
        "f75bf0add14049a2b0cdb45182340374": {
          "model_module": "@jupyter-widgets/controls",
          "model_module_version": "1.5.0",
          "model_name": "HBoxModel",
          "state": {
            "_dom_classes": [],
            "_model_module": "@jupyter-widgets/controls",
            "_model_module_version": "1.5.0",
            "_model_name": "HBoxModel",
            "_view_count": null,
            "_view_module": "@jupyter-widgets/controls",
            "_view_module_version": "1.5.0",
            "_view_name": "HBoxView",
            "box_style": "",
            "children": [
              "IPY_MODEL_a0f22d082c1c41efa02cea43fb71f0cb",
              "IPY_MODEL_d6b9ffc5428941ef9e7b300b8a0ec168",
              "IPY_MODEL_315816eaac5d411281ba5bdfe9cad9d0"
            ],
            "layout": "IPY_MODEL_c432c0c0797b4a458e84e7a4a5f10342"
          }
        },
        "f8e36eee8f714cda811e74d7fa010746": {
          "model_module": "@jupyter-widgets/controls",
          "model_module_version": "1.5.0",
          "model_name": "HBoxModel",
          "state": {
            "_dom_classes": [],
            "_model_module": "@jupyter-widgets/controls",
            "_model_module_version": "1.5.0",
            "_model_name": "HBoxModel",
            "_view_count": null,
            "_view_module": "@jupyter-widgets/controls",
            "_view_module_version": "1.5.0",
            "_view_name": "HBoxView",
            "box_style": "",
            "children": [
              "IPY_MODEL_a2002f63daf8481aa55a1a8027b8aa27",
              "IPY_MODEL_91d5d0b8e53140a5a252f7aad852c123",
              "IPY_MODEL_7eb1a4aff462480eadb1570f62c07332"
            ],
            "layout": "IPY_MODEL_c914e471a28143dc98771cc514ed3d73"
          }
        },
        "fad59a7cb23143b8b81b1e5509e98c53": {
          "model_module": "@jupyter-widgets/controls",
          "model_module_version": "1.5.0",
          "model_name": "HBoxModel",
          "state": {
            "_dom_classes": [],
            "_model_module": "@jupyter-widgets/controls",
            "_model_module_version": "1.5.0",
            "_model_name": "HBoxModel",
            "_view_count": null,
            "_view_module": "@jupyter-widgets/controls",
            "_view_module_version": "1.5.0",
            "_view_name": "HBoxView",
            "box_style": "",
            "children": [
              "IPY_MODEL_9056daf22bfe4fbcb0263a0638269045",
              "IPY_MODEL_c6f965ed880f4b58ac29420d8002877a",
              "IPY_MODEL_9f997b2b6ff74d0cafa073bd8aacb33b"
            ],
            "layout": "IPY_MODEL_a68f2637f88140db904b63c768175d74"
          }
        },
        "fed6b9f70bcb49ac9c17276ee1426817": {
          "model_module": "@jupyter-widgets/controls",
          "model_module_version": "1.5.0",
          "model_name": "HBoxModel",
          "state": {
            "_dom_classes": [],
            "_model_module": "@jupyter-widgets/controls",
            "_model_module_version": "1.5.0",
            "_model_name": "HBoxModel",
            "_view_count": null,
            "_view_module": "@jupyter-widgets/controls",
            "_view_module_version": "1.5.0",
            "_view_name": "HBoxView",
            "box_style": "",
            "children": [
              "IPY_MODEL_941f175d1e9b4da2a8a342a14f544284",
              "IPY_MODEL_c2f125accc7b4078a7b57acd7f82f2f7",
              "IPY_MODEL_1ebd940a88a949b29f641f2af30f986c"
            ],
            "layout": "IPY_MODEL_f7299aace6ea4a868214ff83ebcaeeae"
          }
        }
      }
    }
  },
  "nbformat": 4,
  "nbformat_minor": 0
}